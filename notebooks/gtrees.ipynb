{
 "cells": [
  {
   "cell_type": "code",
   "execution_count": 1,
   "metadata": {},
   "outputs": [],
   "source": [
    "from __future__ import division"
   ]
  },
  {
   "cell_type": "code",
   "execution_count": 2,
   "metadata": {},
   "outputs": [],
   "source": [
    "import sys\n",
    "sys.path.append('..')"
   ]
  },
  {
   "cell_type": "code",
   "execution_count": 3,
   "metadata": {},
   "outputs": [],
   "source": [
    "import math\n",
    "import random\n",
    "import numpy as np\n",
    "import pandas as pd"
   ]
  },
  {
   "cell_type": "code",
   "execution_count": 4,
   "metadata": {},
   "outputs": [],
   "source": [
    "from sklearn import datasets"
   ]
  },
  {
   "cell_type": "code",
   "execution_count": 5,
   "metadata": {},
   "outputs": [],
   "source": [
    "import matplotlib.pyplot as plt\n",
    "%matplotlib inline"
   ]
  },
  {
   "cell_type": "code",
   "execution_count": 6,
   "metadata": {},
   "outputs": [],
   "source": [
    "%load_ext autoreload\n",
    "%autoreload 1\n",
    "\n",
    "%aimport gtree\n",
    "%aimport tools"
   ]
  },
  {
   "cell_type": "code",
   "execution_count": 7,
   "metadata": {},
   "outputs": [],
   "source": [
    "import logging\n",
    "%config Application.log_level=\"INFO\"\n",
    "logging.basicConfig(format='%(asctime)s %(name)s %(levelname)s:%(message)s', level=logging.DEBUG, datefmt='%I:%M:%S')"
   ]
  },
  {
   "cell_type": "markdown",
   "metadata": {},
   "source": [
    "## Goals:\n",
    "\n",
    "### Separate the structure of a tree from the data of a tree.  In other words,\n",
    "  fitting a tree does two things: It creates the structure of a tree and it\n",
    "  creates a mapping of each leaf to a value.  Lookup therefore requires both\n",
    "  finding the leaf node AND using the map to lookup the value.\n",
    "  \n",
    "### The loss function optimized by the tree is configurable, as is the leaf\n"
   ]
  },
  {
   "cell_type": "markdown",
   "metadata": {},
   "source": [
    "## Terms:\n",
    "\n",
    "### Tree\n",
    "A Tree is an object that takes input data and determines what leaf it ends up in.  Unlike many tree implementations, the Tree itself doesn't store data about the value of a leaf.  That is stored externally.\n",
    "\n",
    "\n",
    "### loss_fn\n",
    "A loss_fn is a function that takes data rows, the predicted targets for those rows, and the actual targets for those rows, and returns a single value that determines the \"LOSS\" or \"COST\" of that prediction (lower cost/loss is better)\n",
    "\n",
    "```\n",
    "def loss_fn(predicted_targets, actual_targets) -> float\n",
    "```\n",
    "\n",
    "A loss function must be additive (so, one should not apply a mean as a part of it)\n",
    "\n",
    "### leaf_prediction_fn\n",
    "A leaf_prediction_fn is a function which takes the features and actual targets that end up in a leaf and returns a Series of the predictions for each row ending up in that leaf.  It is typically a constant function whose value is either the mean good rate in that leaf (among the actual targets) or the median target, but can be anything else\n",
    "\n",
    "```\n",
    "def leaf_prediction_fn(features) -> pd.Series\n",
    "```\n",
    "\n",
    "\n",
    "### leaf_prediction_builder\n",
    "A leaf_prediction_builder is a function which takes the features and actual targets that end up in a TRANING leaf and returns a leaf_prediction_fn.  This leaf_prediction_fn is used to predict the value of testing rows that end up in the same leaf.\n",
    "\n",
    "```\n",
    "def leaf_prediction_builder(features, actual_targets) -> leaf_prediction_fn\n",
    "```\n",
    "\n",
    "\n",
    "### leaf_prediction_map\n",
    "A leaf_prediction_map is a map of leaf ids (eg their hash) to the leaf_prediction_fn for that leaf.  One can only use a tree to score data if one has a leaf_prediction_map.  This design allows on to use the same tree as a subset of another tree without having their leaf values become entangled."
   ]
  },
  {
   "cell_type": "markdown",
   "metadata": {},
   "source": [
    "--------------"
   ]
  },
  {
   "cell_type": "markdown",
   "metadata": {},
   "source": [
    "## Test Tree Manipulation Functions"
   ]
  },
  {
   "cell_type": "code",
   "execution_count": null,
   "metadata": {},
   "outputs": [],
   "source": [
    "%pdb off"
   ]
  },
  {
   "cell_type": "code",
   "execution_count": null,
   "metadata": {},
   "outputs": [],
   "source": [
    "t = gtree.BranchNode('A', 0.5, None, None)\n",
    "t.left = gtree.LeafNode()\n",
    "t.right = gtree.BranchNode('B', 0.9, None, None)\n",
    "t.right.left = gtree.LeafNode()\n",
    "t.right.right = gtree.LeafNode()\n",
    "\n",
    "o = gtree.BranchNode('C', 0.1, None, None)\n",
    "o.left = gtree.LeafNode()\n",
    "o.right = gtree.LeafNode()\n",
    "\n",
    "t.prn()\n",
    "print '\\n\\n'\n",
    "o.prn()"
   ]
  },
  {
   "cell_type": "code",
   "execution_count": null,
   "metadata": {},
   "outputs": [],
   "source": [
    "u = gtree.replace_branch_split(t, t.right, o)\n",
    "u.prn()\n",
    "print '\\n\\n'\n",
    "t.prn()"
   ]
  },
  {
   "cell_type": "code",
   "execution_count": null,
   "metadata": {},
   "outputs": [],
   "source": [
    "v = gtree.replace_node(t, t.left, o)\n",
    "v.prn()\n",
    "print '\\n\\n'\n",
    "t.prn()"
   ]
  },
  {
   "cell_type": "code",
   "execution_count": null,
   "metadata": {},
   "outputs": [],
   "source": [
    "t = gtree.BranchNode('A', 0.5, None, None)\n",
    "t.left = gtree.LeafNode()\n",
    "t.right = gtree.BranchNode('B', 0.9, None, None)\n",
    "t.right.left = gtree.LeafNode()\n",
    "t.right.right = gtree.BranchNode('C', 0.9, None, None)\n",
    "t.right.right.right = gtree.LeafNode()\n",
    "t.right.right.left = gtree.LeafNode()\n",
    "\n",
    "t.prn()\n",
    "print '\\n\\n'\n",
    "gtree.prune(t, 2).prn()\n",
    "print '\\n\\n'\n",
    "t.prn()"
   ]
  },
  {
   "cell_type": "code",
   "execution_count": null,
   "metadata": {},
   "outputs": [],
   "source": [
    "data = pd.DataFrame({'A': [0.1, 10, .02],\n",
    "                     'B': [10, 20, 30]},\n",
    "                    index=['foo', 'bar', 'baz'])"
   ]
  },
  {
   "cell_type": "code",
   "execution_count": null,
   "metadata": {},
   "outputs": [],
   "source": [
    "def leaf_count_fn(val):\n",
    "    return lambda df: pd.Series([val for _ in range(len(df))], index=df.index)"
   ]
  },
  {
   "cell_type": "code",
   "execution_count": null,
   "metadata": {},
   "outputs": [],
   "source": [
    "t = gtree.BranchNode('A', 0.5, None, None)\n",
    "t.left = gtree.LeafNode() #'A', 0.5, 10, 20)\n",
    "t.right = gtree.LeafNode() #'A', 0.5, 100, 0)\n",
    "\n",
    "leaf_map = {hash(t.left): leaf_count_fn(10),\n",
    "            hash(t.right): leaf_count_fn(20)}\n",
    "\n",
    "t.predict(data, leaf_map)"
   ]
  },
  {
   "cell_type": "code",
   "execution_count": null,
   "metadata": {},
   "outputs": [],
   "source": [
    "# Create a split on a DataFrame\n",
    "\n",
    "df = pd.DataFrame({'foo': pd.Series([1, 2, 3, 4, 5, 6, 7, 8, 9, 10])})\n",
    "\n",
    "gtree._single_variable_best_split(\n",
    "    df,\n",
    "    'foo',\n",
    "    pd.Series([0, 0, 1, 0, 0, 1, 1, 0, 1, 1]),\n",
    "    gtree.error_rate_loss,\n",
    "    gtree.leaf_good_rate_prediction_builder)"
   ]
  },
  {
   "cell_type": "code",
   "execution_count": null,
   "metadata": {},
   "outputs": [],
   "source": [
    "threshold = 0.5\n",
    "truth     = pd.Series([1, 0, 1])\n",
    "predicted = pd.Series([0, 1, 0])\n",
    "\n",
    "gtree.error_rate_loss(truth, predicted)\n",
    "\n",
    "\n",
    "1.0 - ((predicted >= threshold) == truth).mean() #+ (predicted < threshold) * (1 - truth)"
   ]
  },
  {
   "cell_type": "markdown",
   "metadata": {},
   "source": [
    "# Test Split Finding"
   ]
  },
  {
   "cell_type": "code",
   "execution_count": 18,
   "metadata": {},
   "outputs": [
    {
     "name": "stderr",
     "output_type": "stream",
     "text": [
      "07:49:00 tree INFO:Training.  Depth 0 Current Loss: 0.0000 Best Split: A 1.0000 0.4167\n",
      "07:49:00 tree INFO:No split improves loss.  Returning\n"
     ]
    },
    {
     "name": "stdout",
     "output_type": "stream",
     "text": [
      "\n",
      "Tree:\n",
      "\n",
      "Leaf(id=0.514557152326)\n",
      "\n",
      "{2353669182: <tree._my_tree.MeanLeafMapper object at 0x1108b0790>}\n"
     ]
    }
   ],
   "source": [
    "df = pd.DataFrame({'A': [1, 2, 3, 4, 5, 6, 7, 8, 9, 10, 11, 12],\n",
    "                   'B': [10, 20, 50, 30, 40, 50, 60, 50, 70, 90, 100, 110 ]}, dtype=np.float32)\n",
    "target = pd.Series([0, 0, 1, 0, 0, 1, 1, 0, 1, 1, 0, 0], dtype=np.float32)\n",
    "\n",
    "tree, leaf_map = gtree.train_greedy_tree(df, target, loss='error_rate')\n",
    "\n",
    "print '\\nTree:\\n'\n",
    "tree.prn()\n",
    "\n",
    "print leaf_map"
   ]
  },
  {
   "cell_type": "code",
   "execution_count": 19,
   "metadata": {},
   "outputs": [
    {
     "data": {
      "text/plain": [
       "{2353669182: <tree._my_tree.MeanLeafMapper at 0x1108b0750>}"
      ]
     },
     "execution_count": 19,
     "metadata": {},
     "output_type": "execute_result"
    }
   ],
   "source": [
    "gtree.calculate_leaf_map(tree, df, target)"
   ]
  },
  {
   "cell_type": "code",
   "execution_count": 20,
   "metadata": {},
   "outputs": [
    {
     "data": {
      "text/plain": [
       "<gtree.LeafNode at 0x111184210>"
      ]
     },
     "execution_count": 20,
     "metadata": {},
     "output_type": "execute_result"
    }
   ],
   "source": [
    "gtree.random_node(tree)"
   ]
  },
  {
   "cell_type": "code",
   "execution_count": 21,
   "metadata": {},
   "outputs": [
    {
     "name": "stdout",
     "output_type": "stream",
     "text": [
      "[<gtree.LeafNode object at 0x111184210>]\n"
     ]
    }
   ],
   "source": [
    "print gtree.get_all_nodes(tree)"
   ]
  },
  {
   "cell_type": "code",
   "execution_count": 29,
   "metadata": {},
   "outputs": [],
   "source": [
    "df = pd.DataFrame({'A': [1, 2, 3, 4, 5, 6, 7, 8, 9, 10, 11, 12],\n",
    "                   'B': [10, 20, 50, 30, 40, 50, 60, 50, 70, 90, 100, 110 ]}, dtype=np.float32)\n",
    "target = pd.Series([0, 0, 1, 0, 0, 1, 1, 0, 1, 1, 0, 0], dtype=np.float32)"
   ]
  },
  {
   "cell_type": "code",
   "execution_count": 30,
   "metadata": {},
   "outputs": [
    {
     "data": {
      "text/plain": [
       "(10.0, 0.4166666567325592)"
      ]
     },
     "execution_count": 30,
     "metadata": {},
     "output_type": "execute_result"
    }
   ],
   "source": [
    "gtree._single_variable_best_split(df,'B', target,\n",
    "                                  loss='error_rate',\n",
    "                                  leaf_prediction='mean')"
   ]
  },
  {
   "cell_type": "code",
   "execution_count": 31,
   "metadata": {
    "scrolled": false
   },
   "outputs": [
    {
     "name": "stderr",
     "output_type": "stream",
     "text": [
      "07:51:08 tree INFO:Training.  Depth 0 Current Loss: 0.0000 Best Split: A 7.0000 0.3333\n",
      "07:51:08 tree INFO:No split improves loss.  Returning\n"
     ]
    },
    {
     "name": "stdout",
     "output_type": "stream",
     "text": [
      "\n",
      "Tree:\n",
      "\n",
      "Leaf(id=0.773447212481)\n",
      "\n",
      "{2506347385: <tree._my_tree.MeanLeafMapper object at 0x1108b08d0>}\n"
     ]
    }
   ],
   "source": [
    "tree, leaf_map = gtree.train_greedy_tree(df, target,\n",
    "                                         loss='error_rate',\n",
    "                                         feature_sample_rate=.5,\n",
    "                                         row_sample_rate=.5)\n",
    "\n",
    "print '\\nTree:\\n'\n",
    "tree.prn()\n",
    "\n",
    "print leaf_map"
   ]
  },
  {
   "cell_type": "code",
   "execution_count": 32,
   "metadata": {},
   "outputs": [
    {
     "name": "stdout",
     "output_type": "stream",
     "text": [
      "Leaf(id=0.773447212481)\n",
      "\n"
     ]
    }
   ],
   "source": [
    "gtree.mate(tree, tree).prn()"
   ]
  },
  {
   "cell_type": "code",
   "execution_count": null,
   "metadata": {},
   "outputs": [],
   "source": [
    "#def make_hastie_sample(n_samples):\n",
    "#\n",
    "#    features, targets = datasets.make_hastie_10_2(n_samples=n_samples)\n",
    "#\n",
    "#    features = pd.DataFrame(features, columns=['feature_{}'.format(i) for i in range(features.shape[1])])\n",
    "#    targets = pd.Series(targets, name='target')\n",
    "#    targets = targets.map(lambda x: 1.0 if x > 0 else 0.0)\n",
    "#    return features, targets\n",
    "\n"
   ]
  },
  {
   "cell_type": "code",
   "execution_count": null,
   "metadata": {},
   "outputs": [],
   "source": [
    "#def make_kddcup(n_samples):\n",
    "#    \n",
    "#    features, targets = datasets.fetch_kddcup99(subset='smtp')\n",
    "#\n",
    "#    features = pd.DataFrame(features, columns=['feature_{}'.format(i) for i in range(features.shape[1])])\n",
    "#    targets = pd.Series(targets, name='target')\n",
    "#    targets = targets.map(lambda x: 1.0 if x > 0 else 0.0)\n",
    "#    \n",
    "#    features = featurse.sample(n=n_samples)\n",
    "#    \n",
    "#    return features, targets.loc[features.index]\n",
    "    \n",
    "\n",
    "#def make_random_classification(n_samples, n_features=100):\n",
    "       \n",
    "#    features, targets = datasets.make_classification(n_samples=n_samples,\n",
    "#                                                     n_features=n_features,\n",
    "#                                                     n_informative=8,\n",
    "#                                                     n_classes=2,\n",
    "#                                                     n_clusters_per_class=4)\n",
    "#                                                     \n",
    "#    features = pd.DataFrame(features, columns=['feature_{}'.format(i) for i in range(features.shape[1])])\n",
    "#    targets = pd.Series(targets, name='target')\n",
    "#    targets = targets.map(lambda x: 1.0 if x > 0 else 0.0)\n",
    "#        \n",
    "#    return features, targets.loc[features.index]"
   ]
  },
  {
   "cell_type": "markdown",
   "metadata": {},
   "source": [
    "# Start the Test Analysis Here"
   ]
  },
  {
   "cell_type": "code",
   "execution_count": 37,
   "metadata": {},
   "outputs": [],
   "source": [
    "#features, targets = make_hastie_sample(10000)\n",
    "features, targets = tools.make_random_classification(10000)\n",
    "features = pd.DataFrame(features, dtype=np.float32)\n",
    "targets = pd.Series(targets, dtype=np.float32)"
   ]
  },
  {
   "cell_type": "code",
   "execution_count": 38,
   "metadata": {},
   "outputs": [
    {
     "data": {
      "text/plain": [
       "(10000, 100)"
      ]
     },
     "execution_count": 38,
     "metadata": {},
     "output_type": "execute_result"
    }
   ],
   "source": [
    "features.shape"
   ]
  },
  {
   "cell_type": "code",
   "execution_count": 39,
   "metadata": {},
   "outputs": [
    {
     "data": {
      "text/plain": [
       "0.0    5003\n",
       "1.0    4997\n",
       "Name: target, dtype: int64"
      ]
     },
     "execution_count": 39,
     "metadata": {},
     "output_type": "execute_result"
    }
   ],
   "source": [
    "targets.value_counts()"
   ]
  },
  {
   "cell_type": "code",
   "execution_count": 41,
   "metadata": {
    "scrolled": true
   },
   "outputs": [
    {
     "name": "stderr",
     "output_type": "stream",
     "text": [
      "07:52:16 tree INFO:Training.  Depth 0 Current Loss: 8.2986 Best Split: feature_14 0.1281 6.1064\n",
      "07:52:21 tree INFO:Training.  Depth 1 Current Loss: 6.4319 Best Split: feature_97 -1.0547 4.5129\n",
      "07:52:24 tree INFO:Training.  Depth 2 Current Loss: 8.3439 Best Split: feature_82 -0.0740 5.2206\n",
      "07:52:25 tree INFO:Training.  Depth 3 Current Loss: 8.6334 Best Split: feature_26 1.0266 4.8444\n",
      "07:52:26 tree INFO:Training.  Depth 4 Current Loss: 9.7062 Best Split: feature_39 2.9441 4.7745\n",
      "07:52:26 tree INFO:Training.  Depth 5 Current Loss: 7.3270 Best Split: feature_39 1.2425 3.2949\n",
      "07:52:27 tree INFO:Training.  Depth 6 Current Loss: 5.3484 Best Split: feature_39 0.3246 2.1701\n",
      "07:52:28 tree INFO:Training.  Depth 7 Current Loss: 3.6360 Best Split: feature_36 -0.4634 1.3878\n",
      "07:52:28 tree INFO:Reached leaf node, or constraints force termination.  Returning\n",
      "07:52:28 tree INFO:Reached leaf node, or constraints force termination.  Returning\n",
      "07:52:28 tree INFO:Training.  Depth 7 Current Loss: 9.6259 Best Split: feature_7 0.6051 2.8981\n",
      "07:52:28 tree INFO:Reached leaf node, or constraints force termination.  Returning\n",
      "07:52:28 tree INFO:Reached leaf node, or constraints force termination.  Returning\n",
      "07:52:28 tree INFO:Training.  Depth 6 Current Loss: 10.6759 Best Split: feature_33 0.0224 3.9207\n",
      "07:52:29 tree INFO:Training.  Depth 7 Current Loss: 9.0391 Best Split: feature_41 0.4047 2.8531\n",
      "07:52:29 tree INFO:Reached leaf node, or constraints force termination.  Returning\n",
      "07:52:29 tree INFO:Reached leaf node, or constraints force termination.  Returning\n",
      "07:52:29 tree INFO:Training.  Depth 7 Current Loss: 12.6464 Best Split: feature_51 0.2981 3.7482\n",
      "07:52:29 tree INFO:Reached leaf node, or constraints force termination.  Returning\n",
      "07:52:29 tree INFO:Reached leaf node, or constraints force termination.  Returning\n",
      "07:52:29 tree INFO:Training.  Depth 5 Current Loss: 13.5744 Best Split: feature_79 1.0000 5.5811\n",
      "07:52:30 tree INFO:Training.  Depth 6 Current Loss: 11.6626 Best Split: feature_51 -0.2957 4.2098\n",
      "07:52:30 tree INFO:Training.  Depth 7 Current Loss: 14.6037 Best Split: feature_19 0.4117 4.0510\n",
      "07:52:30 tree INFO:Reached leaf node, or constraints force termination.  Returning\n",
      "07:52:30 tree INFO:Reached leaf node, or constraints force termination.  Returning\n",
      "07:52:30 tree INFO:Training.  Depth 7 Current Loss: 9.8416 Best Split: feature_26 -0.1279 3.1005\n",
      "07:52:30 tree INFO:Reached leaf node, or constraints force termination.  Returning\n",
      "07:52:30 tree INFO:Reached leaf node, or constraints force termination.  Returning\n",
      "07:52:31 tree INFO:Training.  Depth 6 Current Loss: 15.9452 Best Split: feature_3 0.1101 5.4304\n",
      "07:52:31 tree INFO:Training.  Depth 7 Current Loss: 16.2543 Best Split: feature_0 -0.1247 4.5236\n",
      "07:52:31 tree INFO:Reached leaf node, or constraints force termination.  Returning\n",
      "07:52:31 tree INFO:Reached leaf node, or constraints force termination.  Returning\n",
      "07:52:31 tree INFO:Training.  Depth 7 Current Loss: 15.3377 Best Split: feature_10 -0.2290 4.3440\n",
      "07:52:31 tree INFO:Reached leaf node, or constraints force termination.  Returning\n",
      "07:52:31 tree INFO:Reached leaf node, or constraints force termination.  Returning\n",
      "07:52:32 tree INFO:Training.  Depth 4 Current Loss: 7.6819 Best Split: feature_23 0.7643 3.8775\n",
      "07:52:33 tree INFO:Training.  Depth 5 Current Loss: 9.6626 Best Split: feature_23 -0.3323 4.1229\n",
      "07:52:33 tree INFO:Training.  Depth 6 Current Loss: 11.6857 Best Split: feature_79 0.6995 4.0264\n",
      "07:52:33 tree INFO:Training.  Depth 7 Current Loss: 9.9093 Best Split: feature_79 0.0033 2.8766\n",
      "07:52:33 tree INFO:Reached leaf node, or constraints force termination.  Returning\n",
      "07:52:33 tree INFO:Reached leaf node, or constraints force termination.  Returning\n",
      "07:52:33 tree INFO:Training.  Depth 7 Current Loss: 13.8237 Best Split: feature_23 -0.9797 3.7740\n",
      "07:52:33 tree INFO:Reached leaf node, or constraints force termination.  Returning\n",
      "07:52:33 tree INFO:Reached leaf node, or constraints force termination.  Returning\n",
      "07:52:34 tree INFO:Training.  Depth 6 Current Loss: 8.3530 Best Split: feature_31 0.2073 3.2124\n",
      "07:52:34 tree INFO:Training.  Depth 7 Current Loss: 7.3424 Best Split: feature_42 -0.5192 2.4466\n",
      "07:52:34 tree INFO:Reached leaf node, or constraints force termination.  Returning\n",
      "07:52:34 tree INFO:Reached leaf node, or constraints force termination.  Returning\n",
      "07:52:35 tree INFO:Training.  Depth 7 Current Loss: 9.6135 Best Split: feature_0 -0.2236 2.9806\n",
      "07:52:35 tree INFO:Reached leaf node, or constraints force termination.  Returning\n",
      "07:52:35 tree INFO:Reached leaf node, or constraints force termination.  Returning\n",
      "07:52:35 tree INFO:Training.  Depth 5 Current Loss: 6.3501 Best Split: feature_62 -0.2688 2.9169\n",
      "07:52:36 tree INFO:Training.  Depth 6 Current Loss: 8.0360 Best Split: feature_49 -0.2572 2.9661\n",
      "07:52:36 tree INFO:Training.  Depth 7 Current Loss: 12.7642 Best Split: feature_26 1.8056 3.5740\n",
      "07:52:36 tree INFO:Reached leaf node, or constraints force termination.  Returning\n",
      "07:52:36 tree INFO:Reached leaf node, or constraints force termination.  Returning\n",
      "07:52:36 tree INFO:Training.  Depth 7 Current Loss: 5.6434 Best Split: feature_52 0.5965 1.9007\n",
      "07:52:36 tree INFO:Reached leaf node, or constraints force termination.  Returning\n",
      "07:52:36 tree INFO:Reached leaf node, or constraints force termination.  Returning\n",
      "07:52:37 tree INFO:Training.  Depth 6 Current Loss: 5.3171 Best Split: feature_1 0.4587 2.2268\n",
      "07:52:38 tree INFO:Training.  Depth 7 Current Loss: 4.3057 Best Split: feature_34 -0.3592 1.6278\n",
      "07:52:38 tree INFO:Reached leaf node, or constraints force termination.  Returning\n",
      "07:52:38 tree INFO:Reached leaf node, or constraints force termination.  Returning\n",
      "07:52:38 tree INFO:Training.  Depth 7 Current Loss: 7.1437 Best Split: feature_50 -0.4796 2.3402\n",
      "07:52:38 tree INFO:Reached leaf node, or constraints force termination.  Returning\n",
      "07:52:38 tree INFO:Reached leaf node, or constraints force termination.  Returning\n",
      "07:52:39 tree INFO:Training.  Depth 3 Current Loss: 8.0793 Best Split: feature_54 0.1936 4.5944\n",
      "07:52:40 tree INFO:Training.  Depth 4 Current Loss: 7.1739 Best Split: feature_19 0.1763 3.7257\n",
      "07:52:41 tree INFO:Training.  Depth 5 Current Loss: 6.2419 Best Split: feature_45 0.1598 2.9219\n",
      "07:52:42 tree INFO:Training.  Depth 6 Current Loss: 5.2933 Best Split: feature_43 -0.5383 2.2055\n",
      "07:52:42 tree INFO:Training.  Depth 7 Current Loss: 7.7245 Best Split: feature_9 0.2541 2.5103\n",
      "07:52:42 tree INFO:Reached leaf node, or constraints force termination.  Returning\n",
      "07:52:42 tree INFO:Reached leaf node, or constraints force termination.  Returning\n",
      "07:52:43 tree INFO:Training.  Depth 7 Current Loss: 4.0261 Best Split: feature_45 -0.9132 1.5253\n",
      "07:52:43 tree INFO:Reached leaf node, or constraints force termination.  Returning\n",
      "07:52:43 tree INFO:Reached leaf node, or constraints force termination.  Returning\n",
      "07:52:43 tree INFO:Training.  Depth 6 Current Loss: 7.4566 Best Split: feature_1 0.1567 2.9517\n",
      "07:52:44 tree INFO:Training.  Depth 7 Current Loss: 5.8890 Best Split: feature_70 -0.6330 2.0146\n",
      "07:52:44 tree INFO:Reached leaf node, or constraints force termination.  Returning\n",
      "07:52:44 tree INFO:Reached leaf node, or constraints force termination.  Returning\n",
      "07:52:44 tree INFO:Training.  Depth 7 Current Loss: 9.4353 Best Split: feature_92 0.3090 3.0461\n",
      "07:52:44 tree INFO:Reached leaf node, or constraints force termination.  Returning\n",
      "07:52:44 tree INFO:Reached leaf node, or constraints force termination.  Returning\n",
      "07:52:45 tree INFO:Training.  Depth 5 Current Loss: 8.3508 Best Split: feature_23 1.1190 3.7491\n",
      "07:52:46 tree INFO:Training.  Depth 6 Current Loss: 7.4276 Best Split: feature_39 3.1677 2.9592\n",
      "07:52:46 tree INFO:Training.  Depth 7 Current Loss: 6.3270 Best Split: feature_84 -0.4771 2.2431\n",
      "07:52:46 tree INFO:Reached leaf node, or constraints force termination.  Returning\n",
      "07:52:46 tree INFO:Reached leaf node, or constraints force termination.  Returning\n",
      "07:52:47 tree INFO:Training.  Depth 7 Current Loss: 9.3276 Best Split: feature_26 0.9529 2.8527\n",
      "07:52:47 tree INFO:Reached leaf node, or constraints force termination.  Returning\n",
      "07:52:47 tree INFO:Reached leaf node, or constraints force termination.  Returning\n",
      "07:52:47 tree INFO:Training.  Depth 6 Current Loss: 9.5200 Best Split: feature_23 2.2343 3.5891\n"
     ]
    },
    {
     "name": "stderr",
     "output_type": "stream",
     "text": [
      "07:52:47 tree INFO:Training.  Depth 7 Current Loss: 8.1152 Best Split: feature_97 -1.7958 2.6449\n",
      "07:52:47 tree INFO:Reached leaf node, or constraints force termination.  Returning\n",
      "07:52:47 tree INFO:Reached leaf node, or constraints force termination.  Returning\n",
      "07:52:48 tree INFO:Training.  Depth 7 Current Loss: 11.3084 Best Split: feature_64 0.3080 3.4134\n",
      "07:52:48 tree INFO:Reached leaf node, or constraints force termination.  Returning\n",
      "07:52:48 tree INFO:Reached leaf node, or constraints force termination.  Returning\n",
      "07:52:49 tree INFO:Training.  Depth 4 Current Loss: 9.2751 Best Split: feature_0 -0.1757 4.6016\n",
      "07:52:49 tree INFO:Training.  Depth 5 Current Loss: 10.3306 Best Split: feature_60 0.0506 4.3405\n",
      "07:52:50 tree INFO:Training.  Depth 6 Current Loss: 11.4435 Best Split: feature_39 3.5772 4.0435\n",
      "07:52:50 tree INFO:Training.  Depth 7 Current Loss: 10.1083 Best Split: feature_61 -0.4925 3.0714\n",
      "07:52:50 tree INFO:Reached leaf node, or constraints force termination.  Returning\n",
      "07:52:50 tree INFO:Reached leaf node, or constraints force termination.  Returning\n",
      "07:52:50 tree INFO:Training.  Depth 7 Current Loss: 13.0828 Best Split: feature_32 -0.2186 3.6652\n",
      "07:52:50 tree INFO:Reached leaf node, or constraints force termination.  Returning\n",
      "07:52:50 tree INFO:Reached leaf node, or constraints force termination.  Returning\n",
      "07:52:51 tree INFO:Training.  Depth 6 Current Loss: 9.3492 Best Split: feature_31 -0.2766 3.3881\n",
      "07:52:51 tree INFO:Training.  Depth 7 Current Loss: 12.5328 Best Split: feature_38 -0.1823 3.4311\n",
      "07:52:51 tree INFO:Reached leaf node, or constraints force termination.  Returning\n",
      "07:52:51 tree INFO:Reached leaf node, or constraints force termination.  Returning\n",
      "07:52:51 tree INFO:Training.  Depth 7 Current Loss: 7.5496 Best Split: feature_32 0.1427 2.4485\n",
      "07:52:51 tree INFO:Reached leaf node, or constraints force termination.  Returning\n",
      "07:52:51 tree INFO:Reached leaf node, or constraints force termination.  Returning\n",
      "07:52:52 tree INFO:Training.  Depth 5 Current Loss: 8.5156 Best Split: feature_8 -0.2079 3.8221\n",
      "07:52:53 tree INFO:Training.  Depth 6 Current Loss: 9.5652 Best Split: feature_49 -0.3020 3.6007\n",
      "07:52:53 tree INFO:Training.  Depth 7 Current Loss: 12.7883 Best Split: feature_49 -1.5984 3.7561\n",
      "07:52:53 tree INFO:Reached leaf node, or constraints force termination.  Returning\n",
      "07:52:53 tree INFO:Reached leaf node, or constraints force termination.  Returning\n",
      "07:52:53 tree INFO:Training.  Depth 7 Current Loss: 7.5490 Best Split: feature_45 0.4031 2.5364\n",
      "07:52:53 tree INFO:Reached leaf node, or constraints force termination.  Returning\n",
      "07:52:53 tree INFO:Reached leaf node, or constraints force termination.  Returning\n",
      "07:52:54 tree INFO:Training.  Depth 6 Current Loss: 7.6651 Best Split: feature_6 -0.2507 3.0395\n",
      "07:52:54 tree INFO:Training.  Depth 7 Current Loss: 9.5482 Best Split: feature_61 0.0751 3.0288\n",
      "07:52:54 tree INFO:Reached leaf node, or constraints force termination.  Returning\n",
      "07:52:54 tree INFO:Reached leaf node, or constraints force termination.  Returning\n",
      "07:52:55 tree INFO:Training.  Depth 7 Current Loss: 6.3879 Best Split: feature_6 0.7459 2.2544\n",
      "07:52:55 tree INFO:Reached leaf node, or constraints force termination.  Returning\n",
      "07:52:55 tree INFO:Reached leaf node, or constraints force termination.  Returning\n",
      "07:52:59 tree INFO:Training.  Depth 2 Current Loss: 5.1272 Best Split: feature_39 0.5391 3.3375\n",
      "07:53:01 tree INFO:Training.  Depth 3 Current Loss: 3.6479 Best Split: feature_23 0.5204 2.2801\n",
      "07:53:03 tree INFO:Training.  Depth 4 Current Loss: 2.7529 Best Split: feature_4 -0.1438 1.5767\n",
      "07:53:04 tree INFO:Training.  Depth 5 Current Loss: 7.4205 Best Split: feature_4 -1.2794 3.2435\n",
      "07:53:04 tree INFO:Training.  Depth 6 Current Loss: 11.6073 Best Split: feature_23 -1.3124 3.9426\n",
      "07:53:04 tree INFO:Training.  Depth 7 Current Loss: 9.4097 Best Split: feature_79 1.3318 2.6949\n",
      "07:53:04 tree INFO:Reached leaf node, or constraints force termination.  Returning\n",
      "07:53:04 tree INFO:Reached leaf node, or constraints force termination.  Returning\n",
      "07:53:04 tree INFO:Training.  Depth 7 Current Loss: 14.3731 Best Split: feature_26 0.0068 3.8488\n",
      "07:53:04 tree INFO:Reached leaf node, or constraints force termination.  Returning\n",
      "07:53:04 tree INFO:Reached leaf node, or constraints force termination.  Returning\n",
      "07:53:05 tree INFO:Training.  Depth 6 Current Loss: 5.5115 Best Split: feature_39 -0.7581 2.2331\n",
      "07:53:06 tree INFO:Training.  Depth 7 Current Loss: 3.9644 Best Split: feature_23 -0.3271 1.4563\n",
      "07:53:06 tree INFO:Reached leaf node, or constraints force termination.  Returning\n",
      "07:53:06 tree INFO:Reached leaf node, or constraints force termination.  Returning\n",
      "07:53:06 tree INFO:Training.  Depth 7 Current Loss: 8.8884 Best Split: feature_30 -0.2652 2.7153\n",
      "07:53:06 tree INFO:Reached leaf node, or constraints force termination.  Returning\n",
      "07:53:06 tree INFO:Reached leaf node, or constraints force termination.  Returning\n",
      "07:53:08 tree INFO:Training.  Depth 5 Current Loss: 1.7453 Best Split: feature_23 -0.2255 0.9997\n",
      "07:53:09 tree INFO:Training.  Depth 6 Current Loss: 1.3741 Best Split: feature_23 -1.1632 0.7563\n",
      "07:53:10 tree INFO:Training.  Depth 7 Current Loss: 1.1681 Best Split: feature_0 -0.5086 0.5885\n",
      "07:53:10 tree INFO:Reached leaf node, or constraints force termination.  Returning\n",
      "07:53:10 tree INFO:Reached leaf node, or constraints force termination.  Returning\n",
      "07:53:10 tree INFO:Training.  Depth 7 Current Loss: 1.6608 Best Split: feature_47 -1.0237 0.7842\n",
      "07:53:10 tree INFO:Reached leaf node, or constraints force termination.  Returning\n",
      "07:53:10 tree INFO:Reached leaf node, or constraints force termination.  Returning\n",
      "07:53:11 tree INFO:Training.  Depth 6 Current Loss: 2.8178 Best Split: feature_4 1.3518 1.2857\n",
      "07:53:12 tree INFO:Training.  Depth 7 Current Loss: 3.8751 Best Split: feature_14 -2.5129 1.4135\n",
      "07:53:12 tree INFO:Reached leaf node, or constraints force termination.  Returning\n",
      "07:53:12 tree INFO:Reached leaf node, or constraints force termination.  Returning\n",
      "07:53:12 tree INFO:Training.  Depth 7 Current Loss: 2.1541 Best Split: feature_97 3.3871 0.8595\n",
      "07:53:12 tree INFO:Reached leaf node, or constraints force termination.  Returning\n",
      "07:53:12 tree INFO:Reached leaf node, or constraints force termination.  Returning\n",
      "07:53:13 tree INFO:Training.  Depth 4 Current Loss: 5.3534 Best Split: feature_14 -0.8171 2.8622\n",
      "07:53:14 tree INFO:Training.  Depth 5 Current Loss: 4.4094 Best Split: feature_26 -0.5973 2.1938\n",
      "07:53:15 tree INFO:Training.  Depth 6 Current Loss: 5.8910 Best Split: feature_23 1.6038 2.4141\n",
      "07:53:15 tree INFO:Training.  Depth 7 Current Loss: 4.7624 Best Split: feature_4 1.0653 1.6292\n",
      "07:53:15 tree INFO:Reached leaf node, or constraints force termination.  Returning\n",
      "07:53:15 tree INFO:Reached leaf node, or constraints force termination.  Returning\n",
      "07:53:15 tree INFO:Training.  Depth 7 Current Loss: 7.6791 Best Split: feature_67 -0.0043 2.5183\n",
      "07:53:15 tree INFO:Reached leaf node, or constraints force termination.  Returning\n",
      "07:53:15 tree INFO:Reached leaf node, or constraints force termination.  Returning\n",
      "07:53:16 tree INFO:Training.  Depth 6 Current Loss: 3.5558 Best Split: feature_49 0.0569 1.5772\n",
      "07:53:16 tree INFO:Training.  Depth 7 Current Loss: 8.6112 Best Split: feature_26 0.1087 2.7197\n",
      "07:53:16 tree INFO:Reached leaf node, or constraints force termination.  Returning\n",
      "07:53:16 tree INFO:Reached leaf node, or constraints force termination.  Returning\n",
      "07:53:17 tree INFO:Training.  Depth 7 Current Loss: 2.2979 Best Split: feature_56 1.5170 0.9969\n",
      "07:53:17 tree INFO:Reached leaf node, or constraints force termination.  Returning\n",
      "07:53:17 tree INFO:Reached leaf node, or constraints force termination.  Returning\n",
      "07:53:18 tree INFO:Training.  Depth 5 Current Loss: 7.0899 Best Split: feature_4 0.3356 3.1270\n",
      "07:53:18 tree INFO:Training.  Depth 6 Current Loss: 12.2981 Best Split: feature_4 -1.0059 3.9284\n",
      "07:53:18 tree INFO:Training.  Depth 7 Current Loss: 15.1009 Best Split: feature_0 0.2952 3.6655\n",
      "07:53:18 tree INFO:Reached leaf node, or constraints force termination.  Returning\n",
      "07:53:18 tree INFO:Reached leaf node, or constraints force termination.  Returning\n",
      "07:53:18 tree INFO:Training.  Depth 7 Current Loss: 10.2455 Best Split: feature_27 0.4733 2.7754\n"
     ]
    },
    {
     "name": "stderr",
     "output_type": "stream",
     "text": [
      "07:53:18 tree INFO:Reached leaf node, or constraints force termination.  Returning\n",
      "07:53:18 tree INFO:Reached leaf node, or constraints force termination.  Returning\n",
      "07:53:19 tree INFO:Training.  Depth 6 Current Loss: 5.4723 Best Split: feature_97 2.6921 2.2665\n",
      "07:53:19 tree INFO:Training.  Depth 7 Current Loss: 3.7986 Best Split: feature_56 1.2745 1.4747\n",
      "07:53:19 tree INFO:Reached leaf node, or constraints force termination.  Returning\n",
      "07:53:19 tree INFO:Reached leaf node, or constraints force termination.  Returning\n",
      "07:53:20 tree INFO:Training.  Depth 7 Current Loss: 9.7415 Best Split: feature_23 1.7563 3.0126\n",
      "07:53:20 tree INFO:Reached leaf node, or constraints force termination.  Returning\n",
      "07:53:20 tree INFO:Reached leaf node, or constraints force termination.  Returning\n",
      "07:53:21 tree INFO:Training.  Depth 3 Current Loss: 8.7940 Best Split: feature_26 0.7853 4.8240\n",
      "07:53:22 tree INFO:Training.  Depth 4 Current Loss: 11.2575 Best Split: feature_26 -0.3813 5.2756\n",
      "07:53:22 tree INFO:Training.  Depth 5 Current Loss: 13.5794 Best Split: feature_26 -1.3893 5.2971\n",
      "07:53:22 tree INFO:Training.  Depth 6 Current Loss: 15.6949 Best Split: feature_32 0.1228 4.8677\n",
      "07:53:23 tree INFO:Training.  Depth 7 Current Loss: 16.1044 Best Split: feature_0 0.1131 4.0000\n",
      "07:53:23 tree INFO:Reached leaf node, or constraints force termination.  Returning\n",
      "07:53:23 tree INFO:Reached leaf node, or constraints force termination.  Returning\n",
      "07:53:23 tree INFO:Training.  Depth 7 Current Loss: 14.8954 Best Split: feature_52 -0.1948 3.7780\n",
      "07:53:23 tree INFO:Reached leaf node, or constraints force termination.  Returning\n",
      "07:53:23 tree INFO:Reached leaf node, or constraints force termination.  Returning\n",
      "07:53:23 tree INFO:Training.  Depth 6 Current Loss: 12.0764 Best Split: feature_91 2.1390 4.1762\n",
      "07:53:23 tree INFO:Training.  Depth 7 Current Loss: 10.2002 Best Split: feature_22 0.4424 3.1075\n",
      "07:53:23 tree INFO:Reached leaf node, or constraints force termination.  Returning\n",
      "07:53:23 tree INFO:Reached leaf node, or constraints force termination.  Returning\n",
      "07:53:24 tree INFO:Training.  Depth 7 Current Loss: 15.0001 Best Split: feature_0 -0.3294 3.9310\n",
      "07:53:24 tree INFO:Reached leaf node, or constraints force termination.  Returning\n",
      "07:53:24 tree INFO:Reached leaf node, or constraints force termination.  Returning\n",
      "07:53:24 tree INFO:Training.  Depth 5 Current Loss: 9.6773 Best Split: feature_39 1.9354 4.1002\n",
      "07:53:25 tree INFO:Training.  Depth 6 Current Loss: 8.5787 Best Split: feature_39 1.4142 3.1680\n",
      "07:53:25 tree INFO:Training.  Depth 7 Current Loss: 6.5139 Best Split: feature_90 -0.2551 2.1862\n",
      "07:53:25 tree INFO:Reached leaf node, or constraints force termination.  Returning\n",
      "07:53:25 tree INFO:Reached leaf node, or constraints force termination.  Returning\n",
      "07:53:25 tree INFO:Training.  Depth 7 Current Loss: 12.6888 Best Split: feature_80 0.0398 3.5234\n",
      "07:53:25 tree INFO:Reached leaf node, or constraints force termination.  Returning\n",
      "07:53:25 tree INFO:Reached leaf node, or constraints force termination.  Returning\n",
      "07:53:26 tree INFO:Training.  Depth 6 Current Loss: 11.1195 Best Split: feature_23 0.5027 3.8848\n",
      "07:53:26 tree INFO:Training.  Depth 7 Current Loss: 13.6042 Best Split: feature_71 -0.5451 3.7626\n",
      "07:53:26 tree INFO:Reached leaf node, or constraints force termination.  Returning\n",
      "07:53:26 tree INFO:Reached leaf node, or constraints force termination.  Returning\n",
      "07:53:26 tree INFO:Training.  Depth 7 Current Loss: 9.1710 Best Split: feature_73 -0.4180 2.7546\n",
      "07:53:26 tree INFO:Reached leaf node, or constraints force termination.  Returning\n",
      "07:53:26 tree INFO:Reached leaf node, or constraints force termination.  Returning\n",
      "07:53:27 tree INFO:Training.  Depth 4 Current Loss: 7.1966 Best Split: feature_79 0.5136 3.6206\n",
      "07:53:28 tree INFO:Training.  Depth 5 Current Loss: 5.4601 Best Split: feature_79 -0.6524 2.5073\n",
      "07:53:28 tree INFO:Training.  Depth 6 Current Loss: 3.7283 Best Split: feature_91 0.3963 1.5505\n",
      "07:53:29 tree INFO:Training.  Depth 7 Current Loss: 1.6525 Best Split: feature_91 -0.2845 0.6437\n",
      "07:53:29 tree INFO:Reached leaf node, or constraints force termination.  Returning\n",
      "07:53:29 tree INFO:Reached leaf node, or constraints force termination.  Returning\n",
      "07:53:29 tree INFO:Training.  Depth 7 Current Loss: 8.2146 Best Split: feature_14 -0.4835 2.6862\n",
      "07:53:29 tree INFO:Reached leaf node, or constraints force termination.  Returning\n",
      "07:53:29 tree INFO:Reached leaf node, or constraints force termination.  Returning\n",
      "07:53:30 tree INFO:Training.  Depth 6 Current Loss: 8.9956 Best Split: feature_87 -0.1765 3.3136\n",
      "07:53:30 tree INFO:Training.  Depth 7 Current Loss: 11.6194 Best Split: feature_9 -0.2475 3.3718\n",
      "07:53:30 tree INFO:Reached leaf node, or constraints force termination.  Returning\n",
      "07:53:30 tree INFO:Reached leaf node, or constraints force termination.  Returning\n",
      "07:53:30 tree INFO:Training.  Depth 7 Current Loss: 7.1458 Best Split: feature_14 -0.7454 2.3023\n",
      "07:53:30 tree INFO:Reached leaf node, or constraints force termination.  Returning\n",
      "07:53:30 tree INFO:Reached leaf node, or constraints force termination.  Returning\n",
      "07:53:31 tree INFO:Training.  Depth 5 Current Loss: 10.2150 Best Split: feature_39 1.7583 4.2850\n",
      "07:53:31 tree INFO:Training.  Depth 6 Current Loss: 8.9055 Best Split: feature_26 2.0734 3.2541\n",
      "07:53:31 tree INFO:Training.  Depth 7 Current Loss: 7.1765 Best Split: feature_12 -0.5935 2.2679\n",
      "07:53:31 tree INFO:Reached leaf node, or constraints force termination.  Returning\n",
      "07:53:31 tree INFO:Reached leaf node, or constraints force termination.  Returning\n",
      "07:53:32 tree INFO:Training.  Depth 7 Current Loss: 11.2539 Best Split: feature_91 0.5814 3.2367\n",
      "07:53:32 tree INFO:Reached leaf node, or constraints force termination.  Returning\n",
      "07:53:32 tree INFO:Reached leaf node, or constraints force termination.  Returning\n",
      "07:53:32 tree INFO:Training.  Depth 6 Current Loss: 11.7997 Best Split: feature_29 0.2198 4.1213\n",
      "07:53:32 tree INFO:Training.  Depth 7 Current Loss: 10.2192 Best Split: feature_29 -0.3029 3.0612\n",
      "07:53:32 tree INFO:Reached leaf node, or constraints force termination.  Returning\n",
      "07:53:32 tree INFO:Reached leaf node, or constraints force termination.  Returning\n",
      "07:53:32 tree INFO:Training.  Depth 7 Current Loss: 13.6632 Best Split: feature_91 0.7360 3.8019\n",
      "07:53:32 tree INFO:Reached leaf node, or constraints force termination.  Returning\n",
      "07:53:32 tree INFO:Reached leaf node, or constraints force termination.  Returning\n",
      "07:53:35 tree INFO:Training.  Depth 1 Current Loss: 11.9696 Best Split: feature_14 1.3686 7.7134\n",
      "07:53:37 tree INFO:Training.  Depth 2 Current Loss: 10.3393 Best Split: feature_14 0.7505 6.1758\n",
      "07:53:38 tree INFO:Training.  Depth 3 Current Loss: 9.2901 Best Split: feature_23 0.6481 5.0886\n",
      "07:53:39 tree INFO:Training.  Depth 4 Current Loss: 8.2772 Best Split: feature_4 -0.6475 4.1146\n",
      "07:53:39 tree INFO:Training.  Depth 5 Current Loss: 10.1201 Best Split: feature_4 -1.8049 4.2499\n",
      "07:53:40 tree INFO:Training.  Depth 6 Current Loss: 12.0348 Best Split: feature_14 0.5075 4.1619\n",
      "07:53:40 tree INFO:Training.  Depth 7 Current Loss: 10.5409 Best Split: feature_79 0.1712 3.1100\n",
      "07:53:40 tree INFO:Reached leaf node, or constraints force termination.  Returning\n",
      "07:53:40 tree INFO:Reached leaf node, or constraints force termination.  Returning\n",
      "07:53:40 tree INFO:Training.  Depth 7 Current Loss: 13.8292 Best Split: feature_78 0.0510 3.7740\n",
      "07:53:40 tree INFO:Reached leaf node, or constraints force termination.  Returning\n",
      "07:53:40 tree INFO:Reached leaf node, or constraints force termination.  Returning\n",
      "07:53:41 tree INFO:Training.  Depth 6 Current Loss: 8.6939 Best Split: feature_17 -0.3049 3.2241\n",
      "07:53:41 tree INFO:Training.  Depth 7 Current Loss: 11.8144 Best Split: feature_24 0.2979 3.2928\n",
      "07:53:41 tree INFO:Reached leaf node, or constraints force termination.  Returning\n",
      "07:53:41 tree INFO:Reached leaf node, or constraints force termination.  Returning\n",
      "07:53:41 tree INFO:Training.  Depth 7 Current Loss: 7.0206 Best Split: feature_40 -0.5954 2.3083\n",
      "07:53:41 tree INFO:Reached leaf node, or constraints force termination.  Returning\n",
      "07:53:41 tree INFO:Reached leaf node, or constraints force termination.  Returning\n",
      "07:53:42 tree INFO:Training.  Depth 5 Current Loss: 6.9951 Best Split: feature_26 0.5036 3.1624\n"
     ]
    },
    {
     "name": "stderr",
     "output_type": "stream",
     "text": [
      "07:53:42 tree INFO:Training.  Depth 6 Current Loss: 6.0534 Best Split: feature_42 0.5475 2.4415\n",
      "07:53:43 tree INFO:Training.  Depth 7 Current Loss: 4.7792 Best Split: feature_4 0.0194 1.7411\n",
      "07:53:43 tree INFO:Reached leaf node, or constraints force termination.  Returning\n",
      "07:53:43 tree INFO:Reached leaf node, or constraints force termination.  Returning\n",
      "07:53:43 tree INFO:Training.  Depth 7 Current Loss: 8.4116 Best Split: feature_78 0.5224 2.5809\n",
      "07:53:43 tree INFO:Reached leaf node, or constraints force termination.  Returning\n",
      "07:53:43 tree INFO:Reached leaf node, or constraints force termination.  Returning\n",
      "07:53:44 tree INFO:Training.  Depth 6 Current Loss: 8.3039 Best Split: feature_49 1.1887 3.0853\n",
      "07:53:44 tree INFO:Training.  Depth 7 Current Loss: 5.9318 Best Split: feature_57 -0.2629 1.9813\n",
      "07:53:44 tree INFO:Reached leaf node, or constraints force termination.  Returning\n",
      "07:53:44 tree INFO:Reached leaf node, or constraints force termination.  Returning\n",
      "07:53:44 tree INFO:Training.  Depth 7 Current Loss: 12.3048 Best Split: feature_79 0.7504 3.5495\n",
      "07:53:44 tree INFO:Reached leaf node, or constraints force termination.  Returning\n",
      "07:53:44 tree INFO:Reached leaf node, or constraints force termination.  Returning\n",
      "07:53:45 tree INFO:Training.  Depth 4 Current Loss: 10.5904 Best Split: feature_45 -0.3155 5.0402\n",
      "07:53:46 tree INFO:Training.  Depth 5 Current Loss: 12.2454 Best Split: feature_79 -0.7082 4.8777\n",
      "07:53:46 tree INFO:Training.  Depth 6 Current Loss: 14.0323 Best Split: feature_36 -0.2169 4.5392\n",
      "07:53:46 tree INFO:Training.  Depth 7 Current Loss: 15.6726 Best Split: feature_0 -0.2986 3.9307\n",
      "07:53:46 tree INFO:Reached leaf node, or constraints force termination.  Returning\n",
      "07:53:46 tree INFO:Reached leaf node, or constraints force termination.  Returning\n",
      "07:53:46 tree INFO:Training.  Depth 7 Current Loss: 12.5287 Best Split: feature_69 0.3345 3.4314\n",
      "07:53:46 tree INFO:Reached leaf node, or constraints force termination.  Returning\n",
      "07:53:46 tree INFO:Reached leaf node, or constraints force termination.  Returning\n",
      "07:53:47 tree INFO:Training.  Depth 6 Current Loss: 10.8797 Best Split: feature_93 -0.1210 3.8176\n",
      "07:53:47 tree INFO:Training.  Depth 7 Current Loss: 12.6888 Best Split: feature_91 0.4461 3.5234\n",
      "07:53:47 tree INFO:Reached leaf node, or constraints force termination.  Returning\n",
      "07:53:47 tree INFO:Reached leaf node, or constraints force termination.  Returning\n",
      "07:53:47 tree INFO:Training.  Depth 7 Current Loss: 9.4177 Best Split: feature_67 -0.9119 2.8293\n",
      "07:53:47 tree INFO:Reached leaf node, or constraints force termination.  Returning\n",
      "07:53:47 tree INFO:Reached leaf node, or constraints force termination.  Returning\n",
      "07:53:48 tree INFO:Training.  Depth 5 Current Loss: 9.4401 Best Split: feature_23 1.8485 4.0539\n",
      "07:53:49 tree INFO:Training.  Depth 6 Current Loss: 8.0208 Best Split: feature_49 -1.1950 3.1057\n",
      "07:53:49 tree INFO:Training.  Depth 7 Current Loss: 11.2738 Best Split: feature_33 -0.1231 3.1552\n",
      "07:53:49 tree INFO:Reached leaf node, or constraints force termination.  Returning\n",
      "07:53:49 tree INFO:Reached leaf node, or constraints force termination.  Returning\n",
      "07:53:49 tree INFO:Training.  Depth 7 Current Loss: 6.6431 Best Split: feature_26 -0.3615 2.3664\n",
      "07:53:49 tree INFO:Reached leaf node, or constraints force termination.  Returning\n",
      "07:53:49 tree INFO:Reached leaf node, or constraints force termination.  Returning\n",
      "07:53:50 tree INFO:Training.  Depth 6 Current Loss: 11.7315 Best Split: feature_26 0.5056 4.0541\n",
      "07:53:50 tree INFO:Training.  Depth 7 Current Loss: 13.5528 Best Split: feature_38 0.1609 3.7152\n",
      "07:53:50 tree INFO:Reached leaf node, or constraints force termination.  Returning\n",
      "07:53:50 tree INFO:Reached leaf node, or constraints force termination.  Returning\n",
      "07:53:50 tree INFO:Training.  Depth 7 Current Loss: 10.2414 Best Split: feature_81 -0.4156 2.9849\n",
      "07:53:50 tree INFO:Reached leaf node, or constraints force termination.  Returning\n",
      "07:53:50 tree INFO:Reached leaf node, or constraints force termination.  Returning\n",
      "07:53:51 tree INFO:Training.  Depth 3 Current Loss: 11.7058 Best Split: feature_69 -0.0932 6.1475\n",
      "07:53:52 tree INFO:Training.  Depth 4 Current Loss: 12.4243 Best Split: feature_82 0.0833 5.7052\n",
      "07:53:52 tree INFO:Training.  Depth 5 Current Loss: 11.8063 Best Split: feature_34 0.1673 4.7660\n",
      "07:53:53 tree INFO:Training.  Depth 6 Current Loss: 10.6171 Best Split: feature_23 1.3311 3.7701\n",
      "07:53:53 tree INFO:Training.  Depth 7 Current Loss: 8.9871 Best Split: feature_79 0.7077 2.8819\n",
      "07:53:53 tree INFO:Reached leaf node, or constraints force termination.  Returning\n",
      "07:53:53 tree INFO:Reached leaf node, or constraints force termination.  Returning\n",
      "07:53:53 tree INFO:Training.  Depth 7 Current Loss: 14.0268 Best Split: feature_8 0.2774 3.5684\n",
      "07:53:53 tree INFO:Reached leaf node, or constraints force termination.  Returning\n",
      "07:53:53 tree INFO:Reached leaf node, or constraints force termination.  Returning\n",
      "07:53:53 tree INFO:Training.  Depth 6 Current Loss: 13.3214 Best Split: feature_35 -0.0705 4.3912\n",
      "07:53:53 tree INFO:Training.  Depth 7 Current Loss: 14.6533 Best Split: feature_41 0.1741 3.8676\n",
      "07:53:53 tree INFO:Reached leaf node, or constraints force termination.  Returning\n",
      "07:53:53 tree INFO:Reached leaf node, or constraints force termination.  Returning\n",
      "07:53:54 tree INFO:Training.  Depth 7 Current Loss: 11.9545 Best Split: feature_36 -0.1965 3.3020\n",
      "07:53:54 tree INFO:Reached leaf node, or constraints force termination.  Returning\n",
      "07:53:54 tree INFO:Reached leaf node, or constraints force termination.  Returning\n",
      "07:53:54 tree INFO:Training.  Depth 5 Current Loss: 13.1251 Best Split: feature_19 0.2896 5.1526\n",
      "07:53:55 tree INFO:Training.  Depth 6 Current Loss: 11.7691 Best Split: feature_98 0.0217 4.0116\n",
      "07:53:55 tree INFO:Training.  Depth 7 Current Loss: 10.3044 Best Split: feature_97 -0.5446 2.9564\n",
      "07:53:55 tree INFO:Reached leaf node, or constraints force termination.  Returning\n",
      "07:53:55 tree INFO:Reached leaf node, or constraints force termination.  Returning\n",
      "07:53:55 tree INFO:Training.  Depth 7 Current Loss: 13.4174 Best Split: feature_84 -0.2292 3.6286\n",
      "07:53:55 tree INFO:Reached leaf node, or constraints force termination.  Returning\n",
      "07:53:55 tree INFO:Reached leaf node, or constraints force termination.  Returning\n",
      "07:53:55 tree INFO:Training.  Depth 6 Current Loss: 14.6521 Best Split: feature_51 -0.1960 4.7408\n",
      "07:53:56 tree INFO:Training.  Depth 7 Current Loss: 15.7454 Best Split: feature_1 0.5351 4.0622\n",
      "07:53:56 tree INFO:Reached leaf node, or constraints force termination.  Returning\n",
      "07:53:56 tree INFO:Reached leaf node, or constraints force termination.  Returning\n",
      "07:53:56 tree INFO:Training.  Depth 7 Current Loss: 13.4227 Best Split: feature_20 -0.2985 3.6287\n",
      "07:53:56 tree INFO:Reached leaf node, or constraints force termination.  Returning\n",
      "07:53:56 tree INFO:Reached leaf node, or constraints force termination.  Returning\n",
      "07:53:56 tree INFO:Training.  Depth 4 Current Loss: 11.0717 Best Split: feature_35 0.0281 5.2032\n",
      "07:53:57 tree INFO:Training.  Depth 5 Current Loss: 10.1528 Best Split: feature_92 0.2281 4.2334\n",
      "07:53:58 tree INFO:Training.  Depth 6 Current Loss: 8.6648 Best Split: feature_50 0.2873 3.1648\n",
      "07:53:58 tree INFO:Training.  Depth 7 Current Loss: 7.4251 Best Split: feature_87 -0.7544 2.3779\n",
      "07:53:58 tree INFO:Reached leaf node, or constraints force termination.  Returning\n",
      "07:53:58 tree INFO:Reached leaf node, or constraints force termination.  Returning\n",
      "07:53:58 tree INFO:Training.  Depth 7 Current Loss: 10.5653 Best Split: feature_40 0.0001 2.9926\n",
      "07:53:58 tree INFO:Reached leaf node, or constraints force termination.  Returning\n",
      "07:53:58 tree INFO:Reached leaf node, or constraints force termination.  Returning\n",
      "07:53:59 tree INFO:Training.  Depth 6 Current Loss: 11.9676 Best Split: feature_14 1.0824 4.1588\n",
      "07:53:59 tree INFO:Training.  Depth 7 Current Loss: 10.4432 Best Split: feature_58 0.3463 3.0569\n",
      "07:53:59 tree INFO:Reached leaf node, or constraints force termination.  Returning\n",
      "07:53:59 tree INFO:Reached leaf node, or constraints force termination.  Returning\n",
      "07:53:59 tree INFO:Training.  Depth 7 Current Loss: 13.6632 Best Split: feature_22 -0.1579 3.8105\n",
      "07:53:59 tree INFO:Reached leaf node, or constraints force termination.  Returning\n"
     ]
    },
    {
     "name": "stderr",
     "output_type": "stream",
     "text": [
      "07:53:59 tree INFO:Reached leaf node, or constraints force termination.  Returning\n",
      "07:54:00 tree INFO:Training.  Depth 5 Current Loss: 12.1518 Best Split: feature_47 0.1677 4.8748\n",
      "07:54:00 tree INFO:Training.  Depth 6 Current Loss: 10.8750 Best Split: feature_47 -0.5957 3.7899\n",
      "07:54:00 tree INFO:Training.  Depth 7 Current Loss: 12.7932 Best Split: feature_5 0.4295 3.4828\n",
      "07:54:00 tree INFO:Reached leaf node, or constraints force termination.  Returning\n",
      "07:54:00 tree INFO:Reached leaf node, or constraints force termination.  Returning\n",
      "07:54:00 tree INFO:Training.  Depth 7 Current Loss: 9.4182 Best Split: feature_17 0.2230 2.8225\n",
      "07:54:01 tree INFO:Reached leaf node, or constraints force termination.  Returning\n",
      "07:54:01 tree INFO:Reached leaf node, or constraints force termination.  Returning\n",
      "07:54:01 tree INFO:Training.  Depth 6 Current Loss: 13.6030 Best Split: feature_25 0.1390 4.5179\n",
      "07:54:01 tree INFO:Training.  Depth 7 Current Loss: 15.4229 Best Split: feature_11 0.1833 4.0784\n",
      "07:54:01 tree INFO:Reached leaf node, or constraints force termination.  Returning\n",
      "07:54:01 tree INFO:Reached leaf node, or constraints force termination.  Returning\n",
      "07:54:01 tree INFO:Training.  Depth 7 Current Loss: 11.9048 Best Split: feature_61 -0.0065 3.3386\n",
      "07:54:01 tree INFO:Reached leaf node, or constraints force termination.  Returning\n",
      "07:54:01 tree INFO:Reached leaf node, or constraints force termination.  Returning\n",
      "07:54:03 tree INFO:Training.  Depth 2 Current Loss: 14.2034 Best Split: feature_14 2.3517 8.1014\n",
      "07:54:04 tree INFO:Training.  Depth 3 Current Loss: 13.2385 Best Split: feature_14 1.8207 6.8440\n",
      "07:54:04 tree INFO:Training.  Depth 4 Current Loss: 12.4354 Best Split: feature_83 0.2054 5.7485\n",
      "07:54:05 tree INFO:Training.  Depth 5 Current Loss: 11.6698 Best Split: feature_33 -0.1730 4.7690\n",
      "07:54:05 tree INFO:Training.  Depth 6 Current Loss: 12.7465 Best Split: feature_28 -0.0193 4.3069\n",
      "07:54:05 tree INFO:Training.  Depth 7 Current Loss: 14.0621 Best Split: feature_52 0.2032 3.7889\n",
      "07:54:05 tree INFO:Reached leaf node, or constraints force termination.  Returning\n",
      "07:54:05 tree INFO:Reached leaf node, or constraints force termination.  Returning\n",
      "07:54:06 tree INFO:Training.  Depth 7 Current Loss: 11.4699 Best Split: feature_72 -0.4694 3.2507\n",
      "07:54:06 tree INFO:Reached leaf node, or constraints force termination.  Returning\n",
      "07:54:06 tree INFO:Reached leaf node, or constraints force termination.  Returning\n",
      "07:54:06 tree INFO:Training.  Depth 6 Current Loss: 10.8017 Best Split: feature_36 -0.0777 3.8486\n",
      "07:54:06 tree INFO:Training.  Depth 7 Current Loss: 12.5340 Best Split: feature_7 -0.1087 3.5130\n",
      "07:54:06 tree INFO:Reached leaf node, or constraints force termination.  Returning\n",
      "07:54:06 tree INFO:Reached leaf node, or constraints force termination.  Returning\n",
      "07:54:07 tree INFO:Training.  Depth 7 Current Loss: 9.4901 Best Split: feature_96 -0.4256 2.8957\n",
      "07:54:07 tree INFO:Reached leaf node, or constraints force termination.  Returning\n",
      "07:54:07 tree INFO:Reached leaf node, or constraints force termination.  Returning\n",
      "07:54:08 tree INFO:Training.  Depth 5 Current Loss: 13.2856 Best Split: feature_15 -0.1083 5.2502\n",
      "07:54:08 tree INFO:Training.  Depth 6 Current Loss: 14.5500 Best Split: feature_3 0.0956 4.7883\n",
      "07:54:08 tree INFO:Training.  Depth 7 Current Loss: 15.4229 Best Split: feature_1 -0.0991 4.0784\n",
      "07:54:08 tree INFO:Reached leaf node, or constraints force termination.  Returning\n",
      "07:54:08 tree INFO:Reached leaf node, or constraints force termination.  Returning\n",
      "07:54:08 tree INFO:Training.  Depth 7 Current Loss: 13.4787 Best Split: feature_21 0.0281 3.6834\n",
      "07:54:08 tree INFO:Reached leaf node, or constraints force termination.  Returning\n",
      "07:54:08 tree INFO:Reached leaf node, or constraints force termination.  Returning\n",
      "07:54:09 tree INFO:Training.  Depth 6 Current Loss: 12.1673 Best Split: feature_6 0.1849 4.1175\n",
      "07:54:09 tree INFO:Training.  Depth 7 Current Loss: 10.5170 Best Split: feature_70 0.2999 3.0710\n",
      "07:54:09 tree INFO:Reached leaf node, or constraints force termination.  Returning\n",
      "07:54:09 tree INFO:Reached leaf node, or constraints force termination.  Returning\n",
      "07:54:09 tree INFO:Training.  Depth 7 Current Loss: 14.5822 Best Split: feature_19 0.2662 3.7605\n",
      "07:54:09 tree INFO:Reached leaf node, or constraints force termination.  Returning\n",
      "07:54:09 tree INFO:Reached leaf node, or constraints force termination.  Returning\n",
      "07:54:10 tree INFO:Training.  Depth 4 Current Loss: 14.1232 Best Split: feature_23 0.3620 6.3750\n",
      "07:54:11 tree INFO:Training.  Depth 5 Current Loss: 13.3896 Best Split: feature_23 -1.1622 5.2952\n",
      "07:54:11 tree INFO:Training.  Depth 6 Current Loss: 15.0199 Best Split: feature_6 -0.0473 4.8655\n",
      "07:54:11 tree INFO:Training.  Depth 7 Current Loss: 16.1588 Best Split: feature_0 0.2561 4.1699\n",
      "07:54:11 tree INFO:Reached leaf node, or constraints force termination.  Returning\n",
      "07:54:11 tree INFO:Reached leaf node, or constraints force termination.  Returning\n",
      "07:54:11 tree INFO:Training.  Depth 7 Current Loss: 13.7024 Best Split: feature_50 0.1033 3.6868\n",
      "07:54:11 tree INFO:Reached leaf node, or constraints force termination.  Returning\n",
      "07:54:11 tree INFO:Reached leaf node, or constraints force termination.  Returning\n",
      "07:54:12 tree INFO:Training.  Depth 6 Current Loss: 12.0348 Best Split: feature_93 -0.3636 4.1552\n",
      "07:54:12 tree INFO:Training.  Depth 7 Current Loss: 15.6982 Best Split: feature_0 0.2548 3.9761\n",
      "07:54:12 tree INFO:Reached leaf node, or constraints force termination.  Returning\n",
      "07:54:12 tree INFO:Reached leaf node, or constraints force termination.  Returning\n",
      "07:54:12 tree INFO:Training.  Depth 7 Current Loss: 10.0088 Best Split: feature_96 -0.5597 3.0955\n",
      "07:54:12 tree INFO:Reached leaf node, or constraints force termination.  Returning\n",
      "07:54:12 tree INFO:Reached leaf node, or constraints force termination.  Returning\n",
      "07:54:13 tree INFO:Training.  Depth 5 Current Loss: 14.8683 Best Split: feature_62 0.0564 5.7508\n",
      "07:54:13 tree INFO:Training.  Depth 6 Current Loss: 13.7465 Best Split: feature_62 -0.7803 4.5689\n",
      "07:54:13 tree INFO:Training.  Depth 7 Current Loss: 15.3940 Best Split: feature_1 0.2220 4.0373\n",
      "07:54:13 tree INFO:Reached leaf node, or constraints force termination.  Returning\n",
      "07:54:13 tree INFO:Reached leaf node, or constraints force termination.  Returning\n",
      "07:54:14 tree INFO:Training.  Depth 7 Current Loss: 12.2115 Best Split: feature_94 -0.0964 3.4278\n",
      "07:54:14 tree INFO:Reached leaf node, or constraints force termination.  Returning\n",
      "07:54:14 tree INFO:Reached leaf node, or constraints force termination.  Returning\n",
      "07:54:14 tree INFO:Training.  Depth 6 Current Loss: 15.9851 Best Split: feature_1 0.1437 5.1340\n",
      "07:54:14 tree INFO:Training.  Depth 7 Current Loss: 16.1588 Best Split: feature_0 -0.1314 4.1699\n",
      "07:54:14 tree INFO:Reached leaf node, or constraints force termination.  Returning\n",
      "07:54:14 tree INFO:Reached leaf node, or constraints force termination.  Returning\n",
      "07:54:14 tree INFO:Training.  Depth 7 Current Loss: 15.4229 Best Split: feature_2 -0.0172 4.0784\n",
      "07:54:14 tree INFO:Reached leaf node, or constraints force termination.  Returning\n",
      "07:54:14 tree INFO:Reached leaf node, or constraints force termination.  Returning\n",
      "07:54:15 tree INFO:Training.  Depth 3 Current Loss: 15.3163 Best Split: feature_14 3.0546 7.7101\n",
      "07:54:16 tree INFO:Training.  Depth 4 Current Loss: 14.7462 Best Split: feature_83 -0.0388 6.6102\n",
      "07:54:16 tree INFO:Training.  Depth 5 Current Loss: 15.5000 Best Split: feature_99 0.0849 5.9246\n",
      "07:54:17 tree INFO:Training.  Depth 6 Current Loss: 14.5500 Best Split: feature_24 -0.2053 4.7856\n",
      "07:54:17 tree INFO:Training.  Depth 7 Current Loss: 15.7879 Best Split: feature_0 0.1945 4.1435\n",
      "07:54:17 tree INFO:Reached leaf node, or constraints force termination.  Returning\n",
      "07:54:17 tree INFO:Reached leaf node, or constraints force termination.  Returning\n",
      "07:54:17 tree INFO:Training.  Depth 7 Current Loss: 13.2094 Best Split: feature_75 -0.1478 3.6278\n",
      "07:54:17 tree INFO:Reached leaf node, or constraints force termination.  Returning\n",
      "07:54:17 tree INFO:Reached leaf node, or constraints force termination.  Returning\n",
      "07:54:17 tree INFO:Training.  Depth 6 Current Loss: 16.3921 Best Split: feature_0 -0.0287 5.1811\n"
     ]
    },
    {
     "name": "stderr",
     "output_type": "stream",
     "text": [
      "07:54:17 tree INFO:Training.  Depth 7 Current Loss: 16.1824 Best Split: feature_0 -0.5205 4.1435\n",
      "07:54:17 tree INFO:Reached leaf node, or constraints force termination.  Returning\n",
      "07:54:17 tree INFO:Reached leaf node, or constraints force termination.  Returning\n",
      "07:54:18 tree INFO:Training.  Depth 7 Current Loss: 16.1588 Best Split: feature_0 0.6038 4.1699\n",
      "07:54:18 tree INFO:Reached leaf node, or constraints force termination.  Returning\n",
      "07:54:18 tree INFO:Reached leaf node, or constraints force termination.  Returning\n",
      "07:54:18 tree INFO:Training.  Depth 5 Current Loss: 14.0655 Best Split: feature_29 0.0332 5.5166\n",
      "07:54:19 tree INFO:Training.  Depth 6 Current Loss: 14.9038 Best Split: feature_18 -0.5595 4.8904\n",
      "07:54:19 tree INFO:Training.  Depth 7 Current Loss: 15.7879 Best Split: feature_1 -0.4542 4.1435\n",
      "07:54:19 tree INFO:Reached leaf node, or constraints force termination.  Returning\n",
      "07:54:19 tree INFO:Reached leaf node, or constraints force termination.  Returning\n",
      "07:54:19 tree INFO:Training.  Depth 7 Current Loss: 13.8237 Best Split: feature_45 -0.0610 3.7740\n",
      "07:54:19 tree INFO:Reached leaf node, or constraints force termination.  Returning\n",
      "07:54:19 tree INFO:Reached leaf node, or constraints force termination.  Returning\n",
      "07:54:19 tree INFO:Training.  Depth 6 Current Loss: 13.1802 Best Split: feature_94 0.0751 4.4293\n",
      "07:54:20 tree INFO:Training.  Depth 7 Current Loss: 11.7688 Best Split: feature_70 -0.5765 3.3442\n",
      "07:54:20 tree INFO:Reached leaf node, or constraints force termination.  Returning\n",
      "07:54:20 tree INFO:Reached leaf node, or constraints force termination.  Returning\n",
      "07:54:20 tree INFO:Training.  Depth 7 Current Loss: 14.6981 Best Split: feature_3 -0.0856 3.9101\n",
      "07:54:20 tree INFO:Reached leaf node, or constraints force termination.  Returning\n",
      "07:54:20 tree INFO:Reached leaf node, or constraints force termination.  Returning\n",
      "07:54:20 tree INFO:Training.  Depth 4 Current Loss: 15.9107 Best Split: feature_39 -2.0097 6.9739\n",
      "07:54:21 tree INFO:Training.  Depth 5 Current Loss: 16.4947 Best Split: feature_0 0.2121 6.1898\n",
      "07:54:21 tree INFO:Training.  Depth 6 Current Loss: 16.3802 Best Split: feature_0 -0.5496 5.1699\n",
      "07:54:21 tree INFO:Training.  Depth 7 Current Loss: 16.1464 Best Split: feature_0 -1.0694 4.1298\n",
      "07:54:21 tree INFO:Reached leaf node, or constraints force termination.  Returning\n",
      "07:54:21 tree INFO:Reached leaf node, or constraints force termination.  Returning\n",
      "07:54:21 tree INFO:Training.  Depth 7 Current Loss: 16.1464 Best Split: feature_0 -0.2526 4.1298\n",
      "07:54:21 tree INFO:Reached leaf node, or constraints force termination.  Returning\n",
      "07:54:21 tree INFO:Reached leaf node, or constraints force termination.  Returning\n",
      "07:54:22 tree INFO:Training.  Depth 6 Current Loss: 16.3802 Best Split: feature_0 0.7280 5.1699\n",
      "07:54:22 tree INFO:Training.  Depth 7 Current Loss: 16.1464 Best Split: feature_0 0.4487 4.1298\n",
      "07:54:22 tree INFO:Reached leaf node, or constraints force termination.  Returning\n",
      "07:54:22 tree INFO:Reached leaf node, or constraints force termination.  Returning\n",
      "07:54:22 tree INFO:Training.  Depth 7 Current Loss: 16.1464 Best Split: feature_0 1.2466 4.1298\n",
      "07:54:22 tree INFO:Reached leaf node, or constraints force termination.  Returning\n",
      "07:54:22 tree INFO:Reached leaf node, or constraints force termination.  Returning\n",
      "07:54:22 tree INFO:Training.  Depth 5 Current Loss: 15.2733 Best Split: feature_23 1.3598 5.8296\n",
      "07:54:23 tree INFO:Training.  Depth 6 Current Loss: 14.3119 Best Split: feature_12 -0.1760 4.6793\n",
      "07:54:23 tree INFO:Training.  Depth 7 Current Loss: 15.3638 Best Split: feature_0 0.1333 3.9959\n",
      "07:54:23 tree INFO:Reached leaf node, or constraints force termination.  Returning\n",
      "07:54:23 tree INFO:Reached leaf node, or constraints force termination.  Returning\n",
      "07:54:23 tree INFO:Training.  Depth 7 Current Loss: 13.1337 Best Split: feature_85 -0.6211 3.5787\n",
      "07:54:23 tree INFO:Reached leaf node, or constraints force termination.  Returning\n",
      "07:54:23 tree INFO:Reached leaf node, or constraints force termination.  Returning\n",
      "07:54:23 tree INFO:Training.  Depth 6 Current Loss: 16.1678 Best Split: feature_0 0.1665 5.1210\n",
      "07:54:23 tree INFO:Training.  Depth 7 Current Loss: 15.7454 Best Split: feature_0 -0.5250 4.0622\n",
      "07:54:23 tree INFO:Reached leaf node, or constraints force termination.  Returning\n",
      "07:54:23 tree INFO:Reached leaf node, or constraints force termination.  Returning\n",
      "07:54:24 tree INFO:Training.  Depth 7 Current Loss: 16.1464 Best Split: feature_0 0.7346 4.1298\n",
      "07:54:24 tree INFO:Reached leaf node, or constraints force termination.  Returning\n",
      "07:54:24 tree INFO:Reached leaf node, or constraints force termination.  Returning\n"
     ]
    }
   ],
   "source": [
    "gtree.tree_logger.setLevel(logging.INFO)\n",
    "tree, leaf_map = gtree.train_greedy_tree(features, targets, loss='cross_entropy', max_depth=8)"
   ]
  },
  {
   "cell_type": "code",
   "execution_count": null,
   "metadata": {
    "scrolled": true
   },
   "outputs": [],
   "source": [
    "#gtree.cross_entropy_loss(targets[features.feature_45 < .2326])"
   ]
  },
  {
   "cell_type": "code",
   "execution_count": null,
   "metadata": {},
   "outputs": [],
   "source": [
    "#gtree._single_variable_best_split(features, 'feature_45', targets, None, None, None)"
   ]
  },
  {
   "cell_type": "code",
   "execution_count": null,
   "metadata": {
    "scrolled": true
   },
   "outputs": [],
   "source": [
    "tree.prn()"
   ]
  },
  {
   "cell_type": "code",
   "execution_count": null,
   "metadata": {},
   "outputs": [],
   "source": [
    "set(pd.Series([1, 2, 3]))"
   ]
  },
  {
   "cell_type": "code",
   "execution_count": null,
   "metadata": {
    "scrolled": false
   },
   "outputs": [],
   "source": [
    "tree.predict(features, leaf_map)"
   ]
  },
  {
   "cell_type": "code",
   "execution_count": null,
   "metadata": {},
   "outputs": [],
   "source": [
    "results = pd.DataFrame({'truth': targets, 'prediction': tree.predict(features, leaf_map)})"
   ]
  },
  {
   "cell_type": "code",
   "execution_count": null,
   "metadata": {},
   "outputs": [],
   "source": [
    "1.0 - gtree.error_rate_loss(results.prediction, results.truth) / len(targets)"
   ]
  },
  {
   "cell_type": "code",
   "execution_count": null,
   "metadata": {},
   "outputs": [],
   "source": [
    "results.plot(kind='scatter', x='prediction', y='truth')"
   ]
  },
  {
   "cell_type": "code",
   "execution_count": null,
   "metadata": {
    "scrolled": false
   },
   "outputs": [],
   "source": [
    "fig = plt.figure(figsize=(12,8))\n",
    "\n",
    "for label, grp in tree.predict(features, leaf_map).groupby(targets):\n",
    "    grp.hist(normed=True, alpha=0.5, label=str(label)) #, label=label)\n",
    "plt.legend(loc='best')\n",
    "None"
   ]
  },
  {
   "cell_type": "markdown",
   "metadata": {},
   "source": [
    "# Compare Methods"
   ]
  },
  {
   "cell_type": "code",
   "execution_count": 42,
   "metadata": {},
   "outputs": [],
   "source": [
    "features, targets = tools.make_random_classification(5000)\n",
    "features = pd.DataFrame(features, dtype=np.float32)\n",
    "targets = pd.Series(targets, dtype=np.float32)\n",
    "\n",
    "features_validation = features.sample(frac=.3)\n",
    "targets_validation = targets.loc[features_validation.index]\n",
    "\n",
    "features = features[~features.index.isin(features_validation.index)]\n",
    "targets = targets.loc[features.index]"
   ]
  },
  {
   "cell_type": "code",
   "execution_count": null,
   "metadata": {},
   "outputs": [],
   "source": [
    "%pdb off"
   ]
  },
  {
   "cell_type": "code",
   "execution_count": null,
   "metadata": {
    "scrolled": false
   },
   "outputs": [
    {
     "name": "stderr",
     "output_type": "stream",
     "text": [
      "08:13:23 evolution DEBUG:Growing Seed: 1 of 2\n",
      "08:13:28 evolution DEBUG:Growing Seed: 2 of 2\n",
      "08:13:34 evolution DEBUG:Resplitting the data\n",
      "08:13:34 evolution DEBUG:Mating to create 200 children\n",
      "08:13:47 evolution DEBUG:Surviving Generation: 1:7.8922, 1:7.9039, 1:7.9091, 1:7.9109, 1:7.9120, 1:7.9121, 1:7.9121, 1:7.9123, 1:7.9124, 1:7.9124\n",
      "08:13:47 evolution INFO:Generation 0 Training Loss: 8.4223 Hold Out Loss 7.8922\n",
      "\n",
      "08:13:47 evolution DEBUG:Resplitting the data\n",
      "08:13:47 evolution DEBUG:Mating to create 200 children\n",
      "08:14:00 evolution DEBUG:Surviving Generation: 2:7.8846, 2:7.8882, 1:7.8882, 2:7.8882, 2:7.8923, 2:7.8992, 2:7.9006, 2:7.9012, 2:7.9020, 2:7.9022\n",
      "08:14:00 evolution INFO:Generation 1 Training Loss: 8.3367 Hold Out Loss 7.8846\n",
      "\n",
      "08:14:00 evolution DEBUG:Resplitting the data\n",
      "08:14:00 evolution DEBUG:Mating to create 200 children\n",
      "08:14:13 evolution DEBUG:Surviving Generation: 3:7.8955, 3:7.8982, 3:7.8989, 3:7.8990, 3:7.9014, 3:7.9029, 2:7.9031, 3:7.9037, 3:7.9047, 3:7.9048\n",
      "08:14:13 evolution INFO:Generation 2 Training Loss: 8.2520 Hold Out Loss 7.8955\n",
      "\n",
      "08:14:13 evolution DEBUG:Resplitting the data\n",
      "08:14:13 evolution DEBUG:Mating to create 200 children\n",
      "08:14:25 evolution DEBUG:Surviving Generation: 4:7.8780, 4:7.8796, 4:7.8833, 4:7.8861, 4:7.8874, 3:7.8880, 3:7.8884, 4:7.8888, 4:7.8888, 2:7.8888\n",
      "08:14:25 evolution INFO:Generation 3 Training Loss: 8.2070 Hold Out Loss 7.8780\n",
      "\n",
      "08:14:25 evolution DEBUG:Resplitting the data\n",
      "08:14:25 evolution DEBUG:Mating to create 200 children\n",
      "08:14:38 evolution DEBUG:Surviving Generation: 5:7.8956, 5:7.8962, 5:7.8965, 4:7.8971, 5:7.8973, 5:7.8978, 4:7.8981, 5:7.8984, 5:7.9009, 5:7.9019\n",
      "08:14:38 evolution INFO:Generation 4 Training Loss: 8.4161 Hold Out Loss 7.8956\n",
      "\n",
      "08:14:38 evolution DEBUG:Resplitting the data\n",
      "08:14:38 evolution DEBUG:Mating to create 200 children\n",
      "08:14:50 evolution DEBUG:Surviving Generation: 6:7.8743, 6:7.8769, 6:7.8775, 5:7.8792, 6:7.8793, 6:7.8807, 5:7.8823, 6:7.8823, 6:7.8823, 4:7.8832\n",
      "08:14:50 evolution INFO:Generation 5 Training Loss: 8.1022 Hold Out Loss 7.8743\n",
      "\n",
      "08:14:50 evolution DEBUG:Resplitting the data\n",
      "08:14:50 evolution DEBUG:Mating to create 200 children\n",
      "08:15:03 evolution DEBUG:Surviving Generation: 7:7.8607, 6:7.8693, 6:7.8711, 7:7.8724, 5:7.8759, 7:7.8781, 7:7.8781, 5:7.8783, 6:7.8783, 6:7.8787\n",
      "08:15:03 evolution INFO:Generation 6 Training Loss: 8.3529 Hold Out Loss 7.8607\n",
      "\n",
      "08:15:03 evolution DEBUG:Resplitting the data\n",
      "08:15:03 evolution DEBUG:Mating to create 200 children\n",
      "08:15:16 evolution DEBUG:Surviving Generation: 7:7.8518, 5:7.8652, 7:7.8661, 7:7.8664, 8:7.8669, 8:7.8678, 6:7.8679, 7:7.8679, 6:7.8680, 6:7.8685\n",
      "08:15:16 evolution INFO:Generation 7 Training Loss: 8.2531 Hold Out Loss 7.8518\n",
      "\n",
      "08:15:16 evolution DEBUG:Resplitting the data\n",
      "08:15:16 evolution DEBUG:Mating to create 200 children\n",
      "08:15:30 evolution DEBUG:Surviving Generation: 7:7.8642, 8:7.8667, 9:7.8668, 9:7.8668, 6:7.8681, 7:7.8692, 9:7.8694, 8:7.8716, 8:7.8720, 8:7.8720\n",
      "08:15:30 evolution INFO:Generation 8 Training Loss: 8.3718 Hold Out Loss 7.8642\n",
      "\n",
      "08:15:30 evolution DEBUG:Resplitting the data\n",
      "08:15:30 evolution DEBUG:Mating to create 200 children\n",
      "08:15:43 evolution DEBUG:Surviving Generation: 7:7.8619, 8:7.8625, 9:7.8625, 9:7.8625, 6:7.8714, 8:7.8719, 9:7.8720, 10:7.8725, 7:7.8728, 9:7.8731\n",
      "08:15:43 evolution INFO:Generation 9 Training Loss: 8.1771 Hold Out Loss 7.8619\n",
      "\n",
      "08:15:43 evolution DEBUG:Resplitting the data\n",
      "08:15:43 evolution DEBUG:Mating to create 200 children\n",
      "08:15:57 evolution DEBUG:Surviving Generation: 7:7.8642, 8:7.8659, 10:7.8665, 9:7.8666, 8:7.8668, 9:7.8668, 9:7.8669, 9:7.8669, 11:7.8669, 11:7.8669\n",
      "08:15:57 evolution INFO:Generation 10 Training Loss: 8.2842 Hold Out Loss 7.8642\n",
      "\n",
      "08:15:57 evolution DEBUG:Resplitting the data\n",
      "08:15:57 evolution DEBUG:Mating to create 200 children\n",
      "08:16:10 evolution DEBUG:Surviving Generation: 10:7.8713, 8:7.8716, 11:7.8717, 9:7.8717, 9:7.8717, 11:7.8717, 9:7.8718, 7:7.8727, 9:7.8739, 10:7.8774\n",
      "08:16:10 evolution INFO:Generation 11 Training Loss: 8.3540 Hold Out Loss 7.8713\n",
      "\n",
      "08:16:10 evolution DEBUG:Resplitting the data\n",
      "08:16:10 evolution DEBUG:Mating to create 200 children\n",
      "08:16:22 evolution DEBUG:Surviving Generation: 12:7.8561, 7:7.8601, 9:7.8605, 9:7.8605, 10:7.8606, 11:7.8606, 9:7.8606, 9:7.8606, 11:7.8606, 11:7.8606\n",
      "08:16:22 evolution INFO:Generation 12 Training Loss: 8.3546 Hold Out Loss 7.8561\n",
      "\n",
      "08:16:22 evolution DEBUG:Resplitting the data\n",
      "08:16:22 evolution DEBUG:Mating to create 200 children\n",
      "08:16:35 evolution DEBUG:Surviving Generation: 12:7.8742, 12:7.8817, 10:7.8837, 13:7.8844, 11:7.8849, 13:7.8849, 10:7.8858, 9:7.8859, 9:7.8862, 9:7.8862\n",
      "08:16:35 evolution INFO:Generation 13 Training Loss: 8.3208 Hold Out Loss 7.8742\n",
      "\n",
      "08:16:35 evolution DEBUG:Resplitting the data\n",
      "08:16:35 evolution DEBUG:Mating to create 200 children\n"
     ]
    }
   ],
   "source": [
    "gtree.tree_logger.setLevel(logging.WARNING)\n",
    "\n",
    "result, generations = gtree.evolve(features, targets,\n",
    "                                   loss='cross_entropy',\n",
    "                                   max_depth=3, min_to_split=10,\n",
    "                                   num_generations=15, num_survivors=10,\n",
    "                                   num_children=200, num_seed_trees=2)\n"
   ]
  },
  {
   "cell_type": "code",
   "execution_count": null,
   "metadata": {
    "scrolled": false
   },
   "outputs": [],
   "source": [
    "leaf_map = gtree.calculate_leaf_map(result['tree'], features, targets, gtree.leaf_good_rate_split_builder)\n",
    "\n",
    "print gtree.error_rate_loss(result['tree'].predict(features_validation, leaf_map), targets_validation)"
   ]
  },
  {
   "cell_type": "code",
   "execution_count": null,
   "metadata": {},
   "outputs": [],
   "source": [
    "generations[-1]['best_of_generation']['tree'].find_leaves(features).value_counts()"
   ]
  },
  {
   "cell_type": "code",
   "execution_count": null,
   "metadata": {
    "scrolled": true
   },
   "outputs": [],
   "source": [
    "for gen in generations[-1]['generation']:\n",
    "    print '--------------------{:.4f}----------------------------'.format(gen['loss_testing'])\n",
    "    gen['tree'].prn()"
   ]
  },
  {
   "cell_type": "code",
   "execution_count": null,
   "metadata": {
    "scrolled": true
   },
   "outputs": [],
   "source": [
    "for result in generations[-1]['generation']:\n",
    "    print '---------------------------------------------'\n",
    "    result['tree'].prn()"
   ]
  },
  {
   "cell_type": "code",
   "execution_count": null,
   "metadata": {},
   "outputs": [],
   "source": [
    "result = gtree.train_random_trees(features, targets, loss_fn=gtree.error_rate_loss,\n",
    "                                  max_depth=2,\n",
    "                                  min_to_split=10,\n",
    "                                  num_trees=10)"
   ]
  },
  {
   "cell_type": "code",
   "execution_count": null,
   "metadata": {},
   "outputs": [],
   "source": [
    "leaf_map = gtree.calculate_leaf_map(result['tree'], features, targets, gtree.leaf_good_rate_split_builder)\n",
    "\n",
    "print gtree.error_rate_loss(result['tree'].predict(features_validation, leaf_map), targets_validation)"
   ]
  },
  {
   "cell_type": "code",
   "execution_count": null,
   "metadata": {},
   "outputs": [],
   "source": [
    "from sklearn import tree\n",
    "from sklearn.model_selection import train_test_split\n",
    "\n",
    "clf = tree.DecisionTreeClassifier(max_depth=2)\n",
    "clf = clf.fit(features, targets)"
   ]
  },
  {
   "cell_type": "code",
   "execution_count": null,
   "metadata": {},
   "outputs": [],
   "source": [
    "predictions = pd.Series(clf.predict_proba(features_validation)[:, 1], index=features_validation.index)\n",
    "gtree.error_rate_loss(predictions, targets_validation)"
   ]
  },
  {
   "cell_type": "code",
   "execution_count": null,
   "metadata": {},
   "outputs": [],
   "source": [
    "from sklearn.externals.six import StringIO  \n",
    "from sklearn import tree as sklearn_tree\n",
    "import pydot \n",
    "dot_data = StringIO() \n",
    "sklearn_tree.export_graphviz(clf, out_file=dot_data) \n",
    "graph = pydot.graph_from_dot_data(dot_data.getvalue()) \n",
    "graph.write_pdf(\"iris.pdf\") "
   ]
  },
  {
   "cell_type": "code",
   "execution_count": null,
   "metadata": {},
   "outputs": [],
   "source": [
    "%alias_magic t timeit"
   ]
  },
  {
   "cell_type": "code",
   "execution_count": null,
   "metadata": {},
   "outputs": [],
   "source": [
    "sel = features[features['feature_3'] < 0].index"
   ]
  },
  {
   "cell_type": "code",
   "execution_count": null,
   "metadata": {},
   "outputs": [],
   "source": [
    "sel"
   ]
  },
  {
   "cell_type": "code",
   "execution_count": null,
   "metadata": {},
   "outputs": [],
   "source": [
    "%t features.loc[sel]"
   ]
  },
  {
   "cell_type": "code",
   "execution_count": null,
   "metadata": {},
   "outputs": [],
   "source": [
    "%t df.reindex_axis(sel, copy=False)"
   ]
  },
  {
   "cell_type": "code",
   "execution_count": null,
   "metadata": {},
   "outputs": [],
   "source": [
    "# BC Dataset"
   ]
  },
  {
   "cell_type": "code",
   "execution_count": null,
   "metadata": {},
   "outputs": [],
   "source": [
    "bc_info = datasets.load_breast_cancer()\n",
    "features = pd.DataFrame(bc_info['data'])\n",
    "target = pd.Series(bc_info['target']).dropna()\n",
    "features = features.loc[target.index]"
   ]
  },
  {
   "cell_type": "code",
   "execution_count": null,
   "metadata": {},
   "outputs": [],
   "source": [
    "target.value_counts(dropna=False)"
   ]
  },
  {
   "cell_type": "code",
   "execution_count": null,
   "metadata": {},
   "outputs": [],
   "source": [
    "%pdb off"
   ]
  },
  {
   "cell_type": "code",
   "execution_count": null,
   "metadata": {},
   "outputs": [],
   "source": [
    "gtree.tree_logger.setLevel(logging.WARNING)\n"
   ]
  },
  {
   "cell_type": "code",
   "execution_count": null,
   "metadata": {
    "scrolled": true
   },
   "outputs": [],
   "source": [
    "gtree.tree_logger.setLevel(logging.WARNING)\n",
    "\n",
    "result, generations = gtree.evolve(features, target,\n",
    "                                   loss_fn=gtree.cross_entropy_loss,\n",
    "                                   max_depth=3, min_to_split=10,\n",
    "                                   num_generations=30, num_survivors=10,\n",
    "                                   num_children=50, num_seed_trees=5)"
   ]
  },
  {
   "cell_type": "code",
   "execution_count": null,
   "metadata": {},
   "outputs": [],
   "source": []
  },
  {
   "cell_type": "code",
   "execution_count": null,
   "metadata": {},
   "outputs": [],
   "source": []
  },
  {
   "cell_type": "code",
   "execution_count": null,
   "metadata": {},
   "outputs": [],
   "source": [
    "X = np.array([[1, 2, 3], [4, 5, 6]])\n",
    "Y = X[0:2]"
   ]
  },
  {
   "cell_type": "code",
   "execution_count": null,
   "metadata": {},
   "outputs": [],
   "source": [
    "type(X)"
   ]
  },
  {
   "cell_type": "code",
   "execution_count": null,
   "metadata": {},
   "outputs": [],
   "source": [
    "id(Y.data)"
   ]
  },
  {
   "cell_type": "code",
   "execution_count": null,
   "metadata": {},
   "outputs": [],
   "source": [
    "[1, 2, 3][0:3]"
   ]
  },
  {
   "cell_type": "code",
   "execution_count": null,
   "metadata": {},
   "outputs": [],
   "source": []
  },
  {
   "cell_type": "code",
   "execution_count": null,
   "metadata": {},
   "outputs": [],
   "source": []
  },
  {
   "cell_type": "code",
   "execution_count": null,
   "metadata": {},
   "outputs": [],
   "source": [
    "X = np.array([[1, 2, 3], [4, 5, 6], [7, 8, 9]])\n",
    "X"
   ]
  },
  {
   "cell_type": "code",
   "execution_count": null,
   "metadata": {},
   "outputs": [],
   "source": [
    "fns = {0: lambda x: (x[:,0] + x[:,1] + x[:,2]).reshape(len(x), 1), 1: lambda x: (-1*x[:,0]).reshape(len(x), 1)}\n",
    "\n",
    "hashes = np.array([[0], [1], [0]])\n",
    "hashes"
   ]
  },
  {
   "cell_type": "code",
   "execution_count": null,
   "metadata": {},
   "outputs": [],
   "source": [
    "predictions = np.zeros((len(X), 1))\n",
    "predictions"
   ]
  },
  {
   "cell_type": "code",
   "execution_count": null,
   "metadata": {},
   "outputs": [],
   "source": [
    "zero = np.zeros((len(X), 1))\n",
    "\n",
    "for i in [0, 1]:\n",
    "    #comparison = np.full((len(X), 1), i)\n",
    "    predictions[hashes.reshape(len(X))==i] = fns[i](X[hashes.reshape(len(X))==i, :]) # += np.where(hashes==i, fns[i](X), zero)\n",
    "    \n",
    "predictions"
   ]
  },
  {
   "cell_type": "code",
   "execution_count": null,
   "metadata": {},
   "outputs": [],
   "source": [
    "X[hashes==comparison, :]"
   ]
  },
  {
   "cell_type": "code",
   "execution_count": null,
   "metadata": {},
   "outputs": [],
   "source": [
    "X[:,0].reshape(3, 1)"
   ]
  },
  {
   "cell_type": "code",
   "execution_count": null,
   "metadata": {},
   "outputs": [],
   "source": [
    "X[hashes==np.array([1]).reshape((len(X), 1))]"
   ]
  },
  {
   "cell_type": "code",
   "execution_count": null,
   "metadata": {},
   "outputs": [],
   "source": [
    "hashes==1"
   ]
  },
  {
   "cell_type": "code",
   "execution_count": null,
   "metadata": {},
   "outputs": [],
   "source": [
    "X[np.array([True, False, True]), :]"
   ]
  }
 ],
 "metadata": {
  "kernelspec": {
   "display_name": "Python 2",
   "language": "python",
   "name": "python2"
  },
  "language_info": {
   "codemirror_mode": {
    "name": "ipython",
    "version": 2
   },
   "file_extension": ".py",
   "mimetype": "text/x-python",
   "name": "python",
   "nbconvert_exporter": "python",
   "pygments_lexer": "ipython2",
   "version": "2.7.11"
  }
 },
 "nbformat": 4,
 "nbformat_minor": 2
}
