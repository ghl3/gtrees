{
 "cells": [
  {
   "cell_type": "code",
   "execution_count": 1,
   "metadata": {},
   "outputs": [],
   "source": [
    "from __future__ import division"
   ]
  },
  {
   "cell_type": "code",
   "execution_count": 2,
   "metadata": {},
   "outputs": [],
   "source": [
    "import sys\n",
    "sys.path.append('..')"
   ]
  },
  {
   "cell_type": "code",
   "execution_count": 3,
   "metadata": {},
   "outputs": [],
   "source": [
    "import math\n",
    "import random\n",
    "import numpy as np\n",
    "import pandas as pd"
   ]
  },
  {
   "cell_type": "code",
   "execution_count": 4,
   "metadata": {},
   "outputs": [],
   "source": [
    "from sklearn import datasets"
   ]
  },
  {
   "cell_type": "code",
   "execution_count": 5,
   "metadata": {},
   "outputs": [],
   "source": [
    "import matplotlib.pyplot as plt\n",
    "%matplotlib inline"
   ]
  },
  {
   "cell_type": "code",
   "execution_count": 6,
   "metadata": {},
   "outputs": [],
   "source": [
    "%load_ext autoreload\n",
    "%autoreload 1\n",
    "\n",
    "%aimport gtree\n",
    "%aimport tools"
   ]
  },
  {
   "cell_type": "code",
   "execution_count": 7,
   "metadata": {},
   "outputs": [],
   "source": [
    "import logging\n",
    "%config Application.log_level=\"INFO\"\n",
    "logging.basicConfig(format='%(asctime)s %(name)s %(levelname)s:%(message)s', level=logging.DEBUG, datefmt='%I:%M:%S')"
   ]
  },
  {
   "cell_type": "markdown",
   "metadata": {},
   "source": [
    "## Goals:\n",
    "\n",
    "### Separate the structure of a tree from the data of a tree.  In other words,\n",
    "  fitting a tree does two things: It creates the structure of a tree and it\n",
    "  creates a mapping of each leaf to a value.  Lookup therefore requires both\n",
    "  finding the leaf node AND using the map to lookup the value.\n",
    "  \n",
    "### The loss function optimized by the tree is configurable, as is the leaf\n"
   ]
  },
  {
   "cell_type": "markdown",
   "metadata": {},
   "source": [
    "## Terms:\n",
    "\n",
    "### Tree\n",
    "A Tree is an object that takes input data and determines what leaf it ends up in.  Unlike many tree implementations, the Tree itself doesn't store data about the value of a leaf.  That is stored externally.\n",
    "\n",
    "\n",
    "### loss_fn\n",
    "A loss_fn is a function that takes data rows, the predicted targets for those rows, and the actual targets for those rows, and returns a single value that determines the \"LOSS\" or \"COST\" of that prediction (lower cost/loss is better)\n",
    "\n",
    "```\n",
    "def loss_fn(predicted_targets, actual_targets) -> float\n",
    "```\n",
    "\n",
    "A loss function must be additive (so, one should not apply a mean as a part of it)\n",
    "\n",
    "### leaf_prediction_fn\n",
    "A leaf_prediction_fn is a function which takes the features and actual targets that end up in a leaf and returns a Series of the predictions for each row ending up in that leaf.  It is typically a constant function whose value is either the mean good rate in that leaf (among the actual targets) or the median target, but can be anything else\n",
    "\n",
    "```\n",
    "def leaf_prediction_fn(features) -> pd.Series\n",
    "```\n",
    "\n",
    "\n",
    "### leaf_prediction_builder\n",
    "A leaf_prediction_builder is a function which takes the features and actual targets that end up in a TRANING leaf and returns a leaf_prediction_fn.  This leaf_prediction_fn is used to predict the value of testing rows that end up in the same leaf.\n",
    "\n",
    "```\n",
    "def leaf_prediction_builder(features, actual_targets) -> leaf_prediction_fn\n",
    "```\n",
    "\n",
    "\n",
    "### leaf_prediction_map\n",
    "A leaf_prediction_map is a map of leaf ids (eg their hash) to the leaf_prediction_fn for that leaf.  One can only use a tree to score data if one has a leaf_prediction_map.  This design allows on to use the same tree as a subset of another tree without having their leaf values become entangled."
   ]
  },
  {
   "cell_type": "markdown",
   "metadata": {},
   "source": [
    "--------------"
   ]
  },
  {
   "cell_type": "markdown",
   "metadata": {},
   "source": [
    "## Test Tree Manipulation Functions"
   ]
  },
  {
   "cell_type": "code",
   "execution_count": null,
   "metadata": {},
   "outputs": [],
   "source": [
    "%pdb off"
   ]
  },
  {
   "cell_type": "code",
   "execution_count": null,
   "metadata": {},
   "outputs": [],
   "source": [
    "t = gtree.BranchNode('A', 0.5, None, None)\n",
    "t.left = gtree.LeafNode()\n",
    "t.right = gtree.BranchNode('B', 0.9, None, None)\n",
    "t.right.left = gtree.LeafNode()\n",
    "t.right.right = gtree.LeafNode()\n",
    "\n",
    "o = gtree.BranchNode('C', 0.1, None, None)\n",
    "o.left = gtree.LeafNode()\n",
    "o.right = gtree.LeafNode()\n",
    "\n",
    "t.prn()\n",
    "print '\\n\\n'\n",
    "o.prn()"
   ]
  },
  {
   "cell_type": "code",
   "execution_count": null,
   "metadata": {},
   "outputs": [],
   "source": [
    "u = gtree.replace_branch_split(t, t.right, o)\n",
    "u.prn()\n",
    "print '\\n\\n'\n",
    "t.prn()"
   ]
  },
  {
   "cell_type": "code",
   "execution_count": null,
   "metadata": {},
   "outputs": [],
   "source": [
    "v = gtree.replace_node(t, t.left, o)\n",
    "v.prn()\n",
    "print '\\n\\n'\n",
    "t.prn()"
   ]
  },
  {
   "cell_type": "code",
   "execution_count": null,
   "metadata": {},
   "outputs": [],
   "source": [
    "t = gtree.BranchNode('A', 0.5, None, None)\n",
    "t.left = gtree.LeafNode()\n",
    "t.right = gtree.BranchNode('B', 0.9, None, None)\n",
    "t.right.left = gtree.LeafNode()\n",
    "t.right.right = gtree.BranchNode('C', 0.9, None, None)\n",
    "t.right.right.right = gtree.LeafNode()\n",
    "t.right.right.left = gtree.LeafNode()\n",
    "\n",
    "t.prn()\n",
    "print '\\n\\n'\n",
    "gtree.prune(t, 2).prn()\n",
    "print '\\n\\n'\n",
    "t.prn()"
   ]
  },
  {
   "cell_type": "code",
   "execution_count": null,
   "metadata": {},
   "outputs": [],
   "source": [
    "data = pd.DataFrame({'A': [0.1, 10, .02],\n",
    "                     'B': [10, 20, 30]},\n",
    "                    index=['foo', 'bar', 'baz'])"
   ]
  },
  {
   "cell_type": "code",
   "execution_count": null,
   "metadata": {},
   "outputs": [],
   "source": [
    "def leaf_count_fn(val):\n",
    "    return lambda df: pd.Series([val for _ in range(len(df))], index=df.index)"
   ]
  },
  {
   "cell_type": "code",
   "execution_count": null,
   "metadata": {},
   "outputs": [],
   "source": [
    "t = gtree.BranchNode('A', 0.5, None, None)\n",
    "t.left = gtree.LeafNode() #'A', 0.5, 10, 20)\n",
    "t.right = gtree.LeafNode() #'A', 0.5, 100, 0)\n",
    "\n",
    "leaf_map = {hash(t.left): leaf_count_fn(10),\n",
    "            hash(t.right): leaf_count_fn(20)}\n",
    "\n",
    "t.predict(data, leaf_map)"
   ]
  },
  {
   "cell_type": "code",
   "execution_count": null,
   "metadata": {},
   "outputs": [],
   "source": [
    "# Create a split on a DataFrame\n",
    "\n",
    "df = pd.DataFrame({'foo': pd.Series([1, 2, 3, 4, 5, 6, 7, 8, 9, 10])})\n",
    "\n",
    "gtree._single_variable_best_split(\n",
    "    df,\n",
    "    'foo',\n",
    "    pd.Series([0, 0, 1, 0, 0, 1, 1, 0, 1, 1]),\n",
    "    gtree.error_rate_loss,\n",
    "    gtree.leaf_good_rate_prediction_builder)"
   ]
  },
  {
   "cell_type": "code",
   "execution_count": null,
   "metadata": {},
   "outputs": [],
   "source": [
    "threshold = 0.5\n",
    "truth     = pd.Series([1, 0, 1])\n",
    "predicted = pd.Series([0, 1, 0])\n",
    "\n",
    "gtree.error_rate_loss(truth, predicted)\n",
    "\n",
    "\n",
    "1.0 - ((predicted >= threshold) == truth).mean() #+ (predicted < threshold) * (1 - truth)"
   ]
  },
  {
   "cell_type": "markdown",
   "metadata": {},
   "source": [
    "# Test Split Finding"
   ]
  },
  {
   "cell_type": "code",
   "execution_count": null,
   "metadata": {},
   "outputs": [],
   "source": [
    "df = pd.DataFrame({'A': [1, 2, 3, 4, 5, 6, 7, 8, 9, 10, 11, 12],\n",
    "                   'B': [10, 20, 50, 30, 40, 50, 60, 50, 70, 90, 100, 110 ]})\n",
    "target = pd.Series([0, 0, 1, 0, 0, 1, 1, 0, 1, 1, 0, 0])\n",
    "\n",
    "tree, leaf_map = gtree.train_greedy_tree(df, target, loss_fn=gtree.error_rate_loss)\n",
    "\n",
    "print '\\nTree:\\n'\n",
    "tree.prn()\n",
    "\n",
    "print leaf_map"
   ]
  },
  {
   "cell_type": "code",
   "execution_count": null,
   "metadata": {},
   "outputs": [],
   "source": [
    "gtree.calculate_leaf_map(tree, df, target)"
   ]
  },
  {
   "cell_type": "code",
   "execution_count": null,
   "metadata": {},
   "outputs": [],
   "source": [
    "gtree.random_node(tree)"
   ]
  },
  {
   "cell_type": "code",
   "execution_count": null,
   "metadata": {},
   "outputs": [],
   "source": [
    "print gtree.get_all_nodes(tree)"
   ]
  },
  {
   "cell_type": "code",
   "execution_count": null,
   "metadata": {},
   "outputs": [],
   "source": [
    "df = pd.DataFrame({'A': [1, 2, 3, 4, 5, 6, 7, 8, 9, 10, 11, 12],\n",
    "                   'B': [10, 20, 50, 30, 40, 50, 60, 50, 70, 90, 100, 110 ]})\n",
    "target = pd.Series([0, 0, 1, 0, 0, 1, 1, 0, 1, 1, 0, 0])"
   ]
  },
  {
   "cell_type": "code",
   "execution_count": null,
   "metadata": {},
   "outputs": [],
   "source": [
    "gtree._np_single_variable_best_split(df,'B', target, \n",
    "                                     gtree.error_rate_loss,\n",
    "                                     gtree.leaf_good_rate_prediction_builder)"
   ]
  },
  {
   "cell_type": "code",
   "execution_count": null,
   "metadata": {
    "scrolled": false
   },
   "outputs": [],
   "source": [
    "tree, leaf_map = gtree.train_greedy_tree(df, target, loss_fn=gtree.error_rate_loss,\n",
    "                                         feature_sample_rate=.5,\n",
    "                                         row_sample_rate=.5)\n",
    "\n",
    "print '\\nTree:\\n'\n",
    "tree.prn()\n",
    "\n",
    "print leaf_map"
   ]
  },
  {
   "cell_type": "code",
   "execution_count": null,
   "metadata": {},
   "outputs": [],
   "source": [
    "gtree.mate(tree, tree).prn()"
   ]
  },
  {
   "cell_type": "code",
   "execution_count": null,
   "metadata": {},
   "outputs": [],
   "source": [
    "#def make_hastie_sample(n_samples):\n",
    "#\n",
    "#    features, targets = datasets.make_hastie_10_2(n_samples=n_samples)\n",
    "#\n",
    "#    features = pd.DataFrame(features, columns=['feature_{}'.format(i) for i in range(features.shape[1])])\n",
    "#    targets = pd.Series(targets, name='target')\n",
    "#    targets = targets.map(lambda x: 1.0 if x > 0 else 0.0)\n",
    "#    return features, targets\n",
    "\n"
   ]
  },
  {
   "cell_type": "code",
   "execution_count": null,
   "metadata": {},
   "outputs": [],
   "source": [
    "#def make_kddcup(n_samples):\n",
    "#    \n",
    "#    features, targets = datasets.fetch_kddcup99(subset='smtp')\n",
    "#\n",
    "#    features = pd.DataFrame(features, columns=['feature_{}'.format(i) for i in range(features.shape[1])])\n",
    "#    targets = pd.Series(targets, name='target')\n",
    "#    targets = targets.map(lambda x: 1.0 if x > 0 else 0.0)\n",
    "#    \n",
    "#    features = featurse.sample(n=n_samples)\n",
    "#    \n",
    "#    return features, targets.loc[features.index]\n",
    "    \n",
    "\n",
    "#def make_random_classification(n_samples, n_features=100):\n",
    "       \n",
    "#    features, targets = datasets.make_classification(n_samples=n_samples,\n",
    "#                                                     n_features=n_features,\n",
    "#                                                     n_informative=8,\n",
    "#                                                     n_classes=2,\n",
    "#                                                     n_clusters_per_class=4)\n",
    "#                                                     \n",
    "#    features = pd.DataFrame(features, columns=['feature_{}'.format(i) for i in range(features.shape[1])])\n",
    "#    targets = pd.Series(targets, name='target')\n",
    "#    targets = targets.map(lambda x: 1.0 if x > 0 else 0.0)\n",
    "#        \n",
    "#    return features, targets.loc[features.index]"
   ]
  },
  {
   "cell_type": "markdown",
   "metadata": {},
   "source": [
    "# Start the Test Analysis Here"
   ]
  },
  {
   "cell_type": "code",
   "execution_count": 8,
   "metadata": {},
   "outputs": [],
   "source": [
    "\n",
    "#features, targets = make_hastie_sample(10000)\n",
    "features, targets = tools.make_random_classification(10000)"
   ]
  },
  {
   "cell_type": "code",
   "execution_count": 9,
   "metadata": {},
   "outputs": [
    {
     "data": {
      "text/plain": [
       "(10000, 100)"
      ]
     },
     "execution_count": 9,
     "metadata": {},
     "output_type": "execute_result"
    }
   ],
   "source": [
    "features.shape"
   ]
  },
  {
   "cell_type": "code",
   "execution_count": 10,
   "metadata": {},
   "outputs": [
    {
     "data": {
      "text/plain": [
       "0.0    5007\n",
       "1.0    4993\n",
       "Name: target, dtype: int64"
      ]
     },
     "execution_count": 10,
     "metadata": {},
     "output_type": "execute_result"
    }
   ],
   "source": [
    "targets.value_counts()"
   ]
  },
  {
   "cell_type": "code",
   "execution_count": 15,
   "metadata": {
    "scrolled": true
   },
   "outputs": [
    {
     "name": "stderr",
     "output_type": "stream",
     "text": [
      "02:48:59 tree INFO:Training.  Depth 0 Current Loss: 0.6931 Best Split: feature_45 0.2326 0.6538\n",
      "02:49:03 tree INFO:Training.  Depth 1 Current Loss: 0.6735 Best Split: feature_28 -0.1936 0.6074\n",
      "02:49:05 tree INFO:Training.  Depth 2 Current Loss: 0.6437 Best Split: feature_61 -4.7653 0.5756\n",
      "02:49:07 tree INFO:Training.  Depth 3 Current Loss: 0.2954 Best Split: feature_28 -2.5279 0.2640\n",
      "02:49:10 tree INFO:Training.  Depth 4 Current Loss: 0.0000 Best Split: feature_0 -0.5067 0.0000\n",
      "02:49:10 tree INFO:No split improves loss.  Returning\n",
      "02:49:12 tree INFO:Training.  Depth 4 Current Loss: 0.3723 Best Split: feature_11 -1.6206 0.3278\n",
      "02:49:12 tree INFO:Training.  Depth 5 Current Loss: 0.0000 Best Split: feature_0 -0.3654 0.0000\n",
      "02:49:12 tree INFO:No split improves loss.  Returning\n",
      "02:49:14 tree INFO:Training.  Depth 5 Current Loss: 0.3347 Best Split: feature_20 1.0410 0.3119\n",
      "02:49:15 tree INFO:Training.  Depth 6 Current Loss: 0.4518 Best Split: feature_51 -0.0126 0.4053\n",
      "02:49:18 tree INFO:Training.  Depth 7 Current Loss: 0.3716 Best Split: feature_61 -8.3589 0.3336\n",
      "02:49:18 tree INFO:Reached leaf node, or constraints force termination.  Returning\n",
      "02:49:18 tree INFO:Reached leaf node, or constraints force termination.  Returning\n",
      "02:49:19 tree INFO:Training.  Depth 7 Current Loss: 0.6925 Best Split: feature_20 -1.0730 0.4389\n",
      "02:49:19 tree INFO:Reached leaf node, or constraints force termination.  Returning\n",
      "02:49:19 tree INFO:Reached leaf node, or constraints force termination.  Returning\n",
      "02:49:20 tree INFO:Training.  Depth 6 Current Loss: 0.1732 Best Split: feature_71 0.5069 0.1383\n",
      "02:49:23 tree INFO:Training.  Depth 7 Current Loss: 0.0392 Best Split: feature_19 2.4262 0.0000\n",
      "02:49:23 tree INFO:No split improves loss.  Returning\n",
      "02:49:24 tree INFO:Training.  Depth 7 Current Loss: 0.3845 Best Split: feature_22 -0.5553 0.2740\n",
      "02:49:24 tree INFO:Reached leaf node, or constraints force termination.  Returning\n",
      "02:49:24 tree INFO:Reached leaf node, or constraints force termination.  Returning\n",
      "02:49:26 tree INFO:Training.  Depth 3 Current Loss: 0.6874 Best Split: feature_28 -1.4934 0.6490\n",
      "02:49:28 tree INFO:Training.  Depth 4 Current Loss: 0.5685 Best Split: feature_22 -1.6119 0.4998\n",
      "02:49:29 tree INFO:Training.  Depth 5 Current Loss: 0.5669 Best Split: feature_51 0.6706 0.4144\n",
      "02:49:29 tree INFO:Training.  Depth 6 Current Loss: 0.0000 Best Split: feature_0 -1.4901 0.0000\n",
      "02:49:29 tree INFO:No split improves loss.  Returning\n",
      "02:49:30 tree INFO:Training.  Depth 6 Current Loss: 0.6792 Best Split: feature_61 -2.5682 0.3453\n",
      "02:49:30 tree INFO:Training.  Depth 7 Current Loss: 0.4101 Best Split: feature_11 1.4965 0.0000\n",
      "02:49:30 tree INFO:Reached leaf node, or constraints force termination.  Returning\n",
      "02:49:30 tree INFO:Reached leaf node, or constraints force termination.  Returning\n",
      "02:49:31 tree INFO:Training.  Depth 7 Current Loss: 0.3983 Best Split: feature_5 0.6559 0.1530\n",
      "02:49:31 tree INFO:Reached leaf node, or constraints force termination.  Returning\n",
      "02:49:31 tree INFO:Reached leaf node, or constraints force termination.  Returning\n",
      "02:49:33 tree INFO:Training.  Depth 5 Current Loss: 0.4913 Best Split: feature_20 -0.9748 0.4561\n",
      "02:49:35 tree INFO:Training.  Depth 6 Current Loss: 0.6365 Best Split: feature_11 -0.5159 0.5198\n",
      "02:49:37 tree INFO:Training.  Depth 7 Current Loss: 0.4075 Best Split: feature_22 0.0101 0.2415\n",
      "02:49:37 tree INFO:Reached leaf node, or constraints force termination.  Returning\n",
      "02:49:37 tree INFO:Reached leaf node, or constraints force termination.  Returning\n",
      "02:49:38 tree INFO:Training.  Depth 7 Current Loss: 0.6741 Best Split: feature_61 0.2769 0.5741\n",
      "02:49:38 tree INFO:Reached leaf node, or constraints force termination.  Returning\n",
      "02:49:38 tree INFO:Reached leaf node, or constraints force termination.  Returning\n",
      "02:49:40 tree INFO:Training.  Depth 6 Current Loss: 0.3512 Best Split: feature_66 0.7490 0.3190\n",
      "02:49:42 tree INFO:Training.  Depth 7 Current Loss: 0.2353 Best Split: feature_47 -1.6347 0.2069\n",
      "02:49:42 tree INFO:Reached leaf node, or constraints force termination.  Returning\n",
      "02:49:42 tree INFO:Reached leaf node, or constraints force termination.  Returning\n",
      "02:49:43 tree INFO:Training.  Depth 7 Current Loss: 0.5771 Best Split: feature_28 -2.4787 0.4894\n",
      "02:49:43 tree INFO:Reached leaf node, or constraints force termination.  Returning\n",
      "02:49:43 tree INFO:Reached leaf node, or constraints force termination.  Returning\n",
      "02:49:46 tree INFO:Training.  Depth 4 Current Loss: 0.6893 Best Split: feature_11 -2.1527 0.6428\n",
      "02:49:48 tree INFO:Training.  Depth 5 Current Loss: 0.2788 Best Split: feature_6 -1.9352 0.2207\n",
      "02:49:48 tree INFO:Training.  Depth 6 Current Loss: 0.6829 Best Split: feature_24 -0.4630 0.0000\n",
      "02:49:48 tree INFO:Training.  Depth 7 Current Loss: 0.5623 Best Split: feature_1 1.0892 0.0000\n",
      "02:49:48 tree INFO:Reached leaf node, or constraints force termination.  Returning\n",
      "02:49:48 tree INFO:Reached leaf node, or constraints force termination.  Returning\n",
      "02:49:48 tree INFO:Training.  Depth 7 Current Loss: 0.0000 Best Split: feature_0 -0.8149 0.0000\n",
      "02:49:48 tree INFO:No split improves loss.  Returning\n",
      "02:49:50 tree INFO:Training.  Depth 6 Current Loss: 0.2010 Best Split: feature_22 1.8581 0.1366\n",
      "02:49:52 tree INFO:Training.  Depth 7 Current Loss: 0.1217 Best Split: feature_98 1.4314 0.0565\n",
      "02:49:52 tree INFO:Reached leaf node, or constraints force termination.  Returning\n",
      "02:49:52 tree INFO:Reached leaf node, or constraints force termination.  Returning\n",
      "02:49:52 tree INFO:Training.  Depth 7 Current Loss: 0.5623 Best Split: feature_2 -0.3958 0.0000\n",
      "02:49:52 tree INFO:No split improves loss.  Returning\n",
      "02:49:54 tree INFO:Training.  Depth 5 Current Loss: 0.6930 Best Split: feature_79 0.6553 0.6747\n",
      "02:49:56 tree INFO:Training.  Depth 6 Current Loss: 0.6909 Best Split: feature_45 -1.9193 0.6745\n",
      "02:49:59 tree INFO:Training.  Depth 7 Current Loss: 0.6128 Best Split: feature_3 3.1484 0.5468\n",
      "02:49:59 tree INFO:Reached leaf node, or constraints force termination.  Returning\n",
      "02:49:59 tree INFO:Reached leaf node, or constraints force termination.  Returning\n",
      "02:50:01 tree INFO:Training.  Depth 7 Current Loss: 0.6927 Best Split: feature_20 1.5837 0.6803\n",
      "02:50:01 tree INFO:Reached leaf node, or constraints force termination.  Returning\n",
      "02:50:01 tree INFO:Reached leaf node, or constraints force termination.  Returning\n",
      "02:50:03 tree INFO:Training.  Depth 6 Current Loss: 0.5983 Best Split: feature_27 -2.0438 0.5248\n",
      "02:50:04 tree INFO:Training.  Depth 7 Current Loss: 0.6751 Best Split: feature_20 -0.8870 0.3040\n",
      "02:50:04 tree INFO:Reached leaf node, or constraints force termination.  Returning\n",
      "02:50:04 tree INFO:Reached leaf node, or constraints force termination.  Returning\n",
      "02:50:06 tree INFO:Training.  Depth 7 Current Loss: 0.4834 Best Split: feature_45 -1.3787 0.3724\n",
      "02:50:06 tree INFO:Reached leaf node, or constraints force termination.  Returning\n",
      "02:50:06 tree INFO:Reached leaf node, or constraints force termination.  Returning\n",
      "02:50:09 tree INFO:Training.  Depth 2 Current Loss: 0.5894 Best Split: feature_51 -0.4000 0.5701\n",
      "02:50:11 tree INFO:Training.  Depth 3 Current Loss: 0.6792 Best Split: feature_11 -0.9770 0.6096\n",
      "02:50:13 tree INFO:Training.  Depth 4 Current Loss: 0.4493 Best Split: feature_22 0.1758 0.3635\n",
      "02:50:16 tree INFO:Training.  Depth 5 Current Loss: 0.2146 Best Split: feature_27 -0.7346 0.1638\n",
      "02:50:17 tree INFO:Training.  Depth 6 Current Loss: 0.4418 Best Split: feature_45 -0.5440 0.3652\n",
      "02:50:18 tree INFO:Training.  Depth 7 Current Loss: 0.3102 Best Split: feature_28 1.3720 0.2274\n",
      "02:50:18 tree INFO:Reached leaf node, or constraints force termination.  Returning\n",
      "02:50:18 tree INFO:Reached leaf node, or constraints force termination.  Returning\n",
      "02:50:19 tree INFO:Training.  Depth 7 Current Loss: 0.6870 Best Split: feature_35 -0.3798 0.2780\n",
      "02:50:19 tree INFO:Reached leaf node, or constraints force termination.  Returning\n",
      "02:50:19 tree INFO:Reached leaf node, or constraints force termination.  Returning\n",
      "02:50:22 tree INFO:Training.  Depth 6 Current Loss: 0.0322 Best Split: feature_91 2.3849 0.0071\n",
      "02:50:25 tree INFO:Training.  Depth 7 Current Loss: 0.0323 Best Split: feature_91 2.3849 0.0000\n",
      "02:50:25 tree INFO:No split improves loss.  Returning\n"
     ]
    },
    {
     "name": "stderr",
     "output_type": "stream",
     "text": [
      "02:50:25 tree INFO:Reached leaf node, or constraints force termination.  Returning\n",
      "02:50:27 tree INFO:Training.  Depth 5 Current Loss: 0.6700 Best Split: feature_45 -2.2278 0.5446\n",
      "02:50:28 tree INFO:Training.  Depth 6 Current Loss: 0.1425 Best Split: feature_3 -7.9260 0.0000\n",
      "02:50:28 tree INFO:Training.  Depth 7 Current Loss: 0.6931 Best Split: feature_0 -0.7632 0.0000\n",
      "02:50:28 tree INFO:Reached leaf node, or constraints force termination.  Returning\n",
      "02:50:28 tree INFO:Reached leaf node, or constraints force termination.  Returning\n",
      "02:50:29 tree INFO:Training.  Depth 7 Current Loss: 0.0000 Best Split: feature_0 -0.4013 0.0000\n",
      "02:50:29 tree INFO:No split improves loss.  Returning\n",
      "02:50:30 tree INFO:Training.  Depth 6 Current Loss: 0.6931 Best Split: feature_3 -1.7826 0.6051\n",
      "02:50:31 tree INFO:Training.  Depth 7 Current Loss: 0.6077 Best Split: feature_89 1.1838 0.4769\n",
      "02:50:31 tree INFO:Reached leaf node, or constraints force termination.  Returning\n",
      "02:50:31 tree INFO:Reached leaf node, or constraints force termination.  Returning\n",
      "02:50:32 tree INFO:Training.  Depth 7 Current Loss: 0.6184 Best Split: feature_42 0.1175 0.4660\n",
      "02:50:32 tree INFO:Reached leaf node, or constraints force termination.  Returning\n",
      "02:50:32 tree INFO:Reached leaf node, or constraints force termination.  Returning\n",
      "02:50:34 tree INFO:Training.  Depth 4 Current Loss: 0.6896 Best Split: feature_79 1.8260 0.6408\n",
      "02:50:36 tree INFO:Training.  Depth 5 Current Loss: 0.6901 Best Split: feature_27 -1.6829 0.6374\n",
      "02:50:38 tree INFO:Training.  Depth 6 Current Loss: 0.4220 Best Split: feature_20 0.5875 0.2614\n",
      "02:50:39 tree INFO:Training.  Depth 7 Current Loss: 0.6603 Best Split: feature_79 -0.7657 0.4572\n",
      "02:50:39 tree INFO:Reached leaf node, or constraints force termination.  Returning\n",
      "02:50:39 tree INFO:Reached leaf node, or constraints force termination.  Returning\n",
      "02:50:40 tree INFO:Training.  Depth 7 Current Loss: 0.0000 Best Split: feature_0 -2.2393 0.0000\n",
      "02:50:40 tree INFO:No split improves loss.  Returning\n",
      "02:50:42 tree INFO:Training.  Depth 6 Current Loss: 0.6908 Best Split: feature_3 1.4448 0.6541\n",
      "02:50:44 tree INFO:Training.  Depth 7 Current Loss: 0.6565 Best Split: feature_45 -2.5393 0.5731\n",
      "02:50:44 tree INFO:Reached leaf node, or constraints force termination.  Returning\n",
      "02:50:44 tree INFO:Reached leaf node, or constraints force termination.  Returning\n",
      "02:50:46 tree INFO:Training.  Depth 7 Current Loss: 0.6526 Best Split: feature_51 -2.4718 0.6011\n",
      "02:50:46 tree INFO:Reached leaf node, or constraints force termination.  Returning\n",
      "02:50:46 tree INFO:Reached leaf node, or constraints force termination.  Returning\n",
      "02:50:49 tree INFO:Training.  Depth 5 Current Loss: 0.4720 Best Split: feature_20 1.1918 0.2148\n",
      "02:50:52 tree INFO:Training.  Depth 6 Current Loss: 0.1418 Best Split: feature_67 1.3257 0.1006\n",
      "02:50:54 tree INFO:Training.  Depth 7 Current Loss: 0.0432 Best Split: feature_22 2.0435 0.0101\n",
      "02:50:54 tree INFO:Reached leaf node, or constraints force termination.  Returning\n",
      "02:50:54 tree INFO:Reached leaf node, or constraints force termination.  Returning\n",
      "02:50:54 tree INFO:Training.  Depth 7 Current Loss: 0.5147 Best Split: feature_34 0.5605 0.2516\n",
      "02:50:54 tree INFO:Reached leaf node, or constraints force termination.  Returning\n",
      "02:50:54 tree INFO:Reached leaf node, or constraints force termination.  Returning\n",
      "02:50:55 tree INFO:Training.  Depth 6 Current Loss: 0.5147 Best Split: feature_32 1.3271 0.3241\n",
      "02:50:56 tree INFO:Training.  Depth 7 Current Loss: 0.4101 Best Split: feature_28 1.5756 0.1980\n",
      "02:50:56 tree INFO:Reached leaf node, or constraints force termination.  Returning\n",
      "02:50:56 tree INFO:Reached leaf node, or constraints force termination.  Returning\n",
      "02:50:56 tree INFO:Training.  Depth 7 Current Loss: 0.0000 Best Split: feature_0 0.0312 0.0000\n",
      "02:50:56 tree INFO:No split improves loss.  Returning\n",
      "02:50:58 tree INFO:Training.  Depth 3 Current Loss: 0.5256 Best Split: feature_20 0.2933 0.5016\n",
      "02:51:00 tree INFO:Training.  Depth 4 Current Loss: 0.6174 Best Split: feature_11 0.0312 0.5732\n",
      "02:51:03 tree INFO:Training.  Depth 5 Current Loss: 0.4794 Best Split: feature_22 -0.3937 0.3807\n",
      "02:51:04 tree INFO:Training.  Depth 6 Current Loss: 0.1729 Best Split: feature_45 -0.8831 0.1431\n",
      "02:51:06 tree INFO:Training.  Depth 7 Current Loss: 0.0758 Best Split: feature_27 -3.3394 0.0540\n",
      "02:51:06 tree INFO:Reached leaf node, or constraints force termination.  Returning\n",
      "02:51:06 tree INFO:Reached leaf node, or constraints force termination.  Returning\n",
      "02:51:08 tree INFO:Training.  Depth 7 Current Loss: 0.4476 Best Split: feature_79 1.3378 0.3650\n",
      "02:51:08 tree INFO:Reached leaf node, or constraints force termination.  Returning\n",
      "02:51:08 tree INFO:Reached leaf node, or constraints force termination.  Returning\n",
      "02:51:10 tree INFO:Training.  Depth 6 Current Loss: 0.6651 Best Split: feature_28 2.3786 0.6134\n",
      "02:51:12 tree INFO:Training.  Depth 7 Current Loss: 0.6852 Best Split: feature_27 -1.5524 0.6274\n",
      "02:51:12 tree INFO:Reached leaf node, or constraints force termination.  Returning\n",
      "02:51:12 tree INFO:Reached leaf node, or constraints force termination.  Returning\n",
      "02:51:13 tree INFO:Training.  Depth 7 Current Loss: 0.1654 Best Split: feature_45 -0.1774 0.0660\n",
      "02:51:13 tree INFO:Reached leaf node, or constraints force termination.  Returning\n",
      "02:51:13 tree INFO:Reached leaf node, or constraints force termination.  Returning\n",
      "02:51:15 tree INFO:Training.  Depth 5 Current Loss: 0.6897 Best Split: feature_61 0.9826 0.6552\n",
      "02:51:17 tree INFO:Training.  Depth 6 Current Loss: 0.6810 Best Split: feature_20 -1.2567 0.5780\n",
      "02:51:19 tree INFO:Training.  Depth 7 Current Loss: 0.4302 Best Split: feature_79 0.2312 0.3283\n",
      "02:51:19 tree INFO:Reached leaf node, or constraints force termination.  Returning\n",
      "02:51:19 tree INFO:Reached leaf node, or constraints force termination.  Returning\n",
      "02:51:21 tree INFO:Training.  Depth 7 Current Loss: 0.6766 Best Split: feature_27 -0.9140 0.6251\n",
      "02:51:21 tree INFO:Reached leaf node, or constraints force termination.  Returning\n",
      "02:51:21 tree INFO:Reached leaf node, or constraints force termination.  Returning\n",
      "02:51:23 tree INFO:Training.  Depth 6 Current Loss: 0.6245 Best Split: feature_61 6.6909 0.5479\n",
      "02:51:26 tree INFO:Training.  Depth 7 Current Loss: 0.5696 Best Split: feature_45 -0.9033 0.5298\n",
      "02:51:26 tree INFO:Reached leaf node, or constraints force termination.  Returning\n",
      "02:51:26 tree INFO:Reached leaf node, or constraints force termination.  Returning\n",
      "02:51:26 tree INFO:Training.  Depth 7 Current Loss: 0.2510 Best Split: feature_78 0.8943 0.1160\n",
      "02:51:26 tree INFO:Reached leaf node, or constraints force termination.  Returning\n",
      "02:51:26 tree INFO:Reached leaf node, or constraints force termination.  Returning\n",
      "02:51:29 tree INFO:Training.  Depth 4 Current Loss: 0.3845 Best Split: feature_27 1.9921 0.3543\n",
      "02:51:31 tree INFO:Training.  Depth 5 Current Loss: 0.3328 Best Split: feature_79 0.3975 0.3117\n",
      "02:51:33 tree INFO:Training.  Depth 6 Current Loss: 0.4356 Best Split: feature_11 -0.9427 0.4193\n",
      "02:51:35 tree INFO:Training.  Depth 7 Current Loss: 0.6067 Best Split: feature_27 -2.0531 0.4530\n",
      "02:51:35 tree INFO:Reached leaf node, or constraints force termination.  Returning\n",
      "02:51:35 tree INFO:Reached leaf node, or constraints force termination.  Returning\n",
      "02:51:37 tree INFO:Training.  Depth 7 Current Loss: 0.3706 Best Split: feature_79 -3.2429 0.3487\n",
      "02:51:37 tree INFO:Reached leaf node, or constraints force termination.  Returning\n",
      "02:51:37 tree INFO:Reached leaf node, or constraints force termination.  Returning\n",
      "02:51:39 tree INFO:Training.  Depth 6 Current Loss: 0.1608 Best Split: feature_61 0.5811 0.1413\n",
      "02:51:41 tree INFO:Training.  Depth 7 Current Loss: 0.1093 Best Split: feature_51 1.8794 0.0979\n",
      "02:51:41 tree INFO:Reached leaf node, or constraints force termination.  Returning\n",
      "02:51:41 tree INFO:Reached leaf node, or constraints force termination.  Returning\n",
      "02:51:42 tree INFO:Training.  Depth 7 Current Loss: 0.5160 Best Split: feature_3 -2.6045 0.3041\n",
      "02:51:42 tree INFO:Reached leaf node, or constraints force termination.  Returning\n",
      "02:51:42 tree INFO:Reached leaf node, or constraints force termination.  Returning\n",
      "02:51:43 tree INFO:Training.  Depth 5 Current Loss: 0.6929 Best Split: feature_11 1.3453 0.4072\n"
     ]
    },
    {
     "name": "stderr",
     "output_type": "stream",
     "text": [
      "02:51:44 tree INFO:Training.  Depth 6 Current Loss: 0.3541 Best Split: feature_0 0.5892 0.1723\n",
      "02:51:45 tree INFO:Training.  Depth 7 Current Loss: 0.0000 Best Split: feature_0 -0.4322 0.0000\n",
      "02:51:45 tree INFO:No split improves loss.  Returning\n",
      "02:51:45 tree INFO:Training.  Depth 7 Current Loss: 0.6890 Best Split: feature_26 0.0292 0.2458\n",
      "02:51:45 tree INFO:Reached leaf node, or constraints force termination.  Returning\n",
      "02:51:45 tree INFO:Reached leaf node, or constraints force termination.  Returning\n",
      "02:51:46 tree INFO:Training.  Depth 6 Current Loss: 0.4506 Best Split: feature_28 1.2211 0.2998\n",
      "02:51:47 tree INFO:Training.  Depth 7 Current Loss: 0.2530 Best Split: feature_85 1.5794 0.1093\n",
      "02:51:47 tree INFO:Reached leaf node, or constraints force termination.  Returning\n",
      "02:51:47 tree INFO:Reached leaf node, or constraints force termination.  Returning\n",
      "02:51:47 tree INFO:Training.  Depth 7 Current Loss: 0.6890 Best Split: feature_3 3.5759 0.0000\n",
      "02:51:47 tree INFO:Reached leaf node, or constraints force termination.  Returning\n",
      "02:51:47 tree INFO:Reached leaf node, or constraints force termination.  Returning\n",
      "02:51:50 tree INFO:Training.  Depth 1 Current Loss: 0.6151 Best Split: feature_11 1.3287 0.5587\n",
      "02:51:52 tree INFO:Training.  Depth 2 Current Loss: 0.5385 Best Split: feature_27 2.1904 0.4983\n",
      "02:51:55 tree INFO:Training.  Depth 3 Current Loss: 0.4814 Best Split: feature_22 -1.3243 0.4607\n",
      "02:51:57 tree INFO:Training.  Depth 4 Current Loss: 0.2518 Best Split: feature_51 -0.2104 0.2185\n",
      "02:51:59 tree INFO:Training.  Depth 5 Current Loss: 0.5004 Best Split: feature_79 1.9282 0.3499\n",
      "02:52:01 tree INFO:Training.  Depth 6 Current Loss: 0.6770 Best Split: feature_27 1.6375 0.5190\n",
      "02:52:02 tree INFO:Training.  Depth 7 Current Loss: 0.6218 Best Split: feature_6 0.1908 0.5009\n",
      "02:52:02 tree INFO:Reached leaf node, or constraints force termination.  Returning\n",
      "02:52:02 tree INFO:Reached leaf node, or constraints force termination.  Returning\n",
      "02:52:02 tree INFO:Training.  Depth 7 Current Loss: 0.0000 Best Split: feature_0 -1.8303 0.0000\n",
      "02:52:02 tree INFO:No split improves loss.  Returning\n",
      "02:52:03 tree INFO:Training.  Depth 6 Current Loss: 0.0628 Best Split: feature_14 2.4748 0.0000\n",
      "02:52:03 tree INFO:No split improves loss.  Returning\n",
      "02:52:05 tree INFO:Training.  Depth 5 Current Loss: 0.1331 Best Split: feature_79 -2.1655 0.1078\n",
      "02:52:06 tree INFO:Training.  Depth 6 Current Loss: 0.5263 Best Split: feature_45 0.8820 0.3562\n",
      "02:52:06 tree INFO:Training.  Depth 7 Current Loss: 0.6909 Best Split: feature_2 0.8933 0.2093\n",
      "02:52:06 tree INFO:Reached leaf node, or constraints force termination.  Returning\n",
      "02:52:06 tree INFO:Reached leaf node, or constraints force termination.  Returning\n",
      "02:52:07 tree INFO:Training.  Depth 7 Current Loss: 0.1630 Best Split: feature_21 -1.4414 0.0000\n",
      "02:52:07 tree INFO:Reached leaf node, or constraints force termination.  Returning\n",
      "02:52:07 tree INFO:Reached leaf node, or constraints force termination.  Returning\n",
      "02:52:09 tree INFO:Training.  Depth 6 Current Loss: 0.0735 Best Split: feature_11 -2.8715 0.0570\n",
      "02:52:09 tree INFO:Training.  Depth 7 Current Loss: 0.6616 Best Split: feature_72 1.0362 0.0000\n",
      "02:52:09 tree INFO:Reached leaf node, or constraints force termination.  Returning\n",
      "02:52:09 tree INFO:Reached leaf node, or constraints force termination.  Returning\n",
      "02:52:11 tree INFO:Training.  Depth 7 Current Loss: 0.0471 Best Split: feature_65 0.9402 0.0325\n",
      "02:52:11 tree INFO:Reached leaf node, or constraints force termination.  Returning\n",
      "02:52:11 tree INFO:Reached leaf node, or constraints force termination.  Returning\n",
      "02:52:13 tree INFO:Training.  Depth 4 Current Loss: 0.5426 Best Split: feature_11 -0.0843 0.5143\n",
      "02:52:16 tree INFO:Training.  Depth 5 Current Loss: 0.4499 Best Split: feature_79 -2.7061 0.4313\n",
      "02:52:17 tree INFO:Training.  Depth 6 Current Loss: 0.6878 Best Split: feature_27 -2.0927 0.5502\n",
      "02:52:17 tree INFO:Training.  Depth 7 Current Loss: 0.5489 Best Split: feature_61 2.9090 0.1811\n",
      "02:52:17 tree INFO:Reached leaf node, or constraints force termination.  Returning\n",
      "02:52:17 tree INFO:Reached leaf node, or constraints force termination.  Returning\n",
      "02:52:18 tree INFO:Training.  Depth 7 Current Loss: 0.5835 Best Split: feature_14 -1.1905 0.4229\n",
      "02:52:18 tree INFO:Reached leaf node, or constraints force termination.  Returning\n",
      "02:52:18 tree INFO:Reached leaf node, or constraints force termination.  Returning\n",
      "02:52:20 tree INFO:Training.  Depth 6 Current Loss: 0.4191 Best Split: feature_51 -1.0093 0.3996\n",
      "02:52:22 tree INFO:Training.  Depth 7 Current Loss: 0.6172 Best Split: feature_3 -2.2056 0.4815\n",
      "02:52:22 tree INFO:Reached leaf node, or constraints force termination.  Returning\n",
      "02:52:22 tree INFO:Reached leaf node, or constraints force termination.  Returning\n",
      "02:52:24 tree INFO:Training.  Depth 7 Current Loss: 0.3516 Best Split: feature_61 3.6601 0.3338\n",
      "02:52:24 tree INFO:Reached leaf node, or constraints force termination.  Returning\n",
      "02:52:24 tree INFO:Reached leaf node, or constraints force termination.  Returning\n",
      "02:52:26 tree INFO:Training.  Depth 5 Current Loss: 0.6706 Best Split: feature_20 -0.3068 0.5676\n",
      "02:52:28 tree INFO:Training.  Depth 6 Current Loss: 0.5280 Best Split: feature_61 6.5117 0.4613\n",
      "02:52:31 tree INFO:Training.  Depth 7 Current Loss: 0.6437 Best Split: feature_22 0.2452 0.5861\n",
      "02:52:31 tree INFO:Reached leaf node, or constraints force termination.  Returning\n",
      "02:52:31 tree INFO:Reached leaf node, or constraints force termination.  Returning\n",
      "02:52:33 tree INFO:Training.  Depth 7 Current Loss: 0.2190 Best Split: feature_28 -0.3094 0.1559\n",
      "02:52:33 tree INFO:Reached leaf node, or constraints force termination.  Returning\n",
      "02:52:33 tree INFO:Reached leaf node, or constraints force termination.  Returning\n",
      "02:52:36 tree INFO:Training.  Depth 6 Current Loss: 0.6281 Best Split: feature_27 -0.2225 0.4859\n",
      "02:52:39 tree INFO:Training.  Depth 7 Current Loss: 0.3976 Best Split: feature_45 0.2896 0.3121\n",
      "02:52:39 tree INFO:Reached leaf node, or constraints force termination.  Returning\n",
      "02:52:39 tree INFO:Reached leaf node, or constraints force termination.  Returning\n",
      "02:52:40 tree INFO:Training.  Depth 7 Current Loss: 0.6562 Best Split: feature_23 0.6674 0.5241\n",
      "02:52:40 tree INFO:Reached leaf node, or constraints force termination.  Returning\n",
      "02:52:40 tree INFO:Reached leaf node, or constraints force termination.  Returning\n",
      "02:52:42 tree INFO:Training.  Depth 3 Current Loss: 0.6581 Best Split: feature_51 -0.6571 0.5166\n",
      "02:52:45 tree INFO:Training.  Depth 4 Current Loss: 0.4633 Best Split: feature_22 0.7881 0.3316\n",
      "02:52:47 tree INFO:Training.  Depth 5 Current Loss: 0.2654 Best Split: feature_27 3.2051 0.2083\n",
      "02:52:48 tree INFO:Training.  Depth 6 Current Loss: 0.4293 Best Split: feature_11 0.4248 0.3145\n",
      "02:52:49 tree INFO:Training.  Depth 7 Current Loss: 0.2206 Best Split: feature_75 1.8010 0.0943\n",
      "02:52:49 tree INFO:Reached leaf node, or constraints force termination.  Returning\n",
      "02:52:49 tree INFO:Reached leaf node, or constraints force termination.  Returning\n",
      "02:52:49 tree INFO:Training.  Depth 7 Current Loss: 0.6902 Best Split: feature_89 0.2111 0.2208\n",
      "02:52:49 tree INFO:Reached leaf node, or constraints force termination.  Returning\n",
      "02:52:49 tree INFO:Reached leaf node, or constraints force termination.  Returning\n",
      "02:52:50 tree INFO:Training.  Depth 6 Current Loss: 0.0000 Best Split: feature_0 -0.4316 0.0000\n",
      "02:52:50 tree INFO:No split improves loss.  Returning\n",
      "02:52:51 tree INFO:Training.  Depth 5 Current Loss: 0.6755 Best Split: feature_28 0.2163 0.4733\n",
      "02:52:51 tree INFO:Training.  Depth 6 Current Loss: 0.0000 Best Split: feature_0 -1.8871 0.0000\n",
      "02:52:51 tree INFO:No split improves loss.  Returning\n",
      "02:52:52 tree INFO:Training.  Depth 6 Current Loss: 0.5825 Best Split: feature_2 0.4232 0.3451\n",
      "02:52:52 tree INFO:Training.  Depth 7 Current Loss: 0.2573 Best Split: feature_2 0.4232 0.0000\n",
      "02:52:52 tree INFO:No split improves loss.  Returning\n",
      "02:52:52 tree INFO:Training.  Depth 7 Current Loss: 0.6931 Best Split: feature_42 -0.3221 0.0000\n",
      "02:52:52 tree INFO:Reached leaf node, or constraints force termination.  Returning\n",
      "02:52:52 tree INFO:Reached leaf node, or constraints force termination.  Returning\n",
      "02:52:54 tree INFO:Training.  Depth 4 Current Loss: 0.6191 Best Split: feature_79 1.4347 0.5085\n"
     ]
    },
    {
     "name": "stderr",
     "output_type": "stream",
     "text": [
      "02:52:55 tree INFO:Training.  Depth 5 Current Loss: 0.6761 Best Split: feature_51 2.1133 0.5745\n",
      "02:52:56 tree INFO:Training.  Depth 6 Current Loss: 0.6930 Best Split: feature_20 0.7868 0.5649\n",
      "02:52:57 tree INFO:Training.  Depth 7 Current Loss: 0.6416 Best Split: feature_79 -0.9998 0.4741\n",
      "02:52:57 tree INFO:Reached leaf node, or constraints force termination.  Returning\n",
      "02:52:57 tree INFO:Reached leaf node, or constraints force termination.  Returning\n",
      "02:52:57 tree INFO:Training.  Depth 7 Current Loss: 0.4362 Best Split: feature_7 1.0310 0.0000\n",
      "02:52:57 tree INFO:Reached leaf node, or constraints force termination.  Returning\n",
      "02:52:57 tree INFO:Reached leaf node, or constraints force termination.  Returning\n",
      "02:52:57 tree INFO:Training.  Depth 6 Current Loss: 0.0000 Best Split: feature_0 -0.9923 0.0000\n",
      "02:52:57 tree INFO:No split improves loss.  Returning\n",
      "02:52:58 tree INFO:Training.  Depth 5 Current Loss: 0.0000 Best Split: feature_0 -2.1573 0.0000\n",
      "02:52:58 tree INFO:No split improves loss.  Returning\n",
      "02:53:00 tree INFO:Training.  Depth 2 Current Loss: 0.6489 Best Split: feature_27 1.0459 0.5080\n",
      "02:53:02 tree INFO:Training.  Depth 3 Current Loss: 0.5070 Best Split: feature_20 -0.8470 0.3920\n",
      "02:53:04 tree INFO:Training.  Depth 4 Current Loss: 0.6890 Best Split: feature_11 2.8841 0.4527\n",
      "02:53:05 tree INFO:Training.  Depth 5 Current Loss: 0.6024 Best Split: feature_20 -2.9826 0.4731\n",
      "02:53:06 tree INFO:Training.  Depth 6 Current Loss: 0.1949 Best Split: feature_97 -0.7205 0.0676\n",
      "02:53:06 tree INFO:Training.  Depth 7 Current Loss: 0.6931 Best Split: feature_3 0.0517 0.0000\n",
      "02:53:06 tree INFO:Reached leaf node, or constraints force termination.  Returning\n",
      "02:53:06 tree INFO:Reached leaf node, or constraints force termination.  Returning\n",
      "02:53:07 tree INFO:Training.  Depth 7 Current Loss: 0.0000 Best Split: feature_0 -0.1187 0.0000\n",
      "02:53:07 tree INFO:No split improves loss.  Returning\n",
      "02:53:07 tree INFO:Training.  Depth 6 Current Loss: 0.6924 Best Split: feature_28 0.8106 0.3935\n",
      "02:53:08 tree INFO:Training.  Depth 7 Current Loss: 0.4293 Best Split: feature_35 -0.9738 0.2378\n",
      "02:53:08 tree INFO:Reached leaf node, or constraints force termination.  Returning\n",
      "02:53:08 tree INFO:Reached leaf node, or constraints force termination.  Returning\n",
      "02:53:08 tree INFO:Training.  Depth 7 Current Loss: 0.3576 Best Split: feature_35 -1.5656 0.1599\n",
      "02:53:08 tree INFO:Reached leaf node, or constraints force termination.  Returning\n",
      "02:53:08 tree INFO:Reached leaf node, or constraints force termination.  Returning\n",
      "02:53:09 tree INFO:Training.  Depth 5 Current Loss: 0.0000 Best Split: feature_0 -1.2200 0.0000\n",
      "02:53:09 tree INFO:No split improves loss.  Returning\n",
      "02:53:11 tree INFO:Training.  Depth 4 Current Loss: 0.2857 Best Split: feature_79 3.2601 0.2417\n",
      "02:53:13 tree INFO:Training.  Depth 5 Current Loss: 0.2379 Best Split: feature_27 -1.1976 0.1982\n",
      "02:53:15 tree INFO:Training.  Depth 6 Current Loss: 0.0726 Best Split: feature_93 0.6773 0.0515\n",
      "02:53:17 tree INFO:Training.  Depth 7 Current Loss: 0.0000 Best Split: feature_0 -0.6338 0.0000\n",
      "02:53:17 tree INFO:No split improves loss.  Returning\n",
      "02:53:18 tree INFO:Training.  Depth 7 Current Loss: 0.2338 Best Split: feature_34 1.7249 0.1004\n",
      "02:53:18 tree INFO:Reached leaf node, or constraints force termination.  Returning\n",
      "02:53:18 tree INFO:Reached leaf node, or constraints force termination.  Returning\n",
      "02:53:20 tree INFO:Training.  Depth 6 Current Loss: 0.4457 Best Split: feature_11 2.0311 0.3614\n",
      "02:53:21 tree INFO:Training.  Depth 7 Current Loss: 0.6269 Best Split: feature_94 -1.6443 0.4716\n",
      "02:53:21 tree INFO:Reached leaf node, or constraints force termination.  Returning\n",
      "02:53:21 tree INFO:Reached leaf node, or constraints force termination.  Returning\n",
      "02:53:22 tree INFO:Training.  Depth 7 Current Loss: 0.1461 Best Split: feature_6 -0.9750 0.0698\n",
      "02:53:22 tree INFO:Reached leaf node, or constraints force termination.  Returning\n",
      "02:53:22 tree INFO:Reached leaf node, or constraints force termination.  Returning\n",
      "02:53:22 tree INFO:Training.  Depth 5 Current Loss: 0.6109 Best Split: feature_11 2.4911 0.0000\n",
      "02:53:22 tree INFO:Training.  Depth 6 Current Loss: 0.0000 Best Split: feature_0 -1.2077 0.0000\n",
      "02:53:22 tree INFO:No split improves loss.  Returning\n",
      "02:53:22 tree INFO:Training.  Depth 6 Current Loss: 0.0000 Best Split: feature_0 -0.5006 0.0000\n",
      "02:53:22 tree INFO:No split improves loss.  Returning\n",
      "02:53:25 tree INFO:Training.  Depth 3 Current Loss: 0.5110 Best Split: feature_51 1.5407 0.4437\n",
      "02:53:27 tree INFO:Training.  Depth 4 Current Loss: 0.6185 Best Split: feature_5 -0.2504 0.5534\n",
      "02:53:27 tree INFO:Training.  Depth 5 Current Loss: 0.6928 Best Split: feature_38 -0.6814 0.4790\n",
      "02:53:28 tree INFO:Training.  Depth 6 Current Loss: 0.0000 Best Split: feature_0 0.0591 0.0000\n",
      "02:53:28 tree INFO:No split improves loss.  Returning\n",
      "02:53:28 tree INFO:Training.  Depth 6 Current Loss: 0.6442 Best Split: feature_30 0.2655 0.3638\n",
      "02:53:28 tree INFO:Training.  Depth 7 Current Loss: 0.2237 Best Split: feature_1 -1.0661 0.0000\n",
      "02:53:28 tree INFO:Reached leaf node, or constraints force termination.  Returning\n",
      "02:53:28 tree INFO:Reached leaf node, or constraints force termination.  Returning\n",
      "02:53:29 tree INFO:Training.  Depth 7 Current Loss: 0.5623 Best Split: feature_9 0.5124 0.0000\n",
      "02:53:29 tree INFO:Reached leaf node, or constraints force termination.  Returning\n",
      "02:53:29 tree INFO:Reached leaf node, or constraints force termination.  Returning\n",
      "02:53:30 tree INFO:Training.  Depth 5 Current Loss: 0.4597 Best Split: feature_34 0.1809 0.3551\n",
      "02:53:30 tree INFO:Training.  Depth 6 Current Loss: 0.6058 Best Split: feature_53 1.2905 0.4415\n",
      "02:53:31 tree INFO:Training.  Depth 7 Current Loss: 0.5342 Best Split: feature_3 1.7941 0.3468\n",
      "02:53:31 tree INFO:Reached leaf node, or constraints force termination.  Returning\n",
      "02:53:31 tree INFO:Reached leaf node, or constraints force termination.  Returning\n",
      "02:53:31 tree INFO:Training.  Depth 7 Current Loss: 0.0000 Best Split: feature_0 -1.4440 0.0000\n",
      "02:53:31 tree INFO:No split improves loss.  Returning\n",
      "02:53:31 tree INFO:Training.  Depth 6 Current Loss: 0.0000 Best Split: feature_0 -2.1760 0.0000\n",
      "02:53:31 tree INFO:No split improves loss.  Returning\n",
      "02:53:32 tree INFO:Training.  Depth 4 Current Loss: 0.1520 Best Split: feature_15 2.3969 0.0000\n",
      "02:53:33 tree INFO:Training.  Depth 5 Current Loss: 0.0896 Best Split: feature_15 2.3969 0.0000\n",
      "02:53:33 tree INFO:No split improves loss.  Returning\n",
      "02:53:33 tree INFO:Reached leaf node, or constraints force termination.  Returning\n"
     ]
    }
   ],
   "source": [
    "gtree.tree_logger.setLevel(logging.INFO)\n",
    "tree, leaf_map = gtree.train_greedy_tree(features, targets, loss_fn=gtree.cross_entropy_loss, max_depth=8)"
   ]
  },
  {
   "cell_type": "code",
   "execution_count": 13,
   "metadata": {
    "scrolled": true
   },
   "outputs": [
    {
     "ename": "TypeError",
     "evalue": "cross_entropy_loss() takes exactly 2 arguments (1 given)",
     "output_type": "error",
     "traceback": [
      "\u001b[0;31m---------------------------------------------------------------------------\u001b[0m",
      "\u001b[0;31mTypeError\u001b[0m                                 Traceback (most recent call last)",
      "\u001b[0;32m<ipython-input-13-806562d34a70>\u001b[0m in \u001b[0;36m<module>\u001b[0;34m()\u001b[0m\n\u001b[0;32m----> 1\u001b[0;31m \u001b[0mgtree\u001b[0m\u001b[0;34m.\u001b[0m\u001b[0mcross_entropy_loss\u001b[0m\u001b[0;34m(\u001b[0m\u001b[0mtargets\u001b[0m\u001b[0;34m[\u001b[0m\u001b[0mfeatures\u001b[0m\u001b[0;34m.\u001b[0m\u001b[0mfeature_45\u001b[0m \u001b[0;34m<\u001b[0m \u001b[0;36m.2326\u001b[0m\u001b[0;34m]\u001b[0m\u001b[0;34m)\u001b[0m\u001b[0;34m\u001b[0m\u001b[0m\n\u001b[0m",
      "\u001b[0;31mTypeError\u001b[0m: cross_entropy_loss() takes exactly 2 arguments (1 given)"
     ]
    }
   ],
   "source": [
    "#gtree.cross_entropy_loss(targets[features.feature_45 < .2326])"
   ]
  },
  {
   "cell_type": "code",
   "execution_count": 14,
   "metadata": {},
   "outputs": [
    {
     "data": {
      "text/plain": [
       "(0.23258662223815918, 0.6538109183311462)"
      ]
     },
     "execution_count": 14,
     "metadata": {},
     "output_type": "execute_result"
    }
   ],
   "source": [
    "#gtree._single_variable_best_split(features, 'feature_45', targets, None, None, None)"
   ]
  },
  {
   "cell_type": "code",
   "execution_count": 16,
   "metadata": {
    "scrolled": true
   },
   "outputs": [
    {
     "name": "stdout",
     "output_type": "stream",
     "text": [
      "\t\t\t\tLeaf(id=0.641402293352)\n",
      "\n",
      "\t\t\tfeature_28 -2.52788257599\n",
      "\n",
      "\t\t\t\t\tLeaf(id=0.774885089945)\n",
      "\n",
      "\t\t\t\tfeature_11 -1.62058627605\n",
      "\n",
      "\t\t\t\t\t\t\t\tLeaf(id=0.356149173498)\n",
      "\n",
      "\t\t\t\t\t\t\tfeature_61 -8.35889530182\n",
      "\n",
      "\t\t\t\t\t\t\t\tLeaf(id=0.449175580958)\n",
      "\n",
      "\t\t\t\t\t\tfeature_51 -0.0125508848578\n",
      "\n",
      "\t\t\t\t\t\t\t\tLeaf(id=0.388940336614)\n",
      "\n",
      "\t\t\t\t\t\t\tfeature_20 -1.07297968864\n",
      "\n",
      "\t\t\t\t\t\t\t\tLeaf(id=0.729989677067)\n",
      "\n",
      "\t\t\t\t\tfeature_20 1.04102158546\n",
      "\n",
      "\t\t\t\t\t\t\tLeaf(id=0.356992467398)\n",
      "\n",
      "\t\t\t\t\t\tfeature_71 0.5068551898\n",
      "\n",
      "\t\t\t\t\t\t\t\tLeaf(id=0.719547409438)\n",
      "\n",
      "\t\t\t\t\t\t\tfeature_22 -0.555300176144\n",
      "\n",
      "\t\t\t\t\t\t\t\tLeaf(id=0.472063271809)\n",
      "\n",
      "\t\tfeature_61 -4.76534843445\n",
      "\n",
      "\t\t\t\t\t\tLeaf(id=0.84257447111)\n",
      "\n",
      "\t\t\t\t\tfeature_51 0.670628905296\n",
      "\n",
      "\t\t\t\t\t\t\t\tLeaf(id=0.930048353626)\n",
      "\n",
      "\t\t\t\t\t\t\tfeature_11 1.49652242661\n",
      "\n",
      "\t\t\t\t\t\t\t\tLeaf(id=0.804369737334)\n",
      "\n",
      "\t\t\t\t\t\tfeature_61 -2.56818819046\n",
      "\n",
      "\t\t\t\t\t\t\t\tLeaf(id=0.900585421993)\n",
      "\n",
      "\t\t\t\t\t\t\tfeature_5 0.655855298042\n",
      "\n",
      "\t\t\t\t\t\t\t\tLeaf(id=0.819621134948)\n",
      "\n",
      "\t\t\t\tfeature_22 -1.61188137531\n",
      "\n",
      "\t\t\t\t\t\t\t\tLeaf(id=0.761101720197)\n",
      "\n",
      "\t\t\t\t\t\t\tfeature_22 0.0101326731965\n",
      "\n",
      "\t\t\t\t\t\t\t\tLeaf(id=0.63251056941)\n",
      "\n",
      "\t\t\t\t\t\tfeature_11 -0.515888869762\n",
      "\n",
      "\t\t\t\t\t\t\t\tLeaf(id=0.214365913173)\n",
      "\n",
      "\t\t\t\t\t\t\tfeature_61 0.276864856482\n",
      "\n",
      "\t\t\t\t\t\t\t\tLeaf(id=0.457386062492)\n",
      "\n",
      "\t\t\t\t\tfeature_20 -0.97478312254\n",
      "\n",
      "\t\t\t\t\t\t\t\tLeaf(id=0.139451524895)\n",
      "\n",
      "\t\t\t\t\t\t\tfeature_47 -1.63467621803\n",
      "\n",
      "\t\t\t\t\t\t\t\tLeaf(id=0.48840978074)\n",
      "\n",
      "\t\t\t\t\t\tfeature_66 0.748995423317\n",
      "\n",
      "\t\t\t\t\t\t\t\tLeaf(id=0.52375533537)\n",
      "\n",
      "\t\t\t\t\t\t\tfeature_28 -2.47866129875\n",
      "\n",
      "\t\t\t\t\t\t\t\tLeaf(id=0.0900476119856)\n",
      "\n",
      "\t\t\tfeature_28 -1.49342012405\n",
      "\n",
      "\t\t\t\t\t\t\t\tLeaf(id=0.978810449159)\n",
      "\n",
      "\t\t\t\t\t\t\tfeature_1 1.08920800686\n",
      "\n",
      "\t\t\t\t\t\t\t\tLeaf(id=0.592201024255)\n",
      "\n",
      "\t\t\t\t\t\tfeature_24 -0.462986469269\n",
      "\n",
      "\t\t\t\t\t\t\tLeaf(id=0.680471976516)\n",
      "\n",
      "\t\t\t\t\tfeature_6 -1.93519616127\n",
      "\n",
      "\t\t\t\t\t\t\t\tLeaf(id=0.0367317236114)\n",
      "\n",
      "\t\t\t\t\t\t\tfeature_98 1.43135547638\n",
      "\n",
      "\t\t\t\t\t\t\t\tLeaf(id=0.247099856836)\n",
      "\n",
      "\t\t\t\t\t\tfeature_22 1.85806202888\n",
      "\n",
      "\t\t\t\t\t\t\tLeaf(id=0.520056433335)\n",
      "\n",
      "\t\t\t\tfeature_11 -2.15270423889\n",
      "\n",
      "\t\t\t\t\t\t\t\tLeaf(id=0.765125113914)\n",
      "\n",
      "\t\t\t\t\t\t\tfeature_3 3.14840078354\n",
      "\n",
      "\t\t\t\t\t\t\t\tLeaf(id=0.950957908001)\n",
      "\n",
      "\t\t\t\t\t\tfeature_45 -1.91926717758\n",
      "\n",
      "\t\t\t\t\t\t\t\tLeaf(id=0.82338612517)\n",
      "\n",
      "\t\t\t\t\t\t\tfeature_20 1.58373856544\n",
      "\n",
      "\t\t\t\t\t\t\t\tLeaf(id=0.0334785252166)\n",
      "\n",
      "\t\t\t\t\tfeature_79 0.655340433121\n",
      "\n",
      "\t\t\t\t\t\t\t\tLeaf(id=0.891074051964)\n",
      "\n",
      "\t\t\t\t\t\t\tfeature_20 -0.886988043785\n",
      "\n",
      "\t\t\t\t\t\t\t\tLeaf(id=0.248833058216)\n",
      "\n",
      "\t\t\t\t\t\tfeature_27 -2.0438284874\n",
      "\n",
      "\t\t\t\t\t\t\t\tLeaf(id=0.813385973412)\n",
      "\n",
      "\t\t\t\t\t\t\tfeature_45 -1.37873125076\n",
      "\n",
      "\t\t\t\t\t\t\t\tLeaf(id=0.498615705436)\n",
      "\n",
      "\tfeature_28 -0.193604186177\n",
      "\n",
      "\t\t\t\t\t\t\t\tLeaf(id=0.963009227209)\n",
      "\n",
      "\t\t\t\t\t\t\tfeature_28 1.37195205688\n",
      "\n",
      "\t\t\t\t\t\t\t\tLeaf(id=0.041450676371)\n",
      "\n",
      "\t\t\t\t\t\tfeature_45 -0.544035851955\n",
      "\n",
      "\t\t\t\t\t\t\t\tLeaf(id=0.258933484945)\n",
      "\n",
      "\t\t\t\t\t\t\tfeature_35 -0.379793673754\n",
      "\n",
      "\t\t\t\t\t\t\t\tLeaf(id=0.913868592531)\n",
      "\n",
      "\t\t\t\t\tfeature_27 -0.734593868256\n",
      "\n",
      "\t\t\t\t\t\t\tLeaf(id=0.472132413138)\n",
      "\n",
      "\t\t\t\t\t\tfeature_91 2.38486862183\n",
      "\n",
      "\t\t\t\t\t\t\tLeaf(id=0.423534241573)\n",
      "\n",
      "\t\t\t\tfeature_22 0.175840094686\n",
      "\n",
      "\t\t\t\t\t\t\t\tLeaf(id=0.196748609963)\n",
      "\n",
      "\t\t\t\t\t\t\tfeature_0 -0.763222038746\n",
      "\n",
      "\t\t\t\t\t\t\t\tLeaf(id=0.879787486273)\n",
      "\n",
      "\t\t\t\t\t\tfeature_3 -7.92599058151\n",
      "\n",
      "\t\t\t\t\t\t\tLeaf(id=0.544451524457)\n",
      "\n",
      "\t\t\t\t\tfeature_45 -2.22782492638\n",
      "\n",
      "\t\t\t\t\t\t\t\tLeaf(id=0.507715388887)\n",
      "\n",
      "\t\t\t\t\t\t\tfeature_89 1.18375754356\n",
      "\n",
      "\t\t\t\t\t\t\t\tLeaf(id=0.791033880172)\n",
      "\n",
      "\t\t\t\t\t\tfeature_3 -1.78257262707\n",
      "\n",
      "\t\t\t\t\t\t\t\tLeaf(id=0.874745117213)\n",
      "\n",
      "\t\t\t\t\t\t\tfeature_42 0.117531560361\n",
      "\n",
      "\t\t\t\t\t\t\t\tLeaf(id=0.302404627287)\n",
      "\n",
      "\t\t\tfeature_11 -0.977006316185\n",
      "\n",
      "\t\t\t\t\t\t\t\tLeaf(id=0.0435633294281)\n",
      "\n",
      "\t\t\t\t\t\t\tfeature_79 -0.765667796135\n",
      "\n",
      "\t\t\t\t\t\t\t\tLeaf(id=0.257007367057)\n",
      "\n",
      "\t\t\t\t\t\tfeature_20 0.587475836277\n",
      "\n",
      "\t\t\t\t\t\t\tLeaf(id=0.325463376431)\n",
      "\n",
      "\t\t\t\t\tfeature_27 -1.68292725086\n",
      "\n",
      "\t\t\t\t\t\t\t\tLeaf(id=0.0569463202891)\n",
      "\n",
      "\t\t\t\t\t\t\tfeature_45 -2.53925395012\n",
      "\n",
      "\t\t\t\t\t\t\t\tLeaf(id=0.938959713223)\n",
      "\n",
      "\t\t\t\t\t\tfeature_3 1.44483566284\n",
      "\n",
      "\t\t\t\t\t\t\t\tLeaf(id=0.548965482783)\n",
      "\n",
      "\t\t\t\t\t\t\tfeature_51 -2.47177815437\n",
      "\n",
      "\t\t\t\t\t\t\t\tLeaf(id=0.903174247519)\n",
      "\n",
      "\t\t\t\tfeature_79 1.82597100735\n",
      "\n",
      "\t\t\t\t\t\t\t\tLeaf(id=0.50320172035)\n",
      "\n",
      "\t\t\t\t\t\t\tfeature_22 2.04351997375\n",
      "\n",
      "\t\t\t\t\t\t\t\tLeaf(id=0.799748980904)\n",
      "\n",
      "\t\t\t\t\t\tfeature_67 1.32566869259\n",
      "\n",
      "\t\t\t\t\t\t\t\tLeaf(id=0.17488237637)\n",
      "\n",
      "\t\t\t\t\t\t\tfeature_34 0.560531258583\n",
      "\n",
      "\t\t\t\t\t\t\t\tLeaf(id=0.297171523193)\n",
      "\n",
      "\t\t\t\t\tfeature_20 1.19178712368\n",
      "\n",
      "\t\t\t\t\t\t\t\tLeaf(id=0.0902112800981)\n",
      "\n",
      "\t\t\t\t\t\t\tfeature_28 1.57557630539\n",
      "\n",
      "\t\t\t\t\t\t\t\tLeaf(id=0.865239186098)\n",
      "\n",
      "\t\t\t\t\t\tfeature_32 1.32712328434\n",
      "\n",
      "\t\t\t\t\t\t\tLeaf(id=0.657902671008)\n",
      "\n",
      "\t\tfeature_51 -0.400048136711\n",
      "\n",
      "\t\t\t\t\t\t\t\tLeaf(id=0.171498266022)\n",
      "\n",
      "\t\t\t\t\t\t\tfeature_27 -3.3393611908\n",
      "\n",
      "\t\t\t\t\t\t\t\tLeaf(id=0.703974937948)\n",
      "\n",
      "\t\t\t\t\t\tfeature_45 -0.883142352104\n",
      "\n",
      "\t\t\t\t\t\t\t\tLeaf(id=0.800453396018)\n",
      "\n",
      "\t\t\t\t\t\t\tfeature_79 1.33778297901\n",
      "\n",
      "\t\t\t\t\t\t\t\tLeaf(id=0.232114144692)\n",
      "\n",
      "\t\t\t\t\tfeature_22 -0.393744140863\n",
      "\n",
      "\t\t\t\t\t\t\t\tLeaf(id=0.528753316008)\n",
      "\n",
      "\t\t\t\t\t\t\tfeature_27 -1.55243849754\n",
      "\n",
      "\t\t\t\t\t\t\t\tLeaf(id=0.47562960073)\n",
      "\n",
      "\t\t\t\t\t\tfeature_28 2.37856721878\n",
      "\n",
      "\t\t\t\t\t\t\t\tLeaf(id=0.87926566864)\n",
      "\n",
      "\t\t\t\t\t\t\tfeature_45 -0.177422344685\n",
      "\n",
      "\t\t\t\t\t\t\t\tLeaf(id=0.331881446693)\n",
      "\n",
      "\t\t\t\tfeature_11 0.0311617702246\n",
      "\n",
      "\t\t\t\t\t\t\t\tLeaf(id=0.894829124738)\n",
      "\n",
      "\t\t\t\t\t\t\tfeature_79 0.231187388301\n",
      "\n",
      "\t\t\t\t\t\t\t\tLeaf(id=0.30445621222)\n",
      "\n",
      "\t\t\t\t\t\tfeature_20 -1.25667607784\n",
      "\n",
      "\t\t\t\t\t\t\t\tLeaf(id=0.664389636546)\n",
      "\n",
      "\t\t\t\t\t\t\tfeature_27 -0.914024412632\n",
      "\n",
      "\t\t\t\t\t\t\t\tLeaf(id=0.963772372805)\n",
      "\n",
      "\t\t\t\t\tfeature_61 0.982639431953\n",
      "\n",
      "\t\t\t\t\t\t\t\tLeaf(id=0.695477907301)\n",
      "\n",
      "\t\t\t\t\t\t\tfeature_45 -0.903264343739\n",
      "\n",
      "\t\t\t\t\t\t\t\tLeaf(id=0.0511852281666)\n",
      "\n",
      "\t\t\t\t\t\tfeature_61 6.69091892242\n",
      "\n",
      "\t\t\t\t\t\t\t\tLeaf(id=0.516768924604)\n",
      "\n",
      "\t\t\t\t\t\t\tfeature_78 0.894285976887\n",
      "\n",
      "\t\t\t\t\t\t\t\tLeaf(id=0.188895111273)\n",
      "\n",
      "\t\t\tfeature_20 0.293278962374\n",
      "\n",
      "\t\t\t\t\t\t\t\tLeaf(id=0.164959389192)\n",
      "\n",
      "\t\t\t\t\t\t\tfeature_27 -2.05314993858\n",
      "\n",
      "\t\t\t\t\t\t\t\tLeaf(id=0.228797810002)\n",
      "\n",
      "\t\t\t\t\t\tfeature_11 -0.942721843719\n",
      "\n",
      "\t\t\t\t\t\t\t\tLeaf(id=0.995227941522)\n",
      "\n",
      "\t\t\t\t\t\t\tfeature_79 -3.24291706085\n",
      "\n",
      "\t\t\t\t\t\t\t\tLeaf(id=0.894521484335)\n",
      "\n",
      "\t\t\t\t\tfeature_79 0.397489845753\n",
      "\n",
      "\t\t\t\t\t\t\t\tLeaf(id=0.580029499926)\n",
      "\n",
      "\t\t\t\t\t\t\tfeature_51 1.87936270237\n",
      "\n",
      "\t\t\t\t\t\t\t\tLeaf(id=0.208484558348)\n",
      "\n",
      "\t\t\t\t\t\tfeature_61 0.581095695496\n",
      "\n",
      "\t\t\t\t\t\t\t\tLeaf(id=0.395829297318)\n",
      "\n",
      "\t\t\t\t\t\t\tfeature_3 -2.60451078415\n",
      "\n",
      "\t\t\t\t\t\t\t\tLeaf(id=0.40722596661)\n",
      "\n",
      "\t\t\t\tfeature_27 1.99206364155\n",
      "\n",
      "\t\t\t\t\t\t\tLeaf(id=0.771802918168)\n",
      "\n",
      "\t\t\t\t\t\tfeature_0 0.589236557484\n",
      "\n",
      "\t\t\t\t\t\t\t\tLeaf(id=0.951363740431)\n",
      "\n",
      "\t\t\t\t\t\t\tfeature_26 0.0291992649436\n",
      "\n",
      "\t\t\t\t\t\t\t\tLeaf(id=0.688108866526)\n",
      "\n",
      "\t\t\t\t\tfeature_11 1.34528303146\n",
      "\n",
      "\t\t\t\t\t\t\t\tLeaf(id=0.0199517977002)\n",
      "\n",
      "\t\t\t\t\t\t\tfeature_85 1.57944726944\n",
      "\n",
      "\t\t\t\t\t\t\t\tLeaf(id=0.443433515868)\n",
      "\n",
      "\t\t\t\t\t\tfeature_28 1.22113418579\n",
      "\n",
      "\t\t\t\t\t\t\t\tLeaf(id=0.468659059218)\n",
      "\n",
      "\t\t\t\t\t\t\tfeature_3 3.57594227791\n",
      "\n",
      "\t\t\t\t\t\t\t\tLeaf(id=0.586993520548)\n",
      "\n",
      "feature_45 0.232586622238\n",
      "\n",
      "\t\t\t\t\t\t\t\tLeaf(id=0.365691009993)\n",
      "\n",
      "\t\t\t\t\t\t\tfeature_6 0.190845623612\n",
      "\n",
      "\t\t\t\t\t\t\t\tLeaf(id=0.941167195606)\n",
      "\n",
      "\t\t\t\t\t\tfeature_27 1.63745903969\n",
      "\n",
      "\t\t\t\t\t\t\tLeaf(id=0.386999283949)\n",
      "\n",
      "\t\t\t\t\tfeature_79 1.92819094658\n",
      "\n",
      "\t\t\t\t\t\tLeaf(id=0.097660166546)\n",
      "\n",
      "\t\t\t\tfeature_51 -0.210383683443\n",
      "\n",
      "\t\t\t\t\t\t\t\tLeaf(id=0.247331057918)\n",
      "\n",
      "\t\t\t\t\t\t\tfeature_2 0.893347680569\n",
      "\n",
      "\t\t\t\t\t\t\t\tLeaf(id=0.769919618742)\n",
      "\n",
      "\t\t\t\t\t\tfeature_45 0.882041335106\n",
      "\n",
      "\t\t\t\t\t\t\t\tLeaf(id=0.412503794128)\n",
      "\n",
      "\t\t\t\t\t\t\tfeature_21 -1.44135582447\n",
      "\n",
      "\t\t\t\t\t\t\t\tLeaf(id=0.69100212302)\n",
      "\n",
      "\t\t\t\t\tfeature_79 -2.16553616524\n",
      "\n",
      "\t\t\t\t\t\t\t\tLeaf(id=0.969179131916)\n",
      "\n",
      "\t\t\t\t\t\t\tfeature_72 1.03623282909\n",
      "\n",
      "\t\t\t\t\t\t\t\tLeaf(id=0.945140941609)\n",
      "\n",
      "\t\t\t\t\t\tfeature_11 -2.87153816223\n",
      "\n",
      "\t\t\t\t\t\t\t\tLeaf(id=0.581006778643)\n",
      "\n",
      "\t\t\t\t\t\t\tfeature_65 0.940190672874\n",
      "\n",
      "\t\t\t\t\t\t\t\tLeaf(id=0.636282437832)\n",
      "\n",
      "\t\t\tfeature_22 -1.32434415817\n",
      "\n",
      "\t\t\t\t\t\t\t\tLeaf(id=0.926118021415)\n",
      "\n",
      "\t\t\t\t\t\t\tfeature_61 2.90904545784\n",
      "\n",
      "\t\t\t\t\t\t\t\tLeaf(id=0.797387078444)\n",
      "\n",
      "\t\t\t\t\t\tfeature_27 -2.0926668644\n",
      "\n",
      "\t\t\t\t\t\t\t\tLeaf(id=0.620770431426)\n",
      "\n",
      "\t\t\t\t\t\t\tfeature_14 -1.19049072266\n",
      "\n",
      "\t\t\t\t\t\t\t\tLeaf(id=0.639440770785)\n",
      "\n",
      "\t\t\t\t\tfeature_79 -2.70606255531\n",
      "\n",
      "\t\t\t\t\t\t\t\tLeaf(id=0.0699791210329)\n",
      "\n",
      "\t\t\t\t\t\t\tfeature_3 -2.20560026169\n",
      "\n",
      "\t\t\t\t\t\t\t\tLeaf(id=0.185669127028)\n",
      "\n",
      "\t\t\t\t\t\tfeature_51 -1.00933468342\n",
      "\n",
      "\t\t\t\t\t\t\t\tLeaf(id=0.0199762509414)\n",
      "\n",
      "\t\t\t\t\t\t\tfeature_61 3.66006278992\n",
      "\n",
      "\t\t\t\t\t\t\t\tLeaf(id=0.48609805487)\n",
      "\n",
      "\t\t\t\tfeature_11 -0.0842775553465\n",
      "\n",
      "\t\t\t\t\t\t\t\tLeaf(id=0.247070409692)\n",
      "\n",
      "\t\t\t\t\t\t\tfeature_22 0.245160162449\n",
      "\n",
      "\t\t\t\t\t\t\t\tLeaf(id=0.470115479916)\n",
      "\n",
      "\t\t\t\t\t\tfeature_61 6.51167631149\n",
      "\n",
      "\t\t\t\t\t\t\t\tLeaf(id=0.420868254257)\n",
      "\n",
      "\t\t\t\t\t\t\tfeature_28 -0.309411525726\n",
      "\n",
      "\t\t\t\t\t\t\t\tLeaf(id=0.395650383439)\n",
      "\n",
      "\t\t\t\t\tfeature_20 -0.306783139706\n",
      "\n",
      "\t\t\t\t\t\t\t\tLeaf(id=0.571312239793)\n",
      "\n",
      "\t\t\t\t\t\t\tfeature_45 0.289554387331\n",
      "\n",
      "\t\t\t\t\t\t\t\tLeaf(id=0.15056356702)\n",
      "\n",
      "\t\t\t\t\t\tfeature_27 -0.222513198853\n",
      "\n",
      "\t\t\t\t\t\t\t\tLeaf(id=0.889111499112)\n",
      "\n",
      "\t\t\t\t\t\t\tfeature_23 0.667394042015\n",
      "\n",
      "\t\t\t\t\t\t\t\tLeaf(id=0.169460515742)\n",
      "\n",
      "\t\tfeature_27 2.19044303894\n",
      "\n",
      "\t\t\t\t\t\t\t\tLeaf(id=0.657111172098)\n",
      "\n",
      "\t\t\t\t\t\t\tfeature_75 1.80100226402\n",
      "\n",
      "\t\t\t\t\t\t\t\tLeaf(id=0.719564941988)\n",
      "\n",
      "\t\t\t\t\t\tfeature_11 0.424791127443\n",
      "\n",
      "\t\t\t\t\t\t\t\tLeaf(id=0.489005064266)\n",
      "\n",
      "\t\t\t\t\t\t\tfeature_89 0.211093485355\n",
      "\n",
      "\t\t\t\t\t\t\t\tLeaf(id=0.805090379256)\n",
      "\n",
      "\t\t\t\t\tfeature_27 3.20508980751\n",
      "\n",
      "\t\t\t\t\t\tLeaf(id=0.0752668483173)\n",
      "\n",
      "\t\t\t\tfeature_22 0.788102805614\n",
      "\n",
      "\t\t\t\t\t\tLeaf(id=0.990319114574)\n",
      "\n",
      "\t\t\t\t\tfeature_28 0.216301962733\n",
      "\n",
      "\t\t\t\t\t\t\tLeaf(id=0.040637613117)\n",
      "\n",
      "\t\t\t\t\t\tfeature_2 0.423231333494\n",
      "\n",
      "\t\t\t\t\t\t\t\tLeaf(id=0.718028973546)\n",
      "\n",
      "\t\t\t\t\t\t\tfeature_42 -0.322131872177\n",
      "\n",
      "\t\t\t\t\t\t\t\tLeaf(id=0.0567103988342)\n",
      "\n",
      "\t\t\tfeature_51 -0.657053947449\n",
      "\n",
      "\t\t\t\t\t\t\t\tLeaf(id=0.268129761788)\n",
      "\n",
      "\t\t\t\t\t\t\tfeature_79 -0.999832451344\n",
      "\n",
      "\t\t\t\t\t\t\t\tLeaf(id=0.236497990729)\n",
      "\n",
      "\t\t\t\t\t\tfeature_20 0.786794304848\n",
      "\n",
      "\t\t\t\t\t\t\t\tLeaf(id=0.067786471851)\n",
      "\n",
      "\t\t\t\t\t\t\tfeature_7 1.0310138464\n",
      "\n",
      "\t\t\t\t\t\t\t\tLeaf(id=0.80653310975)\n",
      "\n",
      "\t\t\t\t\tfeature_51 2.11331319809\n",
      "\n",
      "\t\t\t\t\t\tLeaf(id=0.598904532255)\n",
      "\n",
      "\t\t\t\tfeature_79 1.43471479416\n",
      "\n",
      "\t\t\t\t\tLeaf(id=0.680935999111)\n",
      "\n",
      "\tfeature_11 1.32871508598\n",
      "\n",
      "\t\t\t\t\t\t\t\tLeaf(id=0.810226909032)\n",
      "\n",
      "\t\t\t\t\t\t\tfeature_3 0.0517240986228\n",
      "\n",
      "\t\t\t\t\t\t\t\tLeaf(id=0.484072592168)\n",
      "\n",
      "\t\t\t\t\t\tfeature_97 -0.720542192459\n",
      "\n",
      "\t\t\t\t\t\t\tLeaf(id=0.407894417978)\n",
      "\n",
      "\t\t\t\t\tfeature_20 -2.98257279396\n",
      "\n",
      "\t\t\t\t\t\t\t\tLeaf(id=0.779364867749)\n",
      "\n",
      "\t\t\t\t\t\t\tfeature_35 -0.973790049553\n",
      "\n",
      "\t\t\t\t\t\t\t\tLeaf(id=0.952572776644)\n",
      "\n",
      "\t\t\t\t\t\tfeature_28 0.810605227947\n",
      "\n",
      "\t\t\t\t\t\t\t\tLeaf(id=0.0170904345657)\n",
      "\n",
      "\t\t\t\t\t\t\tfeature_35 -1.56555044651\n",
      "\n",
      "\t\t\t\t\t\t\t\tLeaf(id=0.481780437764)\n",
      "\n",
      "\t\t\t\tfeature_11 2.88411736488\n",
      "\n",
      "\t\t\t\t\tLeaf(id=0.740867440355)\n",
      "\n",
      "\t\t\tfeature_20 -0.846955120564\n",
      "\n",
      "\t\t\t\t\t\t\tLeaf(id=0.736940577712)\n",
      "\n",
      "\t\t\t\t\t\tfeature_93 0.677337110043\n",
      "\n",
      "\t\t\t\t\t\t\t\tLeaf(id=0.489609772309)\n",
      "\n",
      "\t\t\t\t\t\t\tfeature_34 1.72488355637\n",
      "\n",
      "\t\t\t\t\t\t\t\tLeaf(id=0.963936000954)\n",
      "\n",
      "\t\t\t\t\tfeature_27 -1.19756948948\n",
      "\n",
      "\t\t\t\t\t\t\t\tLeaf(id=0.186685054585)\n",
      "\n",
      "\t\t\t\t\t\t\tfeature_94 -1.64429318905\n",
      "\n",
      "\t\t\t\t\t\t\t\tLeaf(id=0.946848419389)\n",
      "\n",
      "\t\t\t\t\t\tfeature_11 2.03105020523\n",
      "\n",
      "\t\t\t\t\t\t\t\tLeaf(id=0.365720819448)\n",
      "\n",
      "\t\t\t\t\t\t\tfeature_6 -0.975005626678\n",
      "\n",
      "\t\t\t\t\t\t\t\tLeaf(id=0.364435702423)\n",
      "\n",
      "\t\t\t\tfeature_79 3.26011490822\n",
      "\n",
      "\t\t\t\t\t\tLeaf(id=0.562618747759)\n",
      "\n",
      "\t\t\t\t\tfeature_11 2.49111819267\n",
      "\n",
      "\t\t\t\t\t\tLeaf(id=0.595662299292)\n",
      "\n",
      "\t\tfeature_27 1.04592192173\n",
      "\n",
      "\t\t\t\t\t\tLeaf(id=0.207690401089)\n",
      "\n",
      "\t\t\t\t\tfeature_38 -0.6814417243\n",
      "\n",
      "\t\t\t\t\t\t\t\tLeaf(id=0.0143516046008)\n",
      "\n",
      "\t\t\t\t\t\t\tfeature_1 -1.06607115269\n",
      "\n",
      "\t\t\t\t\t\t\t\tLeaf(id=0.219332110921)\n",
      "\n",
      "\t\t\t\t\t\tfeature_30 0.265488177538\n",
      "\n",
      "\t\t\t\t\t\t\t\tLeaf(id=0.593074421687)\n",
      "\n",
      "\t\t\t\t\t\t\tfeature_9 0.512425482273\n",
      "\n",
      "\t\t\t\t\t\t\t\tLeaf(id=0.690645866788)\n",
      "\n",
      "\t\t\t\tfeature_5 -0.250426232815\n",
      "\n",
      "\t\t\t\t\t\t\t\tLeaf(id=0.160156658195)\n",
      "\n",
      "\t\t\t\t\t\t\tfeature_3 1.79408013821\n",
      "\n",
      "\t\t\t\t\t\t\t\tLeaf(id=0.203986102885)\n",
      "\n",
      "\t\t\t\t\t\tfeature_53 1.29052424431\n",
      "\n",
      "\t\t\t\t\t\t\tLeaf(id=0.961102035437)\n",
      "\n",
      "\t\t\t\t\tfeature_34 0.180936962366\n",
      "\n",
      "\t\t\t\t\t\tLeaf(id=0.690234425707)\n",
      "\n",
      "\t\t\tfeature_51 1.54068350792\n",
      "\n",
      "\t\t\t\t\tLeaf(id=0.14834195468)\n",
      "\n",
      "\t\t\t\tfeature_15 2.3968641758\n",
      "\n",
      "\t\t\t\t\tLeaf(id=0.965421619461)\n",
      "\n"
     ]
    }
   ],
   "source": [
    "tree.prn()"
   ]
  },
  {
   "cell_type": "code",
   "execution_count": 66,
   "metadata": {},
   "outputs": [
    {
     "data": {
      "text/plain": [
       "{1, 2, 3}"
      ]
     },
     "execution_count": 66,
     "metadata": {},
     "output_type": "execute_result"
    }
   ],
   "source": [
    "set(pd.Series([1, 2, 3]))"
   ]
  },
  {
   "cell_type": "code",
   "execution_count": 71,
   "metadata": {
    "scrolled": false
   },
   "outputs": [
    {
     "data": {
      "text/plain": [
       "0       0.633333\n",
       "1       1.000000\n",
       "2       0.333333\n",
       "3       0.962466\n",
       "4       0.900000\n",
       "5       1.000000\n",
       "6       0.900000\n",
       "7       0.060391\n",
       "8       0.000000\n",
       "9       0.513514\n",
       "10      0.060391\n",
       "11      0.812500\n",
       "12      0.379310\n",
       "13      0.020833\n",
       "14      0.433071\n",
       "15      1.000000\n",
       "16      0.994845\n",
       "17      0.994845\n",
       "18      0.020833\n",
       "19      0.106667\n",
       "20      1.000000\n",
       "21      0.563218\n",
       "22      0.513514\n",
       "23      1.000000\n",
       "24      0.804348\n",
       "25      0.000000\n",
       "26      0.903448\n",
       "27      0.684211\n",
       "28      0.106667\n",
       "29      1.000000\n",
       "          ...   \n",
       "9970    0.060391\n",
       "9971    1.000000\n",
       "9972    1.000000\n",
       "9973    0.000000\n",
       "9974    0.180139\n",
       "9975    0.962466\n",
       "9976    0.000000\n",
       "9977    0.994845\n",
       "9978    1.000000\n",
       "9979    0.006494\n",
       "9980    0.431034\n",
       "9981    1.000000\n",
       "9982    0.962466\n",
       "9983    0.513514\n",
       "9984    0.046948\n",
       "9985    0.903448\n",
       "9986    0.000000\n",
       "9987    0.433071\n",
       "9988    0.167665\n",
       "9989    0.433071\n",
       "9990    0.043478\n",
       "9991    0.614286\n",
       "9992    0.994937\n",
       "9993    0.812500\n",
       "9994    0.180139\n",
       "9995    0.000000\n",
       "9996    0.000000\n",
       "9997    0.090909\n",
       "9998    1.000000\n",
       "9999    0.000000\n",
       "Length: 10000, dtype: float64"
      ]
     },
     "execution_count": 71,
     "metadata": {},
     "output_type": "execute_result"
    }
   ],
   "source": [
    "tree.predict(features, leaf_map)"
   ]
  },
  {
   "cell_type": "code",
   "execution_count": null,
   "metadata": {},
   "outputs": [],
   "source": [
    "results = pd.DataFrame({'truth': targets, 'prediction': tree.predict(features, leaf_map)})"
   ]
  },
  {
   "cell_type": "code",
   "execution_count": null,
   "metadata": {},
   "outputs": [],
   "source": [
    "1.0 - gtree.error_rate_loss(results.prediction, results.truth) / len(targets)"
   ]
  },
  {
   "cell_type": "code",
   "execution_count": null,
   "metadata": {},
   "outputs": [],
   "source": [
    "results.plot(kind='scatter', x='prediction', y='truth')"
   ]
  },
  {
   "cell_type": "code",
   "execution_count": null,
   "metadata": {
    "scrolled": false
   },
   "outputs": [],
   "source": [
    "fig = plt.figure(figsize=(12,8))\n",
    "\n",
    "for label, grp in tree.predict(features, leaf_map).groupby(targets):\n",
    "    grp.hist(normed=True, alpha=0.5, label=str(label)) #, label=label)\n",
    "plt.legend(loc='best')\n",
    "None"
   ]
  },
  {
   "cell_type": "markdown",
   "metadata": {},
   "source": [
    "# Compare Methods"
   ]
  },
  {
   "cell_type": "code",
   "execution_count": null,
   "metadata": {},
   "outputs": [],
   "source": [
    "features, targets = tools.make_random_classification(5000)\n",
    "\n",
    "features_validation = features.sample(frac=.3)\n",
    "targets_validation = targets.loc[features_validation.index]\n",
    "\n",
    "features = features[~features.index.isin(features_validation.index)]\n",
    "targets = targets.loc[features.index]"
   ]
  },
  {
   "cell_type": "code",
   "execution_count": null,
   "metadata": {},
   "outputs": [],
   "source": [
    "%pdb off"
   ]
  },
  {
   "cell_type": "code",
   "execution_count": null,
   "metadata": {
    "scrolled": false
   },
   "outputs": [],
   "source": [
    "gtree.tree_logger.setLevel(logging.WARNING)\n",
    "\n",
    "result, generations = gtree.evolve(features, targets,\n",
    "                                   loss_fn=gtree.cross_entropy_loss,\n",
    "                                   max_depth=3, min_to_split=10,\n",
    "                                   num_generations=15, num_survivors=10,\n",
    "                                   num_children=200, num_seed_trees=5)\n"
   ]
  },
  {
   "cell_type": "code",
   "execution_count": null,
   "metadata": {
    "scrolled": false
   },
   "outputs": [],
   "source": [
    "leaf_map = gtree.calculate_leaf_map(result['tree'], features, targets, gtree.leaf_good_rate_split_builder)\n",
    "\n",
    "print gtree.error_rate_loss(result['tree'].predict(features_validation, leaf_map), targets_validation)"
   ]
  },
  {
   "cell_type": "code",
   "execution_count": null,
   "metadata": {},
   "outputs": [],
   "source": [
    "generations[-1]['best_of_generation']['tree'].find_leaves(features).value_counts()"
   ]
  },
  {
   "cell_type": "code",
   "execution_count": null,
   "metadata": {
    "scrolled": true
   },
   "outputs": [],
   "source": [
    "for gen in generations[-1]['generation']:\n",
    "    print '--------------------{:.4f}----------------------------'.format(gen['loss_testing'])\n",
    "    gen['tree'].prn()"
   ]
  },
  {
   "cell_type": "code",
   "execution_count": null,
   "metadata": {
    "scrolled": true
   },
   "outputs": [],
   "source": [
    "for result in generations[-1]['generation']:\n",
    "    print '---------------------------------------------'\n",
    "    result['tree'].prn()"
   ]
  },
  {
   "cell_type": "code",
   "execution_count": null,
   "metadata": {},
   "outputs": [],
   "source": [
    "result = gtree.train_random_trees(features, targets, loss_fn=gtree.error_rate_loss,\n",
    "                                  max_depth=2,\n",
    "                                  min_to_split=10,\n",
    "                                  num_trees=10)"
   ]
  },
  {
   "cell_type": "code",
   "execution_count": null,
   "metadata": {},
   "outputs": [],
   "source": [
    "leaf_map = gtree.calculate_leaf_map(result['tree'], features, targets, gtree.leaf_good_rate_split_builder)\n",
    "\n",
    "print gtree.error_rate_loss(result['tree'].predict(features_validation, leaf_map), targets_validation)"
   ]
  },
  {
   "cell_type": "code",
   "execution_count": null,
   "metadata": {},
   "outputs": [],
   "source": [
    "from sklearn import tree\n",
    "from sklearn.model_selection import train_test_split\n",
    "\n",
    "clf = tree.DecisionTreeClassifier(max_depth=2)\n",
    "clf = clf.fit(features, targets)"
   ]
  },
  {
   "cell_type": "code",
   "execution_count": null,
   "metadata": {},
   "outputs": [],
   "source": [
    "predictions = pd.Series(clf.predict_proba(features_validation)[:, 1], index=features_validation.index)\n",
    "gtree.error_rate_loss(predictions, targets_validation)"
   ]
  },
  {
   "cell_type": "code",
   "execution_count": null,
   "metadata": {},
   "outputs": [],
   "source": [
    "from sklearn.externals.six import StringIO  \n",
    "from sklearn import tree as sklearn_tree\n",
    "import pydot \n",
    "dot_data = StringIO() \n",
    "sklearn_tree.export_graphviz(clf, out_file=dot_data) \n",
    "graph = pydot.graph_from_dot_data(dot_data.getvalue()) \n",
    "graph.write_pdf(\"iris.pdf\") "
   ]
  },
  {
   "cell_type": "code",
   "execution_count": null,
   "metadata": {},
   "outputs": [],
   "source": [
    "%alias_magic t timeit"
   ]
  },
  {
   "cell_type": "code",
   "execution_count": null,
   "metadata": {},
   "outputs": [],
   "source": [
    "sel = features[features['feature_3'] < 0].index"
   ]
  },
  {
   "cell_type": "code",
   "execution_count": null,
   "metadata": {},
   "outputs": [],
   "source": [
    "sel"
   ]
  },
  {
   "cell_type": "code",
   "execution_count": null,
   "metadata": {},
   "outputs": [],
   "source": [
    "%t features.loc[sel]"
   ]
  },
  {
   "cell_type": "code",
   "execution_count": null,
   "metadata": {},
   "outputs": [],
   "source": [
    "%t df.reindex_axis(sel, copy=False)"
   ]
  },
  {
   "cell_type": "code",
   "execution_count": null,
   "metadata": {},
   "outputs": [],
   "source": [
    "# BC Dataset"
   ]
  },
  {
   "cell_type": "code",
   "execution_count": null,
   "metadata": {},
   "outputs": [],
   "source": [
    "bc_info = datasets.load_breast_cancer()\n",
    "features = pd.DataFrame(bc_info['data'])\n",
    "target = pd.Series(bc_info['target']).dropna()\n",
    "features = features.loc[target.index]"
   ]
  },
  {
   "cell_type": "code",
   "execution_count": null,
   "metadata": {},
   "outputs": [],
   "source": [
    "target.value_counts(dropna=False)"
   ]
  },
  {
   "cell_type": "code",
   "execution_count": null,
   "metadata": {},
   "outputs": [],
   "source": [
    "%pdb off"
   ]
  },
  {
   "cell_type": "code",
   "execution_count": null,
   "metadata": {},
   "outputs": [],
   "source": [
    "gtree.tree_logger.setLevel(logging.WARNING)\n"
   ]
  },
  {
   "cell_type": "code",
   "execution_count": null,
   "metadata": {
    "scrolled": true
   },
   "outputs": [],
   "source": [
    "gtree.tree_logger.setLevel(logging.WARNING)\n",
    "\n",
    "result, generations = gtree.evolve(features, target,\n",
    "                                   loss_fn=gtree.cross_entropy_loss,\n",
    "                                   max_depth=3, min_to_split=10,\n",
    "                                   num_generations=30, num_survivors=10,\n",
    "                                   num_children=50, num_seed_trees=5)"
   ]
  },
  {
   "cell_type": "code",
   "execution_count": null,
   "metadata": {},
   "outputs": [],
   "source": []
  },
  {
   "cell_type": "code",
   "execution_count": null,
   "metadata": {},
   "outputs": [],
   "source": []
  },
  {
   "cell_type": "code",
   "execution_count": null,
   "metadata": {},
   "outputs": [],
   "source": [
    "X = np.array([[1, 2, 3], [4, 5, 6]])\n",
    "Y = X[0:2]"
   ]
  },
  {
   "cell_type": "code",
   "execution_count": null,
   "metadata": {},
   "outputs": [],
   "source": [
    "type(X)"
   ]
  },
  {
   "cell_type": "code",
   "execution_count": null,
   "metadata": {},
   "outputs": [],
   "source": [
    "id(Y.data)"
   ]
  },
  {
   "cell_type": "code",
   "execution_count": null,
   "metadata": {},
   "outputs": [],
   "source": [
    "[1, 2, 3][0:3]"
   ]
  },
  {
   "cell_type": "code",
   "execution_count": null,
   "metadata": {},
   "outputs": [],
   "source": []
  },
  {
   "cell_type": "code",
   "execution_count": null,
   "metadata": {},
   "outputs": [],
   "source": []
  },
  {
   "cell_type": "code",
   "execution_count": 22,
   "metadata": {},
   "outputs": [
    {
     "data": {
      "text/plain": [
       "array([[1, 2, 3],\n",
       "       [4, 5, 6],\n",
       "       [7, 8, 9]])"
      ]
     },
     "execution_count": 22,
     "metadata": {},
     "output_type": "execute_result"
    }
   ],
   "source": [
    "X = np.array([[1, 2, 3], [4, 5, 6], [7, 8, 9]])\n",
    "X"
   ]
  },
  {
   "cell_type": "code",
   "execution_count": 36,
   "metadata": {},
   "outputs": [
    {
     "data": {
      "text/plain": [
       "array([[0],\n",
       "       [1],\n",
       "       [0]])"
      ]
     },
     "execution_count": 36,
     "metadata": {},
     "output_type": "execute_result"
    }
   ],
   "source": [
    "fns = {0: lambda x: (x[:,0] + x[:,1] + x[:,2]).reshape(len(x), 1), 1: lambda x: (-1*x[:,0]).reshape(len(x), 1)}\n",
    "\n",
    "hashes = np.array([[0], [1], [0]])\n",
    "hashes"
   ]
  },
  {
   "cell_type": "code",
   "execution_count": 37,
   "metadata": {},
   "outputs": [
    {
     "data": {
      "text/plain": [
       "array([[ 0.],\n",
       "       [ 0.],\n",
       "       [ 0.]])"
      ]
     },
     "execution_count": 37,
     "metadata": {},
     "output_type": "execute_result"
    }
   ],
   "source": [
    "predictions = np.zeros((len(X), 1))\n",
    "predictions"
   ]
  },
  {
   "cell_type": "code",
   "execution_count": 61,
   "metadata": {},
   "outputs": [
    {
     "data": {
      "text/plain": [
       "array([[  6.],\n",
       "       [ -4.],\n",
       "       [ 24.]])"
      ]
     },
     "execution_count": 61,
     "metadata": {},
     "output_type": "execute_result"
    }
   ],
   "source": [
    "zero = np.zeros((len(X), 1))\n",
    "\n",
    "for i in [0, 1]:\n",
    "    #comparison = np.full((len(X), 1), i)\n",
    "    predictions[hashes.reshape(len(X))==i] = fns[i](X[hashes.reshape(len(X))==i, :]) # += np.where(hashes==i, fns[i](X), zero)\n",
    "    \n",
    "predictions"
   ]
  },
  {
   "cell_type": "code",
   "execution_count": 60,
   "metadata": {},
   "outputs": [
    {
     "ename": "IndexError",
     "evalue": "too many indices for array",
     "output_type": "error",
     "traceback": [
      "\u001b[0;31m---------------------------------------------------------------------------\u001b[0m",
      "\u001b[0;31mIndexError\u001b[0m                                Traceback (most recent call last)",
      "\u001b[0;32m<ipython-input-60-2e9e0774867b>\u001b[0m in \u001b[0;36m<module>\u001b[0;34m()\u001b[0m\n\u001b[0;32m----> 1\u001b[0;31m \u001b[0mX\u001b[0m\u001b[0;34m[\u001b[0m\u001b[0mhashes\u001b[0m\u001b[0;34m==\u001b[0m\u001b[0mcomparison\u001b[0m\u001b[0;34m,\u001b[0m \u001b[0;34m:\u001b[0m\u001b[0;34m]\u001b[0m\u001b[0;34m\u001b[0m\u001b[0m\n\u001b[0m",
      "\u001b[0;31mIndexError\u001b[0m: too many indices for array"
     ]
    }
   ],
   "source": [
    "X[hashes==comparison, :]"
   ]
  },
  {
   "cell_type": "code",
   "execution_count": 40,
   "metadata": {},
   "outputs": [
    {
     "data": {
      "text/plain": [
       "array([[1],\n",
       "       [4],\n",
       "       [7]])"
      ]
     },
     "execution_count": 40,
     "metadata": {},
     "output_type": "execute_result"
    }
   ],
   "source": [
    "X[:,0].reshape(3, 1)"
   ]
  },
  {
   "cell_type": "code",
   "execution_count": 55,
   "metadata": {},
   "outputs": [
    {
     "ename": "ValueError",
     "evalue": "cannot reshape array of size 1 into shape (3,1)",
     "output_type": "error",
     "traceback": [
      "\u001b[0;31m---------------------------------------------------------------------------\u001b[0m",
      "\u001b[0;31mValueError\u001b[0m                                Traceback (most recent call last)",
      "\u001b[0;32m<ipython-input-55-057b00fd9d5e>\u001b[0m in \u001b[0;36m<module>\u001b[0;34m()\u001b[0m\n\u001b[0;32m----> 1\u001b[0;31m \u001b[0mX\u001b[0m\u001b[0;34m[\u001b[0m\u001b[0mhashes\u001b[0m\u001b[0;34m==\u001b[0m\u001b[0mnp\u001b[0m\u001b[0;34m.\u001b[0m\u001b[0marray\u001b[0m\u001b[0;34m(\u001b[0m\u001b[0;34m[\u001b[0m\u001b[0;36m1\u001b[0m\u001b[0;34m]\u001b[0m\u001b[0;34m)\u001b[0m\u001b[0;34m.\u001b[0m\u001b[0mreshape\u001b[0m\u001b[0;34m(\u001b[0m\u001b[0;34m(\u001b[0m\u001b[0mlen\u001b[0m\u001b[0;34m(\u001b[0m\u001b[0mX\u001b[0m\u001b[0;34m)\u001b[0m\u001b[0;34m,\u001b[0m \u001b[0;36m1\u001b[0m\u001b[0;34m)\u001b[0m\u001b[0;34m)\u001b[0m\u001b[0;34m]\u001b[0m\u001b[0;34m\u001b[0m\u001b[0m\n\u001b[0m",
      "\u001b[0;31mValueError\u001b[0m: cannot reshape array of size 1 into shape (3,1)"
     ]
    }
   ],
   "source": [
    "X[hashes==np.array([1]).reshape((len(X), 1))]"
   ]
  },
  {
   "cell_type": "code",
   "execution_count": 52,
   "metadata": {},
   "outputs": [
    {
     "data": {
      "text/plain": [
       "array([[False],\n",
       "       [ True],\n",
       "       [False]], dtype=bool)"
      ]
     },
     "execution_count": 52,
     "metadata": {},
     "output_type": "execute_result"
    }
   ],
   "source": [
    "hashes==1"
   ]
  },
  {
   "cell_type": "code",
   "execution_count": 54,
   "metadata": {},
   "outputs": [
    {
     "data": {
      "text/plain": [
       "array([[1, 2, 3],\n",
       "       [7, 8, 9]])"
      ]
     },
     "execution_count": 54,
     "metadata": {},
     "output_type": "execute_result"
    }
   ],
   "source": [
    "X[np.array([True, False, True]), :]"
   ]
  }
 ],
 "metadata": {
  "kernelspec": {
   "display_name": "Python 2",
   "language": "python",
   "name": "python2"
  },
  "language_info": {
   "codemirror_mode": {
    "name": "ipython",
    "version": 2
   },
   "file_extension": ".py",
   "mimetype": "text/x-python",
   "name": "python",
   "nbconvert_exporter": "python",
   "pygments_lexer": "ipython2",
   "version": "2.7.11"
  }
 },
 "nbformat": 4,
 "nbformat_minor": 2
}
