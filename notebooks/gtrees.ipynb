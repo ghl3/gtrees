{
 "cells": [
  {
   "cell_type": "code",
   "execution_count": 1,
   "metadata": {},
   "outputs": [],
   "source": [
    "from __future__ import division"
   ]
  },
  {
   "cell_type": "code",
   "execution_count": 2,
   "metadata": {},
   "outputs": [],
   "source": [
    "import math\n",
    "import random\n",
    "import numpy as np\n",
    "import pandas as pd"
   ]
  },
  {
   "cell_type": "code",
   "execution_count": 3,
   "metadata": {},
   "outputs": [],
   "source": [
    "from sklearn import datasets"
   ]
  },
  {
   "cell_type": "code",
   "execution_count": 11,
   "metadata": {},
   "outputs": [],
   "source": [
    "import matplotlib.pyplot as plt\n",
    "%matplotlib inline"
   ]
  },
  {
   "cell_type": "code",
   "execution_count": 12,
   "metadata": {},
   "outputs": [],
   "source": [
    "%load_ext autoreload\n",
    "%autoreload 1\n",
    "\n",
    "%aimport gtree"
   ]
  },
  {
   "cell_type": "code",
   "execution_count": 13,
   "metadata": {},
   "outputs": [],
   "source": [
    "import logging\n",
    "%config Application.log_level=\"INFO\"\n",
    "logging.basicConfig(format='%(asctime)s %(name)s %(levelname)s:%(message)s', level=logging.DEBUG, datefmt='%I:%M:%S')"
   ]
  },
  {
   "cell_type": "markdown",
   "metadata": {},
   "source": [
    "## Goals:\n",
    "\n",
    "### Separate the structure of a tree from the data of a tree.  In other words,\n",
    "  fitting a tree does two things: It creates the structure of a tree and it\n",
    "  creates a mapping of each leaf to a value.  Lookup therefore requires both\n",
    "  finding the leaf node AND using the map to lookup the value.\n",
    "  \n",
    "### The loss function optimized by the tree is configurable, as is the leaf\n"
   ]
  },
  {
   "cell_type": "markdown",
   "metadata": {},
   "source": [
    "## Terms:\n",
    "\n",
    "### Tree\n",
    "A Tree is an object that takes input data and determines what leaf it ends up in.  Unlike many tree implementations, the Tree itself doesn't store data about the value of a leaf.  That is stored externally.\n",
    "\n",
    "\n",
    "### loss_fn\n",
    "A loss_fn is a function that takes data rows, the predicted targets for those rows, and the actual targets for those rows, and returns a single value that determines the \"LOSS\" or \"COST\" of that prediction (lower cost/loss is better)\n",
    "\n",
    "```\n",
    "def loss_fn(predicted_targets, actual_targets) -> float\n",
    "```\n",
    "\n",
    "A loss function must be additive (so, one should not apply a mean as a part of it)\n",
    "\n",
    "### leaf_prediction_fn\n",
    "A leaf_prediction_fn is a function which takes the features and actual targets that end up in a leaf and returns a Series of the predictions for each row ending up in that leaf.  It is typically a constant function whose value is either the mean good rate in that leaf (among the actual targets) or the median target, but can be anything else\n",
    "\n",
    "```\n",
    "def leaf_prediction_fn(features) -> pd.Series\n",
    "```\n",
    "\n",
    "\n",
    "### leaf_prediction_builder\n",
    "A leaf_prediction_builder is a function which takes the features and actual targets that end up in a TRANING leaf and returns a leaf_prediction_fn.  This leaf_prediction_fn is used to predict the value of testing rows that end up in the same leaf.\n",
    "\n",
    "```\n",
    "def leaf_prediction_builder(features, actual_targets) -> leaf_prediction_fn\n",
    "```\n",
    "\n",
    "\n",
    "### leaf_prediction_map\n",
    "A leaf_prediction_map is a map of leaf ids (eg their hash) to the leaf_prediction_fn for that leaf.  One can only use a tree to score data if one has a leaf_prediction_map.  This design allows on to use the same tree as a subset of another tree without having their leaf values become entangled."
   ]
  },
  {
   "cell_type": "markdown",
   "metadata": {},
   "source": [
    "--------------"
   ]
  },
  {
   "cell_type": "markdown",
   "metadata": {},
   "source": [
    "## Test Tree Manipulation Functions"
   ]
  },
  {
   "cell_type": "code",
   "execution_count": 7,
   "metadata": {},
   "outputs": [
    {
     "name": "stdout",
     "output_type": "stream",
     "text": [
      "Automatic pdb calling has been turned OFF\n"
     ]
    }
   ],
   "source": [
    "%pdb off"
   ]
  },
  {
   "cell_type": "code",
   "execution_count": 8,
   "metadata": {},
   "outputs": [
    {
     "name": "stdout",
     "output_type": "stream",
     "text": [
      "\tLeaf(0.360883544777)\n",
      "\n",
      "A 0.5\n",
      "\n",
      "\t\tLeaf(0.500856349064)\n",
      "\n",
      "\tB 0.9\n",
      "\n",
      "\t\tLeaf(0.453760363577)\n",
      "\n",
      "\n",
      "\n",
      "\n",
      "\tLeaf(0.97798875491)\n",
      "\n",
      "C 0.1\n",
      "\n",
      "\tLeaf(0.72512513995)\n",
      "\n"
     ]
    }
   ],
   "source": [
    "t = gtree.BranchNode('A', 0.5, None, None)\n",
    "t.left = gtree.LeafNode()\n",
    "t.right = gtree.BranchNode('B', 0.9, None, None)\n",
    "t.right.left = gtree.LeafNode()\n",
    "t.right.right = gtree.LeafNode()\n",
    "\n",
    "o = gtree.BranchNode('C', 0.1, None, None)\n",
    "o.left = gtree.LeafNode()\n",
    "o.right = gtree.LeafNode()\n",
    "\n",
    "t.prn()\n",
    "print '\\n\\n'\n",
    "o.prn()"
   ]
  },
  {
   "cell_type": "code",
   "execution_count": 9,
   "metadata": {},
   "outputs": [
    {
     "name": "stdout",
     "output_type": "stream",
     "text": [
      "\tLeaf(0.360883544777)\n",
      "\n",
      "A 0.5\n",
      "\n",
      "\t\tLeaf(0.500856349064)\n",
      "\n",
      "\tC 0.1\n",
      "\n",
      "\t\tLeaf(0.453760363577)\n",
      "\n",
      "\n",
      "\n",
      "\n",
      "\tLeaf(0.360883544777)\n",
      "\n",
      "A 0.5\n",
      "\n",
      "\t\tLeaf(0.500856349064)\n",
      "\n",
      "\tB 0.9\n",
      "\n",
      "\t\tLeaf(0.453760363577)\n",
      "\n"
     ]
    }
   ],
   "source": [
    "u = gtree.replace_branch_split(t, t.right, o)\n",
    "u.prn()\n",
    "print '\\n\\n'\n",
    "t.prn()"
   ]
  },
  {
   "cell_type": "code",
   "execution_count": 10,
   "metadata": {},
   "outputs": [
    {
     "name": "stdout",
     "output_type": "stream",
     "text": [
      "\t\tLeaf(0.97798875491)\n",
      "\n",
      "\tC 0.1\n",
      "\n",
      "\t\tLeaf(0.72512513995)\n",
      "\n",
      "A 0.5\n",
      "\n",
      "\t\tLeaf(0.500856349064)\n",
      "\n",
      "\tB 0.9\n",
      "\n",
      "\t\tLeaf(0.453760363577)\n",
      "\n",
      "\n",
      "\n",
      "\n",
      "\tLeaf(0.360883544777)\n",
      "\n",
      "A 0.5\n",
      "\n",
      "\t\tLeaf(0.500856349064)\n",
      "\n",
      "\tB 0.9\n",
      "\n",
      "\t\tLeaf(0.453760363577)\n",
      "\n"
     ]
    }
   ],
   "source": [
    "v = gtree.replace_node(t, t.left, o)\n",
    "v.prn()\n",
    "print '\\n\\n'\n",
    "t.prn()"
   ]
  },
  {
   "cell_type": "code",
   "execution_count": 11,
   "metadata": {},
   "outputs": [
    {
     "name": "stdout",
     "output_type": "stream",
     "text": [
      "\tLeaf(0.256080594178)\n",
      "\n",
      "A 0.5\n",
      "\n",
      "\t\tLeaf(0.969367371707)\n",
      "\n",
      "\tB 0.9\n",
      "\n",
      "\t\t\tLeaf(0.187523824675)\n",
      "\n",
      "\t\tC 0.9\n",
      "\n",
      "\t\t\tLeaf(0.902891676411)\n",
      "\n",
      "\n",
      "\n",
      "\n",
      "\tLeaf(0.256080594178)\n",
      "\n",
      "A 0.5\n",
      "\n",
      "\t\tLeaf(0.920887642809)\n",
      "\n",
      "\tB 0.9\n",
      "\n",
      "\t\tLeaf(0.171126608762)\n",
      "\n",
      "\n",
      "\n",
      "\n",
      "\tLeaf(0.256080594178)\n",
      "\n",
      "A 0.5\n",
      "\n",
      "\t\tLeaf(0.969367371707)\n",
      "\n",
      "\tB 0.9\n",
      "\n",
      "\t\t\tLeaf(0.187523824675)\n",
      "\n",
      "\t\tC 0.9\n",
      "\n",
      "\t\t\tLeaf(0.902891676411)\n",
      "\n"
     ]
    }
   ],
   "source": [
    "t = gtree.BranchNode('A', 0.5, None, None)\n",
    "t.left = gtree.LeafNode()\n",
    "t.right = gtree.BranchNode('B', 0.9, None, None)\n",
    "t.right.left = gtree.LeafNode()\n",
    "t.right.right = gtree.BranchNode('C', 0.9, None, None)\n",
    "t.right.right.right = gtree.LeafNode()\n",
    "t.right.right.left = gtree.LeafNode()\n",
    "\n",
    "t.prn()\n",
    "print '\\n\\n'\n",
    "gtree.prune(t, 2).prn()\n",
    "print '\\n\\n'\n",
    "t.prn()"
   ]
  },
  {
   "cell_type": "code",
   "execution_count": null,
   "metadata": {
    "collapsed": true
   },
   "outputs": [],
   "source": []
  },
  {
   "cell_type": "code",
   "execution_count": 12,
   "metadata": {
    "collapsed": true
   },
   "outputs": [],
   "source": [
    "data = pd.DataFrame({'A': [0.1, 10, .02],\n",
    "                     'B': [10, 20, 30]},\n",
    "                    index=['foo', 'bar', 'baz'])"
   ]
  },
  {
   "cell_type": "code",
   "execution_count": 13,
   "metadata": {
    "collapsed": true
   },
   "outputs": [],
   "source": [
    "def leaf_count_fn(val):\n",
    "    return lambda df: pd.Series([val for _ in range(len(df))], index=df.index)"
   ]
  },
  {
   "cell_type": "code",
   "execution_count": 14,
   "metadata": {},
   "outputs": [
    {
     "data": {
      "text/plain": [
       "foo    10\n",
       "bar    20\n",
       "baz    10\n",
       "dtype: int64"
      ]
     },
     "execution_count": 14,
     "metadata": {},
     "output_type": "execute_result"
    }
   ],
   "source": [
    "t = gtree.BranchNode('A', 0.5, None, None)\n",
    "t.left = gtree.LeafNode() #'A', 0.5, 10, 20)\n",
    "t.right = gtree.LeafNode() #'A', 0.5, 100, 0)\n",
    "\n",
    "leaf_map = {hash(t.left): leaf_count_fn(10),\n",
    "            hash(t.right): leaf_count_fn(20)}\n",
    "\n",
    "t.predict(data, leaf_map)"
   ]
  },
  {
   "cell_type": "code",
   "execution_count": 15,
   "metadata": {},
   "outputs": [
    {
     "data": {
      "text/plain": [
       "(5, 0.19999999999999996)"
      ]
     },
     "execution_count": 15,
     "metadata": {},
     "output_type": "execute_result"
    }
   ],
   "source": [
    "# Create a split on a DataFrame\n",
    "\n",
    "df = pd.DataFrame({'foo': pd.Series([1, 2, 3, 4, 5, 6, 7, 8, 9, 10])})\n",
    "\n",
    "gtree._single_variable_best_split(\n",
    "    df,\n",
    "    'foo',\n",
    "    pd.Series([0, 0, 1, 0, 0, 1, 1, 0, 1, 1]),\n",
    "    gtree.error_rate_loss,\n",
    "    gtree.leaf_good_rate_split_builder)"
   ]
  },
  {
   "cell_type": "code",
   "execution_count": 16,
   "metadata": {},
   "outputs": [
    {
     "data": {
      "text/plain": [
       "1.0"
      ]
     },
     "execution_count": 16,
     "metadata": {},
     "output_type": "execute_result"
    }
   ],
   "source": [
    "threshold = 0.5\n",
    "truth     = pd.Series([1, 0, 1])\n",
    "predicted = pd.Series([0, 1, 0])\n",
    "\n",
    "gtree.error_rate_loss(truth, predicted)\n",
    "\n",
    "\n",
    "1.0 - ((predicted >= threshold) == truth).mean() #+ (predicted < threshold) * (1 - truth)"
   ]
  },
  {
   "cell_type": "code",
   "execution_count": 17,
   "metadata": {},
   "outputs": [
    {
     "name": "stderr",
     "output_type": "stream",
     "text": [
      "03:35:13 tree INFO:Training.  Depth 0 Current Loss: 0.4167 Best Split: B 40.0000 0.2500\n",
      "03:35:13 tree INFO:Training.  Depth 1 Current Loss: 0.0000 Best Split: A 1.0000 0.0000\n",
      "03:35:13 tree INFO:No split improves loss.  Returning\n",
      "03:35:14 tree INFO:Training.  Depth 1 Current Loss: 0.3750 Best Split: A 10.0000 0.1250\n",
      "03:35:14 tree INFO:Training.  Depth 2 Current Loss: 0.1667 Best Split: A 3.0000 0.1667\n",
      "03:35:14 tree INFO:No split improves loss.  Returning\n",
      "03:35:14 tree INFO:Training.  Depth 2 Current Loss: 0.0000 Best Split: A 11.0000 0.0000\n",
      "03:35:14 tree INFO:No split improves loss.  Returning\n"
     ]
    },
    {
     "name": "stdout",
     "output_type": "stream",
     "text": [
      "\n",
      "Tree:\n",
      "\n",
      "\tLeaf(0.729188252837)\n",
      "\n",
      "B 40\n",
      "\n",
      "\t\tLeaf(0.2499323379)\n",
      "\n",
      "\tA 10\n",
      "\n",
      "\t\tLeaf(0.429783676767)\n",
      "\n",
      "{2167387241: <function <lambda> at 0x1106be320>, 4259768738: <function <lambda> at 0x110684848>, 1996908948: <function <lambda> at 0x1106be410>}\n"
     ]
    }
   ],
   "source": [
    "df = pd.DataFrame({'A': [1, 2, 3, 4, 5, 6, 7, 8, 9, 10, 11, 12],\n",
    "                   'B': [10, 20, 50, 30, 40, 50, 60, 50, 70, 90, 100, 110 ]})\n",
    "target = pd.Series([0, 0, 1, 0, 0, 1, 1, 0, 1, 1, 0, 0])\n",
    "\n",
    "tree, leaf_map = gtree.train_greedy_tree(df, target, loss_fn=gtree.error_rate_loss)\n",
    "\n",
    "print '\\nTree:\\n'\n",
    "tree.prn()\n",
    "\n",
    "print leaf_map"
   ]
  },
  {
   "cell_type": "code",
   "execution_count": 18,
   "metadata": {},
   "outputs": [
    {
     "data": {
      "text/plain": [
       "{1996908948: <function gtree.<lambda>>,\n",
       " 2167387241: <function gtree.<lambda>>,\n",
       " 4259768738: <function gtree.<lambda>>}"
      ]
     },
     "execution_count": 18,
     "metadata": {},
     "output_type": "execute_result"
    }
   ],
   "source": [
    "gtree.calculate_leaf_map(tree, df, target)"
   ]
  },
  {
   "cell_type": "code",
   "execution_count": 19,
   "metadata": {},
   "outputs": [
    {
     "data": {
      "text/plain": [
       "<gtree.LeafNode at 0x110665c90>"
      ]
     },
     "execution_count": 19,
     "metadata": {},
     "output_type": "execute_result"
    }
   ],
   "source": [
    "gtree.random_node(tree)"
   ]
  },
  {
   "cell_type": "code",
   "execution_count": 20,
   "metadata": {},
   "outputs": [
    {
     "name": "stdout",
     "output_type": "stream",
     "text": [
      "[<gtree.BranchNode object at 0x1106add10>, <gtree.LeafNode object at 0x110665e50>, <gtree.BranchNode object at 0x1106b8450>, <gtree.LeafNode object at 0x110665e50>, <gtree.BranchNode object at 0x1106b8450>, <gtree.LeafNode object at 0x110665c90>, <gtree.LeafNode object at 0x1106c5490>, <gtree.LeafNode object at 0x110665c90>, <gtree.LeafNode object at 0x1106c5490>]\n"
     ]
    }
   ],
   "source": [
    "print gtree.get_all_nodes(tree)"
   ]
  },
  {
   "cell_type": "code",
   "execution_count": 21,
   "metadata": {},
   "outputs": [
    {
     "name": "stderr",
     "output_type": "stream",
     "text": [
      "03:35:19 tree INFO:Training.  Depth 0 Current Loss: 0.4167 Best Split: A 1.0000 0.1667\n",
      "03:35:19 tree INFO:Reached leaf node, or constraints force termination.  Returning\n",
      "03:35:19 tree INFO:Training.  Depth 1 Current Loss: 0.4545 Best Split: B 40.0000 0.2727\n",
      "03:35:19 tree INFO:Training.  Depth 2 Current Loss: 0.0000 Best Split: A 2.0000 0.0000\n",
      "03:35:19 tree INFO:No split improves loss.  Returning\n",
      "03:35:19 tree INFO:Training.  Depth 2 Current Loss: 0.3750 Best Split: A 10.0000 0.1250\n",
      "03:35:19 tree INFO:Training.  Depth 3 Current Loss: 0.1667 Best Split: A 3.0000 0.1667\n",
      "03:35:19 tree INFO:No split improves loss.  Returning\n",
      "03:35:19 tree INFO:Training.  Depth 3 Current Loss: 0.0000 Best Split: A 11.0000 0.0000\n",
      "03:35:19 tree INFO:No split improves loss.  Returning\n"
     ]
    },
    {
     "name": "stdout",
     "output_type": "stream",
     "text": [
      "\n",
      "Tree:\n",
      "\n",
      "\tLeaf(0.251727490486)\n",
      "\n",
      "A 1\n",
      "\n",
      "\t\tLeaf(0.930525089142)\n",
      "\n",
      "\tB 40\n",
      "\n",
      "\t\t\tLeaf(0.720837462476)\n",
      "\n",
      "\t\tA 10\n",
      "\n",
      "\t\t\tLeaf(0.60678913307)\n",
      "\n",
      "{1383260795: <function <lambda> at 0x1106a21b8>, 4113978420: <function <lambda> at 0x110684cf8>, 1413170733: <function <lambda> at 0x1106a29b0>, 2691078375: <function <lambda> at 0x1106e51b8>}\n"
     ]
    }
   ],
   "source": [
    "df = pd.DataFrame({'A': [1, 2, 3, 4, 5, 6, 7, 8, 9, 10, 11, 12],\n",
    "                   'B': [10, 20, 50, 30, 40, 50, 60, 50, 70, 90, 100, 110 ]})\n",
    "target = pd.Series([0, 0, 1, 0, 0, 1, 1, 0, 1, 1, 0, 0])\n",
    "\n",
    "tree, leaf_map = gtree.train_greedy_tree(df, target, loss_fn=gtree.error_rate_loss,\n",
    "                                         feature_sample_rate=.5,\n",
    "                                         row_sample_rate=.5)\n",
    "\n",
    "print '\\nTree:\\n'\n",
    "tree.prn()\n",
    "\n",
    "print leaf_map"
   ]
  },
  {
   "cell_type": "code",
   "execution_count": 22,
   "metadata": {},
   "outputs": [
    {
     "name": "stdout",
     "output_type": "stream",
     "text": [
      "\tLeaf(0.251727490486)\n",
      "\n",
      "B 40\n",
      "\n",
      "\t\tLeaf(0.930525089142)\n",
      "\n",
      "\tA 1\n",
      "\n",
      "\t\t\tLeaf(0.720837462476)\n",
      "\n",
      "\t\tA 10\n",
      "\n",
      "\t\t\tLeaf(0.60678913307)\n",
      "\n"
     ]
    }
   ],
   "source": [
    "gtree.mate(tree, tree).prn()"
   ]
  },
  {
   "cell_type": "code",
   "execution_count": 23,
   "metadata": {},
   "outputs": [],
   "source": [
    "def make_hastie_sample(n_samples):\n",
    "\n",
    "    features, targets = datasets.make_hastie_10_2(n_samples=n_samples)\n",
    "\n",
    "    features = pd.DataFrame(features, columns=['feature_{}'.format(i) for i in range(features.shape[1])])\n",
    "    targets = pd.Series(targets, name='target')\n",
    "    targets = targets.map(lambda x: 1.0 if x > 0 else 0.0)\n",
    "    return features, targets\n",
    "\n"
   ]
  },
  {
   "cell_type": "code",
   "execution_count": 14,
   "metadata": {},
   "outputs": [],
   "source": [
    "def make_kddcup(n_samples):\n",
    "    \n",
    "    features, targets = datasets.fetch_kddcup99(subset='smtp')\n",
    "\n",
    "    features = pd.DataFrame(features, columns=['feature_{}'.format(i) for i in range(features.shape[1])])\n",
    "    targets = pd.Series(targets, name='target')\n",
    "    targets = targets.map(lambda x: 1.0 if x > 0 else 0.0)\n",
    "    \n",
    "    features = featurse.sample(n=n_samples)\n",
    "    \n",
    "    return features, targets.loc[features.index]\n",
    "    \n",
    "\n",
    "def make_random_classification(n_samples, n_features=100):\n",
    "    \n",
    "    \n",
    "    \n",
    "    features, targets = datasets.make_classification(n_samples=n_samples,\n",
    "                                                     n_features=n_features,\n",
    "                                                     n_informative=8,\n",
    "                                                     n_classes=2,\n",
    "                                                     n_clusters_per_class=4)\n",
    "                                                     \n",
    "\n",
    "    features = pd.DataFrame(features, columns=['feature_{}'.format(i) for i in range(features.shape[1])])\n",
    "    targets = pd.Series(targets, name='target')\n",
    "    targets = targets.map(lambda x: 1.0 if x > 0 else 0.0)\n",
    "        \n",
    "    return features, targets.loc[features.index]"
   ]
  },
  {
   "cell_type": "code",
   "execution_count": 15,
   "metadata": {},
   "outputs": [],
   "source": [
    "\n",
    "#features, targets = make_hastie_sample(10000)\n",
    "features, targets = make_random_classification(10000)"
   ]
  },
  {
   "cell_type": "code",
   "execution_count": 16,
   "metadata": {},
   "outputs": [
    {
     "data": {
      "text/plain": [
       "(10000, 100)"
      ]
     },
     "execution_count": 16,
     "metadata": {},
     "output_type": "execute_result"
    }
   ],
   "source": [
    "features.shape"
   ]
  },
  {
   "cell_type": "code",
   "execution_count": 17,
   "metadata": {},
   "outputs": [
    {
     "data": {
      "text/plain": [
       "0.0    5012\n",
       "1.0    4988\n",
       "Name: target, dtype: int64"
      ]
     },
     "execution_count": 17,
     "metadata": {},
     "output_type": "execute_result"
    }
   ],
   "source": [
    "targets.value_counts()"
   ]
  },
  {
   "cell_type": "code",
   "execution_count": 18,
   "metadata": {
    "scrolled": true
   },
   "outputs": [
    {
     "name": "stderr",
     "output_type": "stream",
     "text": [
      "06:54:15 tree INFO:Training.  Depth 0 Current Loss: 0.4988 Best Split: feature_83 0.0698 0.3852\n",
      "06:56:11 tree INFO:Training.  Depth 1 Current Loss: 0.3886 Best Split: feature_3 -1.8243 0.2763\n",
      "06:57:17 tree INFO:Training.  Depth 2 Current Loss: 0.2949 Best Split: feature_17 -3.2804 0.2878\n",
      "06:57:27 tree INFO:Training.  Depth 3 Current Loss: 0.2727 Best Split: feature_83 -2.9895 0.0455\n",
      "06:57:29 tree INFO:Training.  Depth 4 Current Loss: 0.0000 Best Split: feature_0 0.2749 0.0000\n",
      "06:57:29 tree INFO:No split improves loss.  Returning\n",
      "06:57:37 tree INFO:Training.  Depth 4 Current Loss: 0.0588 Best Split: feature_3 -5.1263 0.0000\n",
      "06:57:37 tree INFO:Reached leaf node, or constraints force termination.  Returning\n",
      "06:57:45 tree INFO:Training.  Depth 5 Current Loss: 0.0000 Best Split: feature_0 -0.2473 0.0000\n",
      "06:57:45 tree INFO:No split improves loss.  Returning\n",
      "06:58:44 tree INFO:Training.  Depth 3 Current Loss: 0.2880 Best Split: feature_32 2.1051 0.2829\n",
      "06:59:41 tree INFO:Training.  Depth 4 Current Loss: 0.2828 Best Split: feature_69 3.7811 0.2784\n",
      "07:00:42 tree INFO:Training.  Depth 5 Current Loss: 0.2753 Best Split: feature_48 2.3151 0.2722\n",
      "07:01:45 tree INFO:Training.  Depth 6 Current Loss: 0.2717 Best Split: feature_47 2.3097 0.2686\n",
      "07:02:45 tree INFO:Training.  Depth 7 Current Loss: 0.2688 Best Split: feature_96 3.9937 0.2657\n",
      "07:02:45 tree INFO:Reached leaf node, or constraints force termination.  Returning\n",
      "07:02:45 tree INFO:Reached leaf node, or constraints force termination.  Returning\n",
      "07:02:49 tree INFO:Training.  Depth 7 Current Loss: 0.2500 Best Split: feature_2 0.3552 0.0000\n",
      "07:02:49 tree INFO:Reached leaf node, or constraints force termination.  Returning\n",
      "07:02:49 tree INFO:Reached leaf node, or constraints force termination.  Returning\n",
      "07:02:55 tree INFO:Training.  Depth 6 Current Loss: 0.3333 Best Split: feature_4 -0.7145 0.0833\n",
      "07:02:56 tree INFO:Training.  Depth 7 Current Loss: 0.0000 Best Split: feature_0 -1.2290 0.0000\n",
      "07:02:56 tree INFO:No split improves loss.  Returning\n",
      "07:03:00 tree INFO:Training.  Depth 7 Current Loss: 0.1111 Best Split: feature_2 0.4532 0.0000\n",
      "07:03:01 tree INFO:Reached leaf node, or constraints force termination.  Returning\n",
      "07:03:01 tree INFO:Reached leaf node, or constraints force termination.  Returning\n",
      "07:03:16 tree INFO:Training.  Depth 5 Current Loss: 0.4062 Best Split: feature_17 1.6831 0.1250\n",
      "07:03:27 tree INFO:Training.  Depth 6 Current Loss: 0.1739 Best Split: feature_8 2.2560 0.0435\n",
      "07:03:36 tree INFO:Training.  Depth 7 Current Loss: 0.0500 Best Split: feature_20 -1.9779 0.0000\n",
      "07:03:36 tree INFO:Reached leaf node, or constraints force termination.  Returning\n",
      "07:03:36 tree INFO:Reached leaf node, or constraints force termination.  Returning\n",
      "07:03:38 tree INFO:Training.  Depth 7 Current Loss: 0.0000 Best Split: feature_0 -0.3349 0.0000\n",
      "07:03:38 tree INFO:No split improves loss.  Returning\n",
      "07:03:43 tree INFO:Training.  Depth 6 Current Loss: 0.0000 Best Split: feature_0 -1.3147 0.0000\n",
      "07:03:43 tree INFO:No split improves loss.  Returning\n",
      "07:03:51 tree INFO:Training.  Depth 4 Current Loss: 0.2941 Best Split: feature_85 -1.3372 0.0588\n",
      "07:03:52 tree INFO:Training.  Depth 5 Current Loss: 0.0000 Best Split: feature_0 0.7193 0.0000\n",
      "07:03:52 tree INFO:No split improves loss.  Returning\n",
      "07:03:59 tree INFO:Training.  Depth 5 Current Loss: 0.0769 Best Split: feature_5 1.1410 0.0000\n",
      "07:04:05 tree INFO:Training.  Depth 6 Current Loss: 0.0000 Best Split: feature_0 1.8551 0.0000\n",
      "07:04:05 tree INFO:No split improves loss.  Returning\n",
      "07:04:05 tree INFO:Reached leaf node, or constraints force termination.  Returning\n",
      "07:05:40 tree INFO:Training.  Depth 2 Current Loss: 0.2692 Best Split: feature_31 -3.9841 0.2441\n",
      "07:06:30 tree INFO:Training.  Depth 3 Current Loss: 0.2540 Best Split: feature_3 1.0883 0.0847\n",
      "07:07:16 tree INFO:Training.  Depth 4 Current Loss: 0.0690 Best Split: feature_76 -0.0829 0.0483\n",
      "07:08:00 tree INFO:Training.  Depth 5 Current Loss: 0.0493 Best Split: feature_23 2.0612 0.0423\n",
      "07:08:40 tree INFO:Training.  Depth 6 Current Loss: 0.0426 Best Split: feature_35 2.3628 0.0355\n",
      "07:09:18 tree INFO:Training.  Depth 7 Current Loss: 0.0357 Best Split: feature_5 -2.0788 0.0286\n",
      "07:09:18 tree INFO:Reached leaf node, or constraints force termination.  Returning\n",
      "07:09:18 tree INFO:Reached leaf node, or constraints force termination.  Returning\n",
      "07:09:18 tree INFO:Reached leaf node, or constraints force termination.  Returning\n",
      "07:09:18 tree INFO:Reached leaf node, or constraints force termination.  Returning\n",
      "07:09:19 tree INFO:Training.  Depth 5 Current Loss: 0.0000 Best Split: feature_0 0.3394 0.0000\n",
      "07:09:19 tree INFO:No split improves loss.  Returning\n",
      "07:09:37 tree INFO:Training.  Depth 4 Current Loss: 0.1364 Best Split: feature_29 -7.5208 0.0455\n",
      "07:09:38 tree INFO:Training.  Depth 5 Current Loss: 0.0000 Best Split: feature_0 -0.0261 0.0000\n",
      "07:09:38 tree INFO:No split improves loss.  Returning\n",
      "07:09:53 tree INFO:Training.  Depth 5 Current Loss: 0.0500 Best Split: feature_8 -5.2084 0.0250\n",
      "07:09:54 tree INFO:Training.  Depth 6 Current Loss: 0.3333 Best Split: feature_0 -0.0056 0.0000\n",
      "07:09:54 tree INFO:Training.  Depth 7 Current Loss: 0.0000 Best Split: feature_0 -0.1898 0.0000\n",
      "07:09:54 tree INFO:No split improves loss.  Returning\n",
      "07:09:54 tree INFO:Reached leaf node, or constraints force termination.  Returning\n",
      "07:10:09 tree INFO:Training.  Depth 6 Current Loss: 0.0000 Best Split: feature_0 0.4162 0.0000\n",
      "07:10:09 tree INFO:No split improves loss.  Returning\n",
      "07:11:22 tree INFO:Training.  Depth 3 Current Loss: 0.2436 Best Split: feature_29 -8.7192 0.2388\n",
      "07:11:30 tree INFO:Training.  Depth 4 Current Loss: 0.0952 Best Split: feature_75 1.0030 0.0000\n",
      "07:11:37 tree INFO:Training.  Depth 5 Current Loss: 0.0000 Best Split: feature_0 0.4703 0.0000\n",
      "07:11:37 tree INFO:No split improves loss.  Returning\n",
      "07:11:37 tree INFO:Training.  Depth 5 Current Loss: 0.0000 Best Split: feature_0 0.6313 0.0000\n",
      "07:11:37 tree INFO:No split improves loss.  Returning\n",
      "07:12:53 tree INFO:Training.  Depth 4 Current Loss: 0.2396 Best Split: feature_37 2.8428 0.2379\n",
      "07:14:00 tree INFO:Training.  Depth 5 Current Loss: 0.2374 Best Split: feature_6 -4.3448 0.2371\n",
      "07:14:00 tree INFO:Reached leaf node, or constraints force termination.  Returning\n",
      "07:15:09 tree INFO:Training.  Depth 6 Current Loss: 0.2372 Best Split: feature_58 -3.7867 0.2369\n",
      "07:15:09 tree INFO:Reached leaf node, or constraints force termination.  Returning\n",
      "07:16:19 tree INFO:Training.  Depth 7 Current Loss: 0.2370 Best Split: feature_70 -3.9224 0.2367\n",
      "07:16:19 tree INFO:Reached leaf node, or constraints force termination.  Returning\n",
      "07:16:19 tree INFO:Reached leaf node, or constraints force termination.  Returning\n",
      "07:16:25 tree INFO:Training.  Depth 5 Current Loss: 0.3333 Best Split: feature_48 0.0546 0.1111\n",
      "07:16:29 tree INFO:Training.  Depth 6 Current Loss: 0.0833 Best Split: feature_1 0.8417 0.0000\n",
      "07:16:32 tree INFO:Training.  Depth 7 Current Loss: 0.0000 Best Split: feature_0 0.6983 0.0000\n",
      "07:16:32 tree INFO:No split improves loss.  Returning\n",
      "07:16:32 tree INFO:Reached leaf node, or constraints force termination.  Returning\n",
      "07:16:34 tree INFO:Training.  Depth 6 Current Loss: 0.1667 Best Split: feature_0 -0.5580 0.0000\n",
      "07:16:34 tree INFO:Reached leaf node, or constraints force termination.  Returning\n",
      "07:16:36 tree INFO:Training.  Depth 7 Current Loss: 0.0000 Best Split: feature_0 -0.4885 0.0000\n",
      "07:16:36 tree INFO:No split improves loss.  Returning\n",
      "07:18:05 tree INFO:Training.  Depth 1 Current Loss: 0.3816 Best Split: feature_17 -1.3547 0.3447\n",
      "07:18:42 tree INFO:Training.  Depth 2 Current Loss: 0.3339 Best Split: feature_37 1.1965 0.2495\n",
      "07:19:25 tree INFO:Training.  Depth 3 Current Loss: 0.2367 Best Split: feature_96 -2.6306 0.1694\n",
      "07:19:47 tree INFO:Training.  Depth 4 Current Loss: 0.1778 Best Split: feature_3 -0.0366 0.1111\n",
      "07:20:07 tree INFO:Training.  Depth 5 Current Loss: 0.1000 Best Split: feature_79 0.8641 0.0500\n",
      "07:20:25 tree INFO:Training.  Depth 6 Current Loss: 0.0278 Best Split: feature_11 -1.6935 0.0000\n",
      "07:20:25 tree INFO:Reached leaf node, or constraints force termination.  Returning\n",
      "07:20:42 tree INFO:Training.  Depth 7 Current Loss: 0.0000 Best Split: feature_0 -1.2220 0.0000\n"
     ]
    },
    {
     "name": "stderr",
     "output_type": "stream",
     "text": [
      "07:20:42 tree INFO:No split improves loss.  Returning\n",
      "07:20:44 tree INFO:Training.  Depth 6 Current Loss: 0.2500 Best Split: feature_0 -0.4574 0.0000\n",
      "07:20:44 tree INFO:Reached leaf node, or constraints force termination.  Returning\n",
      "07:20:45 tree INFO:Training.  Depth 7 Current Loss: 0.0000 Best Split: feature_0 -0.4382 0.0000\n",
      "07:20:45 tree INFO:No split improves loss.  Returning\n",
      "07:20:47 tree INFO:Training.  Depth 5 Current Loss: 0.2000 Best Split: feature_1 -2.3422 0.0000\n",
      "07:20:47 tree INFO:Reached leaf node, or constraints force termination.  Returning\n",
      "07:20:49 tree INFO:Training.  Depth 6 Current Loss: 0.0000 Best Split: feature_0 0.6537 0.0000\n",
      "07:20:49 tree INFO:No split improves loss.  Returning\n",
      "07:21:42 tree INFO:Training.  Depth 4 Current Loss: 0.1684 Best Split: feature_31 -1.3284 0.1528\n",
      "07:21:51 tree INFO:Training.  Depth 5 Current Loss: 0.3750 Best Split: feature_37 -1.3136 0.1250\n",
      "07:21:53 tree INFO:Training.  Depth 6 Current Loss: 0.0000 Best Split: feature_0 -1.7719 0.0000\n",
      "07:21:53 tree INFO:No split improves loss.  Returning\n",
      "07:22:00 tree INFO:Training.  Depth 6 Current Loss: 0.1667 Best Split: feature_32 1.1806 0.0556\n",
      "07:22:07 tree INFO:Training.  Depth 7 Current Loss: 0.0625 Best Split: feature_1 1.8123 0.0000\n",
      "07:22:07 tree INFO:Reached leaf node, or constraints force termination.  Returning\n",
      "07:22:07 tree INFO:Reached leaf node, or constraints force termination.  Returning\n",
      "07:22:08 tree INFO:Training.  Depth 7 Current Loss: 0.0000 Best Split: feature_0 0.2013 0.0000\n",
      "07:22:08 tree INFO:No split improves loss.  Returning\n",
      "07:22:48 tree INFO:Training.  Depth 5 Current Loss: 0.1381 Best Split: feature_37 -3.2717 0.1298\n",
      "07:22:51 tree INFO:Training.  Depth 6 Current Loss: 0.3636 Best Split: feature_3 -0.4358 0.0000\n",
      "07:22:53 tree INFO:Training.  Depth 7 Current Loss: 0.0000 Best Split: feature_0 1.0942 0.0000\n",
      "07:22:53 tree INFO:No split improves loss.  Returning\n",
      "07:22:54 tree INFO:Training.  Depth 7 Current Loss: 0.0000 Best Split: feature_0 -0.1880 0.0000\n",
      "07:22:54 tree INFO:No split improves loss.  Returning\n",
      "07:23:38 tree INFO:Training.  Depth 6 Current Loss: 0.1225 Best Split: feature_96 2.5524 0.1197\n",
      "07:24:25 tree INFO:Training.  Depth 7 Current Loss: 0.1042 Best Split: feature_23 2.3833 0.1012\n",
      "07:24:25 tree INFO:Reached leaf node, or constraints force termination.  Returning\n",
      "07:24:25 tree INFO:Reached leaf node, or constraints force termination.  Returning\n",
      "07:24:31 tree INFO:Training.  Depth 7 Current Loss: 0.4667 Best Split: feature_9 -0.1727 0.1333\n",
      "07:24:31 tree INFO:Reached leaf node, or constraints force termination.  Returning\n",
      "07:24:31 tree INFO:Reached leaf node, or constraints force termination.  Returning\n",
      "07:25:19 tree INFO:Training.  Depth 3 Current Loss: 0.2982 Best Split: feature_29 -2.2020 0.2018\n",
      "07:25:29 tree INFO:Training.  Depth 4 Current Loss: 0.2105 Best Split: feature_47 -0.7162 0.0526\n",
      "07:25:30 tree INFO:Training.  Depth 5 Current Loss: 0.0000 Best Split: feature_0 -1.5073 0.0000\n",
      "07:25:30 tree INFO:No split improves loss.  Returning\n",
      "07:25:36 tree INFO:Training.  Depth 5 Current Loss: 0.0625 Best Split: feature_1 1.5899 0.0000\n",
      "07:25:41 tree INFO:Training.  Depth 6 Current Loss: 0.0000 Best Split: feature_0 1.2294 0.0000\n",
      "07:25:41 tree INFO:No split improves loss.  Returning\n",
      "07:25:41 tree INFO:Reached leaf node, or constraints force termination.  Returning\n",
      "07:26:21 tree INFO:Training.  Depth 4 Current Loss: 0.2000 Best Split: feature_60 1.2924 0.1579\n",
      "07:27:00 tree INFO:Training.  Depth 5 Current Loss: 0.1573 Best Split: feature_0 -2.4153 0.1348\n",
      "07:27:01 tree INFO:Training.  Depth 6 Current Loss: 0.2500 Best Split: feature_1 0.5899 0.0000\n",
      "07:27:03 tree INFO:Training.  Depth 7 Current Loss: 0.0000 Best Split: feature_0 -2.4462 0.0000\n",
      "07:27:03 tree INFO:No split improves loss.  Returning\n",
      "07:27:03 tree INFO:Reached leaf node, or constraints force termination.  Returning\n",
      "07:27:35 tree INFO:Training.  Depth 6 Current Loss: 0.1294 Best Split: feature_17 -4.2043 0.1059\n",
      "07:27:37 tree INFO:Training.  Depth 7 Current Loss: 0.2500 Best Split: feature_1 1.0815 0.0000\n",
      "07:27:37 tree INFO:Reached leaf node, or constraints force termination.  Returning\n",
      "07:27:37 tree INFO:Reached leaf node, or constraints force termination.  Returning\n",
      "07:28:08 tree INFO:Training.  Depth 7 Current Loss: 0.0988 Best Split: feature_16 -2.1201 0.0741\n",
      "07:28:08 tree INFO:Reached leaf node, or constraints force termination.  Returning\n",
      "07:28:08 tree INFO:Reached leaf node, or constraints force termination.  Returning\n",
      "07:28:10 tree INFO:Training.  Depth 5 Current Loss: 0.1667 Best Split: feature_1 0.9464 0.0000\n",
      "07:28:13 tree INFO:Training.  Depth 6 Current Loss: 0.0000 Best Split: feature_0 -0.1288 0.0000\n",
      "07:28:13 tree INFO:No split improves loss.  Returning\n",
      "07:28:13 tree INFO:Reached leaf node, or constraints force termination.  Returning\n"
     ]
    },
    {
     "ename": "KeyboardInterrupt",
     "evalue": "",
     "output_type": "error",
     "traceback": [
      "\u001b[0;31m---------------------------------------------------------------------------\u001b[0m",
      "\u001b[0;31mKeyboardInterrupt\u001b[0m                         Traceback (most recent call last)",
      "\u001b[0;32m<ipython-input-18-cfdc9e5a7d39>\u001b[0m in \u001b[0;36m<module>\u001b[0;34m()\u001b[0m\n\u001b[1;32m      1\u001b[0m \u001b[0mgtree\u001b[0m\u001b[0;34m.\u001b[0m\u001b[0mtree_logger\u001b[0m\u001b[0;34m.\u001b[0m\u001b[0msetLevel\u001b[0m\u001b[0;34m(\u001b[0m\u001b[0mlogging\u001b[0m\u001b[0;34m.\u001b[0m\u001b[0mINFO\u001b[0m\u001b[0;34m)\u001b[0m\u001b[0;34m\u001b[0m\u001b[0m\n\u001b[0;32m----> 2\u001b[0;31m \u001b[0mtree\u001b[0m\u001b[0;34m,\u001b[0m \u001b[0mleaf_map\u001b[0m \u001b[0;34m=\u001b[0m \u001b[0mgtree\u001b[0m\u001b[0;34m.\u001b[0m\u001b[0mtrain_greedy_tree\u001b[0m\u001b[0;34m(\u001b[0m\u001b[0mfeatures\u001b[0m\u001b[0;34m,\u001b[0m \u001b[0mtargets\u001b[0m\u001b[0;34m,\u001b[0m \u001b[0mloss_fn\u001b[0m\u001b[0;34m=\u001b[0m\u001b[0mgtree\u001b[0m\u001b[0;34m.\u001b[0m\u001b[0merror_rate_loss\u001b[0m\u001b[0;34m,\u001b[0m \u001b[0mmax_depth\u001b[0m\u001b[0;34m=\u001b[0m\u001b[0;36m8\u001b[0m\u001b[0;34m)\u001b[0m\u001b[0;34m\u001b[0m\u001b[0m\n\u001b[0m",
      "\u001b[0;32m/Users/george/Stats/GeneticTrees/gtree.py\u001b[0m in \u001b[0;36mtrain_greedy_tree\u001b[0;34m(df, target, loss_fn, max_depth, min_to_split, leaf_map, leaf_prediction_builder, var_split_candidate_map, feature_sample_rate, row_sample_rate, current_depth)\u001b[0m\n\u001b[1;32m    252\u001b[0m                                               \u001b[0mleaf_map\u001b[0m\u001b[0;34m=\u001b[0m\u001b[0mleaf_map\u001b[0m\u001b[0;34m,\u001b[0m\u001b[0;34m\u001b[0m\u001b[0m\n\u001b[1;32m    253\u001b[0m                                               \u001b[0mleaf_prediction_builder\u001b[0m\u001b[0;34m=\u001b[0m\u001b[0mleaf_prediction_builder\u001b[0m\u001b[0;34m,\u001b[0m\u001b[0;34m\u001b[0m\u001b[0m\n\u001b[0;32m--> 254\u001b[0;31m                                               \u001b[0mvar_split_candidate_map\u001b[0m\u001b[0;34m=\u001b[0m\u001b[0mvar_split_candidate_map\u001b[0m\u001b[0;34m,\u001b[0m\u001b[0;34m\u001b[0m\u001b[0m\n\u001b[0m\u001b[1;32m    255\u001b[0m                                               current_depth=current_depth + 1)\n\u001b[1;32m    256\u001b[0m \u001b[0;34m\u001b[0m\u001b[0m\n",
      "\u001b[0;32m/Users/george/Stats/GeneticTrees/gtree.py\u001b[0m in \u001b[0;36mtrain_greedy_tree\u001b[0;34m(df, target, loss_fn, max_depth, min_to_split, leaf_map, leaf_prediction_builder, var_split_candidate_map, feature_sample_rate, row_sample_rate, current_depth)\u001b[0m\n\u001b[1;32m    252\u001b[0m                                               \u001b[0mleaf_map\u001b[0m\u001b[0;34m=\u001b[0m\u001b[0mleaf_map\u001b[0m\u001b[0;34m,\u001b[0m\u001b[0;34m\u001b[0m\u001b[0m\n\u001b[1;32m    253\u001b[0m                                               \u001b[0mleaf_prediction_builder\u001b[0m\u001b[0;34m=\u001b[0m\u001b[0mleaf_prediction_builder\u001b[0m\u001b[0;34m,\u001b[0m\u001b[0;34m\u001b[0m\u001b[0m\n\u001b[0;32m--> 254\u001b[0;31m                                               \u001b[0mvar_split_candidate_map\u001b[0m\u001b[0;34m=\u001b[0m\u001b[0mvar_split_candidate_map\u001b[0m\u001b[0;34m,\u001b[0m\u001b[0;34m\u001b[0m\u001b[0m\n\u001b[0m\u001b[1;32m    255\u001b[0m                                               current_depth=current_depth + 1)\n\u001b[1;32m    256\u001b[0m \u001b[0;34m\u001b[0m\u001b[0m\n",
      "\u001b[0;32m/Users/george/Stats/GeneticTrees/gtree.py\u001b[0m in \u001b[0;36mtrain_greedy_tree\u001b[0;34m(df, target, loss_fn, max_depth, min_to_split, leaf_map, leaf_prediction_builder, var_split_candidate_map, feature_sample_rate, row_sample_rate, current_depth)\u001b[0m\n\u001b[1;32m    218\u001b[0m     \u001b[0mdf_for_splitting\u001b[0m \u001b[0;34m=\u001b[0m \u001b[0msample\u001b[0m\u001b[0;34m(\u001b[0m\u001b[0mdf\u001b[0m\u001b[0;34m,\u001b[0m \u001b[0mrow_frac\u001b[0m\u001b[0;34m=\u001b[0m\u001b[0mrow_sample_rate\u001b[0m\u001b[0;34m,\u001b[0m \u001b[0mcol_frac\u001b[0m\u001b[0;34m=\u001b[0m\u001b[0mfeature_sample_rate\u001b[0m\u001b[0;34m)\u001b[0m\u001b[0;34m\u001b[0m\u001b[0m\n\u001b[1;32m    219\u001b[0m \u001b[0;34m\u001b[0m\u001b[0m\n\u001b[0;32m--> 220\u001b[0;31m     var, split, loss = get_best_split(df_for_splitting, target.loc[df_for_splitting.index],\n\u001b[0m\u001b[1;32m    221\u001b[0m                                       loss_fn, leaf_prediction_builder, var_split_candidate_map)\n\u001b[1;32m    222\u001b[0m \u001b[0;34m\u001b[0m\u001b[0m\n",
      "\u001b[0;32m/Users/george/Stats/GeneticTrees/gtree.py\u001b[0m in \u001b[0;36mget_best_split\u001b[0;34m(df, target, loss_fn, leaf_prediction_builder, var_split_candidate_map)\u001b[0m\n\u001b[1;32m    164\u001b[0m         \u001b[0;32melse\u001b[0m\u001b[0;34m:\u001b[0m\u001b[0;34m\u001b[0m\u001b[0m\n\u001b[1;32m    165\u001b[0m             \u001b[0mcandidate\u001b[0m \u001b[0;34m=\u001b[0m \u001b[0mNone\u001b[0m\u001b[0;34m\u001b[0m\u001b[0m\n\u001b[0;32m--> 166\u001b[0;31m \u001b[0;34m\u001b[0m\u001b[0m\n\u001b[0m\u001b[1;32m    167\u001b[0m         \u001b[0msplit\u001b[0m\u001b[0;34m,\u001b[0m \u001b[0mloss\u001b[0m \u001b[0;34m=\u001b[0m \u001b[0m_single_variable_best_split\u001b[0m\u001b[0;34m(\u001b[0m\u001b[0mdf\u001b[0m\u001b[0;34m,\u001b[0m \u001b[0mvar\u001b[0m\u001b[0;34m,\u001b[0m \u001b[0mtarget\u001b[0m\u001b[0;34m,\u001b[0m \u001b[0mloss_fn\u001b[0m\u001b[0;34m,\u001b[0m \u001b[0mleaf_prediction_builder\u001b[0m\u001b[0;34m,\u001b[0m \u001b[0mcandidate\u001b[0m\u001b[0;34m)\u001b[0m\u001b[0;34m\u001b[0m\u001b[0m\n\u001b[1;32m    168\u001b[0m         \u001b[0;32mif\u001b[0m \u001b[0mbest_loss\u001b[0m \u001b[0;32mis\u001b[0m \u001b[0mNone\u001b[0m \u001b[0;32mor\u001b[0m \u001b[0mloss\u001b[0m \u001b[0;34m<\u001b[0m \u001b[0mbest_loss\u001b[0m\u001b[0;34m:\u001b[0m\u001b[0;34m\u001b[0m\u001b[0m\n",
      "\u001b[0;32m/Users/george/Stats/GeneticTrees/gtree.py\u001b[0m in \u001b[0;36m_single_variable_best_split\u001b[0;34m(df, var, target, loss_fn, leaf_prediction_builder, candidates)\u001b[0m\n\u001b[1;32m    132\u001b[0m         \u001b[0mleft_leaf_predict_fn\u001b[0m \u001b[0;34m=\u001b[0m \u001b[0mleaf_prediction_builder\u001b[0m\u001b[0;34m(\u001b[0m\u001b[0mdf_left\u001b[0m\u001b[0;34m,\u001b[0m \u001b[0mtarget_left\u001b[0m\u001b[0;34m)\u001b[0m\u001b[0;34m\u001b[0m\u001b[0m\n\u001b[1;32m    133\u001b[0m         \u001b[0mleft_predicted\u001b[0m \u001b[0;34m=\u001b[0m \u001b[0mleft_leaf_predict_fn\u001b[0m\u001b[0;34m(\u001b[0m\u001b[0mdf_left\u001b[0m\u001b[0;34m)\u001b[0m\u001b[0;34m\u001b[0m\u001b[0m\n\u001b[0;32m--> 134\u001b[0;31m \u001b[0;34m\u001b[0m\u001b[0m\n\u001b[0m\u001b[1;32m    135\u001b[0m         \u001b[0mright_idx\u001b[0m \u001b[0;34m=\u001b[0m \u001b[0mdf\u001b[0m\u001b[0;34m.\u001b[0m\u001b[0mindex\u001b[0m\u001b[0;34m[\u001b[0m\u001b[0;34m(\u001b[0m\u001b[0msrs\u001b[0m \u001b[0;34m>\u001b[0m \u001b[0mval\u001b[0m\u001b[0;34m)\u001b[0m\u001b[0;34m]\u001b[0m\u001b[0;34m\u001b[0m\u001b[0m\n\u001b[1;32m    136\u001b[0m         \u001b[0mdf_right\u001b[0m \u001b[0;34m=\u001b[0m \u001b[0mdf\u001b[0m\u001b[0;34m.\u001b[0m\u001b[0mreindex_axis\u001b[0m\u001b[0;34m(\u001b[0m\u001b[0mright_idx\u001b[0m\u001b[0;34m,\u001b[0m \u001b[0mcopy\u001b[0m\u001b[0;34m=\u001b[0m\u001b[0mFalse\u001b[0m\u001b[0;34m)\u001b[0m  \u001b[0;31m# df.loc[right_idx]\u001b[0m\u001b[0;34m\u001b[0m\u001b[0m\n",
      "\u001b[0;32m/Users/george/Stats/GeneticTrees/venv/lib/python2.7/site-packages/pandas/core/ops.pyc\u001b[0m in \u001b[0;36mwrapper\u001b[0;34m(self, other, axis)\u001b[0m\n\u001b[1;32m    859\u001b[0m \u001b[0;34m\u001b[0m\u001b[0m\n\u001b[1;32m    860\u001b[0m             \u001b[0;32mwith\u001b[0m \u001b[0mnp\u001b[0m\u001b[0;34m.\u001b[0m\u001b[0merrstate\u001b[0m\u001b[0;34m(\u001b[0m\u001b[0mall\u001b[0m\u001b[0;34m=\u001b[0m\u001b[0;34m'ignore'\u001b[0m\u001b[0;34m)\u001b[0m\u001b[0;34m:\u001b[0m\u001b[0;34m\u001b[0m\u001b[0m\n\u001b[0;32m--> 861\u001b[0;31m                 \u001b[0mres\u001b[0m \u001b[0;34m=\u001b[0m \u001b[0mna_op\u001b[0m\u001b[0;34m(\u001b[0m\u001b[0mvalues\u001b[0m\u001b[0;34m,\u001b[0m \u001b[0mother\u001b[0m\u001b[0;34m)\u001b[0m\u001b[0;34m\u001b[0m\u001b[0m\n\u001b[0m\u001b[1;32m    862\u001b[0m             \u001b[0;32mif\u001b[0m \u001b[0mis_scalar\u001b[0m\u001b[0;34m(\u001b[0m\u001b[0mres\u001b[0m\u001b[0;34m)\u001b[0m\u001b[0;34m:\u001b[0m\u001b[0;34m\u001b[0m\u001b[0m\n\u001b[1;32m    863\u001b[0m                 raise TypeError('Could not compare %s type with Series' %\n",
      "\u001b[0;32m/Users/george/Stats/GeneticTrees/venv/lib/python2.7/site-packages/pandas/core/ops.pyc\u001b[0m in \u001b[0;36mna_op\u001b[0;34m(x, y)\u001b[0m\n\u001b[1;32m    759\u001b[0m         \u001b[0;32mif\u001b[0m \u001b[0mis_categorical_dtype\u001b[0m\u001b[0;34m(\u001b[0m\u001b[0mx\u001b[0m\u001b[0;34m)\u001b[0m\u001b[0;34m:\u001b[0m\u001b[0;34m\u001b[0m\u001b[0m\n\u001b[1;32m    760\u001b[0m             \u001b[0;32mreturn\u001b[0m \u001b[0mop\u001b[0m\u001b[0;34m(\u001b[0m\u001b[0mx\u001b[0m\u001b[0;34m,\u001b[0m \u001b[0my\u001b[0m\u001b[0;34m)\u001b[0m\u001b[0;34m\u001b[0m\u001b[0m\n\u001b[0;32m--> 761\u001b[0;31m         \u001b[0;32melif\u001b[0m \u001b[0mis_categorical_dtype\u001b[0m\u001b[0;34m(\u001b[0m\u001b[0my\u001b[0m\u001b[0;34m)\u001b[0m \u001b[0;32mand\u001b[0m \u001b[0;32mnot\u001b[0m \u001b[0mis_scalar\u001b[0m\u001b[0;34m(\u001b[0m\u001b[0my\u001b[0m\u001b[0;34m)\u001b[0m\u001b[0;34m:\u001b[0m\u001b[0;34m\u001b[0m\u001b[0m\n\u001b[0m\u001b[1;32m    762\u001b[0m             \u001b[0;32mreturn\u001b[0m \u001b[0mop\u001b[0m\u001b[0;34m(\u001b[0m\u001b[0my\u001b[0m\u001b[0;34m,\u001b[0m \u001b[0mx\u001b[0m\u001b[0;34m)\u001b[0m\u001b[0;34m\u001b[0m\u001b[0m\n\u001b[1;32m    763\u001b[0m \u001b[0;34m\u001b[0m\u001b[0m\n",
      "\u001b[0;32m/Users/george/Stats/GeneticTrees/venv/lib/python2.7/site-packages/pandas/core/dtypes/common.pyc\u001b[0m in \u001b[0;36mis_categorical_dtype\u001b[0;34m(arr_or_dtype)\u001b[0m\n\u001b[1;32m    503\u001b[0m     \u001b[0;32mif\u001b[0m \u001b[0marr_or_dtype\u001b[0m \u001b[0;32mis\u001b[0m \u001b[0mNone\u001b[0m\u001b[0;34m:\u001b[0m\u001b[0;34m\u001b[0m\u001b[0m\n\u001b[1;32m    504\u001b[0m         \u001b[0;32mreturn\u001b[0m \u001b[0mFalse\u001b[0m\u001b[0;34m\u001b[0m\u001b[0m\n\u001b[0;32m--> 505\u001b[0;31m     \u001b[0;32mreturn\u001b[0m \u001b[0mCategoricalDtype\u001b[0m\u001b[0;34m.\u001b[0m\u001b[0mis_dtype\u001b[0m\u001b[0;34m(\u001b[0m\u001b[0marr_or_dtype\u001b[0m\u001b[0;34m)\u001b[0m\u001b[0;34m\u001b[0m\u001b[0m\n\u001b[0m\u001b[1;32m    506\u001b[0m \u001b[0;34m\u001b[0m\u001b[0m\n\u001b[1;32m    507\u001b[0m \u001b[0;34m\u001b[0m\u001b[0m\n",
      "\u001b[0;32m/Users/george/Stats/GeneticTrees/venv/lib/python2.7/site-packages/pandas/core/dtypes/dtypes.pyc\u001b[0m in \u001b[0;36mis_dtype\u001b[0;34m(cls, dtype)\u001b[0m\n\u001b[1;32m     87\u001b[0m         \u001b[0mwe\u001b[0m \u001b[0mcan\u001b[0m \u001b[0mmatch\u001b[0m \u001b[0;34m(\u001b[0m\u001b[0mvia\u001b[0m \u001b[0mstring\u001b[0m \u001b[0;32mor\u001b[0m \u001b[0mtype\u001b[0m\u001b[0;34m)\u001b[0m\u001b[0;34m\u001b[0m\u001b[0m\n\u001b[1;32m     88\u001b[0m         \"\"\"\n\u001b[0;32m---> 89\u001b[0;31m         \u001b[0;32mif\u001b[0m \u001b[0mhasattr\u001b[0m\u001b[0;34m(\u001b[0m\u001b[0mdtype\u001b[0m\u001b[0;34m,\u001b[0m \u001b[0;34m'dtype'\u001b[0m\u001b[0;34m)\u001b[0m\u001b[0;34m:\u001b[0m\u001b[0;34m\u001b[0m\u001b[0m\n\u001b[0m\u001b[1;32m     90\u001b[0m             \u001b[0mdtype\u001b[0m \u001b[0;34m=\u001b[0m \u001b[0mdtype\u001b[0m\u001b[0;34m.\u001b[0m\u001b[0mdtype\u001b[0m\u001b[0;34m\u001b[0m\u001b[0m\n\u001b[1;32m     91\u001b[0m         \u001b[0;32mif\u001b[0m \u001b[0misinstance\u001b[0m\u001b[0;34m(\u001b[0m\u001b[0mdtype\u001b[0m\u001b[0;34m,\u001b[0m \u001b[0mnp\u001b[0m\u001b[0;34m.\u001b[0m\u001b[0mdtype\u001b[0m\u001b[0;34m)\u001b[0m\u001b[0;34m:\u001b[0m\u001b[0;34m\u001b[0m\u001b[0m\n",
      "\u001b[0;31mKeyboardInterrupt\u001b[0m: "
     ]
    }
   ],
   "source": [
    "gtree.tree_logger.setLevel(logging.INFO)\n",
    "tree, leaf_map = gtree.train_greedy_tree(features, targets, loss_fn=gtree.error_rate_loss, max_depth=8)"
   ]
  },
  {
   "cell_type": "code",
   "execution_count": null,
   "metadata": {
    "scrolled": true
   },
   "outputs": [],
   "source": [
    "tree.prn()"
   ]
  },
  {
   "cell_type": "code",
   "execution_count": null,
   "metadata": {},
   "outputs": [],
   "source": [
    "leaf_map"
   ]
  },
  {
   "cell_type": "code",
   "execution_count": null,
   "metadata": {
    "scrolled": true
   },
   "outputs": [],
   "source": [
    "tree.predict(features, leaf_map)"
   ]
  },
  {
   "cell_type": "code",
   "execution_count": null,
   "metadata": {},
   "outputs": [],
   "source": [
    "results = pd.DataFrame({'truth': targets, 'prediction': tree.predict(features, leaf_map)})"
   ]
  },
  {
   "cell_type": "code",
   "execution_count": null,
   "metadata": {},
   "outputs": [],
   "source": [
    "1.0 - gtree.error_rate_loss(results.prediction, results.truth) / len(targets)"
   ]
  },
  {
   "cell_type": "code",
   "execution_count": null,
   "metadata": {},
   "outputs": [],
   "source": [
    "results.plot(kind='scatter', x='prediction', y='truth')"
   ]
  },
  {
   "cell_type": "code",
   "execution_count": null,
   "metadata": {
    "scrolled": false
   },
   "outputs": [],
   "source": [
    "fig = plt.figure(figsize=(12,8))\n",
    "\n",
    "for label, grp in tree.predict(features, leaf_map).groupby(targets):\n",
    "    grp.hist(normed=True, alpha=0.5, label=str(label)) #, label=label)\n",
    "plt.legend(loc='best')\n",
    "None"
   ]
  },
  {
   "cell_type": "markdown",
   "metadata": {},
   "source": [
    "# Compare Methods"
   ]
  },
  {
   "cell_type": "code",
   "execution_count": 19,
   "metadata": {},
   "outputs": [],
   "source": [
    "features, targets = make_random_classification(5000)\n",
    "\n",
    "features_validation = features.sample(frac=.3)\n",
    "targets_validation = targets.loc[features_validation.index]\n",
    "\n",
    "features = features[~features.index.isin(features_validation.index)]\n",
    "targets = targets.loc[features.index]"
   ]
  },
  {
   "cell_type": "code",
   "execution_count": 76,
   "metadata": {
    "scrolled": false
   },
   "outputs": [
    {
     "name": "stderr",
     "output_type": "stream",
     "text": [
      "06:26:23 evolution DEBUG:Growing Seed: 1 of 5\n",
      "gtree.py:527: RuntimeWarning: divide by zero encountered in log\n",
      "  return (-1.0 * truth * np.log(predicted) - (1.0 - truth) * np.log(1.0 - predicted)).mean()\n",
      "06:27:38 evolution DEBUG:Growing Seed: 2 of 5\n",
      "06:28:51 evolution DEBUG:Growing Seed: 3 of 5\n",
      "06:30:04 evolution DEBUG:Growing Seed: 4 of 5\n",
      "06:31:14 evolution DEBUG:Growing Seed: 5 of 5\n",
      "06:33:06 evolution DEBUG:Resplitting the data\n",
      "06:33:06 evolution DEBUG:Mating to create 200 children\n"
     ]
    },
    {
     "name": "stdout",
     "output_type": "stream",
     "text": [
      "Losses: [ 1.  1.  1.  1.  1.]\n",
      "Probs: [ 0.2  0.2  0.2  0.2  0.2]\n"
     ]
    },
    {
     "name": "stderr",
     "output_type": "stream",
     "text": [
      "06:33:56 evolution DEBUG:Surviving Generation: 0:0.6159, 0:0.6264, 1:0.6273, 1:0.6274, 1:0.6279, 1:0.6289, 1:0.6292, 1:0.6293, 1:0.6305, 1:0.6319\n",
      "06:33:56 evolution INFO:Generation 0 Training Loss: 0.6157 Hold Out Loss 0.6159\n",
      "\n",
      "06:33:56 evolution DEBUG:Resplitting the data\n",
      "06:33:56 evolution DEBUG:Mating to create 200 children\n"
     ]
    },
    {
     "name": "stdout",
     "output_type": "stream",
     "text": [
      "Losses: [ 0.61589022  0.62637169  0.62727087  0.62737486  0.62788282  0.62888887\n",
      "  0.62921577  0.62931864  0.63051522  0.63191096]\n",
      "Probs: [ 0.1018594   0.10017202  0.10002858  0.100012    0.09993107  0.09977097\n",
      "  0.099719    0.09970266  0.09951271  0.09929159]\n"
     ]
    },
    {
     "name": "stderr",
     "output_type": "stream",
     "text": [
      "06:34:49 evolution DEBUG:Surviving Generation: 0:0.6158, 0:0.6262, 2:0.6266, 2:0.6267, 2:0.6274, 1:0.6276, 1:0.6276, 2:0.6276, 1:0.6277, 2:0.6279\n",
      "06:34:49 evolution INFO:Generation 1 Training Loss: 0.6121 Hold Out Loss 0.6158\n",
      "\n",
      "06:34:49 evolution DEBUG:Resplitting the data\n",
      "06:34:49 evolution DEBUG:Mating to create 200 children\n"
     ]
    },
    {
     "name": "stdout",
     "output_type": "stream",
     "text": [
      "Losses: [ 0.61582009  0.62617656  0.62660072  0.62667858  0.62740067  0.62757279\n",
      "  0.62761866  0.62761866  0.62765344  0.62788676]\n",
      "Probs: [ 0.10165431  0.09998666  0.09991895  0.09990652  0.09979137  0.09976394\n",
      "  0.09975663  0.09975663  0.09975109  0.09971392]\n"
     ]
    },
    {
     "name": "stderr",
     "output_type": "stream",
     "text": [
      "06:35:38 evolution DEBUG:Surviving Generation: 0:0.6155, 3:0.6220, 2:0.6247, 1:0.6256, 3:0.6261, 3:0.6262, 0:0.6268, 2:0.6276, 3:0.6277, 2:0.6280\n",
      "06:35:38 evolution INFO:Generation 2 Training Loss: 0.6141 Hold Out Loss 0.6155\n",
      "\n",
      "06:35:38 evolution DEBUG:Resplitting the data\n",
      "06:35:38 evolution DEBUG:Mating to create 200 children\n"
     ]
    },
    {
     "name": "stdout",
     "output_type": "stream",
     "text": [
      "Losses: [ 0.61549619  0.62204708  0.62468999  0.6256173   0.62609945  0.62620565\n",
      "  0.62684876  0.627618    0.62769249  0.62798275]\n",
      "Probs: [ 0.10153532  0.10047669  0.10005272  0.09990439  0.09982736  0.0998104\n",
      "  0.09970775  0.09958511  0.09957325  0.09952702]\n"
     ]
    },
    {
     "name": "stderr",
     "output_type": "stream",
     "text": [
      "06:36:29 evolution DEBUG:Surviving Generation: 0:0.6166, 4:0.6182, 3:0.6196, 2:0.6256, 3:0.6258, 3:0.6264, 2:0.6267, 4:0.6267, 4:0.6269, 1:0.6269\n",
      "06:36:29 evolution INFO:Generation 3 Training Loss: 0.6320 Hold Out Loss 0.6166\n",
      "\n",
      "06:36:29 evolution DEBUG:Resplitting the data\n",
      "06:36:29 evolution DEBUG:Mating to create 200 children\n"
     ]
    },
    {
     "name": "stdout",
     "output_type": "stream",
     "text": [
      "Losses: [ 0.61657143  0.61816234  0.61959602  0.62555587  0.62580548  0.62642467\n",
      "  0.62667427  0.62667427  0.6268522   0.62686509]\n",
      "Probs: [ 0.10118251  0.10092484  0.10069319  0.09973592  0.09969603  0.09959714\n",
      "  0.0995573   0.0995573   0.09952891  0.09952686]\n"
     ]
    },
    {
     "name": "stderr",
     "output_type": "stream",
     "text": [
      "06:37:24 evolution DEBUG:Surviving Generation: 4:0.6108, 0:0.6165, 5:0.6166, 4:0.6173, 5:0.6173, 3:0.6199, 2:0.6232, 3:0.6243, 5:0.6243, 5:0.6243\n",
      "06:37:24 evolution INFO:Generation 4 Training Loss: 0.5895 Hold Out Loss 0.6108\n",
      "\n",
      "06:37:24 evolution DEBUG:Resplitting the data\n",
      "06:37:24 evolution DEBUG:Mating to create 200 children\n"
     ]
    },
    {
     "name": "stdout",
     "output_type": "stream",
     "text": [
      "Losses: [ 0.61081392  0.61645704  0.61662772  0.6173311   0.6173311   0.61985494\n",
      "  0.62320601  0.62431188  0.62431188  0.62431188]\n",
      "Probs: [ 0.10140239  0.10048283  0.10045515  0.10034115  0.10034115  0.09993316\n",
      "  0.09939401  0.09921673  0.09921673  0.09921673]\n"
     ]
    },
    {
     "name": "stderr",
     "output_type": "stream",
     "text": [
      "06:38:17 evolution DEBUG:Surviving Generation: 6:0.6077, 6:0.6087, 5:0.6090, 6:0.6092, 5:0.6096, 4:0.6103, 5:0.6103, 5:0.6127, 6:0.6135, 0:0.6153\n",
      "06:38:17 evolution INFO:Generation 5 Training Loss: 0.5952 Hold Out Loss 0.6077\n",
      "\n",
      "06:38:17 evolution DEBUG:Resplitting the data\n",
      "06:38:17 evolution DEBUG:Mating to create 200 children\n"
     ]
    },
    {
     "name": "stdout",
     "output_type": "stream",
     "text": [
      "Losses: [ 0.60774859  0.60874797  0.60898915  0.60919728  0.60955808  0.61029172\n",
      "  0.61029172  0.61272052  0.61353475  0.6153361 ]\n",
      "Probs: [ 0.10047418  0.10030987  0.10027026  0.10023609  0.10017688  0.1000566\n",
      "  0.1000566   0.09965942  0.09952662  0.09923346]\n"
     ]
    },
    {
     "name": "stderr",
     "output_type": "stream",
     "text": [
      "06:39:11 evolution DEBUG:Surviving Generation: 7:0.6072, 7:0.6081, 6:0.6085, 6:0.6089, 7:0.6089, 7:0.6090, 7:0.6090, 6:0.6092, 7:0.6095, 6:0.6095\n",
      "06:39:11 evolution INFO:Generation 6 Training Loss: 0.6041 Hold Out Loss 0.6072\n",
      "\n",
      "06:39:11 evolution DEBUG:Resplitting the data\n",
      "06:39:11 evolution DEBUG:Mating to create 200 children\n"
     ]
    },
    {
     "name": "stdout",
     "output_type": "stream",
     "text": [
      "Losses: [ 0.60717391  0.60808517  0.60849311  0.60893063  0.60893063  0.60895808\n",
      "  0.60895808  0.60922146  0.60949042  0.60949158]\n",
      "Probs: [ 0.10026301  0.10011304  0.10004598  0.0999741   0.0999741   0.09996959\n",
      "  0.09996959  0.09992635  0.09988221  0.09988202]\n"
     ]
    },
    {
     "name": "stderr",
     "output_type": "stream",
     "text": [
      "06:39:56 evolution DEBUG:Surviving Generation: 7:0.6063, 7:0.6093, 7:0.6096, 8:0.6096, 8:0.6097, 7:0.6101, 8:0.6102, 6:0.6102, 8:0.6102, 8:0.6102\n",
      "06:39:56 evolution INFO:Generation 7 Training Loss: 0.6038 Hold Out Loss 0.6063\n",
      "\n",
      "06:39:56 evolution DEBUG:Resplitting the data\n",
      "06:39:56 evolution DEBUG:Mating to create 200 children\n"
     ]
    },
    {
     "name": "stdout",
     "output_type": "stream",
     "text": [
      "Losses: [ 0.60626269  0.6093378   0.60959582  0.60959582  0.60974607  0.61014252\n",
      "  0.61016923  0.6101702   0.6101702   0.61017225]\n",
      "Probs: [ 0.10053833  0.10003239  0.09999006  0.09999006  0.09996541  0.09990042\n",
      "  0.09989604  0.09989588  0.09989588  0.09989554]\n"
     ]
    },
    {
     "name": "stderr",
     "output_type": "stream",
     "text": [
      "06:40:41 evolution DEBUG:Surviving Generation: 9:0.6061, 7:0.6073, 8:0.6078, 9:0.6081, 9:0.6100, 7:0.6101, 8:0.6101, 9:0.6103, 9:0.6105, 8:0.6105\n",
      "06:40:41 evolution INFO:Generation 8 Training Loss: 0.5990 Hold Out Loss 0.6061\n",
      "\n",
      "06:40:41 evolution DEBUG:Resplitting the data\n",
      "06:40:41 evolution DEBUG:Mating to create 200 children\n"
     ]
    },
    {
     "name": "stdout",
     "output_type": "stream",
     "text": [
      "Losses: [ 0.60612375  0.60725252  0.60778961  0.60811705  0.60998812  0.61010101\n",
      "  0.61010101  0.61034611  0.61045888  0.61046779]\n",
      "Probs: [ 0.10048534  0.10029929  0.10021088  0.10015702  0.09984982  0.09983131\n",
      "  0.09983131  0.09979114  0.09977267  0.09977121]\n"
     ]
    },
    {
     "name": "stderr",
     "output_type": "stream",
     "text": [
      "06:41:36 evolution DEBUG:Surviving Generation: 9:0.6039, 10:0.6039, 10:0.6043, 10:0.6045, 10:0.6053, 10:0.6054, 9:0.6055, 7:0.6055, 10:0.6055, 9:0.6055\n",
      "06:41:36 evolution INFO:Generation 9 Training Loss: 0.6039 Hold Out Loss 0.6039\n",
      "\n",
      "06:41:36 evolution DEBUG:Resplitting the data\n",
      "06:41:36 evolution DEBUG:Mating to create 200 children\n"
     ]
    },
    {
     "name": "stdout",
     "output_type": "stream",
     "text": [
      "Losses: [ 0.60386545  0.60386545  0.60434376  0.60445632  0.6053492   0.60535287\n",
      "  0.60550124  0.60550252  0.60550252  0.60550252]\n",
      "Probs: [ 0.10017511  0.10017511  0.10009594  0.10007731  0.0999297   0.0999291\n",
      "  0.09990459  0.09990438  0.09990438  0.09990438]\n"
     ]
    },
    {
     "name": "stderr",
     "output_type": "stream",
     "text": [
      "06:42:21 evolution DEBUG:Surviving Generation: 11:0.6039, 11:0.6041, 11:0.6052, 7:0.6056, 10:0.6056, 9:0.6056, 11:0.6056, 10:0.6056, 11:0.6056, 9:0.6056\n",
      "06:42:21 evolution INFO:Generation 10 Training Loss: 0.6068 Hold Out Loss 0.6039\n",
      "\n",
      "06:42:21 evolution DEBUG:Resplitting the data\n",
      "06:42:21 evolution DEBUG:Mating to create 200 children\n"
     ]
    },
    {
     "name": "stdout",
     "output_type": "stream",
     "text": [
      "Losses: [ 0.60386025  0.60413913  0.60518875  0.60559677  0.60559677  0.60559677\n",
      "  0.60559677  0.60559677  0.60559677  0.60560212]\n",
      "Probs: [ 0.10022769  0.10018152  0.10000793  0.09994053  0.09994053  0.09994053\n",
      "  0.09994053  0.09994053  0.09994053  0.09993965]\n"
     ]
    },
    {
     "name": "stderr",
     "output_type": "stream",
     "text": [
      "06:43:11 evolution DEBUG:Surviving Generation: 12:0.6028, 11:0.6030, 11:0.6034, 12:0.6036, 11:0.6047, 12:0.6047, 11:0.6048, 7:0.6050, 10:0.6050, 9:0.6050\n",
      "06:43:11 evolution INFO:Generation 11 Training Loss: 0.6053 Hold Out Loss 0.6028\n",
      "\n",
      "06:43:11 evolution DEBUG:Resplitting the data\n",
      "06:43:11 evolution DEBUG:Mating to create 200 children\n"
     ]
    },
    {
     "name": "stdout",
     "output_type": "stream",
     "text": [
      "Losses: [ 0.60277936  0.60299624  0.60336227  0.60361183  0.6047461   0.6047461\n",
      "  0.60484648  0.60498721  0.60498721  0.60498721]\n",
      "Probs: [ 0.10023613  0.10020016  0.10013947  0.10009812  0.09991038  0.09991038\n",
      "  0.09989379  0.09987052  0.09987052  0.09987052]\n"
     ]
    },
    {
     "name": "stderr",
     "output_type": "stream",
     "text": [
      "06:44:02 evolution DEBUG:Surviving Generation: 12:0.6014, 11:0.6015, 13:0.6015, 11:0.6020, 12:0.6027, 13:0.6036, 13:0.6041, 13:0.6041, 11:0.6044, 12:0.6044\n",
      "06:44:02 evolution INFO:Generation 12 Training Loss: 0.6034 Hold Out Loss 0.6014\n",
      "\n",
      "06:44:02 evolution DEBUG:Resplitting the data\n",
      "06:44:02 evolution DEBUG:Mating to create 200 children\n"
     ]
    },
    {
     "name": "stdout",
     "output_type": "stream",
     "text": [
      "Losses: [ 0.60135498  0.60153071  0.60153071  0.60201207  0.6026816   0.60361603\n",
      "  0.60405094  0.60408974  0.60442964  0.60442964]\n",
      "Probs: [ 0.10026843  0.10023921  0.10023921  0.10015922  0.10004807  0.09989315\n",
      "  0.09982112  0.0998147   0.09975845  0.09975845]\n"
     ]
    },
    {
     "name": "stderr",
     "output_type": "stream",
     "text": [
      "06:44:46 evolution DEBUG:Surviving Generation: 12:0.6021, 14:0.6021, 11:0.6026, 13:0.6026, 13:0.6026, 11:0.6027, 13:0.6032, 13:0.6032, 14:0.6034, 14:0.6037\n",
      "06:44:46 evolution INFO:Generation 13 Training Loss: 0.6069 Hold Out Loss 0.6021\n",
      "\n",
      "06:44:46 evolution DEBUG:Resplitting the data\n",
      "06:44:46 evolution DEBUG:Mating to create 200 children\n"
     ]
    },
    {
     "name": "stdout",
     "output_type": "stream",
     "text": [
      "Losses: [ 0.60211002  0.60211002  0.60255051  0.60255051  0.60264382  0.60274604\n",
      "  0.60318653  0.60319638  0.60338147  0.60373705]\n",
      "Probs: [ 0.10011801  0.10011801  0.10004488  0.10004488  0.1000294   0.10001244\n",
      "  0.09993938  0.09993775  0.09990707  0.09984816]\n"
     ]
    },
    {
     "name": "stderr",
     "output_type": "stream",
     "text": [
      "06:45:32 evolution DEBUG:Surviving Generation: 12:0.6016, 14:0.6016, 11:0.6021, 13:0.6021, 13:0.6021, 11:0.6022, 13:0.6026, 14:0.6028, 14:0.6036, 15:0.6036\n",
      "06:45:32 evolution INFO:Generation 14 Training Loss: 0.6093 Hold Out Loss 0.6016\n",
      "\n"
     ]
    }
   ],
   "source": [
    "gtree.tree_logger.setLevel(logging.WARNING)\n",
    "\n",
    "result, generations = gtree.evolve(features, targets,\n",
    "                                   loss_fn=gtree.cross_entropy_loss,\n",
    "                                   max_depth=3, min_to_split=10,\n",
    "                                   num_generations=15, num_survivors=10,\n",
    "                                   num_children=200, num_seed_trees=5)\n"
   ]
  },
  {
   "cell_type": "code",
   "execution_count": 48,
   "metadata": {
    "scrolled": false
   },
   "outputs": [
    {
     "name": "stdout",
     "output_type": "stream",
     "text": [
      "0.297333333333\n"
     ]
    }
   ],
   "source": [
    "leaf_map = gtree.calculate_leaf_map(result['tree'], features, targets, gtree.leaf_good_rate_split_builder)\n",
    "\n",
    "print gtree.error_rate_loss(result['tree'].predict(features_validation, leaf_map), targets_validation)"
   ]
  },
  {
   "cell_type": "code",
   "execution_count": 56,
   "metadata": {},
   "outputs": [
    {
     "data": {
      "text/plain": [
       "2078480799    1414\n",
       "2437144351    1148\n",
       "2570464104     938\n",
       "dtype: int64"
      ]
     },
     "execution_count": 56,
     "metadata": {},
     "output_type": "execute_result"
    }
   ],
   "source": [
    "generations[-1]['best_of_generation']['tree'].find_leaves(features).value_counts()"
   ]
  },
  {
   "cell_type": "code",
   "execution_count": 52,
   "metadata": {
    "scrolled": true
   },
   "outputs": [
    {
     "name": "stdout",
     "output_type": "stream",
     "text": [
      "--------------------0.6624----------------------------\n",
      "\tLeaf(0.922108366641)\n",
      "\n",
      "feature_50 -0.488387233513\n",
      "\n",
      "\t\tLeaf(0.78625028227)\n",
      "\n",
      "\tfeature_99 -0.565015852089\n",
      "\n",
      "\t\tLeaf(0.00848191813269)\n",
      "\n",
      "--------------------0.6642----------------------------\n",
      "\t\tLeaf(0.163847666623)\n",
      "\n",
      "\tfeature_17 -0.565015852089\n",
      "\n",
      "\t\tLeaf(0.12723466858)\n",
      "\n",
      "feature_50 -0.625108536211\n",
      "\n",
      "\t\tLeaf(0.957803398685)\n",
      "\n",
      "\tfeature_47 0.756409780254\n",
      "\n",
      "\t\tLeaf(0.516671038657)\n",
      "\n",
      "--------------------0.6650----------------------------\n",
      "\t\tLeaf(0.802550722777)\n",
      "\n",
      "\tfeature_50 -0.565015852089\n",
      "\n",
      "\t\tLeaf(0.599164400845)\n",
      "\n",
      "feature_50 1.26675090679\n",
      "\n",
      "\t\tLeaf(0.998781959327)\n",
      "\n",
      "\tfeature_47 1.08799997383\n",
      "\n",
      "\t\tLeaf(0.470929887087)\n",
      "\n",
      "--------------------0.6652----------------------------\n",
      "\t\tLeaf(0.402819908511)\n",
      "\n",
      "\tfeature_60 -0.709362631916\n",
      "\n",
      "\t\tLeaf(0.563559424693)\n",
      "\n",
      "feature_50 -0.113775250463\n",
      "\n",
      "\t\tLeaf(0.646840213024)\n",
      "\n",
      "\tfeature_47 0.756409780254\n",
      "\n",
      "\t\tLeaf(0.0183416109128)\n",
      "\n",
      "--------------------0.6652----------------------------\n",
      "\t\tLeaf(0.825303177451)\n",
      "\n",
      "\tfeature_60 -0.709362631916\n",
      "\n",
      "\t\tLeaf(0.779594880985)\n",
      "\n",
      "feature_50 -0.113775250463\n",
      "\n",
      "\t\tLeaf(0.534519228391)\n",
      "\n",
      "\tfeature_47 0.756409780254\n",
      "\n",
      "\t\tLeaf(0.824295631233)\n",
      "\n",
      "--------------------0.6652----------------------------\n",
      "\t\tLeaf(0.973986666828)\n",
      "\n",
      "\tfeature_60 -1.12939974951\n",
      "\n",
      "\t\tLeaf(0.0747315893315)\n",
      "\n",
      "feature_50 -0.113775250463\n",
      "\n",
      "\t\tLeaf(0.456873161623)\n",
      "\n",
      "\tfeature_47 0.756409780254\n",
      "\n",
      "\t\tLeaf(0.367941081664)\n",
      "\n",
      "--------------------0.6653----------------------------\n",
      "\tLeaf(0.922108366641)\n",
      "\n",
      "feature_50 -0.113775250463\n",
      "\n",
      "\t\tLeaf(0.899912916311)\n",
      "\n",
      "\tfeature_47 0.756409780254\n",
      "\n",
      "\t\tLeaf(0.374979430448)\n",
      "\n",
      "--------------------0.6667----------------------------\n",
      "\t\tLeaf(0.961391939186)\n",
      "\n",
      "\tfeature_85 -0.113775250463\n",
      "\n",
      "\t\tLeaf(0.797029052852)\n",
      "\n",
      "feature_50 -0.565015852089\n",
      "\n",
      "\t\tLeaf(0.190042555855)\n",
      "\n",
      "\tfeature_47 -0.113775250463\n",
      "\n",
      "\t\tLeaf(0.851036413661)\n",
      "\n",
      "--------------------0.6668----------------------------\n",
      "\t\tLeaf(0.76724843277)\n",
      "\n",
      "\tfeature_50 -0.113775250463\n",
      "\n",
      "\t\tLeaf(0.512011816517)\n",
      "\n",
      "feature_50 -0.565015852089\n",
      "\n",
      "\t\tLeaf(0.779462501954)\n",
      "\n",
      "\tfeature_47 -0.113775250463\n",
      "\n",
      "\t\tLeaf(0.819863213045)\n",
      "\n",
      "--------------------0.6668----------------------------\n",
      "\t\tLeaf(0.725687569821)\n",
      "\n",
      "\tfeature_50 -0.565015852089\n",
      "\n",
      "\t\tLeaf(0.78723998761)\n",
      "\n",
      "feature_50 -0.565015852089\n",
      "\n",
      "\t\tLeaf(0.421664604228)\n",
      "\n",
      "\tfeature_47 -0.113775250463\n",
      "\n",
      "\t\tLeaf(0.922108366641)\n",
      "\n"
     ]
    }
   ],
   "source": [
    "for gen in generations[-1]['generation']:\n",
    "    print '--------------------{:.4f}----------------------------'.format(gen['loss_testing'])\n",
    "    gen['tree'].prn()"
   ]
  },
  {
   "cell_type": "code",
   "execution_count": null,
   "metadata": {
    "scrolled": true
   },
   "outputs": [],
   "source": [
    "for result in generations[-1]['generation']:\n",
    "    print '---------------------------------------------'\n",
    "    result['tree'].prn()"
   ]
  },
  {
   "cell_type": "code",
   "execution_count": null,
   "metadata": {},
   "outputs": [],
   "source": [
    "result = gtree.train_random_trees(features, targets, loss_fn=gtree.error_rate_loss,\n",
    "                                  max_depth=2,\n",
    "                                  min_to_split=10,\n",
    "                                  num_trees=10)"
   ]
  },
  {
   "cell_type": "code",
   "execution_count": null,
   "metadata": {},
   "outputs": [],
   "source": [
    "leaf_map = gtree.calculate_leaf_map(result['tree'], features, targets, gtree.leaf_good_rate_split_builder)\n",
    "\n",
    "print gtree.error_rate_loss(result['tree'].predict(features_validation, leaf_map), targets_validation)"
   ]
  },
  {
   "cell_type": "code",
   "execution_count": 34,
   "metadata": {},
   "outputs": [],
   "source": [
    "from sklearn import tree\n",
    "from sklearn.model_selection import train_test_split\n",
    "\n",
    "clf = tree.DecisionTreeClassifier(max_depth=2)\n",
    "clf = clf.fit(features, targets)"
   ]
  },
  {
   "cell_type": "code",
   "execution_count": 35,
   "metadata": {},
   "outputs": [
    {
     "data": {
      "text/plain": [
       "0.29600000000000004"
      ]
     },
     "execution_count": 35,
     "metadata": {},
     "output_type": "execute_result"
    }
   ],
   "source": [
    "predictions = pd.Series(clf.predict_proba(features_validation)[:, 1], index=features_validation.index)\n",
    "gtree.error_rate_loss(predictions, targets_validation)"
   ]
  },
  {
   "cell_type": "code",
   "execution_count": 36,
   "metadata": {},
   "outputs": [
    {
     "name": "stdout",
     "output_type": "stream",
     "text": [
      "Oct 15 17:03:49  dot[71655] <Error>: The function ‘CGFontGetGlyphPath’ is obsolete and will be removed in an upcoming update. Unfortunately, this application, or a library it uses, is using this obsolete function, and is thereby contributing to an overall degradation of system performance.\n",
      "Oct 15 17:03:49  dot[71655] <Error>: The function ‘CGFontGetGlyphPaths’ is obsolete and will be removed in an upcoming update. Unfortunately, this application, or a library it uses, is using this obsolete function, and is thereby contributing to an overall degradation of system performance.\n",
      "\n"
     ]
    },
    {
     "data": {
      "text/plain": [
       "True"
      ]
     },
     "execution_count": 36,
     "metadata": {},
     "output_type": "execute_result"
    }
   ],
   "source": [
    "from sklearn.externals.six import StringIO  \n",
    "from sklearn import tree as sklearn_tree\n",
    "import pydot \n",
    "dot_data = StringIO() \n",
    "sklearn_tree.export_graphviz(clf, out_file=dot_data) \n",
    "graph = pydot.graph_from_dot_data(dot_data.getvalue()) \n",
    "graph.write_pdf(\"iris.pdf\") "
   ]
  },
  {
   "cell_type": "code",
   "execution_count": 37,
   "metadata": {},
   "outputs": [
    {
     "name": "stdout",
     "output_type": "stream",
     "text": [
      "Created `%t` as an alias for `%timeit`.\n",
      "Created `%%t` as an alias for `%%timeit`.\n"
     ]
    }
   ],
   "source": [
    "%alias_magic t timeit"
   ]
  },
  {
   "cell_type": "code",
   "execution_count": 38,
   "metadata": {
    "collapsed": true
   },
   "outputs": [],
   "source": [
    "sel = features[features['feature_3'] < 0].index"
   ]
  },
  {
   "cell_type": "code",
   "execution_count": 39,
   "metadata": {},
   "outputs": [
    {
     "data": {
      "text/plain": [
       "Int64Index([   0,    1,    2,    4,    7,    9,   13,   16,   17,   18,\n",
       "            ...\n",
       "            4961, 4969, 4973, 4975, 4981, 4982, 4987, 4990, 4994, 4997],\n",
       "           dtype='int64', length=1755)"
      ]
     },
     "execution_count": 39,
     "metadata": {},
     "output_type": "execute_result"
    }
   ],
   "source": [
    "sel"
   ]
  },
  {
   "cell_type": "code",
   "execution_count": 46,
   "metadata": {},
   "outputs": [
    {
     "name": "stdout",
     "output_type": "stream",
     "text": [
      "The slowest run took 10.91 times longer than the fastest. This could mean that an intermediate result is being cached.\n",
      "1000 loops, best of 3: 513 µs per loop\n"
     ]
    }
   ],
   "source": [
    "%t features.loc[sel]"
   ]
  },
  {
   "cell_type": "code",
   "execution_count": 43,
   "metadata": {},
   "outputs": [
    {
     "name": "stdout",
     "output_type": "stream",
     "text": [
      "1000 loops, best of 3: 213 µs per loop\n"
     ]
    }
   ],
   "source": [
    "%t df.reindex_axis(sel, copy=False)"
   ]
  },
  {
   "cell_type": "code",
   "execution_count": 77,
   "metadata": {},
   "outputs": [],
   "source": [
    "# BC Dataset"
   ]
  },
  {
   "cell_type": "code",
   "execution_count": 97,
   "metadata": {},
   "outputs": [],
   "source": [
    "bc_info = datasets.load_breast_cancer()\n",
    "features = pd.DataFrame(bc_info['data'])\n",
    "target = pd.Series(bc_info['target']).dropna()\n",
    "features = features.loc[target.index]"
   ]
  },
  {
   "cell_type": "code",
   "execution_count": 104,
   "metadata": {},
   "outputs": [
    {
     "data": {
      "text/plain": [
       "1    357\n",
       "0    212\n",
       "dtype: int64"
      ]
     },
     "execution_count": 104,
     "metadata": {},
     "output_type": "execute_result"
    }
   ],
   "source": [
    "target.value_counts(dropna=False)"
   ]
  },
  {
   "cell_type": "code",
   "execution_count": 108,
   "metadata": {},
   "outputs": [
    {
     "name": "stdout",
     "output_type": "stream",
     "text": [
      "Automatic pdb calling has been turned OFF\n"
     ]
    }
   ],
   "source": [
    "%pdb off"
   ]
  },
  {
   "cell_type": "code",
   "execution_count": null,
   "metadata": {},
   "outputs": [],
   "source": [
    "gtree.tree_logger.setLevel(logging.WARNING)\n"
   ]
  },
  {
   "cell_type": "code",
   "execution_count": 112,
   "metadata": {
    "scrolled": false
   },
   "outputs": [
    {
     "name": "stderr",
     "output_type": "stream",
     "text": [
      "04:39:40 evolution DEBUG:Growing Seed: 1 of 5\n",
      "04:40:09 evolution DEBUG:Growing Seed: 2 of 5\n",
      "04:40:38 evolution DEBUG:Growing Seed: 3 of 5\n",
      "04:41:04 evolution DEBUG:Growing Seed: 4 of 5\n",
      "04:41:33 evolution DEBUG:Growing Seed: 5 of 5\n",
      "04:42:00 evolution DEBUG:Resplitting the data\n",
      "04:42:00 evolution DEBUG:Mating to create 50 children\n",
      "04:42:11 evolution DEBUG:Surviving Generation: 1:0.2075, 1:0.2377, 1:0.2401, 0:0.2492, 1:0.2497, 1:0.2511, 1:0.2529, 1:0.2533, 1:0.2556, 1:0.2606\n",
      "04:42:11 evolution INFO:Generation 0 Training Loss: 0.1712 Hold Out Loss 0.2075\n",
      "\n",
      "04:42:11 evolution DEBUG:Resplitting the data\n",
      "04:42:11 evolution DEBUG:Mating to create 50 children\n",
      "04:42:26 evolution DEBUG:Surviving Generation: 2:0.2038, 1:0.2081, 2:0.2105, 1:0.2133, 2:0.2174, 2:0.2235, 2:0.2276, 2:0.2303, 2:0.2334, 1:0.2340\n",
      "04:42:26 evolution INFO:Generation 1 Training Loss: 0.1865 Hold Out Loss 0.2038\n",
      "\n",
      "04:42:26 evolution DEBUG:Resplitting the data\n",
      "04:42:26 evolution DEBUG:Mating to create 50 children\n",
      "04:42:38 evolution DEBUG:Surviving Generation: 3:0.1774, 3:0.1874, 3:0.1928, 1:0.1944, 2:0.1947, 3:0.2069, 3:0.2101, 2:0.2110, 3:0.2110, 3:0.2111\n",
      "04:42:38 evolution INFO:Generation 2 Training Loss: 0.1551 Hold Out Loss 0.1774\n",
      "\n",
      "04:42:38 evolution DEBUG:Resplitting the data\n",
      "04:42:38 evolution DEBUG:Mating to create 50 children\n",
      "04:42:47 evolution DEBUG:Surviving Generation: 4:0.1645, 3:0.1817, 4:0.1852, 4:0.1853, 4:0.1884, 3:0.1888, 4:0.1905, 4:0.1920, 4:0.1934, 2:0.1974\n",
      "04:42:47 evolution INFO:Generation 3 Training Loss: 0.1252 Hold Out Loss 0.1645\n",
      "\n",
      "04:42:47 evolution DEBUG:Resplitting the data\n",
      "04:42:47 evolution DEBUG:Mating to create 50 children\n",
      "04:42:58 evolution DEBUG:Surviving Generation: 4:0.1706, 5:0.1839, 3:0.1859, 4:0.1859, 5:0.1862, 5:0.1872, 5:0.1872, 3:0.1874, 4:0.1877, 5:0.1881\n",
      "04:42:58 evolution INFO:Generation 4 Training Loss: 0.1662 Hold Out Loss 0.1706\n",
      "\n",
      "04:42:58 evolution DEBUG:Resplitting the data\n",
      "04:42:58 evolution DEBUG:Mating to create 50 children\n",
      "04:43:08 evolution DEBUG:Surviving Generation: 6:0.1698, 4:0.1714, 5:0.1755, 4:0.1828, 5:0.1834, 6:0.1834, 5:0.1835, 3:0.1839, 6:0.1859, 5:0.1862\n",
      "04:43:08 evolution INFO:Generation 5 Training Loss: 0.2369 Hold Out Loss 0.1698\n",
      "\n",
      "04:43:08 evolution DEBUG:Resplitting the data\n",
      "04:43:08 evolution DEBUG:Mating to create 50 children\n",
      "04:43:21 evolution DEBUG:Surviving Generation: 7:0.1532, 6:0.1654, 6:0.1709, 5:0.1709, 7:0.1741, 6:0.1745, 4:0.1822, 7:0.1823, 6:0.1830, 4:0.1833\n",
      "04:43:21 evolution INFO:Generation 6 Training Loss: 0.1633 Hold Out Loss 0.1532\n",
      "\n",
      "04:43:21 evolution DEBUG:Resplitting the data\n",
      "04:43:21 evolution DEBUG:Mating to create 50 children\n",
      "04:43:34 evolution DEBUG:Surviving Generation: 7:0.1404, 7:0.1477, 8:0.1575, 8:0.1589, 6:0.1613, 5:0.1625, 8:0.1652, 4:0.1660, 6:0.1677, 7:0.1678\n",
      "04:43:34 evolution INFO:Generation 7 Training Loss: 0.2076 Hold Out Loss 0.1404\n",
      "\n",
      "04:43:34 evolution DEBUG:Resplitting the data\n",
      "04:43:34 evolution DEBUG:Mating to create 50 children\n",
      "04:43:45 evolution DEBUG:Surviving Generation: 9:0.1288, 7:0.1292, 9:0.1408, 7:0.1413, 8:0.1423, 8:0.1437, 8:0.1439, 8:0.1456, 7:0.1466, 5:0.1524\n",
      "04:43:45 evolution INFO:Generation 8 Training Loss: 0.1648 Hold Out Loss 0.1288\n",
      "\n",
      "04:43:45 evolution DEBUG:Resplitting the data\n",
      "04:43:45 evolution DEBUG:Mating to create 50 children\n",
      "04:43:58 evolution DEBUG:Surviving Generation: 7:0.1316, 9:0.1327, 8:0.1439, 9:0.1441, 10:0.1481, 9:0.1567, 9:0.1583, 8:0.1584, 10:0.1591, 8:0.1604\n",
      "04:43:58 evolution INFO:Generation 9 Training Loss: 0.1714 Hold Out Loss 0.1316\n",
      "\n",
      "04:43:58 evolution DEBUG:Resplitting the data\n",
      "04:43:58 evolution DEBUG:Mating to create 50 children\n",
      "04:44:11 evolution DEBUG:Surviving Generation: 9:0.1269, 10:0.1332, 7:0.1335, 10:0.1349, 9:0.1353, 10:0.1417, 11:0.1424, 8:0.1426, 10:0.1426, 10:0.1435\n",
      "04:44:11 evolution INFO:Generation 10 Training Loss: 0.1400 Hold Out Loss 0.1269\n",
      "\n",
      "04:44:11 evolution DEBUG:Resplitting the data\n",
      "04:44:11 evolution DEBUG:Mating to create 50 children\n",
      "04:44:23 evolution DEBUG:Surviving Generation: 10:0.1328, 11:0.1358, 10:0.1358, 9:0.1366, 9:0.1375, 7:0.1399, 12:0.1409, 10:0.1418, 11:0.1421, 9:0.1446\n",
      "04:44:23 evolution INFO:Generation 11 Training Loss: 0.2002 Hold Out Loss 0.1328\n",
      "\n",
      "04:44:23 evolution DEBUG:Resplitting the data\n",
      "04:44:23 evolution DEBUG:Mating to create 50 children\n",
      "04:44:35 evolution DEBUG:Surviving Generation: 13:0.1320, 10:0.1346, 12:0.1353, 10:0.1362, 11:0.1388, 10:0.1388, 8:0.1388, 11:0.1388, 9:0.1396, 9:0.1409\n",
      "04:44:35 evolution INFO:Generation 12 Training Loss: 0.2034 Hold Out Loss 0.1320\n",
      "\n",
      "04:44:35 evolution DEBUG:Resplitting the data\n",
      "04:44:35 evolution DEBUG:Mating to create 50 children\n",
      "04:44:48 evolution DEBUG:Surviving Generation: 13:0.1235, 12:0.1250, 10:0.1256, 11:0.1302, 9:0.1306, 11:0.1329, 10:0.1329, 8:0.1329, 11:0.1329, 11:0.1329\n",
      "04:44:48 evolution INFO:Generation 13 Training Loss: 0.1832 Hold Out Loss 0.1235\n",
      "\n",
      "04:44:48 evolution DEBUG:Resplitting the data\n",
      "04:44:48 evolution DEBUG:Mating to create 50 children\n",
      "04:44:59 evolution DEBUG:Surviving Generation: 12:0.1245, 11:0.1284, 13:0.1286, 11:0.1301, 10:0.1301, 8:0.1301, 11:0.1301, 11:0.1301, 12:0.1301, 11:0.1305\n",
      "04:44:59 evolution INFO:Generation 14 Training Loss: 0.1548 Hold Out Loss 0.1245\n",
      "\n",
      "04:44:59 evolution DEBUG:Resplitting the data\n",
      "04:44:59 evolution DEBUG:Mating to create 50 children\n",
      "04:45:08 evolution DEBUG:Surviving Generation: 12:0.1286, 13:0.1307, 13:0.1316, 14:0.1321, 11:0.1344, 12:0.1354, 14:0.1363, 11:0.1369, 11:0.1370, 10:0.1370\n",
      "04:45:08 evolution INFO:Generation 15 Training Loss: 0.1472 Hold Out Loss 0.1286\n",
      "\n",
      "04:45:08 evolution DEBUG:Resplitting the data\n",
      "04:45:08 evolution DEBUG:Mating to create 50 children\n",
      "04:45:17 evolution DEBUG:Surviving Generation: 12:0.1253, 13:0.1255, 14:0.1257, 11:0.1281, 15:0.1298, 13:0.1316, 15:0.1346, 14:0.1347, 15:0.1351, 11:0.1351\n",
      "04:45:17 evolution INFO:Generation 16 Training Loss: 0.1878 Hold Out Loss 0.1253\n",
      "\n",
      "04:45:17 evolution DEBUG:Resplitting the data\n",
      "04:45:17 evolution DEBUG:Mating to create 50 children\n",
      "04:45:32 evolution DEBUG:Surviving Generation: 13:0.1211, 16:0.1406, 12:0.1439, 14:0.1441, 11:0.1472, 16:0.1474, 13:0.1485, 15:0.1492, 16:0.1501, 14:0.1503\n",
      "04:45:32 evolution INFO:Generation 17 Training Loss: 0.1890 Hold Out Loss 0.1211\n",
      "\n",
      "04:45:32 evolution DEBUG:Resplitting the data\n",
      "04:45:32 evolution DEBUG:Mating to create 50 children\n",
      "04:45:44 evolution DEBUG:Surviving Generation: 16:0.1195, 17:0.1210, 17:0.1224, 11:0.1232, 15:0.1242, 12:0.1243, 14:0.1243, 17:0.1262, 15:0.1272, 13:0.1275\n",
      "04:45:44 evolution INFO:Generation 18 Training Loss: 0.1494 Hold Out Loss 0.1195\n",
      "\n",
      "04:45:44 evolution DEBUG:Resplitting the data\n",
      "04:45:44 evolution DEBUG:Mating to create 50 children\n",
      "04:45:55 evolution DEBUG:Surviving Generation: 17:0.1111, 16:0.1190, 17:0.1190, 17:0.1201, 14:0.1202, 12:0.1204, 18:0.1204, 18:0.1206, 18:0.1215, 13:0.1243\n",
      "04:45:55 evolution INFO:Generation 19 Training Loss: 0.1823 Hold Out Loss 0.1111\n",
      "\n",
      "04:45:55 evolution DEBUG:Resplitting the data\n",
      "04:45:55 evolution DEBUG:Mating to create 50 children\n",
      "04:46:09 evolution DEBUG:Surviving Generation: 17:0.1199, 16:0.1214, 17:0.1214, 19:0.1214, 18:0.1214, 17:0.1234, 14:0.1239, 12:0.1243, 18:0.1243, 18:0.1246\n",
      "04:46:09 evolution INFO:Generation 20 Training Loss: 0.2097 Hold Out Loss 0.1199\n",
      "\n",
      "04:46:09 evolution DEBUG:Resplitting the data\n",
      "04:46:09 evolution DEBUG:Mating to create 50 children\n",
      "04:46:19 evolution DEBUG:Surviving Generation: 17:0.1169, 16:0.1257, 17:0.1257, 19:0.1257, 18:0.1257, 17:0.1260, 20:0.1273, 18:0.1301, 12:0.1316, 18:0.1317\n",
      "04:46:19 evolution INFO:Generation 21 Training Loss: 0.2181 Hold Out Loss 0.1169\n",
      "\n",
      "04:46:19 evolution DEBUG:Resplitting the data\n",
      "04:46:19 evolution DEBUG:Mating to create 50 children\n",
      "04:46:29 evolution DEBUG:Surviving Generation: 17:0.1223, 19:0.1223, 12:0.1240, 18:0.1240, 16:0.1244, 17:0.1244, 19:0.1244, 18:0.1244, 18:0.1255, 20:0.1264\n",
      "04:46:29 evolution INFO:Generation 22 Training Loss: 0.2040 Hold Out Loss 0.1223\n",
      "\n",
      "04:46:29 evolution DEBUG:Resplitting the data\n",
      "04:46:29 evolution DEBUG:Mating to create 50 children\n",
      "04:46:42 evolution DEBUG:Surviving Generation: 17:0.1157, 19:0.1157, 16:0.1185, 17:0.1185, 19:0.1185, 18:0.1185, 18:0.1185, 20:0.1185, 20:0.1185, 12:0.1196\n",
      "04:46:42 evolution INFO:Generation 23 Training Loss: 0.1588 Hold Out Loss 0.1157\n",
      "\n"
     ]
    },
    {
     "name": "stderr",
     "output_type": "stream",
     "text": [
      "04:46:42 evolution DEBUG:Resplitting the data\n",
      "04:46:42 evolution DEBUG:Mating to create 50 children\n",
      "04:46:54 evolution DEBUG:Surviving Generation: 20:0.1093, 17:0.1121, 19:0.1121, 20:0.1149, 18:0.1182, 16:0.1184, 17:0.1184, 19:0.1184, 18:0.1184, 21:0.1184\n",
      "04:46:54 evolution INFO:Generation 24 Training Loss: 0.1486 Hold Out Loss 0.1093\n",
      "\n",
      "04:46:54 evolution DEBUG:Resplitting the data\n",
      "04:46:54 evolution DEBUG:Mating to create 50 children\n",
      "04:47:06 evolution DEBUG:Surviving Generation: 17:0.1156, 19:0.1156, 22:0.1223, 22:0.1254, 20:0.1373, 21:0.1373, 21:0.1373, 20:0.1430, 16:0.1457, 17:0.1457\n",
      "04:47:06 evolution INFO:Generation 25 Training Loss: 0.2164 Hold Out Loss 0.1156\n",
      "\n",
      "04:47:06 evolution DEBUG:Resplitting the data\n",
      "04:47:06 evolution DEBUG:Mating to create 50 children\n",
      "04:47:16 evolution DEBUG:Surviving Generation: 22:0.1122, 20:0.1229, 21:0.1230, 21:0.1230, 20:0.1252, 17:0.1253, 19:0.1254, 16:0.1298, 17:0.1298, 20:0.1305\n",
      "04:47:16 evolution INFO:Generation 26 Training Loss: 0.1741 Hold Out Loss 0.1122\n",
      "\n",
      "04:47:16 evolution DEBUG:Resplitting the data\n",
      "04:47:16 evolution DEBUG:Mating to create 50 children\n",
      "04:47:29 evolution DEBUG:Surviving Generation: 22:0.1098, 21:0.1156, 21:0.1157, 21:0.1157, 21:0.1157, 20:0.1159, 17:0.1171, 19:0.1171, 20:0.1173, 18:0.1182\n",
      "04:47:29 evolution INFO:Generation 27 Training Loss: 0.1673 Hold Out Loss 0.1098\n",
      "\n",
      "04:47:29 evolution DEBUG:Resplitting the data\n",
      "04:47:29 evolution DEBUG:Mating to create 50 children\n",
      "04:47:42 evolution DEBUG:Surviving Generation: 22:0.1037, 23:0.1048, 21:0.1127, 20:0.1149, 21:0.1150, 21:0.1150, 21:0.1150, 18:0.1174, 20:0.1176, 17:0.1178\n",
      "04:47:42 evolution INFO:Generation 28 Training Loss: 0.1421 Hold Out Loss 0.1037\n",
      "\n",
      "04:47:42 evolution DEBUG:Resplitting the data\n",
      "04:47:42 evolution DEBUG:Mating to create 50 children\n",
      "04:47:49 evolution DEBUG:Surviving Generation: 22:0.1053, 24:0.1077, 23:0.1087, 24:0.1091, 24:0.1093, 21:0.1097, 18:0.1097, 20:0.1102, 17:0.1103, 21:0.1124\n",
      "04:47:49 evolution INFO:Generation 29 Training Loss: 0.1427 Hold Out Loss 0.1053\n",
      "\n"
     ]
    }
   ],
   "source": [
    "gtree.tree_logger.setLevel(logging.WARNING)\n",
    "\n",
    "result, generations = gtree.evolve(features, target,\n",
    "                                   loss_fn=gtree.cross_entropy_loss,\n",
    "                                   max_depth=3, min_to_split=10,\n",
    "                                   num_generations=30, num_survivors=10,\n",
    "                                   num_children=50, num_seed_trees=5)"
   ]
  }
 ],
 "metadata": {
  "kernelspec": {
   "display_name": "Python 2",
   "language": "python",
   "name": "python2"
  },
  "language_info": {
   "codemirror_mode": {
    "name": "ipython",
    "version": 2
   },
   "file_extension": ".py",
   "mimetype": "text/x-python",
   "name": "python",
   "nbconvert_exporter": "python",
   "pygments_lexer": "ipython2",
   "version": "2.7.11"
  }
 },
 "nbformat": 4,
 "nbformat_minor": 2
}
