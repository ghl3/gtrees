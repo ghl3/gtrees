{
 "cells": [
  {
   "cell_type": "code",
   "execution_count": 1,
   "metadata": {},
   "outputs": [],
   "source": [
    "from __future__ import division"
   ]
  },
  {
   "cell_type": "code",
   "execution_count": 2,
   "metadata": {},
   "outputs": [],
   "source": [
    "import sys\n",
    "sys.path.append('..')"
   ]
  },
  {
   "cell_type": "code",
   "execution_count": 3,
   "metadata": {},
   "outputs": [],
   "source": [
    "import math\n",
    "import random\n",
    "import numpy as np\n",
    "import pandas as pd"
   ]
  },
  {
   "cell_type": "code",
   "execution_count": 4,
   "metadata": {},
   "outputs": [],
   "source": [
    "from sklearn import datasets"
   ]
  },
  {
   "cell_type": "code",
   "execution_count": 5,
   "metadata": {},
   "outputs": [],
   "source": [
    "import matplotlib.pyplot as plt\n",
    "%matplotlib inline"
   ]
  },
  {
   "cell_type": "code",
   "execution_count": 6,
   "metadata": {},
   "outputs": [],
   "source": [
    "%load_ext autoreload\n",
    "%autoreload 1\n",
    "\n",
    "%aimport gtree\n",
    "%aimport tools"
   ]
  },
  {
   "cell_type": "code",
   "execution_count": 7,
   "metadata": {},
   "outputs": [],
   "source": [
    "import logging\n",
    "%config Application.log_level=\"INFO\"\n",
    "logging.basicConfig(format='%(asctime)s %(name)s %(levelname)s:%(message)s', level=logging.DEBUG, datefmt='%I:%M:%S')"
   ]
  },
  {
   "cell_type": "markdown",
   "metadata": {},
   "source": [
    "## Goals:\n",
    "\n",
    "### Separate the structure of a tree from the data of a tree.  In other words,\n",
    "  fitting a tree does two things: It creates the structure of a tree and it\n",
    "  creates a mapping of each leaf to a value.  Lookup therefore requires both\n",
    "  finding the leaf node AND using the map to lookup the value.\n",
    "  \n",
    "### The loss function optimized by the tree is configurable, as is the leaf\n"
   ]
  },
  {
   "cell_type": "markdown",
   "metadata": {},
   "source": [
    "## Terms:\n",
    "\n",
    "### Tree\n",
    "A Tree is an object that takes input data and determines what leaf it ends up in.  Unlike many tree implementations, the Tree itself doesn't store data about the value of a leaf.  That is stored externally.\n",
    "\n",
    "\n",
    "### loss_fn\n",
    "A loss_fn is a function that takes data rows, the predicted targets for those rows, and the actual targets for those rows, and returns a single value that determines the \"LOSS\" or \"COST\" of that prediction (lower cost/loss is better)\n",
    "\n",
    "```\n",
    "def loss_fn(predicted_targets, actual_targets) -> float\n",
    "```\n",
    "\n",
    "A loss function must be additive (so, one should not apply a mean as a part of it)\n",
    "\n",
    "### leaf_prediction_fn\n",
    "A leaf_prediction_fn is a function which takes the features and actual targets that end up in a leaf and returns a Series of the predictions for each row ending up in that leaf.  It is typically a constant function whose value is either the mean good rate in that leaf (among the actual targets) or the median target, but can be anything else\n",
    "\n",
    "```\n",
    "def leaf_prediction_fn(features) -> pd.Series\n",
    "```\n",
    "\n",
    "\n",
    "### leaf_prediction_builder\n",
    "A leaf_prediction_builder is a function which takes the features and actual targets that end up in a TRANING leaf and returns a leaf_prediction_fn.  This leaf_prediction_fn is used to predict the value of testing rows that end up in the same leaf.\n",
    "\n",
    "```\n",
    "def leaf_prediction_builder(features, actual_targets) -> leaf_prediction_fn\n",
    "```\n",
    "\n",
    "\n",
    "### leaf_prediction_map\n",
    "A leaf_prediction_map is a map of leaf ids (eg their hash) to the leaf_prediction_fn for that leaf.  One can only use a tree to score data if one has a leaf_prediction_map.  This design allows on to use the same tree as a subset of another tree without having their leaf values become entangled."
   ]
  },
  {
   "cell_type": "markdown",
   "metadata": {},
   "source": [
    "--------------"
   ]
  },
  {
   "cell_type": "markdown",
   "metadata": {},
   "source": [
    "## Test Tree Manipulation Functions"
   ]
  },
  {
   "cell_type": "code",
   "execution_count": null,
   "metadata": {},
   "outputs": [],
   "source": [
    "%pdb off"
   ]
  },
  {
   "cell_type": "code",
   "execution_count": null,
   "metadata": {},
   "outputs": [],
   "source": [
    "t = gtree.BranchNode('A', 0.5, None, None)\n",
    "t.left = gtree.LeafNode()\n",
    "t.right = gtree.BranchNode('B', 0.9, None, None)\n",
    "t.right.left = gtree.LeafNode()\n",
    "t.right.right = gtree.LeafNode()\n",
    "\n",
    "o = gtree.BranchNode('C', 0.1, None, None)\n",
    "o.left = gtree.LeafNode()\n",
    "o.right = gtree.LeafNode()\n",
    "\n",
    "t.prn()\n",
    "print '\\n\\n'\n",
    "o.prn()"
   ]
  },
  {
   "cell_type": "code",
   "execution_count": null,
   "metadata": {},
   "outputs": [],
   "source": [
    "u = gtree.replace_branch_split(t, t.right, o)\n",
    "u.prn()\n",
    "print '\\n\\n'\n",
    "t.prn()"
   ]
  },
  {
   "cell_type": "code",
   "execution_count": null,
   "metadata": {},
   "outputs": [],
   "source": [
    "v = gtree.replace_node(t, t.left, o)\n",
    "v.prn()\n",
    "print '\\n\\n'\n",
    "t.prn()"
   ]
  },
  {
   "cell_type": "code",
   "execution_count": null,
   "metadata": {},
   "outputs": [],
   "source": [
    "t = gtree.BranchNode('A', 0.5, None, None)\n",
    "t.left = gtree.LeafNode()\n",
    "t.right = gtree.BranchNode('B', 0.9, None, None)\n",
    "t.right.left = gtree.LeafNode()\n",
    "t.right.right = gtree.BranchNode('C', 0.9, None, None)\n",
    "t.right.right.right = gtree.LeafNode()\n",
    "t.right.right.left = gtree.LeafNode()\n",
    "\n",
    "t.prn()\n",
    "print '\\n\\n'\n",
    "gtree.prune(t, 2).prn()\n",
    "print '\\n\\n'\n",
    "t.prn()"
   ]
  },
  {
   "cell_type": "code",
   "execution_count": null,
   "metadata": {},
   "outputs": [],
   "source": [
    "data = pd.DataFrame({'A': [0.1, 10, .02],\n",
    "                     'B': [10, 20, 30]},\n",
    "                    index=['foo', 'bar', 'baz'])"
   ]
  },
  {
   "cell_type": "code",
   "execution_count": null,
   "metadata": {},
   "outputs": [],
   "source": [
    "def leaf_count_fn(val):\n",
    "    return lambda df: pd.Series([val for _ in range(len(df))], index=df.index)"
   ]
  },
  {
   "cell_type": "code",
   "execution_count": null,
   "metadata": {},
   "outputs": [],
   "source": [
    "t = gtree.BranchNode('A', 0.5, None, None)\n",
    "t.left = gtree.LeafNode() #'A', 0.5, 10, 20)\n",
    "t.right = gtree.LeafNode() #'A', 0.5, 100, 0)\n",
    "\n",
    "leaf_map = {hash(t.left): leaf_count_fn(10),\n",
    "            hash(t.right): leaf_count_fn(20)}\n",
    "\n",
    "t.predict(data, leaf_map)"
   ]
  },
  {
   "cell_type": "code",
   "execution_count": null,
   "metadata": {},
   "outputs": [],
   "source": [
    "# Create a split on a DataFrame\n",
    "\n",
    "df = pd.DataFrame({'foo': pd.Series([1, 2, 3, 4, 5, 6, 7, 8, 9, 10])})\n",
    "\n",
    "gtree._single_variable_best_split(\n",
    "    df,\n",
    "    'foo',\n",
    "    pd.Series([0, 0, 1, 0, 0, 1, 1, 0, 1, 1]),\n",
    "    gtree.error_rate_loss,\n",
    "    gtree.leaf_good_rate_prediction_builder)"
   ]
  },
  {
   "cell_type": "code",
   "execution_count": null,
   "metadata": {},
   "outputs": [],
   "source": [
    "threshold = 0.5\n",
    "truth     = pd.Series([1, 0, 1])\n",
    "predicted = pd.Series([0, 1, 0])\n",
    "\n",
    "gtree.error_rate_loss(truth, predicted)\n",
    "\n",
    "\n",
    "1.0 - ((predicted >= threshold) == truth).mean() #+ (predicted < threshold) * (1 - truth)"
   ]
  },
  {
   "cell_type": "markdown",
   "metadata": {},
   "source": [
    "# Test Split Finding"
   ]
  },
  {
   "cell_type": "code",
   "execution_count": null,
   "metadata": {},
   "outputs": [],
   "source": [
    "df = pd.DataFrame({'A': [1, 2, 3, 4, 5, 6, 7, 8, 9, 10, 11, 12],\n",
    "                   'B': [10, 20, 50, 30, 40, 50, 60, 50, 70, 90, 100, 110 ]})\n",
    "target = pd.Series([0, 0, 1, 0, 0, 1, 1, 0, 1, 1, 0, 0])\n",
    "\n",
    "tree, leaf_map = gtree.train_greedy_tree(df, target, loss_fn=gtree.error_rate_loss)\n",
    "\n",
    "print '\\nTree:\\n'\n",
    "tree.prn()\n",
    "\n",
    "print leaf_map"
   ]
  },
  {
   "cell_type": "code",
   "execution_count": null,
   "metadata": {},
   "outputs": [],
   "source": [
    "gtree.calculate_leaf_map(tree, df, target)"
   ]
  },
  {
   "cell_type": "code",
   "execution_count": null,
   "metadata": {},
   "outputs": [],
   "source": [
    "gtree.random_node(tree)"
   ]
  },
  {
   "cell_type": "code",
   "execution_count": null,
   "metadata": {},
   "outputs": [],
   "source": [
    "print gtree.get_all_nodes(tree)"
   ]
  },
  {
   "cell_type": "code",
   "execution_count": null,
   "metadata": {},
   "outputs": [],
   "source": [
    "df = pd.DataFrame({'A': [1, 2, 3, 4, 5, 6, 7, 8, 9, 10, 11, 12],\n",
    "                   'B': [10, 20, 50, 30, 40, 50, 60, 50, 70, 90, 100, 110 ]})\n",
    "target = pd.Series([0, 0, 1, 0, 0, 1, 1, 0, 1, 1, 0, 0])"
   ]
  },
  {
   "cell_type": "code",
   "execution_count": null,
   "metadata": {},
   "outputs": [],
   "source": [
    "gtree._np_single_variable_best_split(df,'B', target, \n",
    "                                     gtree.error_rate_loss,\n",
    "                                     gtree.leaf_good_rate_prediction_builder)"
   ]
  },
  {
   "cell_type": "code",
   "execution_count": null,
   "metadata": {
    "scrolled": false
   },
   "outputs": [],
   "source": [
    "tree, leaf_map = gtree.train_greedy_tree(df, target, loss_fn=gtree.error_rate_loss,\n",
    "                                         feature_sample_rate=.5,\n",
    "                                         row_sample_rate=.5)\n",
    "\n",
    "print '\\nTree:\\n'\n",
    "tree.prn()\n",
    "\n",
    "print leaf_map"
   ]
  },
  {
   "cell_type": "code",
   "execution_count": null,
   "metadata": {},
   "outputs": [],
   "source": [
    "gtree.mate(tree, tree).prn()"
   ]
  },
  {
   "cell_type": "code",
   "execution_count": null,
   "metadata": {},
   "outputs": [],
   "source": [
    "#def make_hastie_sample(n_samples):\n",
    "#\n",
    "#    features, targets = datasets.make_hastie_10_2(n_samples=n_samples)\n",
    "#\n",
    "#    features = pd.DataFrame(features, columns=['feature_{}'.format(i) for i in range(features.shape[1])])\n",
    "#    targets = pd.Series(targets, name='target')\n",
    "#    targets = targets.map(lambda x: 1.0 if x > 0 else 0.0)\n",
    "#    return features, targets\n",
    "\n"
   ]
  },
  {
   "cell_type": "code",
   "execution_count": null,
   "metadata": {},
   "outputs": [],
   "source": [
    "#def make_kddcup(n_samples):\n",
    "#    \n",
    "#    features, targets = datasets.fetch_kddcup99(subset='smtp')\n",
    "#\n",
    "#    features = pd.DataFrame(features, columns=['feature_{}'.format(i) for i in range(features.shape[1])])\n",
    "#    targets = pd.Series(targets, name='target')\n",
    "#    targets = targets.map(lambda x: 1.0 if x > 0 else 0.0)\n",
    "#    \n",
    "#    features = featurse.sample(n=n_samples)\n",
    "#    \n",
    "#    return features, targets.loc[features.index]\n",
    "    \n",
    "\n",
    "#def make_random_classification(n_samples, n_features=100):\n",
    "       \n",
    "#    features, targets = datasets.make_classification(n_samples=n_samples,\n",
    "#                                                     n_features=n_features,\n",
    "#                                                     n_informative=8,\n",
    "#                                                     n_classes=2,\n",
    "#                                                     n_clusters_per_class=4)\n",
    "#                                                     \n",
    "#    features = pd.DataFrame(features, columns=['feature_{}'.format(i) for i in range(features.shape[1])])\n",
    "#    targets = pd.Series(targets, name='target')\n",
    "#    targets = targets.map(lambda x: 1.0 if x > 0 else 0.0)\n",
    "#        \n",
    "#    return features, targets.loc[features.index]"
   ]
  },
  {
   "cell_type": "markdown",
   "metadata": {},
   "source": [
    "# Start the Test Analysis Here"
   ]
  },
  {
   "cell_type": "code",
   "execution_count": 8,
   "metadata": {},
   "outputs": [],
   "source": [
    "\n",
    "#features, targets = make_hastie_sample(10000)\n",
    "features, targets = tools.make_random_classification(10000)"
   ]
  },
  {
   "cell_type": "code",
   "execution_count": 9,
   "metadata": {},
   "outputs": [
    {
     "data": {
      "text/plain": [
       "(10000, 100)"
      ]
     },
     "execution_count": 9,
     "metadata": {},
     "output_type": "execute_result"
    }
   ],
   "source": [
    "features.shape"
   ]
  },
  {
   "cell_type": "code",
   "execution_count": 10,
   "metadata": {},
   "outputs": [
    {
     "data": {
      "text/plain": [
       "0.0    5002\n",
       "1.0    4998\n",
       "Name: target, dtype: int64"
      ]
     },
     "execution_count": 10,
     "metadata": {},
     "output_type": "execute_result"
    }
   ],
   "source": [
    "targets.value_counts()"
   ]
  },
  {
   "cell_type": "code",
   "execution_count": 11,
   "metadata": {
    "scrolled": true
   },
   "outputs": [
    {
     "ename": "TypeError",
     "evalue": "'NoneType' object is not callable",
     "output_type": "error",
     "traceback": [
      "\u001b[0;31m---------------------------------------------------------------------------\u001b[0m",
      "\u001b[0;31mTypeError\u001b[0m                                 Traceback (most recent call last)",
      "\u001b[0;32m<ipython-input-11-a00084c60469>\u001b[0m in \u001b[0;36m<module>\u001b[0;34m()\u001b[0m\n\u001b[1;32m      1\u001b[0m \u001b[0mgtree\u001b[0m\u001b[0;34m.\u001b[0m\u001b[0mtree_logger\u001b[0m\u001b[0;34m.\u001b[0m\u001b[0msetLevel\u001b[0m\u001b[0;34m(\u001b[0m\u001b[0mlogging\u001b[0m\u001b[0;34m.\u001b[0m\u001b[0mINFO\u001b[0m\u001b[0;34m)\u001b[0m\u001b[0;34m\u001b[0m\u001b[0m\n\u001b[0;32m----> 2\u001b[0;31m \u001b[0mtree\u001b[0m\u001b[0;34m,\u001b[0m \u001b[0mleaf_map\u001b[0m \u001b[0;34m=\u001b[0m \u001b[0mgtree\u001b[0m\u001b[0;34m.\u001b[0m\u001b[0mtrain_greedy_tree\u001b[0m\u001b[0;34m(\u001b[0m\u001b[0mfeatures\u001b[0m\u001b[0;34m,\u001b[0m \u001b[0mtargets\u001b[0m\u001b[0;34m,\u001b[0m \u001b[0mloss_fn\u001b[0m\u001b[0;34m=\u001b[0m\u001b[0mgtree\u001b[0m\u001b[0;34m.\u001b[0m\u001b[0mcross_entropy_loss\u001b[0m\u001b[0;34m,\u001b[0m \u001b[0mmax_depth\u001b[0m\u001b[0;34m=\u001b[0m\u001b[0;36m8\u001b[0m\u001b[0;34m)\u001b[0m\u001b[0;34m\u001b[0m\u001b[0m\n\u001b[0m",
      "\u001b[0;32m/Users/george/Stats/GeneticTrees/gtree.pyc\u001b[0m in \u001b[0;36mtrain_greedy_tree\u001b[0;34m(df, target, loss_fn, max_depth, min_to_split, leaf_map, leaf_prediction_builder, var_split_candidate_map, feature_sample_rate, row_sample_rate, current_depth)\u001b[0m\n\u001b[1;32m    270\u001b[0m         \u001b[0mleaf_map\u001b[0m \u001b[0;34m=\u001b[0m \u001b[0;34m{\u001b[0m\u001b[0;34m}\u001b[0m\u001b[0;34m\u001b[0m\u001b[0m\n\u001b[1;32m    271\u001b[0m \u001b[0;34m\u001b[0m\u001b[0m\n\u001b[0;32m--> 272\u001b[0;31m     \u001b[0mpredictor\u001b[0m \u001b[0;34m=\u001b[0m \u001b[0mleaf_prediction_builder\u001b[0m\u001b[0;34m(\u001b[0m\u001b[0mdf\u001b[0m\u001b[0;34m,\u001b[0m \u001b[0mtarget\u001b[0m\u001b[0;34m)\u001b[0m\u001b[0;34m\u001b[0m\u001b[0m\n\u001b[0m\u001b[1;32m    273\u001b[0m     \u001b[0mpredictions\u001b[0m \u001b[0;34m=\u001b[0m \u001b[0mpredictor\u001b[0m\u001b[0;34m(\u001b[0m\u001b[0mdf\u001b[0m\u001b[0;34m)\u001b[0m\u001b[0;34m\u001b[0m\u001b[0m\n\u001b[1;32m    274\u001b[0m     \u001b[0mcurrent_loss\u001b[0m \u001b[0;34m=\u001b[0m \u001b[0mloss_fn\u001b[0m\u001b[0;34m(\u001b[0m\u001b[0mpredictions\u001b[0m\u001b[0;34m,\u001b[0m \u001b[0mtarget\u001b[0m\u001b[0;34m)\u001b[0m\u001b[0;34m\u001b[0m\u001b[0m\n",
      "\u001b[0;31mTypeError\u001b[0m: 'NoneType' object is not callable"
     ]
    }
   ],
   "source": [
    "gtree.tree_logger.setLevel(logging.INFO)\n",
    "tree, leaf_map = gtree.train_greedy_tree(features, targets, loss_fn=gtree.cross_entropy_loss, max_depth=8)"
   ]
  },
  {
   "cell_type": "code",
   "execution_count": null,
   "metadata": {
    "scrolled": true
   },
   "outputs": [],
   "source": [
    "#gtree.cross_entropy_loss(targets[features.feature_45 < .2326])"
   ]
  },
  {
   "cell_type": "code",
   "execution_count": null,
   "metadata": {},
   "outputs": [],
   "source": [
    "#gtree._single_variable_best_split(features, 'feature_45', targets, None, None, None)"
   ]
  },
  {
   "cell_type": "code",
   "execution_count": null,
   "metadata": {
    "scrolled": true
   },
   "outputs": [],
   "source": [
    "tree.prn()"
   ]
  },
  {
   "cell_type": "code",
   "execution_count": null,
   "metadata": {},
   "outputs": [],
   "source": [
    "set(pd.Series([1, 2, 3]))"
   ]
  },
  {
   "cell_type": "code",
   "execution_count": null,
   "metadata": {
    "scrolled": false
   },
   "outputs": [],
   "source": [
    "tree.predict(features, leaf_map)"
   ]
  },
  {
   "cell_type": "code",
   "execution_count": null,
   "metadata": {},
   "outputs": [],
   "source": [
    "results = pd.DataFrame({'truth': targets, 'prediction': tree.predict(features, leaf_map)})"
   ]
  },
  {
   "cell_type": "code",
   "execution_count": null,
   "metadata": {},
   "outputs": [],
   "source": [
    "1.0 - gtree.error_rate_loss(results.prediction, results.truth) / len(targets)"
   ]
  },
  {
   "cell_type": "code",
   "execution_count": null,
   "metadata": {},
   "outputs": [],
   "source": [
    "results.plot(kind='scatter', x='prediction', y='truth')"
   ]
  },
  {
   "cell_type": "code",
   "execution_count": null,
   "metadata": {
    "scrolled": false
   },
   "outputs": [],
   "source": [
    "fig = plt.figure(figsize=(12,8))\n",
    "\n",
    "for label, grp in tree.predict(features, leaf_map).groupby(targets):\n",
    "    grp.hist(normed=True, alpha=0.5, label=str(label)) #, label=label)\n",
    "plt.legend(loc='best')\n",
    "None"
   ]
  },
  {
   "cell_type": "markdown",
   "metadata": {},
   "source": [
    "# Compare Methods"
   ]
  },
  {
   "cell_type": "code",
   "execution_count": null,
   "metadata": {},
   "outputs": [],
   "source": [
    "features, targets = tools.make_random_classification(5000)\n",
    "\n",
    "features_validation = features.sample(frac=.3)\n",
    "targets_validation = targets.loc[features_validation.index]\n",
    "\n",
    "features = features[~features.index.isin(features_validation.index)]\n",
    "targets = targets.loc[features.index]"
   ]
  },
  {
   "cell_type": "code",
   "execution_count": null,
   "metadata": {},
   "outputs": [],
   "source": [
    "%pdb off"
   ]
  },
  {
   "cell_type": "code",
   "execution_count": null,
   "metadata": {
    "scrolled": false
   },
   "outputs": [],
   "source": [
    "gtree.tree_logger.setLevel(logging.WARNING)\n",
    "\n",
    "result, generations = gtree.evolve(features, targets,\n",
    "                                   loss_fn=gtree.cross_entropy_loss,\n",
    "                                   max_depth=3, min_to_split=10,\n",
    "                                   num_generations=15, num_survivors=10,\n",
    "                                   num_children=200, num_seed_trees=5)\n"
   ]
  },
  {
   "cell_type": "code",
   "execution_count": null,
   "metadata": {
    "scrolled": false
   },
   "outputs": [],
   "source": [
    "leaf_map = gtree.calculate_leaf_map(result['tree'], features, targets, gtree.leaf_good_rate_split_builder)\n",
    "\n",
    "print gtree.error_rate_loss(result['tree'].predict(features_validation, leaf_map), targets_validation)"
   ]
  },
  {
   "cell_type": "code",
   "execution_count": null,
   "metadata": {},
   "outputs": [],
   "source": [
    "generations[-1]['best_of_generation']['tree'].find_leaves(features).value_counts()"
   ]
  },
  {
   "cell_type": "code",
   "execution_count": null,
   "metadata": {
    "scrolled": true
   },
   "outputs": [],
   "source": [
    "for gen in generations[-1]['generation']:\n",
    "    print '--------------------{:.4f}----------------------------'.format(gen['loss_testing'])\n",
    "    gen['tree'].prn()"
   ]
  },
  {
   "cell_type": "code",
   "execution_count": null,
   "metadata": {
    "scrolled": true
   },
   "outputs": [],
   "source": [
    "for result in generations[-1]['generation']:\n",
    "    print '---------------------------------------------'\n",
    "    result['tree'].prn()"
   ]
  },
  {
   "cell_type": "code",
   "execution_count": null,
   "metadata": {},
   "outputs": [],
   "source": [
    "result = gtree.train_random_trees(features, targets, loss_fn=gtree.error_rate_loss,\n",
    "                                  max_depth=2,\n",
    "                                  min_to_split=10,\n",
    "                                  num_trees=10)"
   ]
  },
  {
   "cell_type": "code",
   "execution_count": null,
   "metadata": {},
   "outputs": [],
   "source": [
    "leaf_map = gtree.calculate_leaf_map(result['tree'], features, targets, gtree.leaf_good_rate_split_builder)\n",
    "\n",
    "print gtree.error_rate_loss(result['tree'].predict(features_validation, leaf_map), targets_validation)"
   ]
  },
  {
   "cell_type": "code",
   "execution_count": null,
   "metadata": {},
   "outputs": [],
   "source": [
    "from sklearn import tree\n",
    "from sklearn.model_selection import train_test_split\n",
    "\n",
    "clf = tree.DecisionTreeClassifier(max_depth=2)\n",
    "clf = clf.fit(features, targets)"
   ]
  },
  {
   "cell_type": "code",
   "execution_count": null,
   "metadata": {},
   "outputs": [],
   "source": [
    "predictions = pd.Series(clf.predict_proba(features_validation)[:, 1], index=features_validation.index)\n",
    "gtree.error_rate_loss(predictions, targets_validation)"
   ]
  },
  {
   "cell_type": "code",
   "execution_count": null,
   "metadata": {},
   "outputs": [],
   "source": [
    "from sklearn.externals.six import StringIO  \n",
    "from sklearn import tree as sklearn_tree\n",
    "import pydot \n",
    "dot_data = StringIO() \n",
    "sklearn_tree.export_graphviz(clf, out_file=dot_data) \n",
    "graph = pydot.graph_from_dot_data(dot_data.getvalue()) \n",
    "graph.write_pdf(\"iris.pdf\") "
   ]
  },
  {
   "cell_type": "code",
   "execution_count": null,
   "metadata": {},
   "outputs": [],
   "source": [
    "%alias_magic t timeit"
   ]
  },
  {
   "cell_type": "code",
   "execution_count": null,
   "metadata": {},
   "outputs": [],
   "source": [
    "sel = features[features['feature_3'] < 0].index"
   ]
  },
  {
   "cell_type": "code",
   "execution_count": null,
   "metadata": {},
   "outputs": [],
   "source": [
    "sel"
   ]
  },
  {
   "cell_type": "code",
   "execution_count": null,
   "metadata": {},
   "outputs": [],
   "source": [
    "%t features.loc[sel]"
   ]
  },
  {
   "cell_type": "code",
   "execution_count": null,
   "metadata": {},
   "outputs": [],
   "source": [
    "%t df.reindex_axis(sel, copy=False)"
   ]
  },
  {
   "cell_type": "code",
   "execution_count": null,
   "metadata": {},
   "outputs": [],
   "source": [
    "# BC Dataset"
   ]
  },
  {
   "cell_type": "code",
   "execution_count": null,
   "metadata": {},
   "outputs": [],
   "source": [
    "bc_info = datasets.load_breast_cancer()\n",
    "features = pd.DataFrame(bc_info['data'])\n",
    "target = pd.Series(bc_info['target']).dropna()\n",
    "features = features.loc[target.index]"
   ]
  },
  {
   "cell_type": "code",
   "execution_count": null,
   "metadata": {},
   "outputs": [],
   "source": [
    "target.value_counts(dropna=False)"
   ]
  },
  {
   "cell_type": "code",
   "execution_count": null,
   "metadata": {},
   "outputs": [],
   "source": [
    "%pdb off"
   ]
  },
  {
   "cell_type": "code",
   "execution_count": null,
   "metadata": {},
   "outputs": [],
   "source": [
    "gtree.tree_logger.setLevel(logging.WARNING)\n"
   ]
  },
  {
   "cell_type": "code",
   "execution_count": null,
   "metadata": {
    "scrolled": true
   },
   "outputs": [],
   "source": [
    "gtree.tree_logger.setLevel(logging.WARNING)\n",
    "\n",
    "result, generations = gtree.evolve(features, target,\n",
    "                                   loss_fn=gtree.cross_entropy_loss,\n",
    "                                   max_depth=3, min_to_split=10,\n",
    "                                   num_generations=30, num_survivors=10,\n",
    "                                   num_children=50, num_seed_trees=5)"
   ]
  },
  {
   "cell_type": "code",
   "execution_count": null,
   "metadata": {},
   "outputs": [],
   "source": []
  },
  {
   "cell_type": "code",
   "execution_count": null,
   "metadata": {},
   "outputs": [],
   "source": []
  },
  {
   "cell_type": "code",
   "execution_count": null,
   "metadata": {},
   "outputs": [],
   "source": [
    "X = np.array([[1, 2, 3], [4, 5, 6]])\n",
    "Y = X[0:2]"
   ]
  },
  {
   "cell_type": "code",
   "execution_count": null,
   "metadata": {},
   "outputs": [],
   "source": [
    "type(X)"
   ]
  },
  {
   "cell_type": "code",
   "execution_count": null,
   "metadata": {},
   "outputs": [],
   "source": [
    "id(Y.data)"
   ]
  },
  {
   "cell_type": "code",
   "execution_count": null,
   "metadata": {},
   "outputs": [],
   "source": [
    "[1, 2, 3][0:3]"
   ]
  },
  {
   "cell_type": "code",
   "execution_count": null,
   "metadata": {},
   "outputs": [],
   "source": []
  },
  {
   "cell_type": "code",
   "execution_count": null,
   "metadata": {},
   "outputs": [],
   "source": []
  },
  {
   "cell_type": "code",
   "execution_count": null,
   "metadata": {},
   "outputs": [],
   "source": [
    "X = np.array([[1, 2, 3], [4, 5, 6], [7, 8, 9]])\n",
    "X"
   ]
  },
  {
   "cell_type": "code",
   "execution_count": null,
   "metadata": {},
   "outputs": [],
   "source": [
    "fns = {0: lambda x: (x[:,0] + x[:,1] + x[:,2]).reshape(len(x), 1), 1: lambda x: (-1*x[:,0]).reshape(len(x), 1)}\n",
    "\n",
    "hashes = np.array([[0], [1], [0]])\n",
    "hashes"
   ]
  },
  {
   "cell_type": "code",
   "execution_count": null,
   "metadata": {},
   "outputs": [],
   "source": [
    "predictions = np.zeros((len(X), 1))\n",
    "predictions"
   ]
  },
  {
   "cell_type": "code",
   "execution_count": null,
   "metadata": {},
   "outputs": [],
   "source": [
    "zero = np.zeros((len(X), 1))\n",
    "\n",
    "for i in [0, 1]:\n",
    "    #comparison = np.full((len(X), 1), i)\n",
    "    predictions[hashes.reshape(len(X))==i] = fns[i](X[hashes.reshape(len(X))==i, :]) # += np.where(hashes==i, fns[i](X), zero)\n",
    "    \n",
    "predictions"
   ]
  },
  {
   "cell_type": "code",
   "execution_count": null,
   "metadata": {},
   "outputs": [],
   "source": [
    "X[hashes==comparison, :]"
   ]
  },
  {
   "cell_type": "code",
   "execution_count": null,
   "metadata": {},
   "outputs": [],
   "source": [
    "X[:,0].reshape(3, 1)"
   ]
  },
  {
   "cell_type": "code",
   "execution_count": null,
   "metadata": {},
   "outputs": [],
   "source": [
    "X[hashes==np.array([1]).reshape((len(X), 1))]"
   ]
  },
  {
   "cell_type": "code",
   "execution_count": null,
   "metadata": {},
   "outputs": [],
   "source": [
    "hashes==1"
   ]
  },
  {
   "cell_type": "code",
   "execution_count": null,
   "metadata": {},
   "outputs": [],
   "source": [
    "X[np.array([True, False, True]), :]"
   ]
  }
 ],
 "metadata": {
  "kernelspec": {
   "display_name": "Python 2",
   "language": "python",
   "name": "python2"
  },
  "language_info": {
   "codemirror_mode": {
    "name": "ipython",
    "version": 2
   },
   "file_extension": ".py",
   "mimetype": "text/x-python",
   "name": "python",
   "nbconvert_exporter": "python",
   "pygments_lexer": "ipython2",
   "version": "2.7.11"
  }
 },
 "nbformat": 4,
 "nbformat_minor": 2
}
