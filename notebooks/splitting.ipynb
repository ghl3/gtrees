{
 "cells": [
  {
   "cell_type": "code",
   "execution_count": 1,
   "metadata": {},
   "outputs": [],
   "source": [
    "from __future__ import division"
   ]
  },
  {
   "cell_type": "code",
   "execution_count": 5,
   "metadata": {},
   "outputs": [],
   "source": [
    "import sys\n",
    "sys.path.append('..')"
   ]
  },
  {
   "cell_type": "code",
   "execution_count": 2,
   "metadata": {},
   "outputs": [],
   "source": [
    "import math\n",
    "import random\n",
    "import numpy as np\n",
    "import pandas as pd"
   ]
  },
  {
   "cell_type": "code",
   "execution_count": 4,
   "metadata": {},
   "outputs": [
    {
     "ename": "ImportError",
     "evalue": "No module named gtree",
     "output_type": "error",
     "traceback": [
      "\u001b[0;31m---------------------------------------------------------------------------\u001b[0m",
      "\u001b[0;31mImportError\u001b[0m                               Traceback (most recent call last)",
      "\u001b[0;32m<ipython-input-4-f4ba13a0d4b4>\u001b[0m in \u001b[0;36m<module>\u001b[0;34m()\u001b[0m\n\u001b[0;32m----> 1\u001b[0;31m \u001b[0;32mimport\u001b[0m \u001b[0mgtree\u001b[0m\u001b[0;34m\u001b[0m\u001b[0m\n\u001b[0m",
      "\u001b[0;31mImportError\u001b[0m: No module named gtree"
     ]
    }
   ],
   "source": [
    "import gtree"
   ]
  },
  {
   "cell_type": "code",
   "execution_count": 6,
   "metadata": {},
   "outputs": [
    {
     "name": "stdout",
     "output_type": "stream",
     "text": [
      "The autoreload extension is already loaded. To reload it, use:\n",
      "  %reload_ext autoreload\n"
     ]
    }
   ],
   "source": [
    "%load_ext autoreload\n",
    "%autoreload 1\n",
    "\n",
    "%aimport gtree\n",
    "%aimport tools"
   ]
  },
  {
   "cell_type": "code",
   "execution_count": 7,
   "metadata": {},
   "outputs": [],
   "source": [
    "from timeit import default_timer as timer\n",
    "\n",
    "class benchmark(object):\n",
    "\n",
    "    def __init__(self, msg, fmt=\"%0.3g\"):\n",
    "        self.msg = msg\n",
    "        self.fmt = fmt\n",
    "\n",
    "    def __enter__(self):\n",
    "        self.start = timer()\n",
    "        return self\n",
    "\n",
    "    def __exit__(self, *args):\n",
    "        t = timer() - self.start\n",
    "        print((\"%s : \" + self.fmt + \" seconds\") % (self.msg, t))\n",
    "        self.time = t"
   ]
  },
  {
   "cell_type": "code",
   "execution_count": 8,
   "metadata": {},
   "outputs": [
    {
     "name": "stdout",
     "output_type": "stream",
     "text": [
      "Foo\n",
      "Just A test : 0.000393 seconds\n"
     ]
    }
   ],
   "source": [
    "with benchmark(\"Just A test\"):\n",
    "    \n",
    "    print \"Foo\""
   ]
  },
  {
   "cell_type": "markdown",
   "metadata": {},
   "source": [
    "# Investigate Optimal Splitting\n",
    "\n",
    "Can we do splitting faster using raw numpy arrays rather than Pandas DataFrames?"
   ]
  },
  {
   "cell_type": "code",
   "execution_count": 10,
   "metadata": {},
   "outputs": [],
   "source": [
    "df_features, df_targets = tools.make_random_classification(5000)"
   ]
  },
  {
   "cell_type": "code",
   "execution_count": 18,
   "metadata": {},
   "outputs": [],
   "source": [
    "np_feaures = np.array(df_features.values, dtype='float32')\n",
    "np_targets = np.array(df_targets.values, dtype='float32')"
   ]
  },
  {
   "cell_type": "code",
   "execution_count": 13,
   "metadata": {},
   "outputs": [],
   "source": [
    "feature_names = df_features.columns"
   ]
  },
  {
   "cell_type": "code",
   "execution_count": 14,
   "metadata": {},
   "outputs": [],
   "source": [
    "# Get the candidates in advance\n",
    "candidate_map = {v: gtree._get_split_candidates(df_features[v]) for v in feature_names}"
   ]
  },
  {
   "cell_type": "code",
   "execution_count": 15,
   "metadata": {},
   "outputs": [
    {
     "ename": "AttributeError",
     "evalue": "'module' object has no attribute 'leaf_good_rate_split_builder'",
     "output_type": "error",
     "traceback": [
      "\u001b[0;31m---------------------------------------------------------------------------\u001b[0m",
      "\u001b[0;31mAttributeError\u001b[0m                            Traceback (most recent call last)",
      "\u001b[0;32m<ipython-input-15-87d90f3f3da7>\u001b[0m in \u001b[0;36m<module>\u001b[0;34m()\u001b[0m\n\u001b[1;32m      1\u001b[0m \u001b[0mloss_fn\u001b[0m \u001b[0;34m=\u001b[0m \u001b[0mgtree\u001b[0m\u001b[0;34m.\u001b[0m\u001b[0mcross_entropy_loss\u001b[0m\u001b[0;34m\u001b[0m\u001b[0m\n\u001b[0;32m----> 2\u001b[0;31m \u001b[0mprediction_builder\u001b[0m \u001b[0;34m=\u001b[0m \u001b[0mgtree\u001b[0m\u001b[0;34m.\u001b[0m\u001b[0mleaf_good_rate_split_builder\u001b[0m\u001b[0;34m\u001b[0m\u001b[0m\n\u001b[0m",
      "\u001b[0;31mAttributeError\u001b[0m: 'module' object has no attribute 'leaf_good_rate_split_builder'"
     ]
    }
   ],
   "source": [
    "loss_fn = gtree.cross_entropy_loss\n",
    "prediction_builder = gtree.leaf_good_rate_split_builder"
   ]
  },
  {
   "cell_type": "code",
   "execution_count": null,
   "metadata": {},
   "outputs": [],
   "source": [
    "# Create the numpy version"
   ]
  },
  {
   "cell_type": "code",
   "execution_count": null,
   "metadata": {},
   "outputs": [],
   "source": [
    "def np_leaf_good_rate_split_builder(features, target):\n",
    "    \"\"\"\n",
    "    Assume the target consists of 0, 1\n",
    "    \"\"\"\n",
    "    if len(target) > 0:\n",
    "        mean = sum(target) / len(target)\n",
    "    else:\n",
    "        mean = 0\n",
    "\n",
    "    return lambda arr: np.full(target.shape, mean) #pd.Series([mean for _ in range(len(df))], index=df.index)"
   ]
  },
  {
   "cell_type": "code",
   "execution_count": null,
   "metadata": {},
   "outputs": [],
   "source": [
    "def np_naive_single_variable_best_split(features, var_idx, target, loss_fn, leaf_prediction_builder, candidates=None):\n",
    "\n",
    "    # Select the ith column\n",
    "    srs = features[:, var_idx]\n",
    "    candidates = list(srs) \n",
    "\n",
    "    best_loss = None\n",
    "    best_split = None\n",
    "\n",
    "    for val in candidates:\n",
    "        \n",
    "        #print srs, srs.shape\n",
    "        #print features, features.shape\n",
    "        \n",
    "        left_condition = (srs <= val)\n",
    "        # Get feature rows satisfying the constraint\n",
    "        feat_left = features[left_condition, :]\n",
    "        target_left = target[left_condition]\n",
    "        left_leaf_predict_fn = leaf_prediction_builder(feat_left, target_left)\n",
    "        left_predicted = left_leaf_predict_fn(feat_left)\n",
    "        left_loss = loss_fn(left_predicted, target_left)\n",
    "        #print \"LEFT PREDICTED: \", left_predicted\n",
    "        \n",
    "        right_condition = (srs > val)\n",
    "        # Get feature rows satisfying the constraint\n",
    "        feat_right = features[right_condition, :]\n",
    "        target_right = target[right_condition]\n",
    "        right_leaf_predict_fn = leaf_prediction_builder(feat_right, target_right)\n",
    "        right_predicted = right_leaf_predict_fn(feat_right)\n",
    "        right_loss = loss_fn(right_predicted, target_right)\n",
    "        #print \"RIGHT PREDICTED: \", right_predicted\n",
    "\n",
    "        #print \"Left loss: \", left_loss, \"Right Loss: \", right_loss\n",
    "        avg_loss = (left_loss * left_condition.sum() + right_loss * right_condition.sum()) / (len(features))\n",
    "        \n",
    "        if best_loss is None or avg_loss < best_loss:\n",
    "            best_split = val\n",
    "            best_loss = avg_loss\n",
    "\n",
    "    return best_split, best_loss"
   ]
  },
  {
   "cell_type": "code",
   "execution_count": null,
   "metadata": {},
   "outputs": [],
   "source": [
    "def sort_by_col(fs, t, idx):\n",
    "    order = np.argsort(fs[:, idx])    \n",
    "    return (fs[order], t[order])\n",
    "\n",
    "def np_single_variable_best_split(features, var_idx, target, loss_fn, leaf_prediction_builder, candidates=None):\n",
    "\n",
    "    # First, we sort the features by the ith idx\n",
    "    print \"SORTING\"\n",
    "    features, target = sort_by_col(features, target, var_idx)\n",
    "    print \"DONE\"\n",
    "    srs = features[:, var_idx]\n",
    "    candidates = set(srs) \n",
    "\n",
    "    best_loss = None\n",
    "    best_split = None\n",
    "    \n",
    "    split_value = None\n",
    "\n",
    "    for idx in range(len(srs)):\n",
    "        \n",
    "        # We consider splits only at the first value\n",
    "        # in a series\n",
    "        #  1 1 1 2 2 2 3 3 3\n",
    "        #       ^ -- SPLIT\n",
    "        #\n",
    "        if srs[idx] == split_value:\n",
    "            continue\n",
    "        else:\n",
    "            split_value = srs[idx]\n",
    "            \n",
    "        if split_value not in candidates:\n",
    "            continue\n",
    "        \n",
    "        #left_condition = (srs <= val)\n",
    "        feat_left = features[0:idx, :]\n",
    "        target_left = target[0:idx]\n",
    "        left_leaf_predict_fn = leaf_prediction_builder(feat_left, target_left)\n",
    "        left_predicted = left_leaf_predict_fn(feat_left)\n",
    "        left_loss = loss_fn(left_predicted, target_left)\n",
    "        \n",
    "        #right_condition = (srs > val)\n",
    "        feat_right = features[idx:-1, :]\n",
    "        target_right = target[idx:-1]\n",
    "        right_leaf_predict_fn = leaf_prediction_builder(feat_right, target_right)\n",
    "        right_predicted = right_leaf_predict_fn(feat_right)\n",
    "        right_loss = loss_fn(right_predicted, target_right)\n",
    "\n",
    "        avg_loss = (left_loss * idx + right_loss * (len(target)-idx)) / (len(features))\n",
    "        if best_loss is None or avg_loss < best_loss:\n",
    "            best_split = split_value\n",
    "            best_loss = avg_loss\n",
    "\n",
    "    return best_split, best_loss"
   ]
  },
  {
   "cell_type": "code",
   "execution_count": null,
   "metadata": {},
   "outputs": [],
   "source": [
    "x = pd.DataFrame({\n",
    "    'a': [1, 2, 3, 4, 3, 6],\n",
    "    'b': [10, 20, 30, 40, 50, 60]\n",
    "})\n",
    "y = pd.Series([1, 0, 0, 1, 0, 1])"
   ]
  },
  {
   "cell_type": "code",
   "execution_count": null,
   "metadata": {},
   "outputs": [],
   "source": [
    "with benchmark(\"DF Single\"):\n",
    "    gtree._single_variable_best_split(\n",
    "            df_features, 'feature_15', df_targets,\n",
    "            loss_fn=loss_fn, #gtree.error_rate_loss,\n",
    "            leaf_prediction_builder=prediction_builder,\n",
    "            candidates = candidate_map[var])"
   ]
  },
  {
   "cell_type": "code",
   "execution_count": null,
   "metadata": {},
   "outputs": [],
   "source": [
    "with benchmark(\"NP NAIVE\"):\n",
    "    np_naive_single_variable_best_split(\n",
    "        features=np_feaures, var_idx=15, target=np_targets,\n",
    "        loss_fn=loss_fn, #gtree.error_rate_loss,\n",
    "        leaf_prediction_builder=np_leaf_good_rate_split_builder)"
   ]
  },
  {
   "cell_type": "code",
   "execution_count": 19,
   "metadata": {},
   "outputs": [
    {
     "name": "stderr",
     "output_type": "stream",
     "text": [
      "/Users/george/Stats/GeneticTrees/venv/lib/python2.7/site-packages/numpy/core/fromnumeric.py:2909: RuntimeWarning: Mean of empty slice.\n",
      "  out=out, **kwargs)\n",
      "/Users/george/Stats/GeneticTrees/venv/lib/python2.7/site-packages/numpy/core/_methods.py:80: RuntimeWarning: invalid value encountered in true_divide\n",
      "  ret = ret.dtype.type(ret / rcount)\n",
      "Exception KeyboardInterrupt in 'tree._my_tree.CrossEntropyLoss.loss' ignored\n",
      "Exception KeyboardInterrupt in 'tree._my_tree.CrossEntropyLoss.loss' ignored\n",
      "Exception KeyboardInterrupt in 'tree._my_tree.CrossEntropyLoss.loss' ignored\n",
      "Exception KeyboardInterrupt in 'tree._my_tree.CrossEntropyLoss.loss' ignored\n",
      "Exception KeyboardInterrupt in 'tree._my_tree.CrossEntropyLoss.loss' ignored\n"
     ]
    },
    {
     "name": "stdout",
     "output_type": "stream",
     "text": [
      "NP CYTHON : 165 seconds\n"
     ]
    },
    {
     "ename": "KeyboardInterrupt",
     "evalue": "",
     "output_type": "error",
     "traceback": [
      "\u001b[0;31m---------------------------------------------------------------------------\u001b[0m",
      "\u001b[0;31mKeyboardInterrupt\u001b[0m                         Traceback (most recent call last)",
      "\u001b[0;32m<ipython-input-19-334a8dea8945>\u001b[0m in \u001b[0;36m<module>\u001b[0;34m()\u001b[0m\n\u001b[1;32m     11\u001b[0m         \u001b[0mnp_targets\u001b[0m\u001b[0;34m,\u001b[0m\u001b[0;34m\u001b[0m\u001b[0m\n\u001b[1;32m     12\u001b[0m         \u001b[0mlmb\u001b[0m\u001b[0;34m,\u001b[0m\u001b[0;34m\u001b[0m\u001b[0m\n\u001b[0;32m---> 13\u001b[0;31m         ce)\n\u001b[0m",
      "\u001b[0;32m/Users/george/Stats/GeneticTrees/tree/_my_tree.pyx\u001b[0m in \u001b[0;36mtree._my_tree.SpitFinder.getBestSplit (tree/_my_tree.c:6234)\u001b[0;34m()\u001b[0m\n\u001b[1;32m    219\u001b[0m         \u001b[0;32mpass\u001b[0m\u001b[0;34m\u001b[0m\u001b[0m\n\u001b[1;32m    220\u001b[0m \u001b[0;34m\u001b[0m\u001b[0m\n\u001b[0;32m--> 221\u001b[0;31m     cpdef tuple getBestSplit(self,\n\u001b[0m\u001b[1;32m    222\u001b[0m                                 \u001b[0mint\u001b[0m \u001b[0mvarIdx\u001b[0m\u001b[0;34m,\u001b[0m\u001b[0;34m\u001b[0m\u001b[0m\n\u001b[1;32m    223\u001b[0m                                 \u001b[0mnp\u001b[0m\u001b[0;34m.\u001b[0m\u001b[0mndarray\u001b[0m\u001b[0;34m[\u001b[0m\u001b[0mDOUBLE_t\u001b[0m\u001b[0;34m,\u001b[0m \u001b[0mndim\u001b[0m\u001b[0;34m=\u001b[0m\u001b[0;36m2\u001b[0m\u001b[0;34m]\u001b[0m \u001b[0mX\u001b[0m\u001b[0;34m,\u001b[0m\u001b[0;34m\u001b[0m\u001b[0m\n",
      "\u001b[0;32m/Users/george/Stats/GeneticTrees/tree/_my_tree.pyx\u001b[0m in \u001b[0;36mtree._my_tree.SpitFinder.getBestSplit (tree/_my_tree.c:5816)\u001b[0;34m()\u001b[0m\n\u001b[1;32m    262\u001b[0m             \u001b[0mX_left\u001b[0m \u001b[0;34m=\u001b[0m \u001b[0mXX\u001b[0m\u001b[0;34m[\u001b[0m\u001b[0;36m0\u001b[0m\u001b[0;34m:\u001b[0m\u001b[0msplitIdx\u001b[0m\u001b[0;34m,\u001b[0m \u001b[0;34m:\u001b[0m\u001b[0;34m]\u001b[0m\u001b[0;34m\u001b[0m\u001b[0m\n\u001b[1;32m    263\u001b[0m             \u001b[0mY_left\u001b[0m \u001b[0;34m=\u001b[0m \u001b[0mYY\u001b[0m\u001b[0;34m[\u001b[0m\u001b[0;36m0\u001b[0m\u001b[0;34m:\u001b[0m\u001b[0msplitIdx\u001b[0m\u001b[0;34m]\u001b[0m\u001b[0;34m\u001b[0m\u001b[0m\n\u001b[0;32m--> 264\u001b[0;31m             \u001b[0mleft_leaf_predict_fn\u001b[0m \u001b[0;34m=\u001b[0m \u001b[0mleafMapperBuilder\u001b[0m\u001b[0;34m.\u001b[0m\u001b[0mbuild\u001b[0m\u001b[0;34m(\u001b[0m\u001b[0mX_left\u001b[0m\u001b[0;34m,\u001b[0m \u001b[0mY_left\u001b[0m\u001b[0;34m)\u001b[0m\u001b[0;34m\u001b[0m\u001b[0m\n\u001b[0m\u001b[1;32m    265\u001b[0m             \u001b[0mPRED_left\u001b[0m \u001b[0;34m=\u001b[0m \u001b[0mleft_leaf_predict_fn\u001b[0m\u001b[0;34m.\u001b[0m\u001b[0mpredict\u001b[0m\u001b[0;34m(\u001b[0m\u001b[0mX_left\u001b[0m\u001b[0;34m)\u001b[0m\u001b[0;34m\u001b[0m\u001b[0m\n\u001b[1;32m    266\u001b[0m             \u001b[0mleft_loss\u001b[0m \u001b[0;34m=\u001b[0m \u001b[0mlossFunction\u001b[0m\u001b[0;34m.\u001b[0m\u001b[0mloss\u001b[0m\u001b[0;34m(\u001b[0m\u001b[0mY_left\u001b[0m\u001b[0;34m,\u001b[0m \u001b[0mPRED_left\u001b[0m\u001b[0;34m)\u001b[0m\u001b[0;34m\u001b[0m\u001b[0m\n",
      "\u001b[0;32m/Users/george/Stats/GeneticTrees/tree/_my_tree.pyx\u001b[0m in \u001b[0;36mtree._my_tree.MeanLeafMapperBuilder.build (tree/_my_tree.c:3779)\u001b[0;34m()\u001b[0m\n\u001b[1;32m    124\u001b[0m                    np.ndarray[DOUBLE_t, ndim=1, mode=\"c\"] y):\n\u001b[1;32m    125\u001b[0m \u001b[0;34m\u001b[0m\u001b[0m\n\u001b[0;32m--> 126\u001b[0;31m         \u001b[0;32mreturn\u001b[0m \u001b[0mMeanLeafMapper\u001b[0m\u001b[0;34m(\u001b[0m\u001b[0mnp\u001b[0m\u001b[0;34m.\u001b[0m\u001b[0mmean\u001b[0m\u001b[0;34m(\u001b[0m\u001b[0my\u001b[0m\u001b[0;34m)\u001b[0m\u001b[0;34m)\u001b[0m\u001b[0;34m\u001b[0m\u001b[0m\n\u001b[0m\u001b[1;32m    127\u001b[0m \u001b[0;34m\u001b[0m\u001b[0m\n\u001b[1;32m    128\u001b[0m \u001b[0;34m\u001b[0m\u001b[0m\n",
      "\u001b[0;32m/Users/george/Stats/GeneticTrees/venv/lib/python2.7/site-packages/numpy/core/fromnumeric.pyc\u001b[0m in \u001b[0;36mmean\u001b[0;34m(a, axis, dtype, out, keepdims)\u001b[0m\n\u001b[1;32m   2907\u001b[0m \u001b[0;34m\u001b[0m\u001b[0m\n\u001b[1;32m   2908\u001b[0m     return _methods._mean(a, axis=axis, dtype=dtype,\n\u001b[0;32m-> 2909\u001b[0;31m                           out=out, **kwargs)\n\u001b[0m\u001b[1;32m   2910\u001b[0m \u001b[0;34m\u001b[0m\u001b[0m\n\u001b[1;32m   2911\u001b[0m \u001b[0;34m\u001b[0m\u001b[0m\n",
      "\u001b[0;32m/Users/george/Stats/GeneticTrees/venv/lib/python2.7/site-packages/numpy/core/_methods.pyc\u001b[0m in \u001b[0;36m_mean\u001b[0;34m(a, axis, dtype, out, keepdims)\u001b[0m\n\u001b[1;32m     68\u001b[0m             \u001b[0mis_float16_result\u001b[0m \u001b[0;34m=\u001b[0m \u001b[0mTrue\u001b[0m\u001b[0;34m\u001b[0m\u001b[0m\n\u001b[1;32m     69\u001b[0m \u001b[0;34m\u001b[0m\u001b[0m\n\u001b[0;32m---> 70\u001b[0;31m     \u001b[0mret\u001b[0m \u001b[0;34m=\u001b[0m \u001b[0mumr_sum\u001b[0m\u001b[0;34m(\u001b[0m\u001b[0marr\u001b[0m\u001b[0;34m,\u001b[0m \u001b[0maxis\u001b[0m\u001b[0;34m,\u001b[0m \u001b[0mdtype\u001b[0m\u001b[0;34m,\u001b[0m \u001b[0mout\u001b[0m\u001b[0;34m,\u001b[0m \u001b[0mkeepdims\u001b[0m\u001b[0;34m)\u001b[0m\u001b[0;34m\u001b[0m\u001b[0m\n\u001b[0m\u001b[1;32m     71\u001b[0m     \u001b[0;32mif\u001b[0m \u001b[0misinstance\u001b[0m\u001b[0;34m(\u001b[0m\u001b[0mret\u001b[0m\u001b[0;34m,\u001b[0m \u001b[0mmu\u001b[0m\u001b[0;34m.\u001b[0m\u001b[0mndarray\u001b[0m\u001b[0;34m)\u001b[0m\u001b[0;34m:\u001b[0m\u001b[0;34m\u001b[0m\u001b[0m\n\u001b[1;32m     72\u001b[0m         ret = um.true_divide(\n",
      "\u001b[0;31mKeyboardInterrupt\u001b[0m: "
     ]
    }
   ],
   "source": [
    "import tree._my_tree\n",
    "\n",
    "lmb = tree._my_tree.MeanLeafMapperBuilder()\n",
    "ce = tree._my_tree.CrossEntropyLoss()\n",
    "spliter = tree._my_tree.SpitFinder()\n",
    "\n",
    "with benchmark(\"NP CYTHON\"):\n",
    "    spliter.getBestSplit(\n",
    "        15,\n",
    "        np_feaures,\n",
    "        np_targets,\n",
    "        lmb,\n",
    "        ce)"
   ]
  },
  {
   "cell_type": "code",
   "execution_count": null,
   "metadata": {},
   "outputs": [],
   "source": [
    "with benchmark(\"NP SMART\"):\n",
    "    np_single_variable_best_split(\n",
    "        features=np_feaures, var_idx=15, target=np_targets,\n",
    "        loss_fn=loss_fn, #gtree.error_rate_loss,\n",
    "        leaf_prediction_builder=np_leaf_good_rate_split_builder)"
   ]
  },
  {
   "cell_type": "code",
   "execution_count": null,
   "metadata": {},
   "outputs": [],
   "source": [
    "# Test Df Splitting\n",
    "with benchmark(\"DF Test\"):\n",
    "    for var in feature_names[:5]:\n",
    "        gtree._single_variable_best_split(\n",
    "            df_features, var, df_targets,\n",
    "            loss_fn=loss_fn,\n",
    "            leaf_prediction_builder=prediction_builder,\n",
    "            candidates = candidate_map[var])"
   ]
  },
  {
   "cell_type": "code",
   "execution_count": null,
   "metadata": {},
   "outputs": [],
   "source": [
    "with benchmark(\"NP Test\"):\n",
    "    for idx in range(df_features.shape[1])[:5]:\n",
    "        np_single_variable_best_split(\n",
    "            np_feaures, idx, np_targets,\n",
    "            loss_fn=loss_fn,\n",
    "            leaf_prediction_builder=np_leaf_good_rate_split_builder,\n",
    "            candidates = candidate_map[var])"
   ]
  },
  {
   "cell_type": "code",
   "execution_count": null,
   "metadata": {},
   "outputs": [],
   "source": [
    "X = np.array([[1, 7, 3],\n",
    "              [4, 5, 6],\n",
    "              [7, 8, 9]])\n",
    "Y = np.array([1, 2, 3])"
   ]
  },
  {
   "cell_type": "code",
   "execution_count": null,
   "metadata": {},
   "outputs": [],
   "source": [
    "sort_by_col(X, Y, 1)"
   ]
  },
  {
   "cell_type": "code",
   "execution_count": null,
   "metadata": {},
   "outputs": [],
   "source": [
    "Y"
   ]
  },
  {
   "cell_type": "code",
   "execution_count": null,
   "metadata": {},
   "outputs": [],
   "source": [
    "x = pd.DataFrame({\n",
    "    'a': [1, 2, 3, 4, 3, 6],\n",
    "    'b': [10, 20, 30, 40, 50, 60]\n",
    "})\n",
    "y = pd.Series([1, 0, 0, 1, 0, 1])"
   ]
  },
  {
   "cell_type": "code",
   "execution_count": null,
   "metadata": {},
   "outputs": [],
   "source": []
  },
  {
   "cell_type": "code",
   "execution_count": null,
   "metadata": {},
   "outputs": [],
   "source": []
  },
  {
   "cell_type": "code",
   "execution_count": null,
   "metadata": {},
   "outputs": [],
   "source": [
    "from sklearn.tree import _criterion, _splitter\n",
    "\n",
    "c = _criterion.Gini(1, np.array([2]))\n",
    "s = _splitter.BestSplitter"
   ]
  },
  {
   "cell_type": "code",
   "execution_count": null,
   "metadata": {},
   "outputs": [],
   "source": [
    "max_features = len(df_features)\n",
    "\n",
    "splitter = s(c,\n",
    "             max_features,\n",
    "             min_samples_leaf=1,\n",
    "             min_weight_leaf=1,\n",
    "             random_state=1,\n",
    "             presort=False)"
   ]
  },
  {
   "cell_type": "code",
   "execution_count": null,
   "metadata": {},
   "outputs": [],
   "source": [
    "splitter."
   ]
  },
  {
   "cell_type": "code",
   "execution_count": null,
   "metadata": {},
   "outputs": [],
   "source": [
    "s.node_split"
   ]
  }
 ],
 "metadata": {
  "kernelspec": {
   "display_name": "Python 2",
   "language": "python",
   "name": "python2"
  },
  "language_info": {
   "codemirror_mode": {
    "name": "ipython",
    "version": 2
   },
   "file_extension": ".py",
   "mimetype": "text/x-python",
   "name": "python",
   "nbconvert_exporter": "python",
   "pygments_lexer": "ipython2",
   "version": "2.7.11"
  }
 },
 "nbformat": 4,
 "nbformat_minor": 2
}
