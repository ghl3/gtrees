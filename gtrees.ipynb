{
 "cells": [
  {
   "cell_type": "code",
   "execution_count": 5,
   "metadata": {
    "collapsed": true
   },
   "outputs": [],
   "source": [
    "from __future__ import division"
   ]
  },
  {
   "cell_type": "code",
   "execution_count": 6,
   "metadata": {
    "collapsed": true
   },
   "outputs": [],
   "source": [
    "import math\n",
    "import random\n",
    "import numpy as np\n",
    "import pandas as pd"
   ]
  },
  {
   "cell_type": "code",
   "execution_count": 7,
   "metadata": {
    "collapsed": true
   },
   "outputs": [],
   "source": [
    "from sklearn import datasets"
   ]
  },
  {
   "cell_type": "code",
   "execution_count": 53,
   "metadata": {
    "collapsed": true
   },
   "outputs": [],
   "source": [
    "import matplotlib.pyplot as plt\n",
    "%matplotlib inline"
   ]
  },
  {
   "cell_type": "code",
   "execution_count": 12,
   "metadata": {},
   "outputs": [],
   "source": [
    "%load_ext autoreload\n",
    "%autoreload 1\n",
    "\n",
    "%aimport gtree"
   ]
  },
  {
   "cell_type": "markdown",
   "metadata": {},
   "source": [
    "## Concepts:\n",
    "\n",
    "### Tree\n",
    "A Tree is an object that takes input data and determines what leaf it ends up in.  Unlike many tree implementations, the Tree itself doesn't store data about the value of a leaf.  That is stored externally.\n",
    "\n",
    "\n",
    "### loss_fn\n",
    "A loss_fn is a function that takes data rows, the predicted targets for those rows, and the actual targets for those rows, and returns a single value that determines the \"LOSS\" or \"COST\" of that prediction (lower cost/loss is better)\n",
    "\n",
    "```\n",
    "def loss_fn(predicted_targets, actual_targets) -> float\n",
    "```\n",
    "\n",
    "### leaf_prediction_fn\n",
    "A leaf_prediction_fn is a function which takes the features and actual targets that end up in a leaf and returns a Series of the predictions for each row ending up in that leaf.  It is typically a constant function whose value is either the mean good rate in that leaf (among the actual targets) or the median target, but can be anything else\n",
    "\n",
    "```\n",
    "def leaf_prediction_fn(features) -> pd.Series\n",
    "```\n",
    "\n",
    "\n",
    "### leaf_prediction_builder\n",
    "A leaf_prediction_builder is a function which takes the features and actual targets that end up in a TRANING leaf and returns a leaf_prediction_fn.  This leaf_prediction_fn is used to predict the value of testing rows that end up in the same leaf.\n",
    "\n",
    "```\n",
    "def leaf_prediction_builder(features, actual_targets) -> leaf_prediction_fn\n",
    "```\n",
    "\n",
    "\n",
    "### leaf_prediction_map\n",
    "A leaf_prediction_map is a map of leaf ids (eg their hash) to the leaf_prediction_fn for that leaf.  One can only use a tree to score data if one has a leaf_prediction_map.  This design allows on to use the same tree as a subset of another tree without having their leaf values become entangled."
   ]
  },
  {
   "cell_type": "code",
   "execution_count": null,
   "metadata": {
    "collapsed": true
   },
   "outputs": [],
   "source": [
    "data = pd.DataFrame({'A': [0.1, 10, .02],\n",
    "                     'B': [10, 20, 30]},\n",
    "                    index=['foo', 'bar', 'baz'])"
   ]
  },
  {
   "cell_type": "code",
   "execution_count": null,
   "metadata": {},
   "outputs": [],
   "source": [
    "t = BranchNode('A', 0.5, None, None)\n",
    "t.left = LeafNode() #'A', 0.5, 10, 20)\n",
    "t.right = LeafNode() #'A', 0.5, 100, 0)\n",
    "\n",
    "\n",
    "leaf_map = {hash(t.left): 10,\n",
    "            hash(t.right): 20}\n",
    "\n",
    "t.predict(data, leaf_map)"
   ]
  },
  {
   "cell_type": "code",
   "execution_count": null,
   "metadata": {},
   "outputs": [],
   "source": [
    "df = pd.DataFrame({'foo': pd.Series([1, 2, 3, 4, 5, 6, 7, 8, 9, 10])})\n",
    "\n",
    "\n",
    "gtree._single_variable_best_split(df,\n",
    "                            'foo',\n",
    "                            pd.Series([0, 0, 1, 0, 0, 1, 1, 0, 1, 1]),\n",
    "                            cross_entropy)"
   ]
  },
  {
   "cell_type": "code",
   "execution_count": null,
   "metadata": {},
   "outputs": [],
   "source": [
    "df = pd.DataFrame({'A': [1, 2, 3, 4, 5, 6, 7, 8, 9, 10, 11, 12],\n",
    "                   'B': [10, 20, 50, 30, 40, 50, 60, 50, 70, 90, 100, 110 ]})\n",
    "target = pd.Series([0, 0, 1, 0, 0, 1, 1, 0, 1, 1, 0, 0])\n",
    "\n",
    "tree, leaf_map = train_greedy_tree(df, target, cross_entropy)"
   ]
  },
  {
   "cell_type": "code",
   "execution_count": null,
   "metadata": {},
   "outputs": [],
   "source": [
    "tree.prn()"
   ]
  },
  {
   "cell_type": "code",
   "execution_count": null,
   "metadata": {},
   "outputs": [],
   "source": [
    "leaf_map"
   ]
  },
  {
   "cell_type": "code",
   "execution_count": null,
   "metadata": {},
   "outputs": [],
   "source": [
    "calculate_leaf_map(tree, df, target)"
   ]
  },
  {
   "cell_type": "code",
   "execution_count": null,
   "metadata": {},
   "outputs": [],
   "source": [
    "random_node(tree)"
   ]
  },
  {
   "cell_type": "code",
   "execution_count": null,
   "metadata": {},
   "outputs": [],
   "source": [
    "print get_all_nodes(tree)"
   ]
  },
  {
   "cell_type": "code",
   "execution_count": null,
   "metadata": {},
   "outputs": [],
   "source": [
    "mate(tree, tree).prn()"
   ]
  },
  {
   "cell_type": "code",
   "execution_count": 32,
   "metadata": {},
   "outputs": [],
   "source": [
    "features, targets = datasets.make_hastie_10_2(n_samples=1000)\n",
    "\n",
    "features = pd.DataFrame(features, columns=['feature_{}'.format(i) for i in range(features.shape[1])])\n",
    "targets = pd.Series(targets, name='target')\n",
    "targets = targets.map(lambda x: 1.0 if x > 0 else 0.0)"
   ]
  },
  {
   "cell_type": "code",
   "execution_count": 33,
   "metadata": {},
   "outputs": [
    {
     "data": {
      "text/plain": [
       "(1000, 10)"
      ]
     },
     "execution_count": 33,
     "metadata": {},
     "output_type": "execute_result"
    }
   ],
   "source": [
    "features.shape"
   ]
  },
  {
   "cell_type": "code",
   "execution_count": 34,
   "metadata": {},
   "outputs": [
    {
     "data": {
      "text/plain": [
       "1.0    503\n",
       "0.0    497\n",
       "Name: target, dtype: int64"
      ]
     },
     "execution_count": 34,
     "metadata": {},
     "output_type": "execute_result"
    }
   ],
   "source": [
    "targets.value_counts()"
   ]
  },
  {
   "cell_type": "code",
   "execution_count": 40,
   "metadata": {
    "scrolled": false
   },
   "outputs": [
    {
     "name": "stdout",
     "output_type": "stream",
     "text": [
      "Loss for feature_0 -0.637877969467 -553.0\n",
      "Loss for feature_1 0.782047318842 -569.0\n",
      "Loss for feature_2 0.66961163847 -557.0\n",
      "Loss for feature_3 -1.37925845893 -549.0\n",
      "Loss for feature_4 1.05187964493 -567.0\n",
      "Loss for feature_5 0.669634532842 -561.0\n",
      "Loss for feature_6 -0.621950781697 -559.0\n",
      "Loss for feature_7 -0.422362256124 -557.0\n",
      "Loss for feature_8 -1.09508365561 -557.0\n",
      "Loss for feature_9 0.704646353561 -569.0\n",
      "Training.  Depth 4 Current Loss: -503.0 Best Split: feature_1 0.782047318842 -569.0\n",
      "Loss for feature_0 -0.906313242775 -459.0\n",
      "Loss for feature_1 -1.31693042983 -468.0\n",
      "Loss for feature_2 1.24075238602 -462.0\n",
      "Loss for feature_3 1.37572159327 -464.0\n",
      "Loss for feature_4 1.05187964493 -475.0\n",
      "Loss for feature_5 0.960563455139 -471.0\n",
      "Loss for feature_6 -1.11532779354 -464.0\n",
      "Loss for feature_7 1.10635323102 -458.0\n",
      "Loss for feature_8 -1.25756097818 -463.0\n",
      "Loss for feature_9 0.791048831807 -481.0\n",
      "Training.  Depth 3 Current Loss: -428.0 Best Split: feature_9 0.791048831807 -481.0\n",
      "Loss for feature_0 -0.906313242775 -390.0\n",
      "Loss for feature_1 -1.31693042983 -400.0\n",
      "Loss for feature_2 1.2888044053 -393.0\n",
      "Loss for feature_3 -1.37925845893 -400.0\n",
      "Loss for feature_4 1.12147180823 -400.0\n",
      "Loss for feature_5 1.15917508262 -400.0\n",
      "Loss for feature_6 -1.55548508215 -395.0\n",
      "Loss for feature_7 1.35592469062 -391.0\n",
      "Loss for feature_8 -1.25756097818 -397.0\n",
      "Loss for feature_9 -1.86855359845 -384.0\n",
      "Training.  Depth 2 Current Loss: -374.0 Best Split: feature_1 -1.31693042983 -400.0\n",
      "Loss for feature_0 1.8954746145 -52.0\n",
      "Loss for feature_1 -3.07684372833 -51.0\n",
      "Loss for feature_2 -3.0581418687 -51.0\n",
      "Loss for feature_3 -3.40379509596 -51.0\n",
      "Loss for feature_4 -3.43110701964 -51.0\n",
      "Loss for feature_5 -0.986216222174 -52.0\n",
      "Loss for feature_6 -3.46234844538 -51.0\n",
      "Loss for feature_7 -2.91212701595 -51.0\n",
      "Loss for feature_8 -3.67019366398 -51.0\n",
      "Loss for feature_9 -3.57313735263 -51.0\n",
      "Training.  Depth 1 Current Loss: -51.0 Best Split: feature_0 1.8954746145 -52.0\n",
      "Loss for feature_0 -1.65842843588 -361.0\n",
      "Loss for feature_1 -3.07684372833 -349.0\n",
      "Loss for feature_2 1.2888044053 -365.0\n",
      "Loss for feature_3 1.63576396839 -367.0\n",
      "Loss for feature_4 1.21494022254 -367.0\n",
      "Loss for feature_5 1.20691807486 -369.0\n",
      "Loss for feature_6 -1.6863114537 -363.0\n",
      "Loss for feature_7 1.54820309561 -362.0\n",
      "Loss for feature_8 -1.41550078331 -364.0\n",
      "Loss for feature_9 -2.31541095221 -355.0\n",
      "Training.  Depth 1 Current Loss: -349.0 Best Split: feature_5 1.20691807486 -369.0\n",
      "Loss for feature_0 -3.22793716173 -107.0\n",
      "Loss for feature_1 0.681402469517 -110.0\n",
      "Loss for feature_2 -3.0581418687 -107.0\n",
      "Loss for feature_3 -3.40379509596 -107.0\n",
      "Loss for feature_4 -3.43110701964 -107.0\n",
      "Loss for feature_5 -2.72484789135 -107.0\n",
      "Loss for feature_6 -3.46234844538 -107.0\n",
      "Loss for feature_7 -2.91212701595 -107.0\n",
      "Loss for feature_8 -2.39774774402 -108.0\n",
      "Loss for feature_9 -3.57313735263 -107.0\n",
      "Training.  Depth 2 Current Loss: -107.0 Best Split: feature_1 0.681402469517 -110.0\n",
      "Loss for feature_0 -3.22793716173 -106.0\n",
      "Loss for feature_1 -3.07684372833 -106.0\n",
      "Loss for feature_2 -3.0581418687 -106.0\n",
      "Loss for feature_3 -3.40379509596 -106.0\n",
      "Loss for feature_4 -3.43110701964 -106.0\n",
      "Loss for feature_5 -2.72484789135 -106.0\n",
      "Loss for feature_6 -3.46234844538 -106.0\n",
      "Loss for feature_7 -2.91212701595 -106.0\n",
      "Loss for feature_8 -2.39774774402 -107.0\n",
      "Loss for feature_9 -3.57313735263 -106.0\n",
      "Training.  Depth 1 Current Loss: -106.0 Best Split: feature_8 -2.39774774402 -107.0\n",
      "Loss for feature_0 -1.54001096092 -5.0\n",
      "Loss for feature_1 -3.07684372833 -4.0\n",
      "Loss for feature_2 -3.0581418687 -4.0\n",
      "Loss for feature_3 0.936188681585 -5.0\n",
      "Loss for feature_4 -3.43110701964 -4.0\n",
      "Loss for feature_5 0.599345235572 -5.0\n",
      "Loss for feature_6 -3.46234844538 -4.0\n",
      "Loss for feature_7 -2.91212701595 -4.0\n",
      "Loss for feature_8 -3.67019366398 -4.0\n",
      "Loss for feature_9 -3.57313735263 -4.0\n",
      "Training.  Depth 1 Current Loss: -4.0 Best Split: feature_0 -1.54001096092 -5.0\n",
      "Loss for feature_0 -3.22793716173 -141.0\n",
      "Loss for feature_1 -3.07684372833 -141.0\n",
      "Loss for feature_2 -3.0581418687 -141.0\n",
      "Loss for feature_3 -3.40379509596 -141.0\n",
      "Loss for feature_4 -3.43110701964 -141.0\n",
      "Loss for feature_5 -2.72484789135 -141.0\n",
      "Loss for feature_6 -3.46234844538 -141.0\n",
      "Loss for feature_7 -2.91212701595 -141.0\n",
      "Loss for feature_8 -3.67019366398 -141.0\n",
      "Loss for feature_9 -3.57313735263 -141.0\n",
      "Training.  Depth 3 Current Loss: -141.0 Best Split: feature_0 -3.22793716173 -141.0\n"
     ]
    }
   ],
   "source": [
    "tree, leaf_map = gtree.train_greedy_tree(features, targets, loss_fn=gtree.accuracy_loss, max_depth=4)"
   ]
  },
  {
   "cell_type": "code",
   "execution_count": 41,
   "metadata": {},
   "outputs": [
    {
     "name": "stdout",
     "output_type": "stream",
     "text": [
      "\t\t\t\tLeaf(289050469)\n",
      "\n",
      "\t\t\tfeature_0 1.8954746145\n",
      "\n",
      "\t\t\t\tLeaf(289076405)\n",
      "\n",
      "\t\tfeature_1 -1.31693042983\n",
      "\n",
      "\t\t\t\tLeaf(289034601)\n",
      "\n",
      "\t\t\tfeature_5 1.20691807486\n",
      "\n",
      "\t\t\t\tLeaf(289034585)\n",
      "\n",
      "\tfeature_9 0.791048831807\n",
      "\n",
      "\t\t\t\tLeaf(289076397)\n",
      "\n",
      "\t\t\tfeature_8 -2.39774774402\n",
      "\n",
      "\t\t\t\tLeaf(289076261)\n",
      "\n",
      "\t\tfeature_1 0.681402469517\n",
      "\n",
      "\t\t\t\tLeaf(289034613)\n",
      "\n",
      "\t\t\tfeature_0 -1.54001096092\n",
      "\n",
      "\t\t\t\tLeaf(289034621)\n",
      "\n",
      "feature_1 0.782047318842\n",
      "\n",
      "\tLeaf(289034625)\n",
      "\n"
     ]
    }
   ],
   "source": [
    "tree.prn()"
   ]
  },
  {
   "cell_type": "code",
   "execution_count": 43,
   "metadata": {},
   "outputs": [
    {
     "data": {
      "text/plain": [
       "{289034585: <function gtree.<lambda>>,\n",
       " 289034601: <function gtree.<lambda>>,\n",
       " 289034613: <function gtree.<lambda>>,\n",
       " 289034621: <function gtree.<lambda>>,\n",
       " 289034625: <function gtree.<lambda>>,\n",
       " 289050469: <function gtree.<lambda>>,\n",
       " 289076261: <function gtree.<lambda>>,\n",
       " 289076397: <function gtree.<lambda>>,\n",
       " 289076405: <function gtree.<lambda>>}"
      ]
     },
     "execution_count": 43,
     "metadata": {},
     "output_type": "execute_result"
    }
   ],
   "source": [
    "leaf_map"
   ]
  },
  {
   "cell_type": "code",
   "execution_count": 57,
   "metadata": {},
   "outputs": [],
   "source": [
    "results = pd.DataFrame({'truth': targets, 'prediction': tree.predict(features, leaf_map)})"
   ]
  },
  {
   "cell_type": "code",
   "execution_count": 60,
   "metadata": {},
   "outputs": [
    {
     "data": {
      "text/plain": [
       "0.67400000000000004"
      ]
     },
     "execution_count": 60,
     "metadata": {},
     "output_type": "execute_result"
    }
   ],
   "source": [
    "-1*gtree.accuracy_loss(results.prediction, results.truth)"
   ]
  },
  {
   "cell_type": "code",
   "execution_count": 58,
   "metadata": {},
   "outputs": [
    {
     "data": {
      "text/plain": [
       "<matplotlib.axes._subplots.AxesSubplot at 0x1145d6b10>"
      ]
     },
     "execution_count": 58,
     "metadata": {},
     "output_type": "execute_result"
    },
    {
     "data": {
      "image/png": "[encoded data removed]",
      "text/plain": [
       "<matplotlib.figure.Figure at 0x1145ae750>"
      ]
     },
     "metadata": {},
     "output_type": "display_data"
    }
   ],
   "source": [
    "results.plot(kind='scatter', x='prediction', y='truth')"
   ]
  }
 ],
 "metadata": {
  "kernelspec": {
   "display_name": "Python 2",
   "language": "python",
   "name": "python2"
  },
  "language_info": {
   "codemirror_mode": {
    "name": "ipython",
    "version": 2
   },
   "file_extension": ".py",
   "mimetype": "text/x-python",
   "name": "python",
   "nbconvert_exporter": "python",
   "pygments_lexer": "ipython2",
   "version": "2.7.11"
  }
 },
 "nbformat": 4,
 "nbformat_minor": 2
}
