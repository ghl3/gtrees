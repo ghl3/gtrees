{
 "cells": [
  {
   "cell_type": "code",
   "execution_count": 1,
   "metadata": {
    "collapsed": true
   },
   "outputs": [],
   "source": [
    "from __future__ import division"
   ]
  },
  {
   "cell_type": "code",
   "execution_count": 2,
   "metadata": {
    "collapsed": true
   },
   "outputs": [],
   "source": [
    "import math\n",
    "import numpy as np\n",
    "import pandas as pd"
   ]
  },
  {
   "cell_type": "markdown",
   "metadata": {},
   "source": [
    "## Concepts:\n",
    "\n",
    "### Tree\n",
    "A Tree is an object that takes input data and determines what leaf it ends up in.  Unlike many tree implementations, the Tree itself doesn't store data about the value of a leaf.  That is stored externally.\n",
    "\n",
    "### leaf_score_map\n",
    "A leaf_score_map is a map of leaf ids (eg their hash) to the score/value for that leaf.  One can only use a tree to score data if one has a leaf_score_map.  This design allows on to use the same tree as a subset of another tree without having their leaf values become entangled\n",
    "\n",
    "### loss_fn\n",
    "A loss_fn is a function that takes data rows, the predicted targets for those rows, and the actual targets for those rows, and returns a single value that determines the \"LOSS\" or \"COST\" of that prediction (lower cost/loss is better)\n",
    "\n",
    "```\n",
    "def loss_fn(features, actual_targets, predicted_targets)\n",
    "```\n",
    "\n",
    "\n",
    "\n",
    "### leaf_value_fn\n",
    "A leaf_value_fn is a function of the features and actual targets that end up in a leaf to the prediction of that leaf.  It is typically either the mean good rate in that leaf (among the actual targets) or the median target, but can be anything else\n",
    "\n",
    "```\n",
    "def leaf_value_fn(features, actual_targets)\n",
    "```"
   ]
  },
  {
   "cell_type": "code",
   "execution_count": 3,
   "metadata": {},
   "outputs": [],
   "source": [
    "from abc import ABCMeta, abstractmethod\n",
    "\n",
    "\n",
    "class Node(object):\n",
    "    __metaclass__ = ABCMeta\n",
    "    \n",
    "    @abstractmethod\n",
    "    def find_leaves(self, df):\n",
    "        raise NotImplemented()\n",
    "        \n",
    "    @abstractmethod\n",
    "    def prn(self, indent=None):\n",
    "        raise NotImplemented()\n",
    "            \n",
    "    def predict(self, df, leaf_score_map):\n",
    "        return self.find_leaves(df).map(lambda l: leaf_score_map[l])\n",
    "        \n",
    "\n",
    "class BranchNode(Node):\n",
    "    \n",
    "    def __init__(self, var_name, split, left, right):\n",
    "        self.var_name = var_name\n",
    "        self.split = split\n",
    "        self.left = left\n",
    "        self.right = right\n",
    "        \n",
    "    def find_leaves(self, df):\n",
    "        idx_left = (df[self.var_name] <= self.split)        \n",
    "        left_leaves = self.left.find_leaves(df[idx_left])            \n",
    "        right_leaves = self.right.find_leaves(df[~idx_left])                \n",
    "        return pd.concat([left_leaves, right_leaves]).loc[df.index]\n",
    "    \n",
    "    def prn(self, indent=None):\n",
    "        \n",
    "        indent = indent or 0\n",
    "        \n",
    "        if self.left:\n",
    "            self.left.prn(indent+1)\n",
    "        \n",
    "        for _ in range(indent):\n",
    "            print '\\t',\n",
    "        print \"{} {}\\n\".format(self.var_name, self.split)\n",
    "            \n",
    "        if self.right:\n",
    "            self.right.prn(indent+1)\n",
    "                    \n",
    "    \n",
    "class LeafNode(Node):\n",
    "    \n",
    "    def __init__(self):\n",
    "        pass\n",
    "        \n",
    "    def find_leaves(self, df):\n",
    "        return pd.Series(hash(self), index=df.index)\n",
    "    \n",
    "    def prn(self, indent=None):\n",
    "        \n",
    "        indent = indent or 0\n",
    "        \n",
    "        for _ in range(indent):\n",
    "            print '\\t',\n",
    "        print \"Leaf({})\\n\".format(hash(self))"
   ]
  },
  {
   "cell_type": "code",
   "execution_count": 4,
   "metadata": {
    "collapsed": true
   },
   "outputs": [],
   "source": [
    "def _single_variable_best_split(df, var, target, loss_fn):\n",
    "    \n",
    "    # Convention:\n",
    "    # Left is BAD\n",
    "    # Right is GOOD\n",
    "    \n",
    "    srs = df[var]\n",
    "    \n",
    "    if len(srs) < 100:\n",
    "        candidates = srs.values\n",
    "    else:\n",
    "        _, candidates = pd.qcut(srs, 100, labels=False, retbins=True)\n",
    "    \n",
    "    best_loss = None\n",
    "    best_split = None\n",
    "    \n",
    "    for val in candidates:\n",
    "        left_idx = (srs <= val)\n",
    "                \n",
    "        left_truth = target[left_idx]\n",
    "        left_predicted = [left_truth.mean() for _ in left_truth]\n",
    "                \n",
    "        right_truth = target[~left_idx]\n",
    "        right_predicted = [right_truth.mean() for _ in right_truth]\n",
    "                \n",
    "        loss = loss_fn(df.loc[left_truth.index], left_truth, left_predicted) + loss_fn(df.loc[right_truth.index], right_truth, right_predicted)\n",
    "        \n",
    "        if best_loss is None or loss < best_loss:\n",
    "            best_split = val\n",
    "            best_loss = loss\n",
    "            \n",
    "    return best_split, best_loss\n",
    " \n",
    "\n",
    "def get_best_split(df, target, loss_fn):\n",
    "    # Return:\n",
    "    # (var, split, loss)\n",
    "    \n",
    "    best_var = None\n",
    "    best_split = None\n",
    "    best_loss = None\n",
    "    \n",
    "    for var in df.columns:\n",
    "        split, loss = _single_variable_best_split(df, var, target, loss_fn)\n",
    "        if best_loss is None or loss < best_loss:\n",
    "            best_var = var\n",
    "            best_split = split\n",
    "            best_loss = loss\n",
    "            \n",
    "    return (best_var, best_split, best_loss)    "
   ]
  },
  {
   "cell_type": "code",
   "execution_count": null,
   "metadata": {
    "collapsed": true
   },
   "outputs": [],
   "source": []
  },
  {
   "cell_type": "code",
   "execution_count": null,
   "metadata": {
    "collapsed": true
   },
   "outputs": [],
   "source": []
  },
  {
   "cell_type": "code",
   "execution_count": 5,
   "metadata": {
    "collapsed": true
   },
   "outputs": [],
   "source": [
    "def leaf_good_rate(features, target):\n",
    "    counts = dict(target.value_counts())\n",
    "    num_good = counts.get(1, 0)\n",
    "    num_bad = counts.get(0, 0)\n",
    "    return num_good / (num_good + num_bad)\n",
    "#    return num_good / (num_bad + num_good)\n",
    "    \n",
    "\n",
    "def train_greedy_tree(df, target, loss_fn,\n",
    "                      max_depth=None,\n",
    "                      min_to_split=None,\n",
    "                      leaf_map=None,\n",
    "                      leaf_value_fn=leaf_good_rate):\n",
    "    \"\"\"\n",
    "    Returns a tree and its leaf map\n",
    "    \"\"\"\n",
    "    \n",
    "    if leaf_map is None:\n",
    "        leaf_map = {}\n",
    "    \n",
    "    current_loss = loss_fn(df, target, [leaf_good_rate(df, target) for _ in target])\n",
    "    \n",
    "    if len(df) == 1 or (max_depth is not None and max_depth <= 0) or (min_to_split is not None and len(df) < min_to_split):\n",
    "        leaf = LeafNode()\n",
    "        leaf_map[hash(leaf)] = leaf_value_fn(df, target)\n",
    "        return leaf, leaf_map\n",
    "    \n",
    "    var, split, loss = get_best_split(df, target, loss_fn)\n",
    "\n",
    "    if loss >= current_loss:\n",
    "        leaf = LeafNode()\n",
    "        leaf_map[hash(leaf)] = leaf_value_fn(df, target)\n",
    "        return leaf, leaf_map\n",
    "    \n",
    "    left_idx = df[var] <= split\n",
    "    \n",
    "    left_tree, left_map = train_greedy_tree(df[left_idx], target[left_idx],\n",
    "                                            loss_fn,\n",
    "                                            max_depth = max_depth-1 if max_depth else None,\n",
    "                                            min_to_split=min_to_split,\n",
    "                                            leaf_map=leaf_map,\n",
    "                                            leaf_value_fn=leaf_value_fn)\n",
    "                                  \n",
    "    right_tree, right_map = train_greedy_tree(df[~left_idx], target[~left_idx],\n",
    "                                              loss_fn,\n",
    "                                              max_depth = max_depth-1 if max_depth else None,\n",
    "                                              min_to_split=min_to_split,\n",
    "                                              leaf_map=leaf_map,\n",
    "                                              leaf_value_fn=leaf_value_fn)\n",
    "    \n",
    "    leaf_map.update(left_map)\n",
    "    leaf_map.update(right_map)\n",
    "    \n",
    "    return (BranchNode(var, split,\n",
    "                      left_tree, right_tree),\n",
    "            leaf_map)"
   ]
  },
  {
   "cell_type": "code",
   "execution_count": 6,
   "metadata": {
    "collapsed": true
   },
   "outputs": [],
   "source": [
    "def calculate_leaf_map(tree, df, target, leaf_value_fn=leaf_good_rate):\n",
    "    \n",
    "    leaf_map = {}\n",
    "    \n",
    "    leaves = tree.find_leaves(df)\n",
    "    \n",
    "    for leaf_hash, leaf_rows in df.groupby(leaves):\n",
    "        \n",
    "        \n",
    "        leaf_map[leaf_hash] = leaf_value_fn(leaf_rows,\n",
    "                                            target.loc[leaf_rows.index])\n",
    "    \n",
    "    return leaf_map"
   ]
  },
  {
   "cell_type": "code",
   "execution_count": 7,
   "metadata": {
    "collapsed": true
   },
   "outputs": [],
   "source": [
    "def mate(mother, father):\n",
    "    \"\"\"\n",
    "    Create a child tree\n",
    "    \"\"\"\n",
    "    \n",
    "    \n",
    "    "
   ]
  },
  {
   "cell_type": "code",
   "execution_count": 8,
   "metadata": {
    "collapsed": true
   },
   "outputs": [],
   "source": [
    "data = pd.DataFrame({'A': [0.1, 10, .02],\n",
    "                     'B': [10, 20, 30]},\n",
    "                    index=['foo', 'bar', 'baz'])"
   ]
  },
  {
   "cell_type": "code",
   "execution_count": 9,
   "metadata": {},
   "outputs": [
    {
     "data": {
      "text/plain": [
       "foo    10\n",
       "bar    20\n",
       "baz    10\n",
       "dtype: int64"
      ]
     },
     "execution_count": 9,
     "metadata": {},
     "output_type": "execute_result"
    }
   ],
   "source": [
    "t = BranchNode('A', 0.5, None, None)\n",
    "t.left = LeafNode() #'A', 0.5, 10, 20)\n",
    "t.right = LeafNode() #'A', 0.5, 100, 0)\n",
    "\n",
    "\n",
    "leaf_map = {hash(t.left): 10,\n",
    "            hash(t.right): 20}\n",
    "\n",
    "t.predict(data, leaf_map)"
   ]
  },
  {
   "cell_type": "code",
   "execution_count": 10,
   "metadata": {
    "collapsed": true
   },
   "outputs": [],
   "source": [
    "def cut(x, min, max):\n",
    "    if x < min:\n",
    "        return min\n",
    "    elif x > max:\n",
    "        return max\n",
    "    else:\n",
    "        return x\n",
    "\n",
    "def cross_entropy(df, truth, predicted, threshold=0.5):\n",
    "    \n",
    "    if len(predicted) == 0:\n",
    "        return 0\n",
    "    \n",
    "    loss = 0\n",
    "    \n",
    "    for (p, t) in zip(predicted, truth):\n",
    "    \n",
    "        # Correct prediction\n",
    "        if (p >= threshold and t==1) or (p < threshold and t==0):\n",
    "            loss += math.log(cut(p, 0.001, 0.999))\n",
    "        else:\n",
    "            loss += math.log(cut(1.0-p, 0.001, 0.999))\n",
    "        \n",
    "    return loss"
   ]
  },
  {
   "cell_type": "code",
   "execution_count": 11,
   "metadata": {},
   "outputs": [
    {
     "data": {
      "text/plain": [
       "(2, -19.108016463228132)"
      ]
     },
     "execution_count": 11,
     "metadata": {},
     "output_type": "execute_result"
    }
   ],
   "source": [
    "df = pd.DataFrame({'foo': pd.Series([1, 2, 3, 4, 5, 6, 7, 8, 9, 10])})\n",
    "\n",
    "_single_variable_best_split(df,\n",
    "                            'foo',\n",
    "                            pd.Series([0, 0, 1, 0, 0, 1, 1, 0, 1, 1]),\n",
    "                            cross_entropy)"
   ]
  },
  {
   "cell_type": "code",
   "execution_count": 12,
   "metadata": {},
   "outputs": [],
   "source": [
    "df = pd.DataFrame({'A': [1, 2, 3, 4, 5, 6, 7, 8, 9, 10, 11, 12],\n",
    "                   'B': [10, 20, 50, 30, 40, 50, 60, 50, 70, 90, 100, 110 ]})\n",
    "target = pd.Series([0, 0, 1, 0, 0, 1, 1, 0, 1, 1, 0, 0])\n",
    "\n",
    "tree, leaf_map = train_greedy_tree(df, target, cross_entropy)"
   ]
  },
  {
   "cell_type": "code",
   "execution_count": 13,
   "metadata": {},
   "outputs": [
    {
     "name": "stdout",
     "output_type": "stream",
     "text": [
      "\tLeaf(285868745)\n",
      "\n",
      "B 40\n",
      "\n",
      "\t\tLeaf(285861181)\n",
      "\n",
      "\tA 10\n",
      "\n",
      "\t\tLeaf(285865893)\n",
      "\n"
     ]
    }
   ],
   "source": [
    "tree.prn()"
   ]
  },
  {
   "cell_type": "code",
   "execution_count": 14,
   "metadata": {},
   "outputs": [
    {
     "data": {
      "text/plain": [
       "{285861181: 0.83333333333333337, 285865893: 0.0, 285868745: 0.0}"
      ]
     },
     "execution_count": 14,
     "metadata": {},
     "output_type": "execute_result"
    }
   ],
   "source": [
    "leaf_map"
   ]
  },
  {
   "cell_type": "code",
   "execution_count": 15,
   "metadata": {},
   "outputs": [
    {
     "data": {
      "text/plain": [
       "{285861181: 0.83333333333333337, 285865893: 0.0, 285868745: 0.0}"
      ]
     },
     "execution_count": 15,
     "metadata": {},
     "output_type": "execute_result"
    }
   ],
   "source": [
    "calculate_leaf_map(tree, df, target)"
   ]
  },
  {
   "cell_type": "code",
   "execution_count": null,
   "metadata": {
    "collapsed": true
   },
   "outputs": [],
   "source": []
  },
  {
   "cell_type": "code",
   "execution_count": null,
   "metadata": {
    "collapsed": true
   },
   "outputs": [],
   "source": []
  },
  {
   "cell_type": "code",
   "execution_count": null,
   "metadata": {
    "collapsed": true
   },
   "outputs": [],
   "source": []
  }
 ],
 "metadata": {
  "kernelspec": {
   "display_name": "Python 2",
   "language": "python",
   "name": "python2"
  },
  "language_info": {
   "codemirror_mode": {
    "name": "ipython",
    "version": 2
   },
   "file_extension": ".py",
   "mimetype": "text/x-python",
   "name": "python",
   "nbconvert_exporter": "python",
   "pygments_lexer": "ipython2",
   "version": "2.7.11"
  }
 },
 "nbformat": 4,
 "nbformat_minor": 2
}
