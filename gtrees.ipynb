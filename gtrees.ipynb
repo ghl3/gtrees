{
 "cells": [
  {
   "cell_type": "code",
   "execution_count": 1,
   "metadata": {
    "collapsed": true
   },
   "outputs": [],
   "source": [
    "from __future__ import division"
   ]
  },
  {
   "cell_type": "code",
   "execution_count": 2,
   "metadata": {
    "collapsed": true
   },
   "outputs": [],
   "source": [
    "import math\n",
    "import random\n",
    "import numpy as np\n",
    "import pandas as pd"
   ]
  },
  {
   "cell_type": "code",
   "execution_count": 3,
   "metadata": {
    "collapsed": true
   },
   "outputs": [],
   "source": [
    "from sklearn import datasets"
   ]
  },
  {
   "cell_type": "code",
   "execution_count": 4,
   "metadata": {
    "collapsed": true
   },
   "outputs": [],
   "source": [
    "import matplotlib.pyplot as plt\n",
    "%matplotlib inline"
   ]
  },
  {
   "cell_type": "code",
   "execution_count": 5,
   "metadata": {
    "collapsed": true
   },
   "outputs": [],
   "source": [
    "%load_ext autoreload\n",
    "%autoreload 1\n",
    "\n",
    "%aimport gtree"
   ]
  },
  {
   "cell_type": "code",
   "execution_count": 133,
   "metadata": {},
   "outputs": [],
   "source": [
    "import logging\n",
    "%config Application.log_level=\"INFO\"\n",
    "logging.basicConfig(format='%(asctime)s %(name)s %(levelname)s:%(message)s', level=logging.DEBUG, datefmt='%I:%M:%S')"
   ]
  },
  {
   "cell_type": "markdown",
   "metadata": {},
   "source": [
    "## Goals:\n",
    "\n",
    "### Separate the structure of a tree from the data of a tree.  In other words,\n",
    "  fitting a tree does two things: It creates the structure of a tree and it\n",
    "  creates a mapping of each leaf to a value.  Lookup therefore requires both\n",
    "  finding the leaf node AND using the map to lookup the value.\n",
    "  \n",
    "### The loss function optimized by the tree is configurable, as is the leaf\n"
   ]
  },
  {
   "cell_type": "markdown",
   "metadata": {},
   "source": [
    "## Terms:\n",
    "\n",
    "### Tree\n",
    "A Tree is an object that takes input data and determines what leaf it ends up in.  Unlike many tree implementations, the Tree itself doesn't store data about the value of a leaf.  That is stored externally.\n",
    "\n",
    "\n",
    "### loss_fn\n",
    "A loss_fn is a function that takes data rows, the predicted targets for those rows, and the actual targets for those rows, and returns a single value that determines the \"LOSS\" or \"COST\" of that prediction (lower cost/loss is better)\n",
    "\n",
    "```\n",
    "def loss_fn(predicted_targets, actual_targets) -> float\n",
    "```\n",
    "\n",
    "A loss function must be additive (so, one should not apply a mean as a part of it)\n",
    "\n",
    "### leaf_prediction_fn\n",
    "A leaf_prediction_fn is a function which takes the features and actual targets that end up in a leaf and returns a Series of the predictions for each row ending up in that leaf.  It is typically a constant function whose value is either the mean good rate in that leaf (among the actual targets) or the median target, but can be anything else\n",
    "\n",
    "```\n",
    "def leaf_prediction_fn(features) -> pd.Series\n",
    "```\n",
    "\n",
    "\n",
    "### leaf_prediction_builder\n",
    "A leaf_prediction_builder is a function which takes the features and actual targets that end up in a TRANING leaf and returns a leaf_prediction_fn.  This leaf_prediction_fn is used to predict the value of testing rows that end up in the same leaf.\n",
    "\n",
    "```\n",
    "def leaf_prediction_builder(features, actual_targets) -> leaf_prediction_fn\n",
    "```\n",
    "\n",
    "\n",
    "### leaf_prediction_map\n",
    "A leaf_prediction_map is a map of leaf ids (eg their hash) to the leaf_prediction_fn for that leaf.  One can only use a tree to score data if one has a leaf_prediction_map.  This design allows on to use the same tree as a subset of another tree without having their leaf values become entangled."
   ]
  },
  {
   "cell_type": "code",
   "execution_count": 39,
   "metadata": {
    "collapsed": true
   },
   "outputs": [],
   "source": [
    "data = pd.DataFrame({'A': [0.1, 10, .02],\n",
    "                     'B': [10, 20, 30]},\n",
    "                    index=['foo', 'bar', 'baz'])"
   ]
  },
  {
   "cell_type": "code",
   "execution_count": 40,
   "metadata": {},
   "outputs": [
    {
     "data": {
      "text/plain": [
       "foo    10\n",
       "bar    20\n",
       "baz    10\n",
       "dtype: int64"
      ]
     },
     "execution_count": 40,
     "metadata": {},
     "output_type": "execute_result"
    }
   ],
   "source": [
    "t = gtree.BranchNode('A', 0.5, None, None)\n",
    "t.left = gtree.LeafNode() #'A', 0.5, 10, 20)\n",
    "t.right = gtree.LeafNode() #'A', 0.5, 100, 0)\n",
    "\n",
    "leaf_map = {hash(t.left): lambda x: 10,\n",
    "            hash(t.right): lambda x: 20}\n",
    "\n",
    "t.predict(data, leaf_map)"
   ]
  },
  {
   "cell_type": "code",
   "execution_count": 41,
   "metadata": {},
   "outputs": [
    {
     "data": {
      "text/plain": [
       "(2, 0.375)"
      ]
     },
     "execution_count": 41,
     "metadata": {},
     "output_type": "execute_result"
    }
   ],
   "source": [
    "# Create a split on a DataFrame\n",
    "\n",
    "df = pd.DataFrame({'foo': pd.Series([1, 2, 3, 4, 5, 6, 7, 8, 9, 10])})\n",
    "\n",
    "gtree._single_variable_best_split(\n",
    "    df,\n",
    "    'foo',\n",
    "    pd.Series([0, 0, 1, 0, 0, 1, 1, 0, 1, 1]),\n",
    "    gtree.accuracy_loss,\n",
    "    gtree.leaf_good_rate_split_builder)"
   ]
  },
  {
   "cell_type": "code",
   "execution_count": 42,
   "metadata": {},
   "outputs": [
    {
     "data": {
      "text/plain": [
       "1.0"
      ]
     },
     "execution_count": 42,
     "metadata": {},
     "output_type": "execute_result"
    }
   ],
   "source": [
    "threshold = 0.5\n",
    "truth     = pd.Series([1, 0, 1])\n",
    "predicted = pd.Series([0, 1, 0])\n",
    "\n",
    "gtree.accuracy_loss(truth, predicted)\n",
    "\n",
    "\n",
    "1.0 - ((predicted >= threshold) == truth).mean() #+ (predicted < threshold) * (1 - truth)"
   ]
  },
  {
   "cell_type": "code",
   "execution_count": 52,
   "metadata": {},
   "outputs": [
    {
     "name": "stdout",
     "output_type": "stream",
     "text": [
      "Training.  Depth 0 Current Loss: 5 Best Split: B 40 3\n",
      "Training.  Depth 1 Current Loss: 0 Best Split: A 1 0\n",
      "Training.  Depth 1 Current Loss: 3 Best Split: A 10 1\n",
      "Training.  Depth 2 Current Loss: 1 Best Split: A 1 1.0\n",
      "Training.  Depth 2 Current Loss: 0 Best Split: A 1 0.0\n",
      "\n",
      "Tree:\n",
      "\n",
      "\tLeaf(283736965)\n",
      "\n",
      "B 40\n",
      "\n",
      "\t\tLeaf(283736809)\n",
      "\n",
      "\tA 10\n",
      "\n",
      "\t\tLeaf(283736109)\n",
      "\n",
      "{283736809: <function <lambda> at 0x10e8e1b90>, 283736965: <function <lambda> at 0x10e8e1e60>, 283736109: <function <lambda> at 0x10e8e12a8>}\n"
     ]
    }
   ],
   "source": [
    "df = pd.DataFrame({'A': [1, 2, 3, 4, 5, 6, 7, 8, 9, 10, 11, 12],\n",
    "                   'B': [10, 20, 50, 30, 40, 50, 60, 50, 70, 90, 100, 110 ]})\n",
    "target = pd.Series([0, 0, 1, 0, 0, 1, 1, 0, 1, 1, 0, 0])\n",
    "\n",
    "tree, leaf_map = gtree.train_greedy_tree(df, target, loss_fn=gtree.accuracy_loss)\n",
    "\n",
    "print '\\nTree:\\n'\n",
    "tree.prn()\n",
    "\n",
    "print leaf_map"
   ]
  },
  {
   "cell_type": "code",
   "execution_count": 54,
   "metadata": {},
   "outputs": [
    {
     "data": {
      "text/plain": [
       "{283736109: <function gtree.<lambda>>,\n",
       " 283736809: <function gtree.<lambda>>,\n",
       " 283736965: <function gtree.<lambda>>}"
      ]
     },
     "execution_count": 54,
     "metadata": {},
     "output_type": "execute_result"
    }
   ],
   "source": [
    "gtree.calculate_leaf_map(tree, df, target)"
   ]
  },
  {
   "cell_type": "code",
   "execution_count": 55,
   "metadata": {},
   "outputs": [
    {
     "data": {
      "text/plain": [
       "<gtree.LeafNode at 0x10e9782d0>"
      ]
     },
     "execution_count": 55,
     "metadata": {},
     "output_type": "execute_result"
    }
   ],
   "source": [
    "gtree.random_node(tree)"
   ]
  },
  {
   "cell_type": "code",
   "execution_count": 57,
   "metadata": {},
   "outputs": [
    {
     "name": "stdout",
     "output_type": "stream",
     "text": [
      "[<gtree.LeafNode object at 0x10e97b850>, <gtree.BranchNode object at 0x10e9889d0>, <gtree.LeafNode object at 0x10e97b850>, <gtree.LeafNode object at 0x10e97ae90>, <gtree.LeafNode object at 0x10e9782d0>, <gtree.LeafNode object at 0x10e97ae90>, <gtree.LeafNode object at 0x10e9782d0>]\n"
     ]
    }
   ],
   "source": [
    "print gtree.get_all_nodes(tree)"
   ]
  },
  {
   "cell_type": "code",
   "execution_count": 122,
   "metadata": {},
   "outputs": [
    {
     "name": "stdout",
     "output_type": "stream",
     "text": [
      "Training.  Depth 0 Current Loss: 5 Best Split: A 3 2\n",
      "Training.  Depth 1 Current Loss: 1 Best Split: A 2 0\n",
      "Training.  Depth 2 Current Loss: 0 Best Split: A 1 0\n",
      "No split improves loss.  Returning\n",
      "Reached leaf node, or constraints force termination.  Returning\n",
      "Training.  Depth 1 Current Loss: 4 Best Split: A 5 3\n",
      "Training.  Depth 2 Current Loss: 0 Best Split: A 1 0.0\n",
      "No split improves loss.  Returning\n",
      "Training.  Depth 2 Current Loss: 3 Best Split: A 10 1\n",
      "Training.  Depth 3 Current Loss: 1 Best Split: A 1 1.0\n",
      "No split improves loss.  Returning\n",
      "Training.  Depth 3 Current Loss: 0 Best Split: A 1 0.0\n",
      "No split improves loss.  Returning\n",
      "\n",
      "Tree:\n",
      "\n",
      "\t\tLeaf(284900733)\n",
      "\n",
      "\tA 2\n",
      "\n",
      "\t\tLeaf(284863069)\n",
      "\n",
      "A 3\n",
      "\n",
      "\t\tLeaf(283269157)\n",
      "\n",
      "\tA 5\n",
      "\n",
      "\t\t\tLeaf(284210941)\n",
      "\n",
      "\t\tA 10\n",
      "\n",
      "\t\t\tLeaf(284601669)\n",
      "\n",
      "{283269157: <function <lambda> at 0x10f0872a8>, 284210941: <function <lambda> at 0x10f6a52a8>, 284900733: <function <lambda> at 0x10e936668>, 284601669: <function <lambda> at 0x10ef84500>, 284863069: <function <lambda> at 0x10e785668>}\n"
     ]
    }
   ],
   "source": [
    "df = pd.DataFrame({'A': [1, 2, 3, 4, 5, 6, 7, 8, 9, 10, 11, 12],\n",
    "                   'B': [10, 20, 50, 30, 40, 50, 60, 50, 70, 90, 100, 110 ]})\n",
    "target = pd.Series([0, 0, 1, 0, 0, 1, 1, 0, 1, 1, 0, 0])\n",
    "\n",
    "tree, leaf_map = gtree.train_greedy_tree(df, target, loss_fn=gtree.accuracy_loss,\n",
    "                                         feature_sample_rate=.5,\n",
    "                                         row_sample_rate=.5)\n",
    "\n",
    "print '\\nTree:\\n'\n",
    "tree.prn()\n",
    "\n",
    "print leaf_map"
   ]
  },
  {
   "cell_type": "code",
   "execution_count": 62,
   "metadata": {},
   "outputs": [
    {
     "name": "stdout",
     "output_type": "stream",
     "text": [
      "\tLeaf(283390585)\n",
      "\n",
      "B 40\n",
      "\n",
      "\t\tLeaf(283390501)\n",
      "\n",
      "\tA 10\n",
      "\n",
      "\t\tLeaf(283390525)\n",
      "\n"
     ]
    }
   ],
   "source": [
    "gtree.mate(tree, tree).prn()"
   ]
  },
  {
   "cell_type": "code",
   "execution_count": 139,
   "metadata": {},
   "outputs": [],
   "source": [
    "def make_hastie_sample(n_samples):\n",
    "\n",
    "    features, targets = datasets.make_hastie_10_2(n_samples=n_samples)\n",
    "\n",
    "    features = pd.DataFrame(features, columns=['feature_{}'.format(i) for i in range(features.shape[1])])\n",
    "    targets = pd.Series(targets, name='target')\n",
    "    targets = targets.map(lambda x: 1.0 if x > 0 else 0.0)\n",
    "    return features, targets\n",
    "\n",
    "features, targets = make_hastie_sample(1000)"
   ]
  },
  {
   "cell_type": "code",
   "execution_count": 64,
   "metadata": {},
   "outputs": [
    {
     "data": {
      "text/plain": [
       "(1000, 10)"
      ]
     },
     "execution_count": 64,
     "metadata": {},
     "output_type": "execute_result"
    }
   ],
   "source": [
    "features.shape"
   ]
  },
  {
   "cell_type": "code",
   "execution_count": 65,
   "metadata": {},
   "outputs": [
    {
     "data": {
      "text/plain": [
       "1.0    525\n",
       "0.0    475\n",
       "Name: target, dtype: int64"
      ]
     },
     "execution_count": 65,
     "metadata": {},
     "output_type": "execute_result"
    }
   ],
   "source": [
    "targets.value_counts()"
   ]
  },
  {
   "cell_type": "code",
   "execution_count": 78,
   "metadata": {
    "scrolled": false
   },
   "outputs": [
    {
     "name": "stdout",
     "output_type": "stream",
     "text": [
      "Training.  Depth 0 Current Loss: 475 Best Split: feature_8 -0.62444812059 429\n",
      "Training.  Depth 1 Current Loss: 77 Best Split: feature_0 -3.24124580139 77.0\n",
      "No split improves loss.  Returning\n",
      "Training.  Depth 1 Current Loss: 352 Best Split: feature_8 0.934457598034 286\n",
      "Training.  Depth 2 Current Loss: 239 Best Split: feature_1 1.39886970793 208\n",
      "Training.  Depth 3 Current Loss: 192 Best Split: feature_1 -1.44731493547 171\n",
      "Training.  Depth 4 Current Loss: 7 Best Split: feature_8 0.720612300888 6\n",
      "Training.  Depth 5 Current Loss: 6 Best Split: feature_0 -3.24124580139 6.0\n",
      "No split improves loss.  Returning\n",
      "Training.  Depth 4 Current Loss: 164 Best Split: feature_3 -1.42003838005 145\n",
      "Training.  Depth 5 Current Loss: 10 Best Split: feature_1 -1.34026105816 9\n",
      "Training.  Depth 6 Current Loss: 9 Best Split: feature_0 -3.24124580139 9.0\n",
      "No split improves loss.  Returning\n",
      "Training.  Depth 5 Current Loss: 135 Best Split: feature_2 -1.68155758033 121\n",
      "Training.  Depth 6 Current Loss: 4 Best Split: feature_0 -3.24124580139 4.0\n",
      "No split improves loss.  Returning\n",
      "Training.  Depth 6 Current Loss: 117 Best Split: feature_2 1.298944456 104\n",
      "Training.  Depth 7 Current Loss: 91 Best Split: feature_7 1.76048701173 81\n",
      "Training.  Depth 8 Current Loss: 80 Best Split: feature_0 -1.91027317343 72\n",
      "Training.  Depth 8 Current Loss: 1 Best Split: feature_1 -1.39974996767 0\n",
      "Training.  Depth 7 Current Loss: 13 Best Split: feature_1 0.0308427898166 10\n",
      "Training.  Depth 8 Current Loss: 4 Best Split: feature_0 -3.24124580139 4.0\n",
      "No split improves loss.  Returning\n",
      "Training.  Depth 8 Current Loss: 6 Best Split: feature_5 -1.29240603798 2\n",
      "Training.  Depth 3 Current Loss: 16 Best Split: feature_0 -3.24124580139 16.0\n",
      "No split improves loss.  Returning\n",
      "Training.  Depth 2 Current Loss: 47 Best Split: feature_0 -3.24124580139 47.0\n",
      "No split improves loss.  Returning\n"
     ]
    }
   ],
   "source": [
    "tree, leaf_map = gtree.train_greedy_tree(features, targets, loss_fn=gtree.accuracy_loss, max_depth=8)"
   ]
  },
  {
   "cell_type": "code",
   "execution_count": 79,
   "metadata": {},
   "outputs": [
    {
     "name": "stdout",
     "output_type": "stream",
     "text": [
      "\tLeaf(283637909)\n",
      "\n",
      "feature_8 -0.62444812059\n",
      "\n",
      "\t\t\t\t\tLeaf(283550625)\n",
      "\n",
      "\t\t\t\tfeature_8 0.720612300888\n",
      "\n",
      "\t\t\t\t\tLeaf(283550681)\n",
      "\n",
      "\t\t\tfeature_1 -1.44731493547\n",
      "\n",
      "\t\t\t\t\t\tLeaf(283560645)\n",
      "\n",
      "\t\t\t\t\tfeature_1 -1.34026105816\n",
      "\n",
      "\t\t\t\t\t\tLeaf(283560481)\n",
      "\n",
      "\t\t\t\tfeature_3 -1.42003838005\n",
      "\n",
      "\t\t\t\t\t\tLeaf(283609261)\n",
      "\n",
      "\t\t\t\t\tfeature_2 -1.68155758033\n",
      "\n",
      "\t\t\t\t\t\t\t\t\tLeaf(283618737)\n",
      "\n",
      "\t\t\t\t\t\t\t\tfeature_0 -1.91027317343\n",
      "\n",
      "\t\t\t\t\t\t\t\t\tLeaf(283645033)\n",
      "\n",
      "\t\t\t\t\t\t\tfeature_7 1.76048701173\n",
      "\n",
      "\t\t\t\t\t\t\t\t\tLeaf(283544953)\n",
      "\n",
      "\t\t\t\t\t\t\t\tfeature_1 -1.39974996767\n",
      "\n",
      "\t\t\t\t\t\t\t\t\tLeaf(283544929)\n",
      "\n",
      "\t\t\t\t\t\tfeature_2 1.298944456\n",
      "\n",
      "\t\t\t\t\t\t\t\tLeaf(283566921)\n",
      "\n",
      "\t\t\t\t\t\t\tfeature_1 0.0308427898166\n",
      "\n",
      "\t\t\t\t\t\t\t\t\tLeaf(283534777)\n",
      "\n",
      "\t\t\t\t\t\t\t\tfeature_5 -1.29240603798\n",
      "\n",
      "\t\t\t\t\t\t\t\t\tLeaf(283534761)\n",
      "\n",
      "\t\tfeature_1 1.39886970793\n",
      "\n",
      "\t\t\tLeaf(283534769)\n",
      "\n",
      "\tfeature_8 0.934457598034\n",
      "\n",
      "\t\tLeaf(283547769)\n",
      "\n"
     ]
    }
   ],
   "source": [
    "tree.prn()"
   ]
  },
  {
   "cell_type": "code",
   "execution_count": 80,
   "metadata": {},
   "outputs": [
    {
     "data": {
      "text/plain": [
       "{283534761: <function gtree.<lambda>>,\n",
       " 283534769: <function gtree.<lambda>>,\n",
       " 283534777: <function gtree.<lambda>>,\n",
       " 283544929: <function gtree.<lambda>>,\n",
       " 283544953: <function gtree.<lambda>>,\n",
       " 283547769: <function gtree.<lambda>>,\n",
       " 283550625: <function gtree.<lambda>>,\n",
       " 283550681: <function gtree.<lambda>>,\n",
       " 283560481: <function gtree.<lambda>>,\n",
       " 283560645: <function gtree.<lambda>>,\n",
       " 283566921: <function gtree.<lambda>>,\n",
       " 283609261: <function gtree.<lambda>>,\n",
       " 283618737: <function gtree.<lambda>>,\n",
       " 283637909: <function gtree.<lambda>>,\n",
       " 283645033: <function gtree.<lambda>>}"
      ]
     },
     "execution_count": 80,
     "metadata": {},
     "output_type": "execute_result"
    }
   ],
   "source": [
    "leaf_map"
   ]
  },
  {
   "cell_type": "code",
   "execution_count": 81,
   "metadata": {
    "scrolled": true
   },
   "outputs": [
    {
     "data": {
      "text/plain": [
       "0      0.746032\n",
       "1      0.190217\n",
       "2      0.181818\n",
       "3      0.190217\n",
       "4      0.190217\n",
       "5      0.706250\n",
       "6      0.692000\n",
       "7      0.692000\n",
       "8      0.692000\n",
       "9      0.190217\n",
       "10     0.190217\n",
       "11     0.706250\n",
       "12     0.190217\n",
       "13     0.692000\n",
       "14     0.706250\n",
       "15     0.746032\n",
       "16     0.706250\n",
       "17     0.190217\n",
       "18     0.823529\n",
       "19     0.190217\n",
       "20     0.190217\n",
       "21     0.190217\n",
       "22     0.692000\n",
       "23     0.190217\n",
       "24     0.190217\n",
       "25     0.190217\n",
       "26     0.692000\n",
       "27     0.746032\n",
       "28     0.692000\n",
       "29     0.190217\n",
       "         ...   \n",
       "970    0.692000\n",
       "971    0.746032\n",
       "972    0.706250\n",
       "973    0.190217\n",
       "974    0.190217\n",
       "975    0.190217\n",
       "976    0.190217\n",
       "977    0.190217\n",
       "978    0.190217\n",
       "979    0.763158\n",
       "980    0.190217\n",
       "981    0.823529\n",
       "982    0.823529\n",
       "983    0.181818\n",
       "984    0.692000\n",
       "985    0.706250\n",
       "986    0.763158\n",
       "987    0.692000\n",
       "988    0.706250\n",
       "989    0.833333\n",
       "990    0.692000\n",
       "991    0.706250\n",
       "992    0.706250\n",
       "993    0.706250\n",
       "994    0.706250\n",
       "995    0.706250\n",
       "996    0.692000\n",
       "997    0.190217\n",
       "998    0.763158\n",
       "999    0.190217\n",
       "Length: 1000, dtype: float64"
      ]
     },
     "execution_count": 81,
     "metadata": {},
     "output_type": "execute_result"
    }
   ],
   "source": [
    "tree.predict(features, leaf_map)"
   ]
  },
  {
   "cell_type": "code",
   "execution_count": 82,
   "metadata": {},
   "outputs": [],
   "source": [
    "results = pd.DataFrame({'truth': targets, 'prediction': tree.predict(features, leaf_map)})"
   ]
  },
  {
   "cell_type": "code",
   "execution_count": 102,
   "metadata": {},
   "outputs": [
    {
     "data": {
      "text/plain": [
       "0.76300000000000001"
      ]
     },
     "execution_count": 102,
     "metadata": {},
     "output_type": "execute_result"
    }
   ],
   "source": [
    "1.0 - gtree.accuracy_loss(results.prediction, results.truth) / len(targets)"
   ]
  },
  {
   "cell_type": "code",
   "execution_count": 84,
   "metadata": {},
   "outputs": [
    {
     "data": {
      "text/plain": [
       "<matplotlib.axes._subplots.AxesSubplot at 0x10e65a550>"
      ]
     },
     "execution_count": 84,
     "metadata": {},
     "output_type": "execute_result"
    },
    {
     "data": {
      "image/png": "[encoded data removed]",
      "text/plain": [
       "<matplotlib.figure.Figure at 0x10e698a10>"
      ]
     },
     "metadata": {},
     "output_type": "display_data"
    }
   ],
   "source": [
    "results.plot(kind='scatter', x='prediction', y='truth')"
   ]
  },
  {
   "cell_type": "code",
   "execution_count": 100,
   "metadata": {
    "scrolled": false
   },
   "outputs": [
    {
     "data": {
      "image/png": "[encoded data removed]",
      "text/plain": [
       "<matplotlib.figure.Figure at 0x10ff193d0>"
      ]
     },
     "metadata": {},
     "output_type": "display_data"
    }
   ],
   "source": [
    "fig = plt.figure(figsize=(12,8))\n",
    "\n",
    "for label, grp in tree.predict(features, leaf_map).groupby(targets):\n",
    "    grp.hist(normed=True, alpha=0.5, label=str(label)) #, label=label)\n",
    "plt.legend(loc='best')\n",
    "None\n"
   ]
  },
  {
   "cell_type": "code",
   "execution_count": null,
   "metadata": {
    "collapsed": true
   },
   "outputs": [],
   "source": []
  },
  {
   "cell_type": "code",
   "execution_count": null,
   "metadata": {
    "collapsed": true
   },
   "outputs": [],
   "source": []
  },
  {
   "cell_type": "code",
   "execution_count": null,
   "metadata": {
    "collapsed": true
   },
   "outputs": [],
   "source": []
  },
  {
   "cell_type": "code",
   "execution_count": null,
   "metadata": {
    "scrolled": false
   },
   "outputs": [
    {
     "name": "stderr",
     "output_type": "stream",
     "text": [
      "03:22:26 DEBUG:Growing Alpha: 1 of 5\n",
      "03:22:38 DEBUG:Growing Alpha: 2 of 5\n",
      "03:22:49 DEBUG:Growing Alpha: 3 of 5\n",
      "03:22:58 DEBUG:Growing Alpha: 4 of 5\n",
      "03:23:09 DEBUG:Growing Alpha: 5 of 5\n",
      "03:23:22 DEBUG:Growing Betea: 1 of 5\n",
      "03:23:42 DEBUG:Growing Betea: 2 of 5\n",
      "03:24:02 DEBUG:Growing Betea: 3 of 5\n",
      "03:24:22 DEBUG:Growing Betea: 4 of 5\n",
      "03:24:39 DEBUG:Growing Betea: 5 of 5\n",
      "03:24:54 INFO:Generation 0 Loss 3\n",
      "\n",
      "03:24:54 DEBUG:Growing Alpha: 1 of 5\n",
      "03:25:05 DEBUG:Growing Alpha: 2 of 5\n",
      "03:25:17 DEBUG:Growing Alpha: 3 of 5\n",
      "03:25:30 DEBUG:Growing Alpha: 4 of 5\n",
      "03:25:39 DEBUG:Growing Alpha: 5 of 5\n",
      "03:25:51 DEBUG:Growing Betea: 1 of 5\n",
      "03:26:08 DEBUG:Growing Betea: 2 of 5\n",
      "03:26:24 DEBUG:Growing Betea: 3 of 5\n",
      "03:26:41 DEBUG:Growing Betea: 4 of 5\n",
      "03:27:00 DEBUG:Growing Betea: 5 of 5\n",
      "03:27:18 INFO:Generation 1 Loss 3\n",
      "\n",
      "03:27:18 DEBUG:Growing Alpha: 1 of 5\n",
      "03:27:29 DEBUG:Growing Alpha: 2 of 5\n",
      "03:27:37 DEBUG:Growing Alpha: 3 of 5\n"
     ]
    }
   ],
   "source": [
    "gtree.tree_logger.setLevel(logging.WARNING)\n",
    "\n",
    "features, targets = make_hastie_sample(n_samples=50)\n",
    "\n",
    "tree, loss, generations = gtree.evolve(features, targets, loss_fn=gtree.accuracy_loss, max_depth=3,\n",
    "                                      num_generations=8, alphas_per_generation=5, betas_per_generation=5)"
   ]
  },
  {
   "cell_type": "code",
   "execution_count": 136,
   "metadata": {},
   "outputs": [
    {
     "data": {
      "text/plain": [
       "2"
      ]
     },
     "execution_count": 136,
     "metadata": {},
     "output_type": "execute_result"
    }
   ],
   "source": [
    "loss"
   ]
  }
 ],
 "metadata": {
  "kernelspec": {
   "display_name": "Python 2",
   "language": "python",
   "name": "python2"
  },
  "language_info": {
   "codemirror_mode": {
    "name": "ipython",
    "version": 2
   },
   "file_extension": ".py",
   "mimetype": "text/x-python",
   "name": "python",
   "nbconvert_exporter": "python",
   "pygments_lexer": "ipython2",
   "version": "2.7.11"
  }
 },
 "nbformat": 4,
 "nbformat_minor": 2
}
