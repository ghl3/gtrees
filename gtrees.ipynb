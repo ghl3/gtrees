{
 "cells": [
  {
   "cell_type": "code",
   "execution_count": 1,
   "metadata": {
    "collapsed": true
   },
   "outputs": [],
   "source": [
    "from __future__ import division"
   ]
  },
  {
   "cell_type": "code",
   "execution_count": 2,
   "metadata": {
    "collapsed": true
   },
   "outputs": [],
   "source": [
    "import math\n",
    "import random\n",
    "import numpy as np\n",
    "import pandas as pd"
   ]
  },
  {
   "cell_type": "code",
   "execution_count": 3,
   "metadata": {
    "collapsed": true
   },
   "outputs": [],
   "source": [
    "from sklearn import datasets"
   ]
  },
  {
   "cell_type": "code",
   "execution_count": 4,
   "metadata": {
    "collapsed": true
   },
   "outputs": [],
   "source": [
    "import matplotlib.pyplot as plt\n",
    "%matplotlib inline"
   ]
  },
  {
   "cell_type": "code",
   "execution_count": 5,
   "metadata": {
    "collapsed": true
   },
   "outputs": [],
   "source": [
    "%load_ext autoreload\n",
    "%autoreload 1\n",
    "\n",
    "%aimport gtree"
   ]
  },
  {
   "cell_type": "code",
   "execution_count": 6,
   "metadata": {},
   "outputs": [],
   "source": [
    "import logging\n",
    "%config Application.log_level=\"INFO\"\n",
    "logging.basicConfig(format='%(asctime)s %(name)s %(levelname)s:%(message)s', level=logging.DEBUG, datefmt='%I:%M:%S')"
   ]
  },
  {
   "cell_type": "markdown",
   "metadata": {},
   "source": [
    "## Goals:\n",
    "\n",
    "### Separate the structure of a tree from the data of a tree.  In other words,\n",
    "  fitting a tree does two things: It creates the structure of a tree and it\n",
    "  creates a mapping of each leaf to a value.  Lookup therefore requires both\n",
    "  finding the leaf node AND using the map to lookup the value.\n",
    "  \n",
    "### The loss function optimized by the tree is configurable, as is the leaf\n"
   ]
  },
  {
   "cell_type": "markdown",
   "metadata": {},
   "source": [
    "## Terms:\n",
    "\n",
    "### Tree\n",
    "A Tree is an object that takes input data and determines what leaf it ends up in.  Unlike many tree implementations, the Tree itself doesn't store data about the value of a leaf.  That is stored externally.\n",
    "\n",
    "\n",
    "### loss_fn\n",
    "A loss_fn is a function that takes data rows, the predicted targets for those rows, and the actual targets for those rows, and returns a single value that determines the \"LOSS\" or \"COST\" of that prediction (lower cost/loss is better)\n",
    "\n",
    "```\n",
    "def loss_fn(predicted_targets, actual_targets) -> float\n",
    "```\n",
    "\n",
    "A loss function must be additive (so, one should not apply a mean as a part of it)\n",
    "\n",
    "### leaf_prediction_fn\n",
    "A leaf_prediction_fn is a function which takes the features and actual targets that end up in a leaf and returns a Series of the predictions for each row ending up in that leaf.  It is typically a constant function whose value is either the mean good rate in that leaf (among the actual targets) or the median target, but can be anything else\n",
    "\n",
    "```\n",
    "def leaf_prediction_fn(features) -> pd.Series\n",
    "```\n",
    "\n",
    "\n",
    "### leaf_prediction_builder\n",
    "A leaf_prediction_builder is a function which takes the features and actual targets that end up in a TRANING leaf and returns a leaf_prediction_fn.  This leaf_prediction_fn is used to predict the value of testing rows that end up in the same leaf.\n",
    "\n",
    "```\n",
    "def leaf_prediction_builder(features, actual_targets) -> leaf_prediction_fn\n",
    "```\n",
    "\n",
    "\n",
    "### leaf_prediction_map\n",
    "A leaf_prediction_map is a map of leaf ids (eg their hash) to the leaf_prediction_fn for that leaf.  One can only use a tree to score data if one has a leaf_prediction_map.  This design allows on to use the same tree as a subset of another tree without having their leaf values become entangled."
   ]
  },
  {
   "cell_type": "markdown",
   "metadata": {},
   "source": [
    "--------------"
   ]
  },
  {
   "cell_type": "markdown",
   "metadata": {},
   "source": [
    "## Test Tree Manipulation Functions"
   ]
  },
  {
   "cell_type": "code",
   "execution_count": 129,
   "metadata": {},
   "outputs": [
    {
     "name": "stdout",
     "output_type": "stream",
     "text": [
      "Automatic pdb calling has been turned OFF\n"
     ]
    }
   ],
   "source": [
    "%pdb off"
   ]
  },
  {
   "cell_type": "code",
   "execution_count": 130,
   "metadata": {},
   "outputs": [
    {
     "name": "stdout",
     "output_type": "stream",
     "text": [
      "\tLeaf(0.428436903385)\n",
      "\n",
      "A 0.5\n",
      "\n",
      "\t\tLeaf(0.0338379649993)\n",
      "\n",
      "\tB 0.9\n",
      "\n",
      "\t\tLeaf(0.221294322098)\n",
      "\n",
      "\n",
      "\n",
      "\n",
      "\tLeaf(0.82595098352)\n",
      "\n",
      "C 0.1\n",
      "\n",
      "\tLeaf(0.729526839382)\n",
      "\n"
     ]
    }
   ],
   "source": [
    "t = gtree.BranchNode('A', 0.5, None, None)\n",
    "t.left = gtree.LeafNode()\n",
    "t.right = gtree.BranchNode('B', 0.9, None, None)\n",
    "t.right.left = gtree.LeafNode()\n",
    "t.right.right = gtree.LeafNode()\n",
    "\n",
    "o = gtree.BranchNode('C', 0.1, None, None)\n",
    "o.left = gtree.LeafNode()\n",
    "o.right = gtree.LeafNode()\n",
    "\n",
    "t.prn()\n",
    "print '\\n\\n'\n",
    "o.prn()"
   ]
  },
  {
   "cell_type": "code",
   "execution_count": 131,
   "metadata": {},
   "outputs": [
    {
     "name": "stdout",
     "output_type": "stream",
     "text": [
      "\tLeaf(0.428436903385)\n",
      "\n",
      "A 0.5\n",
      "\n",
      "\t\tLeaf(0.0338379649993)\n",
      "\n",
      "\tC 0.1\n",
      "\n",
      "\t\tLeaf(0.221294322098)\n",
      "\n",
      "\n",
      "\n",
      "\n",
      "\tLeaf(0.428436903385)\n",
      "\n",
      "A 0.5\n",
      "\n",
      "\t\tLeaf(0.0338379649993)\n",
      "\n",
      "\tB 0.9\n",
      "\n",
      "\t\tLeaf(0.221294322098)\n",
      "\n"
     ]
    }
   ],
   "source": [
    "u = gtree.replace_branch_split(t, t.right, o)\n",
    "u.prn()\n",
    "print '\\n\\n'\n",
    "t.prn()"
   ]
  },
  {
   "cell_type": "code",
   "execution_count": 135,
   "metadata": {},
   "outputs": [
    {
     "name": "stdout",
     "output_type": "stream",
     "text": [
      "\t\tLeaf(0.82595098352)\n",
      "\n",
      "\tC 0.1\n",
      "\n",
      "\t\tLeaf(0.729526839382)\n",
      "\n",
      "A 0.5\n",
      "\n",
      "\t\tLeaf(0.0963718392277)\n",
      "\n",
      "\tB 0.9\n",
      "\n",
      "\t\t\tLeaf(0.675293137228)\n",
      "\n",
      "\t\tC 0.9\n",
      "\n",
      "\t\t\tLeaf(0.622575315591)\n",
      "\n",
      "\n",
      "\n",
      "\n",
      "\tLeaf(0.667447300598)\n",
      "\n",
      "A 0.5\n",
      "\n",
      "\t\tLeaf(0.0963718392277)\n",
      "\n",
      "\tB 0.9\n",
      "\n",
      "\t\t\tLeaf(0.675293137228)\n",
      "\n",
      "\t\tC 0.9\n",
      "\n",
      "\t\t\tLeaf(0.622575315591)\n",
      "\n"
     ]
    }
   ],
   "source": [
    "v = gtree.replace_node(t, t.left, o)\n",
    "v.prn()\n",
    "print '\\n\\n'\n",
    "t.prn()"
   ]
  },
  {
   "cell_type": "code",
   "execution_count": 133,
   "metadata": {},
   "outputs": [
    {
     "name": "stdout",
     "output_type": "stream",
     "text": [
      "\tLeaf(0.667447300598)\n",
      "\n",
      "A 0.5\n",
      "\n",
      "\t\tLeaf(0.0963718392277)\n",
      "\n",
      "\tB 0.9\n",
      "\n",
      "\t\t\tLeaf(0.675293137228)\n",
      "\n",
      "\t\tC 0.9\n",
      "\n",
      "\t\t\tLeaf(0.622575315591)\n",
      "\n",
      "\n",
      "\n",
      "\n",
      "\tLeaf(0.667447300598)\n",
      "\n",
      "A 0.5\n",
      "\n",
      "\t\tLeaf(0.859152924788)\n",
      "\n",
      "\tB 0.9\n",
      "\n",
      "\t\tLeaf(0.112304593521)\n",
      "\n",
      "\n",
      "\n",
      "\n",
      "\tLeaf(0.667447300598)\n",
      "\n",
      "A 0.5\n",
      "\n",
      "\t\tLeaf(0.0963718392277)\n",
      "\n",
      "\tB 0.9\n",
      "\n",
      "\t\t\tLeaf(0.675293137228)\n",
      "\n",
      "\t\tC 0.9\n",
      "\n",
      "\t\t\tLeaf(0.622575315591)\n",
      "\n"
     ]
    }
   ],
   "source": [
    "t = gtree.BranchNode('A', 0.5, None, None)\n",
    "t.left = gtree.LeafNode()\n",
    "t.right = gtree.BranchNode('B', 0.9, None, None)\n",
    "t.right.left = gtree.LeafNode()\n",
    "t.right.right = gtree.BranchNode('C', 0.9, None, None)\n",
    "t.right.right.right = gtree.LeafNode()\n",
    "t.right.right.left = gtree.LeafNode()\n",
    "\n",
    "t.prn()\n",
    "print '\\n\\n'\n",
    "gtree.prune(t, 2).prn()\n",
    "print '\\n\\n'\n",
    "t.prn()"
   ]
  },
  {
   "cell_type": "code",
   "execution_count": null,
   "metadata": {
    "collapsed": true
   },
   "outputs": [],
   "source": []
  },
  {
   "cell_type": "code",
   "execution_count": 66,
   "metadata": {
    "collapsed": true
   },
   "outputs": [],
   "source": [
    "data = pd.DataFrame({'A': [0.1, 10, .02],\n",
    "                     'B': [10, 20, 30]},\n",
    "                    index=['foo', 'bar', 'baz'])"
   ]
  },
  {
   "cell_type": "code",
   "execution_count": 67,
   "metadata": {
    "collapsed": true
   },
   "outputs": [],
   "source": [
    "def leaf_count_fn(val):\n",
    "    return lambda df: pd.Series([val for _ in range(len(df))], index=df.index)"
   ]
  },
  {
   "cell_type": "code",
   "execution_count": 68,
   "metadata": {},
   "outputs": [
    {
     "data": {
      "text/plain": [
       "foo    10\n",
       "bar    20\n",
       "baz    10\n",
       "dtype: int64"
      ]
     },
     "execution_count": 68,
     "metadata": {},
     "output_type": "execute_result"
    }
   ],
   "source": [
    "t = gtree.BranchNode('A', 0.5, None, None)\n",
    "t.left = gtree.LeafNode() #'A', 0.5, 10, 20)\n",
    "t.right = gtree.LeafNode() #'A', 0.5, 100, 0)\n",
    "\n",
    "leaf_map = {hash(t.left): leaf_count_fn(10),\n",
    "            hash(t.right): leaf_count_fn(20)}\n",
    "\n",
    "t.predict(data, leaf_map)"
   ]
  },
  {
   "cell_type": "code",
   "execution_count": 16,
   "metadata": {},
   "outputs": [
    {
     "data": {
      "text/plain": [
       "(5, 0.19999999999999996)"
      ]
     },
     "execution_count": 16,
     "metadata": {},
     "output_type": "execute_result"
    }
   ],
   "source": [
    "# Create a split on a DataFrame\n",
    "\n",
    "df = pd.DataFrame({'foo': pd.Series([1, 2, 3, 4, 5, 6, 7, 8, 9, 10])})\n",
    "\n",
    "gtree._single_variable_best_split(\n",
    "    df,\n",
    "    'foo',\n",
    "    pd.Series([0, 0, 1, 0, 0, 1, 1, 0, 1, 1]),\n",
    "    gtree.error_rate_loss,\n",
    "    gtree.leaf_good_rate_split_builder)"
   ]
  },
  {
   "cell_type": "code",
   "execution_count": 17,
   "metadata": {},
   "outputs": [
    {
     "data": {
      "text/plain": [
       "1.0"
      ]
     },
     "execution_count": 17,
     "metadata": {},
     "output_type": "execute_result"
    }
   ],
   "source": [
    "threshold = 0.5\n",
    "truth     = pd.Series([1, 0, 1])\n",
    "predicted = pd.Series([0, 1, 0])\n",
    "\n",
    "gtree.error_rate_loss(truth, predicted)\n",
    "\n",
    "\n",
    "1.0 - ((predicted >= threshold) == truth).mean() #+ (predicted < threshold) * (1 - truth)"
   ]
  },
  {
   "cell_type": "code",
   "execution_count": 18,
   "metadata": {},
   "outputs": [
    {
     "name": "stderr",
     "output_type": "stream",
     "text": [
      "04:50:05 tree INFO:Training.  Depth 0 Current Loss: 0.416666666667 Best Split: B 40 0.25\n",
      "04:50:05 tree INFO:Training.  Depth 1 Current Loss: 0.0 Best Split: A 1 0.0\n",
      "04:50:05 tree INFO:No split improves loss.  Returning\n",
      "04:50:05 tree INFO:Training.  Depth 1 Current Loss: 0.375 Best Split: A 10 0.125\n",
      "04:50:05 tree INFO:Training.  Depth 2 Current Loss: 0.166666666667 Best Split: A 1 0.166666666667\n",
      "04:50:05 tree INFO:No split improves loss.  Returning\n",
      "04:50:05 tree INFO:Training.  Depth 2 Current Loss: 0.0 Best Split: A 1 0.0\n",
      "04:50:05 tree INFO:No split improves loss.  Returning\n"
     ]
    },
    {
     "name": "stdout",
     "output_type": "stream",
     "text": [
      "\n",
      "Tree:\n",
      "\n",
      "\tLeaf(284861585)\n",
      "\n",
      "B 40\n",
      "\n",
      "\t\tLeaf(284780729)\n",
      "\n",
      "\tA 10\n",
      "\n",
      "\t\tLeaf(284777901)\n",
      "\n",
      "{284861585: <function <lambda> at 0x10faa1488>, 284777901: <function <lambda> at 0x10fa93de8>, 284780729: <function <lambda> at 0x10f95f7d0>}\n"
     ]
    }
   ],
   "source": [
    "df = pd.DataFrame({'A': [1, 2, 3, 4, 5, 6, 7, 8, 9, 10, 11, 12],\n",
    "                   'B': [10, 20, 50, 30, 40, 50, 60, 50, 70, 90, 100, 110 ]})\n",
    "target = pd.Series([0, 0, 1, 0, 0, 1, 1, 0, 1, 1, 0, 0])\n",
    "\n",
    "tree, leaf_map = gtree.train_greedy_tree(df, target, loss_fn=gtree.error_rate_loss)\n",
    "\n",
    "print '\\nTree:\\n'\n",
    "tree.prn()\n",
    "\n",
    "print leaf_map"
   ]
  },
  {
   "cell_type": "code",
   "execution_count": 19,
   "metadata": {},
   "outputs": [
    {
     "data": {
      "text/plain": [
       "{284777901: <function gtree.<lambda>>,\n",
       " 284780729: <function gtree.<lambda>>,\n",
       " 284861585: <function gtree.<lambda>>}"
      ]
     },
     "execution_count": 19,
     "metadata": {},
     "output_type": "execute_result"
    }
   ],
   "source": [
    "gtree.calculate_leaf_map(tree, df, target)"
   ]
  },
  {
   "cell_type": "code",
   "execution_count": 20,
   "metadata": {},
   "outputs": [
    {
     "data": {
      "text/plain": [
       "<gtree.LeafNode at 0x10f95dad0>"
      ]
     },
     "execution_count": 20,
     "metadata": {},
     "output_type": "execute_result"
    }
   ],
   "source": [
    "gtree.random_node(tree)"
   ]
  },
  {
   "cell_type": "code",
   "execution_count": 21,
   "metadata": {},
   "outputs": [
    {
     "name": "stdout",
     "output_type": "stream",
     "text": [
      "[<gtree.LeafNode object at 0x10faa4910>, <gtree.BranchNode object at 0x10f8ab710>, <gtree.LeafNode object at 0x10faa4910>, <gtree.LeafNode object at 0x10f968b90>, <gtree.LeafNode object at 0x10f95dad0>, <gtree.LeafNode object at 0x10f968b90>, <gtree.LeafNode object at 0x10f95dad0>]\n"
     ]
    }
   ],
   "source": [
    "print gtree.get_all_nodes(tree)"
   ]
  },
  {
   "cell_type": "code",
   "execution_count": 22,
   "metadata": {},
   "outputs": [
    {
     "name": "stderr",
     "output_type": "stream",
     "text": [
      "04:50:09 tree INFO:Training.  Depth 0 Current Loss: 0.416666666667 Best Split: B 10 0.166666666667\n",
      "04:50:09 tree INFO:Reached leaf node, or constraints force termination.  Returning\n",
      "04:50:09 tree INFO:Training.  Depth 1 Current Loss: 0.454545454545 Best Split: B 40 0.272727272727\n",
      "04:50:10 tree INFO:Training.  Depth 2 Current Loss: 0.0 Best Split: A 1 0.0\n",
      "04:50:10 tree INFO:No split improves loss.  Returning\n",
      "04:50:10 tree INFO:Training.  Depth 2 Current Loss: 0.375 Best Split: A 10 0.125\n",
      "04:50:10 tree INFO:Training.  Depth 3 Current Loss: 0.166666666667 Best Split: A 1 0.166666666667\n",
      "04:50:10 tree INFO:No split improves loss.  Returning\n",
      "04:50:10 tree INFO:Training.  Depth 3 Current Loss: 0.0 Best Split: A 1 0.0\n",
      "04:50:10 tree INFO:No split improves loss.  Returning\n"
     ]
    },
    {
     "name": "stdout",
     "output_type": "stream",
     "text": [
      "\n",
      "Tree:\n",
      "\n",
      "\tLeaf(284872657)\n",
      "\n",
      "B 10\n",
      "\n",
      "\t\tLeaf(284881829)\n",
      "\n",
      "\tB 40\n",
      "\n",
      "\t\t\tLeaf(284881841)\n",
      "\n",
      "\t\tA 10\n",
      "\n",
      "\t\t\tLeaf(284875089)\n",
      "\n",
      "{284872657: <function <lambda> at 0x10fae8938>, 284881829: <function <lambda> at 0x10fa939b0>, 284875089: <function <lambda> at 0x10fab61b8>, 284881841: <function <lambda> at 0x10faa1ed8>}\n"
     ]
    }
   ],
   "source": [
    "df = pd.DataFrame({'A': [1, 2, 3, 4, 5, 6, 7, 8, 9, 10, 11, 12],\n",
    "                   'B': [10, 20, 50, 30, 40, 50, 60, 50, 70, 90, 100, 110 ]})\n",
    "target = pd.Series([0, 0, 1, 0, 0, 1, 1, 0, 1, 1, 0, 0])\n",
    "\n",
    "tree, leaf_map = gtree.train_greedy_tree(df, target, loss_fn=gtree.error_rate_loss,\n",
    "                                         feature_sample_rate=.5,\n",
    "                                         row_sample_rate=.5)\n",
    "\n",
    "print '\\nTree:\\n'\n",
    "tree.prn()\n",
    "\n",
    "print leaf_map"
   ]
  },
  {
   "cell_type": "code",
   "execution_count": 23,
   "metadata": {},
   "outputs": [
    {
     "name": "stdout",
     "output_type": "stream",
     "text": [
      "\tLeaf(284880621)\n",
      "\n",
      "B 10\n",
      "\n",
      "\t\tLeaf(284880429)\n",
      "\n",
      "\tB 40\n",
      "\n",
      "\t\t\tLeaf(284880465)\n",
      "\n",
      "\t\tA 10\n",
      "\n",
      "\t\t\tLeaf(284880441)\n",
      "\n"
     ]
    }
   ],
   "source": [
    "gtree.mate(tree, tree).prn()"
   ]
  },
  {
   "cell_type": "code",
   "execution_count": 26,
   "metadata": {},
   "outputs": [],
   "source": [
    "def make_hastie_sample(n_samples):\n",
    "\n",
    "    features, targets = datasets.make_hastie_10_2(n_samples=n_samples)\n",
    "\n",
    "    features = pd.DataFrame(features, columns=['feature_{}'.format(i) for i in range(features.shape[1])])\n",
    "    targets = pd.Series(targets, name='target')\n",
    "    targets = targets.map(lambda x: 1.0 if x > 0 else 0.0)\n",
    "    return features, targets\n",
    "\n",
    "features, targets = make_hastie_sample(10000)"
   ]
  },
  {
   "cell_type": "code",
   "execution_count": 27,
   "metadata": {},
   "outputs": [
    {
     "data": {
      "text/plain": [
       "(10000, 10)"
      ]
     },
     "execution_count": 27,
     "metadata": {},
     "output_type": "execute_result"
    }
   ],
   "source": [
    "features.shape"
   ]
  },
  {
   "cell_type": "code",
   "execution_count": 28,
   "metadata": {},
   "outputs": [
    {
     "data": {
      "text/plain": [
       "0.0    5048\n",
       "1.0    4952\n",
       "Name: target, dtype: int64"
      ]
     },
     "execution_count": 28,
     "metadata": {},
     "output_type": "execute_result"
    }
   ],
   "source": [
    "targets.value_counts()"
   ]
  },
  {
   "cell_type": "code",
   "execution_count": 112,
   "metadata": {
    "scrolled": false
   },
   "outputs": [
    {
     "name": "stderr",
     "output_type": "stream",
     "text": [
      "11:20:49 tree INFO:Training.  Depth 0 Current Loss: 0.4990 Best Split: feature_0 0.7115 0.4270\n",
      "11:20:52 tree INFO:Training.  Depth 1 Current Loss: 0.4513 Best Split: feature_0 -1.1671 0.3829\n",
      "11:20:55 tree INFO:Training.  Depth 2 Current Loss: 0.3000 Best Split: feature_9 -1.5551 0.2769\n",
      "11:20:55 tree INFO:Training.  Depth 3 Current Loss: 0.2857 Best Split: feature_1 0.9770 0.0000\n",
      "11:20:55 tree INFO:Training.  Depth 4 Current Loss: 0.0000 Best Split: feature_0 -1.4081 0.0000\n",
      "11:20:55 tree INFO:No split improves loss.  Returning\n",
      "11:20:56 tree INFO:Training.  Depth 4 Current Loss: 0.0000 Best Split: feature_0 -2.6534 0.0000\n",
      "11:20:56 tree INFO:No split improves loss.  Returning\n",
      "11:20:58 tree INFO:Training.  Depth 3 Current Loss: 0.2764 Best Split: feature_0 -1.4087 0.2764\n",
      "11:20:58 tree INFO:No split improves loss.  Returning\n",
      "11:21:01 tree INFO:Training.  Depth 2 Current Loss: 0.4000 Best Split: feature_7 -1.1883 0.3508\n",
      "11:21:03 tree INFO:Training.  Depth 3 Current Loss: 0.3133 Best Split: feature_0 0.6713 0.2651\n",
      "11:21:06 tree INFO:Training.  Depth 4 Current Loss: 0.2785 Best Split: feature_0 -0.1939 0.2785\n",
      "11:21:07 tree INFO:Training.  Depth 5 Current Loss: 0.2308 Best Split: feature_0 -0.2742 0.2051\n",
      "11:21:07 tree INFO:Training.  Depth 6 Current Loss: 0.1944 Best Split: feature_0 -0.2747 0.1944\n",
      "11:21:08 tree INFO:Training.  Depth 7 Current Loss: 0.2000 Best Split: feature_0 -0.2747 0.2000\n",
      "11:21:08 tree INFO:No split improves loss.  Returning\n",
      "11:21:08 tree INFO:Reached leaf node, or constraints force termination.  Returning\n",
      "11:21:09 tree INFO:Training.  Depth 6 Current Loss: 0.3333 Best Split: feature_0 -0.2131 0.0000\n",
      "11:21:09 tree INFO:Training.  Depth 7 Current Loss: 0.0000 Best Split: feature_0 -0.2721 0.0000\n",
      "11:21:09 tree INFO:No split improves loss.  Returning\n",
      "11:21:09 tree INFO:Reached leaf node, or constraints force termination.  Returning\n",
      "11:21:10 tree INFO:Training.  Depth 5 Current Loss: 0.3250 Best Split: feature_0 0.0061 0.2750\n",
      "11:21:10 tree INFO:Training.  Depth 6 Current Loss: 0.3333 Best Split: feature_7 -2.1505 0.0000\n",
      "11:21:10 tree INFO:Training.  Depth 7 Current Loss: 0.0000 Best Split: feature_0 -0.1817 0.0000\n",
      "11:21:10 tree INFO:No split improves loss.  Returning\n",
      "11:21:10 tree INFO:Training.  Depth 7 Current Loss: 0.0000 Best Split: feature_0 -0.0932 0.0000\n",
      "11:21:10 tree INFO:No split improves loss.  Returning\n",
      "11:21:11 tree INFO:Training.  Depth 6 Current Loss: 0.2647 Best Split: feature_2 0.8484 0.2059\n",
      "11:21:12 tree INFO:Training.  Depth 7 Current Loss: 0.2000 Best Split: feature_0 0.4605 0.2000\n",
      "11:21:12 tree INFO:Training.  Depth 8 Current Loss: 0.2000 Best Split: feature_0 0.4605 0.2000\n",
      "11:21:12 tree INFO:No split improves loss.  Returning\n",
      "11:21:12 tree INFO:Training.  Depth 8 Current Loss: 0.2000 Best Split: feature_4 1.7370 0.1000\n",
      "11:21:12 tree INFO:Reached leaf node, or constraints force termination.  Returning\n",
      "11:21:12 tree INFO:Reached leaf node, or constraints force termination.  Returning\n",
      "11:21:13 tree INFO:Training.  Depth 7 Current Loss: 0.2500 Best Split: feature_0 0.5600 0.0000\n",
      "11:21:13 tree INFO:Training.  Depth 8 Current Loss: 0.0000 Best Split: feature_0 0.3856 0.0000\n",
      "11:21:13 tree INFO:No split improves loss.  Returning\n",
      "11:21:13 tree INFO:Reached leaf node, or constraints force termination.  Returning\n",
      "11:21:13 tree INFO:Training.  Depth 4 Current Loss: 0.0000 Best Split: feature_0 0.7070 0.0000\n",
      "11:21:13 tree INFO:No split improves loss.  Returning\n",
      "11:21:16 tree INFO:Training.  Depth 3 Current Loss: 0.3565 Best Split: feature_7 1.0606 0.3163\n",
      "11:21:19 tree INFO:Training.  Depth 4 Current Loss: 0.3067 Best Split: feature_8 -1.4976 0.2765\n",
      "11:21:20 tree INFO:Training.  Depth 5 Current Loss: 0.3056 Best Split: feature_4 1.1427 0.2500\n",
      "11:21:20 tree INFO:Training.  Depth 6 Current Loss: 0.2500 Best Split: feature_6 0.7430 0.1875\n",
      "11:21:21 tree INFO:Training.  Depth 7 Current Loss: 0.1538 Best Split: feature_6 -2.0489 0.1154\n",
      "11:21:21 tree INFO:Reached leaf node, or constraints force termination.  Returning\n",
      "11:21:22 tree INFO:Training.  Depth 8 Current Loss: 0.1200 Best Split: feature_7 0.9550 0.0800\n",
      "11:21:22 tree INFO:Reached leaf node, or constraints force termination.  Returning\n",
      "11:21:22 tree INFO:Reached leaf node, or constraints force termination.  Returning\n",
      "11:21:22 tree INFO:Training.  Depth 7 Current Loss: 0.3333 Best Split: feature_5 -2.3992 0.0000\n",
      "11:21:22 tree INFO:Training.  Depth 8 Current Loss: 0.0000 Best Split: feature_0 -0.2230 0.0000\n",
      "11:21:22 tree INFO:No split improves loss.  Returning\n",
      "11:21:22 tree INFO:Training.  Depth 8 Current Loss: 0.0000 Best Split: feature_0 -0.3420 0.0000\n",
      "11:21:22 tree INFO:No split improves loss.  Returning\n",
      "11:21:22 tree INFO:Training.  Depth 6 Current Loss: 0.2500 Best Split: feature_2 0.4655 0.0000\n",
      "11:21:22 tree INFO:Training.  Depth 7 Current Loss: 0.0000 Best Split: feature_0 -0.3923 0.0000\n",
      "11:21:22 tree INFO:No split improves loss.  Returning\n",
      "11:21:22 tree INFO:Reached leaf node, or constraints force termination.  Returning\n",
      "11:21:25 tree INFO:Training.  Depth 5 Current Loss: 0.2740 Best Split: feature_1 -1.5075 0.2482\n",
      "11:21:26 tree INFO:Training.  Depth 6 Current Loss: 0.2800 Best Split: feature_8 -1.2788 0.2000\n",
      "11:21:26 tree INFO:Training.  Depth 7 Current Loss: 0.0000 Best Split: feature_0 0.2385 0.0000\n",
      "11:21:26 tree INFO:No split improves loss.  Returning\n",
      "11:21:26 tree INFO:Training.  Depth 7 Current Loss: 0.2174 Best Split: feature_0 0.5953 0.1739\n",
      "11:21:27 tree INFO:Training.  Depth 8 Current Loss: 0.1818 Best Split: feature_2 0.2852 0.1364\n",
      "11:21:27 tree INFO:Reached leaf node, or constraints force termination.  Returning\n",
      "11:21:27 tree INFO:Reached leaf node, or constraints force termination.  Returning\n",
      "11:21:27 tree INFO:Reached leaf node, or constraints force termination.  Returning\n",
      "11:21:30 tree INFO:Training.  Depth 6 Current Loss: 0.2463 Best Split: feature_1 1.2187 0.2264\n",
      "11:21:33 tree INFO:Training.  Depth 7 Current Loss: 0.2120 Best Split: feature_4 1.6304 0.1929\n",
      "11:21:36 tree INFO:Training.  Depth 8 Current Loss: 0.1898 Best Split: feature_4 -1.9751 0.1756\n",
      "11:21:36 tree INFO:Reached leaf node, or constraints force termination.  Returning\n",
      "11:21:36 tree INFO:Reached leaf node, or constraints force termination.  Returning\n",
      "11:21:36 tree INFO:Training.  Depth 8 Current Loss: 0.2667 Best Split: feature_8 0.4408 0.2000\n",
      "11:21:36 tree INFO:Reached leaf node, or constraints force termination.  Returning\n",
      "11:21:36 tree INFO:Reached leaf node, or constraints force termination.  Returning\n",
      "11:21:37 tree INFO:Training.  Depth 7 Current Loss: 0.3824 Best Split: feature_6 -0.1097 0.2647\n",
      "11:21:38 tree INFO:Training.  Depth 8 Current Loss: 0.1667 Best Split: feature_4 0.8684 0.0556\n",
      "11:21:38 tree INFO:Reached leaf node, or constraints force termination.  Returning\n",
      "11:21:38 tree INFO:Reached leaf node, or constraints force termination.  Returning\n",
      "11:21:38 tree INFO:Training.  Depth 8 Current Loss: 0.3750 Best Split: feature_6 1.0722 0.1250\n",
      "11:21:38 tree INFO:Reached leaf node, or constraints force termination.  Returning\n",
      "11:21:38 tree INFO:Reached leaf node, or constraints force termination.  Returning\n",
      "11:21:40 tree INFO:Training.  Depth 4 Current Loss: 0.3690 Best Split: feature_0 -0.9516 0.3452\n",
      "11:21:41 tree INFO:Training.  Depth 5 Current Loss: 0.3750 Best Split: feature_0 -1.0852 0.0000\n",
      "11:21:41 tree INFO:Training.  Depth 6 Current Loss: 0.0000 Best Split: feature_0 -1.1549 0.0000\n",
      "11:21:41 tree INFO:No split improves loss.  Returning\n",
      "11:21:41 tree INFO:Training.  Depth 6 Current Loss: 0.0000 Best Split: feature_0 -0.9631 0.0000\n",
      "11:21:41 tree INFO:No split improves loss.  Returning\n",
      "11:21:43 tree INFO:Training.  Depth 5 Current Loss: 0.3421 Best Split: feature_0 0.5767 0.3289\n",
      "11:21:45 tree INFO:Training.  Depth 6 Current Loss: 0.3288 Best Split: feature_0 -0.2302 0.3288\n",
      "11:21:46 tree INFO:Training.  Depth 7 Current Loss: 0.2432 Best Split: feature_0 -0.2302 0.2432\n",
      "11:21:46 tree INFO:No split improves loss.  Returning\n",
      "11:21:47 tree INFO:Training.  Depth 7 Current Loss: 0.4167 Best Split: feature_4 1.1642 0.3056\n",
      "11:21:48 tree INFO:Training.  Depth 8 Current Loss: 0.4167 Best Split: feature_4 -1.1832 0.2083\n",
      "11:21:48 tree INFO:Reached leaf node, or constraints force termination.  Returning\n"
     ]
    },
    {
     "name": "stderr",
     "output_type": "stream",
     "text": [
      "11:21:48 tree INFO:Reached leaf node, or constraints force termination.  Returning\n",
      "11:21:48 tree INFO:Training.  Depth 8 Current Loss: 0.0833 Best Split: feature_8 -1.4108 0.0000\n",
      "11:21:48 tree INFO:Reached leaf node, or constraints force termination.  Returning\n",
      "11:21:48 tree INFO:Reached leaf node, or constraints force termination.  Returning\n",
      "11:21:48 tree INFO:Training.  Depth 6 Current Loss: 0.3333 Best Split: feature_0 0.6634 0.0000\n",
      "11:21:48 tree INFO:Training.  Depth 7 Current Loss: 0.0000 Best Split: feature_0 0.6075 0.0000\n",
      "11:21:48 tree INFO:No split improves loss.  Returning\n",
      "11:21:48 tree INFO:Reached leaf node, or constraints force termination.  Returning\n",
      "11:21:51 tree INFO:Training.  Depth 1 Current Loss: 0.3500 Best Split: feature_5 2.0042 0.3458\n",
      "11:21:54 tree INFO:Training.  Depth 2 Current Loss: 0.3473 Best Split: feature_0 -3.4683 0.3473\n",
      "11:21:54 tree INFO:No split improves loss.  Returning\n",
      "11:21:54 tree INFO:Reached leaf node, or constraints force termination.  Returning\n"
     ]
    }
   ],
   "source": [
    "gtree.tree_logger.setLevel(logging.INFO)\n",
    "tree, leaf_map = gtree.train_greedy_tree(features, targets, loss_fn=gtree.error_rate_loss, max_depth=8)"
   ]
  },
  {
   "cell_type": "code",
   "execution_count": 30,
   "metadata": {
    "scrolled": true
   },
   "outputs": [
    {
     "name": "stdout",
     "output_type": "stream",
     "text": [
      "\t\t\tLeaf(284889853)\n",
      "\n",
      "\t\tfeature_1 -0.193535781131\n",
      "\n",
      "\t\t\tLeaf(284891609)\n",
      "\n",
      "\tfeature_6 -1.1391590295\n",
      "\n",
      "\t\t\t\t\tLeaf(284890409)\n",
      "\n",
      "\t\t\t\tfeature_2 -0.102702745822\n",
      "\n",
      "\t\t\t\t\t\t\t\tLeaf(284892169)\n",
      "\n",
      "\t\t\t\t\t\t\tfeature_0 -1.61964907174\n",
      "\n",
      "\t\t\t\t\t\t\t\tLeaf(284895573)\n",
      "\n",
      "\t\t\t\t\t\tfeature_2 -0.0772567130234\n",
      "\n",
      "\t\t\t\t\t\t\t\t\tLeaf(277988873)\n",
      "\n",
      "\t\t\t\t\t\t\t\tfeature_1 0.796020162712\n",
      "\n",
      "\t\t\t\t\t\t\t\t\tLeaf(277989045)\n",
      "\n",
      "\t\t\t\t\t\t\tfeature_0 -1.46747564978\n",
      "\n",
      "\t\t\t\t\t\t\t\tLeaf(284890441)\n",
      "\n",
      "\t\t\t\t\tfeature_9 -1.45591848823\n",
      "\n",
      "\t\t\t\t\t\t\t\t\tLeaf(284891197)\n",
      "\n",
      "\t\t\t\t\t\t\t\tfeature_3 -0.808982727828\n",
      "\n",
      "\t\t\t\t\t\t\t\t\tLeaf(277990881)\n",
      "\n",
      "\t\t\t\t\t\t\tfeature_1 -1.64241061591\n",
      "\n",
      "\t\t\t\t\t\t\t\t\tLeaf(284889897)\n",
      "\n",
      "\t\t\t\t\t\t\t\tfeature_3 1.5485990749\n",
      "\n",
      "\t\t\t\t\t\t\t\t\tLeaf(277986161)\n",
      "\n",
      "\t\t\t\t\t\tfeature_1 0.630969549124\n",
      "\n",
      "\t\t\t\t\t\t\t\t\tLeaf(277995253)\n",
      "\n",
      "\t\t\t\t\t\t\t\tfeature_0 -1.46747564978\n",
      "\n",
      "\t\t\t\t\t\t\t\t\tLeaf(277995029)\n",
      "\n",
      "\t\t\t\t\t\t\tfeature_2 0.0519038340404\n",
      "\n",
      "\t\t\t\t\t\t\t\t\tLeaf(284890833)\n",
      "\n",
      "\t\t\t\t\t\t\t\tfeature_1 0.659015507601\n",
      "\n",
      "\t\t\t\t\t\t\t\t\tLeaf(284891557)\n",
      "\n",
      "\t\t\tfeature_9 -1.27432770124\n",
      "\n",
      "\t\t\t\t\t\t\tLeaf(277986121)\n",
      "\n",
      "\t\t\t\t\t\tfeature_6 0.784820562099\n",
      "\n",
      "\t\t\t\t\t\t\t\tLeaf(284931745)\n",
      "\n",
      "\t\t\t\t\t\t\tfeature_9 -0.439617034223\n",
      "\n",
      "\t\t\t\t\t\t\t\tLeaf(284934357)\n",
      "\n",
      "\t\t\t\t\tfeature_4 -1.3646922885\n",
      "\n",
      "\t\t\t\t\t\t\t\t\tLeaf(284934269)\n",
      "\n",
      "\t\t\t\t\t\t\t\tfeature_0 -1.718853095\n",
      "\n",
      "\t\t\t\t\t\t\t\t\tLeaf(284934217)\n",
      "\n",
      "\t\t\t\t\t\t\tfeature_7 -1.65426653279\n",
      "\n",
      "\t\t\t\t\t\t\t\t\tLeaf(284924197)\n",
      "\n",
      "\t\t\t\t\t\t\t\tfeature_8 1.72662619747\n",
      "\n",
      "\t\t\t\t\t\t\t\t\tLeaf(284924205)\n",
      "\n",
      "\t\t\t\t\t\tfeature_1 1.64884855622\n",
      "\n",
      "\t\t\t\t\t\t\t\t\tLeaf(285310897)\n",
      "\n",
      "\t\t\t\t\t\t\t\tfeature_9 1.22509185735\n",
      "\n",
      "\t\t\t\t\t\t\t\t\tLeaf(285310741)\n",
      "\n",
      "\t\t\t\t\t\t\tfeature_6 0.784820562099\n",
      "\n",
      "\t\t\t\t\t\t\t\tLeaf(285310801)\n",
      "\n",
      "\t\t\t\tfeature_4 1.56002168763\n",
      "\n",
      "\t\t\t\t\t\t\tLeaf(284936929)\n",
      "\n",
      "\t\t\t\t\t\tfeature_1 -2.29880303535\n",
      "\n",
      "\t\t\t\t\t\t\tLeaf(284936801)\n",
      "\n",
      "\t\t\t\t\tfeature_0 -1.16233611241\n",
      "\n",
      "\t\t\t\t\t\tLeaf(284931589)\n",
      "\n",
      "\t\tfeature_9 1.27590835476\n",
      "\n",
      "\t\t\t\t\t\t\t\tLeaf(285310889)\n",
      "\n",
      "\t\t\t\t\t\t\tfeature_6 0.752150296592\n",
      "\n",
      "\t\t\t\t\t\t\t\tLeaf(285326749)\n",
      "\n",
      "\t\t\t\t\t\tfeature_2 -0.727198308755\n",
      "\n",
      "\t\t\t\t\t\t\t\tLeaf(285315601)\n",
      "\n",
      "\t\t\t\t\t\t\tfeature_1 -1.28280951619\n",
      "\n",
      "\t\t\t\t\t\t\t\t\tLeaf(284888333)\n",
      "\n",
      "\t\t\t\t\t\t\t\tfeature_0 -1.16233611241\n",
      "\n",
      "\t\t\t\t\t\t\t\t\tLeaf(284889657)\n",
      "\n",
      "\t\t\t\t\tfeature_9 1.39748851039\n",
      "\n",
      "\t\t\t\t\t\t\t\t\tLeaf(284872669)\n",
      "\n",
      "\t\t\t\t\t\t\t\tfeature_3 0.447341953475\n",
      "\n",
      "\t\t\t\t\t\t\t\t\tLeaf(284872569)\n",
      "\n",
      "\t\t\t\t\t\t\tfeature_0 -0.213491471091\n",
      "\n",
      "\t\t\t\t\t\t\t\t\tLeaf(284881809)\n",
      "\n",
      "\t\t\t\t\t\t\t\tfeature_1 -0.219651632577\n",
      "\n",
      "\t\t\t\t\t\t\t\t\tLeaf(284869249)\n",
      "\n",
      "\t\t\t\t\t\tfeature_3 0.471996693062\n",
      "\n",
      "\t\t\t\t\t\t\t\t\tLeaf(284860525)\n",
      "\n",
      "\t\t\t\t\t\t\t\tfeature_1 -2.29880303535\n",
      "\n",
      "\t\t\t\t\t\t\t\t\tLeaf(284860569)\n",
      "\n",
      "\t\t\t\t\t\t\tfeature_0 0.0361138538791\n",
      "\n",
      "\t\t\t\t\t\t\t\t\tLeaf(284860597)\n",
      "\n",
      "\t\t\t\t\t\t\t\tfeature_6 -0.632948792631\n",
      "\n",
      "\t\t\t\t\t\t\t\t\tLeaf(284860449)\n",
      "\n",
      "\t\t\t\tfeature_0 0.11505675201\n",
      "\n",
      "\t\t\t\t\t\t\tLeaf(284880401)\n",
      "\n",
      "\t\t\t\t\t\tfeature_9 1.75805686725\n",
      "\n",
      "\t\t\t\t\t\t\tLeaf(284882225)\n",
      "\n",
      "\t\t\t\t\tfeature_6 0.0993944995443\n",
      "\n",
      "\t\t\t\t\t\tLeaf(284880497)\n",
      "\n",
      "\t\t\tfeature_0 0.188355605178\n",
      "\n",
      "\t\t\t\tLeaf(284882309)\n",
      "\n",
      "feature_6 0.818212750719\n",
      "\n",
      "\tLeaf(284857381)\n",
      "\n"
     ]
    }
   ],
   "source": [
    "tree.prn()"
   ]
  },
  {
   "cell_type": "code",
   "execution_count": 31,
   "metadata": {},
   "outputs": [
    {
     "data": {
      "text/plain": [
       "{277986121: <function gtree.<lambda>>,\n",
       " 277986161: <function gtree.<lambda>>,\n",
       " 277988873: <function gtree.<lambda>>,\n",
       " 277989045: <function gtree.<lambda>>,\n",
       " 277990881: <function gtree.<lambda>>,\n",
       " 277995029: <function gtree.<lambda>>,\n",
       " 277995253: <function gtree.<lambda>>,\n",
       " 284857381: <function gtree.<lambda>>,\n",
       " 284860449: <function gtree.<lambda>>,\n",
       " 284860525: <function gtree.<lambda>>,\n",
       " 284860569: <function gtree.<lambda>>,\n",
       " 284860597: <function gtree.<lambda>>,\n",
       " 284869249: <function gtree.<lambda>>,\n",
       " 284872569: <function gtree.<lambda>>,\n",
       " 284872669: <function gtree.<lambda>>,\n",
       " 284880401: <function gtree.<lambda>>,\n",
       " 284880497: <function gtree.<lambda>>,\n",
       " 284881809: <function gtree.<lambda>>,\n",
       " 284882225: <function gtree.<lambda>>,\n",
       " 284882309: <function gtree.<lambda>>,\n",
       " 284888333: <function gtree.<lambda>>,\n",
       " 284889657: <function gtree.<lambda>>,\n",
       " 284889853: <function gtree.<lambda>>,\n",
       " 284889897: <function gtree.<lambda>>,\n",
       " 284890409: <function gtree.<lambda>>,\n",
       " 284890441: <function gtree.<lambda>>,\n",
       " 284890833: <function gtree.<lambda>>,\n",
       " 284891197: <function gtree.<lambda>>,\n",
       " 284891557: <function gtree.<lambda>>,\n",
       " 284891609: <function gtree.<lambda>>,\n",
       " 284892169: <function gtree.<lambda>>,\n",
       " 284895573: <function gtree.<lambda>>,\n",
       " 284924197: <function gtree.<lambda>>,\n",
       " 284924205: <function gtree.<lambda>>,\n",
       " 284931589: <function gtree.<lambda>>,\n",
       " 284931745: <function gtree.<lambda>>,\n",
       " 284934217: <function gtree.<lambda>>,\n",
       " 284934269: <function gtree.<lambda>>,\n",
       " 284934357: <function gtree.<lambda>>,\n",
       " 284936801: <function gtree.<lambda>>,\n",
       " 284936929: <function gtree.<lambda>>,\n",
       " 285310741: <function gtree.<lambda>>,\n",
       " 285310801: <function gtree.<lambda>>,\n",
       " 285310889: <function gtree.<lambda>>,\n",
       " 285310897: <function gtree.<lambda>>,\n",
       " 285315601: <function gtree.<lambda>>,\n",
       " 285326749: <function gtree.<lambda>>}"
      ]
     },
     "execution_count": 31,
     "metadata": {},
     "output_type": "execute_result"
    }
   ],
   "source": [
    "leaf_map"
   ]
  },
  {
   "cell_type": "code",
   "execution_count": 32,
   "metadata": {
    "scrolled": true
   },
   "outputs": [
    {
     "data": {
      "text/plain": [
       "0       0.244251\n",
       "1       0.782609\n",
       "2       0.244251\n",
       "3       0.682594\n",
       "4       0.244251\n",
       "5       0.244251\n",
       "6       0.244251\n",
       "7       0.670807\n",
       "8       0.244251\n",
       "9       0.670807\n",
       "10      0.244251\n",
       "11      0.694949\n",
       "12      0.244251\n",
       "13      0.670807\n",
       "14      0.641758\n",
       "15      0.624286\n",
       "16      0.244251\n",
       "17      0.244251\n",
       "18      0.244251\n",
       "19      0.244251\n",
       "20      0.709877\n",
       "21      0.244251\n",
       "22      0.670807\n",
       "23      0.682594\n",
       "24      0.723140\n",
       "25      0.244251\n",
       "26      0.718519\n",
       "27      0.244251\n",
       "28      0.624286\n",
       "29      0.244251\n",
       "          ...   \n",
       "9970    0.244251\n",
       "9971    0.682594\n",
       "9972    0.624286\n",
       "9973    0.694949\n",
       "9974    0.244251\n",
       "9975    0.244251\n",
       "9976    0.670807\n",
       "9977    0.244251\n",
       "9978    0.641758\n",
       "9979    0.624286\n",
       "9980    0.244251\n",
       "9981    0.244251\n",
       "9982    0.641758\n",
       "9983    0.624286\n",
       "9984    0.244251\n",
       "9985    0.644444\n",
       "9986    0.670807\n",
       "9987    0.624286\n",
       "9988    0.624286\n",
       "9989    0.244251\n",
       "9990    0.624286\n",
       "9991    0.244251\n",
       "9992    0.624286\n",
       "9993    0.244251\n",
       "9994    0.670807\n",
       "9995    0.624286\n",
       "9996    0.682594\n",
       "9997    0.682594\n",
       "9998    0.624286\n",
       "9999    0.244251\n",
       "Length: 10000, dtype: float64"
      ]
     },
     "execution_count": 32,
     "metadata": {},
     "output_type": "execute_result"
    }
   ],
   "source": [
    "tree.predict(features, leaf_map)"
   ]
  },
  {
   "cell_type": "code",
   "execution_count": 33,
   "metadata": {},
   "outputs": [],
   "source": [
    "results = pd.DataFrame({'truth': targets, 'prediction': tree.predict(features, leaf_map)})"
   ]
  },
  {
   "cell_type": "code",
   "execution_count": 34,
   "metadata": {},
   "outputs": [
    {
     "data": {
      "text/plain": [
       "0.99997060999999998"
      ]
     },
     "execution_count": 34,
     "metadata": {},
     "output_type": "execute_result"
    }
   ],
   "source": [
    "1.0 - gtree.error_rate_loss(results.prediction, results.truth) / len(targets)"
   ]
  },
  {
   "cell_type": "code",
   "execution_count": 35,
   "metadata": {},
   "outputs": [
    {
     "data": {
      "text/plain": [
       "<matplotlib.axes._subplots.AxesSubplot at 0x10fafa9d0>"
      ]
     },
     "execution_count": 35,
     "metadata": {},
     "output_type": "execute_result"
    },
    {
     "data": {
      "image/png": "[encoded data removed]",
      "text/plain": [
       "<matplotlib.figure.Figure at 0x10faeefd0>"
      ]
     },
     "metadata": {},
     "output_type": "display_data"
    }
   ],
   "source": [
    "results.plot(kind='scatter', x='prediction', y='truth')"
   ]
  },
  {
   "cell_type": "code",
   "execution_count": 36,
   "metadata": {
    "scrolled": false
   },
   "outputs": [
    {
     "data": {
      "image/png": "[encoded data removed]",
      "text/plain": [
       "<matplotlib.figure.Figure at 0x10faee9d0>"
      ]
     },
     "metadata": {},
     "output_type": "display_data"
    }
   ],
   "source": [
    "fig = plt.figure(figsize=(12,8))\n",
    "\n",
    "for label, grp in tree.predict(features, leaf_map).groupby(targets):\n",
    "    grp.hist(normed=True, alpha=0.5, label=str(label)) #, label=label)\n",
    "plt.legend(loc='best')\n",
    "None"
   ]
  },
  {
   "cell_type": "markdown",
   "metadata": {},
   "source": [
    "# Compare Methods"
   ]
  },
  {
   "cell_type": "code",
   "execution_count": 214,
   "metadata": {},
   "outputs": [],
   "source": [
    "features, targets = make_hastie_sample(n_samples=5000)\n",
    "\n",
    "features_validation = features.sample(frac=.3)\n",
    "targets_validation = targets.loc[features_validation.index]\n",
    "\n",
    "features = features[~features.index.isin(features_validation.index)]\n",
    "targets = targets.loc[features.index]"
   ]
  },
  {
   "cell_type": "code",
   "execution_count": 222,
   "metadata": {
    "scrolled": false
   },
   "outputs": [
    {
     "name": "stderr",
     "output_type": "stream",
     "text": [
      "02:47:57 evolution DEBUG:Growing Alpha: 1 of 3\n",
      "02:48:07 evolution DEBUG:Growing Alpha: 2 of 3\n",
      "02:48:16 evolution DEBUG:Growing Alpha: 3 of 3\n",
      "02:48:26 evolution DEBUG:Growing Beta: 1 of 3\n",
      "02:48:35 evolution DEBUG:Growing Beta: 2 of 3\n",
      "02:48:42 evolution DEBUG:Growing Beta: 3 of 3\n",
      "02:48:51 evolution DEBUG:Resplitting the data\n",
      "02:48:52 evolution DEBUG:Surviving Generation: 0:0.3648, 0:0.3667, 0:0.3762, 0:0.3829, 0:0.3990\n",
      "02:48:52 evolution DEBUG:Mating to create 20 children\n",
      "02:48:52 evolution INFO:Generation 0 Training Loss: 0.3727 Hold Out Loss 0.3648\n",
      "\n",
      "02:48:52 evolution DEBUG:Resplitting the data\n",
      "02:48:53 evolution DEBUG:Surviving Generation: 0:0.3571, 0:0.3638, 0:0.3676, 0:0.3762, 1:0.3914\n",
      "02:48:53 evolution DEBUG:Mating to create 20 children\n",
      "02:48:53 evolution INFO:Generation 1 Training Loss: 0.3682 Hold Out Loss 0.3571\n",
      "\n",
      "02:48:53 evolution DEBUG:Resplitting the data\n",
      "02:48:54 evolution DEBUG:Surviving Generation: 0:0.3524, 0:0.3590, 0:0.3733, 0:0.3771, 1:0.3886\n",
      "02:48:54 evolution DEBUG:Mating to create 20 children\n",
      "02:48:54 evolution INFO:Generation 2 Training Loss: 0.3702 Hold Out Loss 0.3524\n",
      "\n"
     ]
    }
   ],
   "source": [
    "gtree.tree_logger.setLevel(logging.WARNING)\n",
    "\n",
    "result, generations = gtree.evolve(features, targets, loss_fn=gtree.error_rate_loss, max_depth=2, min_to_split=10,\n",
    "                                   num_generations=3, num_parents=5, num_children=20,\n",
    "                                   alphas_per_generation=3, betas_per_generation=3)"
   ]
  },
  {
   "cell_type": "code",
   "execution_count": 224,
   "metadata": {
    "scrolled": false
   },
   "outputs": [
    {
     "name": "stdout",
     "output_type": "stream",
     "text": [
      "0.400666666667\n"
     ]
    }
   ],
   "source": [
    "leaf_map = gtree.calculate_leaf_map(result['tree'], features, targets, gtree.leaf_good_rate_split_builder)\n",
    "\n",
    "print gtree.error_rate_loss(result['tree'].predict(features_validation, leaf_map), targets_validation)"
   ]
  },
  {
   "cell_type": "code",
   "execution_count": null,
   "metadata": {},
   "outputs": [
    {
     "name": "stderr",
     "output_type": "stream",
     "text": [
      "02:49:24 evolution INFO:Num Trees: 1 Training Loss: 0.3669 Hold Out Loss 0.4038\n",
      "\n",
      "02:49:34 evolution INFO:Num Trees: 2 Training Loss: 0.3669 Hold Out Loss 0.4038\n",
      "\n",
      "02:49:42 evolution INFO:Num Trees: 3 Training Loss: 0.3669 Hold Out Loss 0.4038\n",
      "\n"
     ]
    }
   ],
   "source": [
    "result = gtree.train_random_trees(features, targets, loss_fn=gtree.error_rate_loss,\n",
    "                                  max_depth=2,\n",
    "                                  min_to_split=10,\n",
    "                                  num_trees=4)"
   ]
  },
  {
   "cell_type": "code",
   "execution_count": null,
   "metadata": {},
   "outputs": [],
   "source": [
    "leaf_map = gtree.calculate_leaf_map(result['tree'], features, targets, gtree.leaf_good_rate_split_builder)\n",
    "\n",
    "print gtree.error_rate_loss(result['tree'].predict(features_validation, leaf_map), targets_validation)"
   ]
  },
  {
   "cell_type": "code",
   "execution_count": null,
   "metadata": {},
   "outputs": [],
   "source": [
    "from sklearn import tree\n",
    "from sklearn.model_selection import train_test_split\n",
    "\n",
    "clf = tree.DecisionTreeClassifier(max_depth=2)\n",
    "clf = clf.fit(features, targets)"
   ]
  },
  {
   "cell_type": "code",
   "execution_count": null,
   "metadata": {},
   "outputs": [],
   "source": [
    "predictions = pd.Series(clf.predict_proba(features_validation)[:, 1], index=features_validation.index)\n",
    "gtree.error_rate_loss(predictions, targets_validation)"
   ]
  },
  {
   "cell_type": "code",
   "execution_count": null,
   "metadata": {
    "collapsed": true
   },
   "outputs": [],
   "source": []
  },
  {
   "cell_type": "code",
   "execution_count": null,
   "metadata": {
    "collapsed": true
   },
   "outputs": [],
   "source": []
  }
 ],
 "metadata": {
  "kernelspec": {
   "display_name": "Python 2",
   "language": "python",
   "name": "python2"
  },
  "language_info": {
   "codemirror_mode": {
    "name": "ipython",
    "version": 2
   },
   "file_extension": ".py",
   "mimetype": "text/x-python",
   "name": "python",
   "nbconvert_exporter": "python",
   "pygments_lexer": "ipython2",
   "version": "2.7.11"
  }
 },
 "nbformat": 4,
 "nbformat_minor": 2
}
